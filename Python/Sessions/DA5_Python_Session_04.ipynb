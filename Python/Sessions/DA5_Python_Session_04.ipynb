{
  "nbformat": 4,
  "nbformat_minor": 0,
  "metadata": {
    "colab": {
      "provenance": [],
      "toc_visible": true,
      "include_colab_link": true
    },
    "kernelspec": {
      "name": "python3",
      "display_name": "Python 3"
    },
    "language_info": {
      "name": "python"
    }
  },
  "cells": [
    {
      "cell_type": "markdown",
      "metadata": {
        "id": "view-in-github",
        "colab_type": "text"
      },
      "source": [
        "<a href=\"https://colab.research.google.com/github/raheelam98/DataAnalysis/blob/main/Python/Sessions/DA5_Python_Session_04.ipynb\" target=\"_parent\"><img src=\"https://colab.research.google.com/assets/colab-badge.svg\" alt=\"Open In Colab\"/></a>"
      ]
    },
    {
      "cell_type": "markdown",
      "source": [
        "# Comparison between if, elif, multiple ifs, and nested if"
      ],
      "metadata": {
        "id": "-a--jf_NCPUy"
      }
    },
    {
      "cell_type": "code",
      "source": [
        "students = [\"Ahmad\",\"Ali\",\"usman\",\"Asma\",\"Usama\"]\n",
        "\n",
        "name = input(\"Enter student name: \")\n",
        "\n",
        "if name in students:\n",
        "  students.remove(name)\n",
        "  print(\"We have removed student\", name)\n",
        "  print(\"Here is the updated students list:\", students)\n",
        "\n",
        "else:\n",
        "  print(name,\"not found in students list.\")"
      ],
      "metadata": {
        "colab": {
          "base_uri": "https://localhost:8080/"
        },
        "id": "bTxSIRmcDumy",
        "outputId": "99158d18-f069-421a-b7a2-669e57c63299"
      },
      "execution_count": null,
      "outputs": [
        {
          "output_type": "stream",
          "name": "stdout",
          "text": [
            "Enter student name: Asma\n",
            "We have removed student Asma\n",
            "Here is the updated students list: ['Ahmad', 'Ali', 'usman', 'Usama']\n"
          ]
        }
      ]
    },
    {
      "cell_type": "code",
      "source": [
        "#IF-Elif-else\n",
        "scores = int(input(\"Enter your score: \"))\n",
        "\n",
        "if scores >=90:\n",
        "  print(\"A+\")\n",
        "\n",
        "elif scores >= 80:\n",
        "  print(\"B+\")\n",
        "\n",
        "elif scores >= 70:\n",
        "  print(\"C+\")\n",
        "\n",
        "elif scores>=60:\n",
        "  print(\"D+\")\n",
        "\n",
        "else:\n",
        "  print(\"F\")\n"
      ],
      "metadata": {
        "colab": {
          "base_uri": "https://localhost:8080/"
        },
        "id": "yxasix98CEzy",
        "outputId": "b876b14a-7f50-4064-9118-8ddfcc34e5be"
      },
      "execution_count": null,
      "outputs": [
        {
          "output_type": "stream",
          "name": "stdout",
          "text": [
            "Enter your score: 40\n",
            "F\n"
          ]
        }
      ]
    },
    {
      "cell_type": "code",
      "source": [
        "#Multiple IF's\n",
        "\n",
        "num = int(input(\"Enter any digit: \"))\n",
        "\n",
        "\n",
        "if num >= 0:\n",
        "  print(num,\"is positive\")\n",
        "\n",
        "\n",
        "if num % 2 == 0:\n",
        "  print(num,\"is even\")\n",
        "\n",
        "else:\n",
        "  print(num,\"is odd\")\n"
      ],
      "metadata": {
        "colab": {
          "base_uri": "https://localhost:8080/"
        },
        "id": "85OioRA4CEvK",
        "outputId": "4b102b39-f35e-42d7-fe14-2f8583ad0cfa"
      },
      "execution_count": null,
      "outputs": [
        {
          "output_type": "stream",
          "name": "stdout",
          "text": [
            "Enter any digit: 4\n",
            "4 is positive\n",
            "4 is even\n"
          ]
        }
      ]
    },
    {
      "cell_type": "code",
      "source": [
        "#Multiple IF's\n",
        "\n",
        "num = int(input(\"Enter any digit: \"))\n",
        "\n",
        "\n",
        "if num >= 0:\n",
        "  print(num,\"is positive\")\n",
        "\n",
        "\n",
        "elif num % 2 == 0:\n",
        "  print(num,\"is even\")\n",
        "\n",
        "else:\n",
        "  print(num,\"is odd\")\n"
      ],
      "metadata": {
        "colab": {
          "base_uri": "https://localhost:8080/"
        },
        "id": "gddzyaT_GlGL",
        "outputId": "9b100c75-ce2e-48c5-f7ee-dc9930d0c2ed"
      },
      "execution_count": null,
      "outputs": [
        {
          "output_type": "stream",
          "name": "stdout",
          "text": [
            "Enter any digit: 4\n",
            "4 is positive\n"
          ]
        }
      ]
    },
    {
      "cell_type": "code",
      "source": [],
      "metadata": {
        "id": "gNlMnYAoGk7t"
      },
      "execution_count": null,
      "outputs": []
    },
    {
      "cell_type": "code",
      "source": [
        "#Nested IF\n",
        "\n",
        "scores = int(input(\"Enter your score: \"))\n",
        "\n",
        "if scores>=60:\n",
        "  #print(\"Pass\")\n",
        "  if  scores >=90:\n",
        "    print(\"A+\")\n",
        "\n",
        "  elif scores >= 80:\n",
        "    print(\"B+\")\n",
        "\n",
        "  elif scores >= 70:\n",
        "    print(\"C+\")\n",
        "\n",
        "  elif scores>=60:\n",
        "    print(\"D+\")\n",
        "\n",
        "else:\n",
        "  print(\"FAIL\")\n"
      ],
      "metadata": {
        "colab": {
          "base_uri": "https://localhost:8080/"
        },
        "id": "cWHd_EDbBwI6",
        "outputId": "f91c65af-f524-40cb-9326-9049ec001e06"
      },
      "execution_count": null,
      "outputs": [
        {
          "output_type": "stream",
          "name": "stdout",
          "text": [
            "Enter your score: 31\n",
            "FAIL\n"
          ]
        }
      ]
    },
    {
      "cell_type": "code",
      "source": [
        "num = int(input(\"Enter a digit: \"))\n",
        "\n",
        "if num%2 ==0 and num%3==0:\n",
        "  print(num, \"is divisible by both 2 and 3\")\n",
        "\n",
        "elif num%2 == 0:\n",
        "  print(num,\"is divisible by only 2\")\n",
        "\n",
        "elif num%3 == 0:\n",
        "  print(num,\"is divisible by only 3\")\n",
        "\n",
        "else:\n",
        "  print(num,\"is not divisble by 2 and 3\")"
      ],
      "metadata": {
        "colab": {
          "base_uri": "https://localhost:8080/"
        },
        "id": "25DKsUBkCO2-",
        "outputId": "d8c7e5d7-0af0-4c8e-a710-fdf935740b82"
      },
      "execution_count": null,
      "outputs": [
        {
          "output_type": "stream",
          "name": "stdout",
          "text": [
            "Enter a digit: 9\n",
            "9 is divisible by only 3\n"
          ]
        }
      ]
    },
    {
      "cell_type": "code",
      "source": [],
      "metadata": {
        "id": "ojGYghW6IlFr"
      },
      "execution_count": null,
      "outputs": []
    },
    {
      "cell_type": "code",
      "source": [
        "items = [\"Laptop\",\"Mobile\",\"tablet\"]\n",
        "prices = [1500, 1000]\n",
        "\n",
        "if len(items)==len(prices):\n",
        "  print(dict(zip(items, prices)))\n",
        "\n",
        "else:\n",
        "  print(\"kindly check if key and values have same count or not\")"
      ],
      "metadata": {
        "colab": {
          "base_uri": "https://localhost:8080/"
        },
        "id": "5C6v85YeIk_6",
        "outputId": "658105ee-303f-4f53-cca2-1474ba684297"
      },
      "execution_count": null,
      "outputs": [
        {
          "output_type": "stream",
          "name": "stdout",
          "text": [
            "kindly check if key and values have same count or not\n"
          ]
        }
      ]
    },
    {
      "cell_type": "code",
      "source": [
        "print(\"Hello!\")\n",
        "print(\"Hello!\")\n",
        "print(\"Hello!\")\n",
        "print(\"Hello!\")\n",
        "print(\"Hello!\")\n",
        "print(\"Hello!\")\n",
        "print(\"Hello!\")\n",
        "print(\"Hello!\")\n",
        "print(\"Hello!\")\n",
        "print(\"Hello!\")\n",
        "print(\"Hello!\")"
      ],
      "metadata": {
        "colab": {
          "base_uri": "https://localhost:8080/"
        },
        "id": "-VBEqTd6COyM",
        "outputId": "13c679d2-165f-4872-e266-5eb1d3538409"
      },
      "execution_count": null,
      "outputs": [
        {
          "output_type": "stream",
          "name": "stdout",
          "text": [
            "Hello!\n",
            "Hello!\n",
            "Hello!\n",
            "Hello!\n",
            "Hello!\n",
            "Hello!\n",
            "Hello!\n",
            "Hello!\n",
            "Hello!\n",
            "Hello!\n",
            "Hello!\n"
          ]
        }
      ]
    },
    {
      "cell_type": "markdown",
      "source": [
        "**Range** generates a sequence of numbers."
      ],
      "metadata": {
        "id": "deTX2IZiKqUH"
      }
    },
    {
      "cell_type": "code",
      "source": [
        "#variable[starting: ending: steps]"
      ],
      "metadata": {
        "id": "SjTe7TjlJrOj"
      },
      "execution_count": null,
      "outputs": []
    },
    {
      "cell_type": "code",
      "source": [
        "list(range(0,10,1))"
      ],
      "metadata": {
        "colab": {
          "base_uri": "https://localhost:8080/"
        },
        "id": "KahAzkL6JrEa",
        "outputId": "2e3ddcd0-a3c3-4a6f-cd93-102b23009a52"
      },
      "execution_count": null,
      "outputs": [
        {
          "output_type": "execute_result",
          "data": {
            "text/plain": [
              "[0, 1, 2, 3, 4, 5, 6, 7, 8, 9]"
            ]
          },
          "metadata": {},
          "execution_count": 31
        }
      ]
    },
    {
      "cell_type": "code",
      "source": [
        "list(range(0,10,2))"
      ],
      "metadata": {
        "colab": {
          "base_uri": "https://localhost:8080/"
        },
        "id": "T044PeHFKfnq",
        "outputId": "1c514005-28ad-4c5a-8c09-fcf1ac23dc27"
      },
      "execution_count": null,
      "outputs": [
        {
          "output_type": "execute_result",
          "data": {
            "text/plain": [
              "[0, 2, 4, 6, 8]"
            ]
          },
          "metadata": {},
          "execution_count": 32
        }
      ]
    },
    {
      "cell_type": "code",
      "source": [
        "list(range(0,100,1))"
      ],
      "metadata": {
        "colab": {
          "base_uri": "https://localhost:8080/"
        },
        "id": "qAqwvVPSKfg1",
        "outputId": "608f2f71-101e-4c2f-a8c3-e720c40a3856"
      },
      "execution_count": null,
      "outputs": [
        {
          "output_type": "execute_result",
          "data": {
            "text/plain": [
              "[0,\n",
              " 1,\n",
              " 2,\n",
              " 3,\n",
              " 4,\n",
              " 5,\n",
              " 6,\n",
              " 7,\n",
              " 8,\n",
              " 9,\n",
              " 10,\n",
              " 11,\n",
              " 12,\n",
              " 13,\n",
              " 14,\n",
              " 15,\n",
              " 16,\n",
              " 17,\n",
              " 18,\n",
              " 19,\n",
              " 20,\n",
              " 21,\n",
              " 22,\n",
              " 23,\n",
              " 24,\n",
              " 25,\n",
              " 26,\n",
              " 27,\n",
              " 28,\n",
              " 29,\n",
              " 30,\n",
              " 31,\n",
              " 32,\n",
              " 33,\n",
              " 34,\n",
              " 35,\n",
              " 36,\n",
              " 37,\n",
              " 38,\n",
              " 39,\n",
              " 40,\n",
              " 41,\n",
              " 42,\n",
              " 43,\n",
              " 44,\n",
              " 45,\n",
              " 46,\n",
              " 47,\n",
              " 48,\n",
              " 49,\n",
              " 50,\n",
              " 51,\n",
              " 52,\n",
              " 53,\n",
              " 54,\n",
              " 55,\n",
              " 56,\n",
              " 57,\n",
              " 58,\n",
              " 59,\n",
              " 60,\n",
              " 61,\n",
              " 62,\n",
              " 63,\n",
              " 64,\n",
              " 65,\n",
              " 66,\n",
              " 67,\n",
              " 68,\n",
              " 69,\n",
              " 70,\n",
              " 71,\n",
              " 72,\n",
              " 73,\n",
              " 74,\n",
              " 75,\n",
              " 76,\n",
              " 77,\n",
              " 78,\n",
              " 79,\n",
              " 80,\n",
              " 81,\n",
              " 82,\n",
              " 83,\n",
              " 84,\n",
              " 85,\n",
              " 86,\n",
              " 87,\n",
              " 88,\n",
              " 89,\n",
              " 90,\n",
              " 91,\n",
              " 92,\n",
              " 93,\n",
              " 94,\n",
              " 95,\n",
              " 96,\n",
              " 97,\n",
              " 98,\n",
              " 99]"
            ]
          },
          "metadata": {},
          "execution_count": 33
        }
      ]
    },
    {
      "cell_type": "code",
      "source": [
        "[0,1,2,3,4,5,6,7,8,9]"
      ],
      "metadata": {
        "id": "KH9hJf0TLVRQ"
      },
      "execution_count": null,
      "outputs": []
    },
    {
      "cell_type": "code",
      "source": [
        "1. you have to check 10 papers (for)\n",
        "2. check papers of all students (while)"
      ],
      "metadata": {
        "id": "8LW0YycEKfaV"
      },
      "execution_count": null,
      "outputs": []
    },
    {
      "cell_type": "code",
      "source": [],
      "metadata": {
        "id": "Agn9k7CfKMwC"
      },
      "execution_count": null,
      "outputs": []
    },
    {
      "cell_type": "markdown",
      "source": [
        "# **Loop**\n",
        "A loop allows you to execute a block of code multiple times. This is useful for automating repetitive tasks.\n",
        "\n",
        "**Types of Loops:**\n",
        "\n",
        "- **for Loop**: Iterates over a sequence.\n",
        "- **while Loop**: Repeats as long as a condition is true."
      ],
      "metadata": {
        "id": "s5VE_3fP36UN"
      }
    },
    {
      "cell_type": "markdown",
      "source": [
        "## **For Loop**\n",
        "The for loop is used to iterate over a sequence (such as a list or a string) and execute a block of code for each element in the sequence.\n"
      ],
      "metadata": {
        "id": "TNcq_npW41o0"
      }
    },
    {
      "cell_type": "markdown",
      "source": [
        "- **for keyword:** This begins the for loop.\n",
        "- **variable:** A temporary variable that holds the current value of the item in the iterable on each iteration.\n",
        "- **in keyword:** Used to specify the iterable over which the loop will iterate.\n",
        "- **iterable:** A collection of elements, such as a list, tuple, string, or range, over which the loop will iterate.\n",
        "- **code block:** The set of statements that are executed once for each item in the iterable."
      ],
      "metadata": {
        "id": "iKoi9zhVpjbq"
      }
    },
    {
      "cell_type": "markdown",
      "source": [
        "\n",
        "**Using range()**\n",
        "- The range() function generates a sequence of numbers, which is commonly used with for loops.\n",
        "- **Syntax:**\n",
        "for i in range(start, stop, step):\n",
        "\n",
        "   \\# code to execute for each value of i\n",
        "\n",
        "  - **start:** The starting value of the sequence (inclusive).\n",
        "  - **stop:** The end value of the sequence (exclusive).\n",
        "  - **step:** The difference between each number in the sequence.\n"
      ],
      "metadata": {
        "id": "DZr-MAYX8IkO"
      }
    },
    {
      "cell_type": "code",
      "source": [
        "list(range(1,11))"
      ],
      "metadata": {
        "id": "t8MwAq65RARW",
        "colab": {
          "base_uri": "https://localhost:8080/"
        },
        "outputId": "262a8958-daa6-4bbc-efd9-560fcc3c5e7f"
      },
      "execution_count": null,
      "outputs": [
        {
          "output_type": "execute_result",
          "data": {
            "text/plain": [
              "[1, 2, 3, 4, 5, 6, 7, 8, 9, 10]"
            ]
          },
          "metadata": {},
          "execution_count": 34
        }
      ]
    },
    {
      "cell_type": "code",
      "source": [
        "for i in range(1,3):\n",
        "  print(\"Hello!\")"
      ],
      "metadata": {
        "id": "qyTk5HD-RAKd",
        "colab": {
          "base_uri": "https://localhost:8080/"
        },
        "outputId": "ebfc3101-2646-461f-a985-7aedad0b64d1"
      },
      "execution_count": null,
      "outputs": [
        {
          "output_type": "stream",
          "name": "stdout",
          "text": [
            "Hello!\n",
            "Hello!\n"
          ]
        }
      ]
    },
    {
      "cell_type": "code",
      "source": [
        "for i in range(10):\n",
        "  print(\"Reminder: To check the guest's list!\")\n"
      ],
      "metadata": {
        "colab": {
          "base_uri": "https://localhost:8080/"
        },
        "id": "3cexVvxzMrCA",
        "outputId": "7764849d-1ca0-42d4-e3ae-34acb47268c3"
      },
      "execution_count": null,
      "outputs": [
        {
          "output_type": "stream",
          "name": "stdout",
          "text": [
            "Reminder: To check the guest's list!\n",
            "Reminder: To check the guest's list!\n",
            "Reminder: To check the guest's list!\n",
            "Reminder: To check the guest's list!\n",
            "Reminder: To check the guest's list!\n",
            "Reminder: To check the guest's list!\n",
            "Reminder: To check the guest's list!\n",
            "Reminder: To check the guest's list!\n",
            "Reminder: To check the guest's list!\n",
            "Reminder: To check the guest's list!\n"
          ]
        }
      ]
    },
    {
      "cell_type": "code",
      "source": [],
      "metadata": {
        "id": "KgwQi8SjMq35"
      },
      "execution_count": null,
      "outputs": []
    },
    {
      "cell_type": "code",
      "source": [],
      "metadata": {
        "id": "NAkSKoDkRAG1"
      },
      "execution_count": null,
      "outputs": []
    },
    {
      "cell_type": "markdown",
      "source": [
        "\n",
        "\n",
        "\n",
        "**Iterating Over Lists**\n",
        "\n",
        "You can use a for loop to iterate over each element in a list.\n",
        "\n"
      ],
      "metadata": {
        "id": "_8yIW2F95uFW"
      }
    },
    {
      "cell_type": "code",
      "source": [
        "guests = [ \"Amna\",\"Asma\",\"Aliyan\",\"usman\",\"Zahra\",\"Shaista\",\"Mona\"]\n"
      ],
      "metadata": {
        "colab": {
          "base_uri": "https://localhost:8080/",
          "height": 35
        },
        "id": "jZHQA7zTNaSl",
        "outputId": "4b34220b-0a98-4875-8565-cbfc630d0f2a"
      },
      "execution_count": null,
      "outputs": [
        {
          "output_type": "execute_result",
          "data": {
            "text/plain": [
              "'Amna'"
            ],
            "application/vnd.google.colaboratory.intrinsic+json": {
              "type": "string"
            }
          },
          "metadata": {},
          "execution_count": 39
        }
      ]
    },
    {
      "cell_type": "code",
      "source": [
        "len(guests)"
      ],
      "metadata": {
        "colab": {
          "base_uri": "https://localhost:8080/"
        },
        "id": "tySHAlymNlw5",
        "outputId": "9a8266e9-8dba-497c-e423-d6dfba87cb56"
      },
      "execution_count": null,
      "outputs": [
        {
          "output_type": "execute_result",
          "data": {
            "text/plain": [
              "7"
            ]
          },
          "metadata": {},
          "execution_count": 42
        }
      ]
    },
    {
      "cell_type": "code",
      "source": [
        "print(\"Hello,\",guests[0],\"!\")\n",
        "print(\"Hello,\",guests[1],\"!\")\n",
        "print(\"Hello,\",guests[2],\"!\")\n",
        "print(\"Hello,\",guests[3],\"!\")\n",
        "print(\"Hello,\",guests[4],\"!\")\n",
        "print(\"Hello,\",guests[5],\"!\")\n",
        "print(\"Hello,\",guests[6],\"!\")"
      ],
      "metadata": {
        "colab": {
          "base_uri": "https://localhost:8080/"
        },
        "id": "lrkN5_IBNaG1",
        "outputId": "8a5813f1-9412-4399-d886-4d0c9a54b697"
      },
      "execution_count": null,
      "outputs": [
        {
          "output_type": "stream",
          "name": "stdout",
          "text": [
            "Hello, Amna !\n",
            "Hello, Asma !\n",
            "Hello, Aliyan !\n",
            "Hello, usman !\n",
            "Hello, Zahra !\n",
            "Hello, Shaista !\n",
            "Hello, Mona !\n"
          ]
        }
      ]
    },
    {
      "cell_type": "code",
      "source": [],
      "metadata": {
        "id": "mminVtuyNdva"
      },
      "execution_count": null,
      "outputs": []
    },
    {
      "cell_type": "code",
      "source": [
        "guests = [ \"Amna\",\"Asma\",\"Aliyan\",\"usman\",\"Zahra\",\"Shaista\",\"Mona\", \"Amna\",\"Asma\",\"Aliyan\",\"usman\",\"Zahra\",\"Shaista\",\"Mona\", \"Amna\",\"Asma\",\"Aliyan\",\"usman\",\"Zahra\",\"Shaista\",\"Mona\", \"Amna\",\"Asma\",\"Aliyan\",\"usman\",\"Zahra\",\"Shaista\",\"Mona\"]\n",
        "\n",
        "for i in guests:\n",
        "  print(f\"Hello, {i}!\")"
      ],
      "metadata": {
        "id": "xd8VGd1eQ3EX",
        "colab": {
          "base_uri": "https://localhost:8080/"
        },
        "outputId": "8720af6a-af0c-43ef-f2cb-80cf0c2ce761"
      },
      "execution_count": null,
      "outputs": [
        {
          "output_type": "stream",
          "name": "stdout",
          "text": [
            "Hello, Amna!\n",
            "Hello, Asma!\n",
            "Hello, Aliyan!\n",
            "Hello, usman!\n",
            "Hello, Zahra!\n",
            "Hello, Shaista!\n",
            "Hello, Mona!\n",
            "Hello, Amna!\n",
            "Hello, Asma!\n",
            "Hello, Aliyan!\n",
            "Hello, usman!\n",
            "Hello, Zahra!\n",
            "Hello, Shaista!\n",
            "Hello, Mona!\n",
            "Hello, Amna!\n",
            "Hello, Asma!\n",
            "Hello, Aliyan!\n",
            "Hello, usman!\n",
            "Hello, Zahra!\n",
            "Hello, Shaista!\n",
            "Hello, Mona!\n",
            "Hello, Amna!\n",
            "Hello, Asma!\n",
            "Hello, Aliyan!\n",
            "Hello, usman!\n",
            "Hello, Zahra!\n",
            "Hello, Shaista!\n",
            "Hello, Mona!\n"
          ]
        }
      ]
    },
    {
      "cell_type": "code",
      "source": [
        "guests = [ \"Amna\",\"Asma\",\"Aliyan\",\"usman\",\"Zahra\",\"Shaista\",\"Mona\", \"Amna\",\"Asma\",\"Aliyan\",\"usman\",\"Zahra\",\"Shaista\",\"Mona\", \"Amna\",\"Asma\",\"Aliyan\",\"usman\",\"Zahra\",\"Shaista\",\"Mona\", \"Amna\",\"Asma\",\"Aliyan\",\"usman\",\"Zahra\",\"Shaista\",\"Mona\"]\n",
        "\n",
        "for i in range(0,len(guests)):\n",
        "  print(i+1, \"Hello,\",guests[i],\"!\")"
      ],
      "metadata": {
        "id": "eNeoKBIKQ3AP",
        "colab": {
          "base_uri": "https://localhost:8080/"
        },
        "outputId": "4024dc8f-8987-46e9-ed52-8e3d4796a9bb"
      },
      "execution_count": null,
      "outputs": [
        {
          "output_type": "stream",
          "name": "stdout",
          "text": [
            "1 Hello, Amna !\n",
            "2 Hello, Asma !\n",
            "3 Hello, Aliyan !\n",
            "4 Hello, usman !\n",
            "5 Hello, Zahra !\n",
            "6 Hello, Shaista !\n",
            "7 Hello, Mona !\n",
            "8 Hello, Amna !\n",
            "9 Hello, Asma !\n",
            "10 Hello, Aliyan !\n",
            "11 Hello, usman !\n",
            "12 Hello, Zahra !\n",
            "13 Hello, Shaista !\n",
            "14 Hello, Mona !\n",
            "15 Hello, Amna !\n",
            "16 Hello, Asma !\n",
            "17 Hello, Aliyan !\n",
            "18 Hello, usman !\n",
            "19 Hello, Zahra !\n",
            "20 Hello, Shaista !\n",
            "21 Hello, Mona !\n",
            "22 Hello, Amna !\n",
            "23 Hello, Asma !\n",
            "24 Hello, Aliyan !\n",
            "25 Hello, usman !\n",
            "26 Hello, Zahra !\n",
            "27 Hello, Shaista !\n",
            "28 Hello, Mona !\n"
          ]
        }
      ]
    },
    {
      "cell_type": "code",
      "source": [],
      "metadata": {
        "id": "f7UVIhQ5Q3kP"
      },
      "execution_count": null,
      "outputs": []
    },
    {
      "cell_type": "markdown",
      "source": [
        "You are a restaurant manager. You have a list of dishes and their prices. Iterate over the list to display each dish with its price.\n",
        "\n",
        "**Question:** Given the list menu = [(\"Pasta\", 12), (\"Burger\", 8), (\"Salad\", 6)], write a for loop to print each dish and its price."
      ],
      "metadata": {
        "id": "iS6pKuny99RM"
      }
    },
    {
      "cell_type": "code",
      "source": [
        "menu = [(\"Pasta\", 12), (\"Burger\", 8), (\"Salad\", 6)]\n",
        "menu"
      ],
      "metadata": {
        "id": "TtAtNxjgQ7AD",
        "colab": {
          "base_uri": "https://localhost:8080/"
        },
        "outputId": "e46eba88-bbbc-48c6-f0a8-e47ab70768f3"
      },
      "execution_count": null,
      "outputs": [
        {
          "output_type": "execute_result",
          "data": {
            "text/plain": [
              "[('Pasta', 12), ('Burger', 8), ('Salad', 6)]"
            ]
          },
          "metadata": {},
          "execution_count": 60
        }
      ]
    },
    {
      "cell_type": "code",
      "source": [
        "for i in menu:\n",
        "  print(i)"
      ],
      "metadata": {
        "id": "R73rQ8bHQ7-Y",
        "colab": {
          "base_uri": "https://localhost:8080/"
        },
        "outputId": "72d30560-c483-4f73-c048-ade8b39d5766"
      },
      "execution_count": null,
      "outputs": [
        {
          "output_type": "stream",
          "name": "stdout",
          "text": [
            "('Pasta', 12)\n",
            "('Burger', 8)\n",
            "('Salad', 6)\n"
          ]
        }
      ]
    },
    {
      "cell_type": "code",
      "source": [
        "for dish, price in menu:\n",
        "  print(\"Dish:\",dish,\"- Price:\",price)"
      ],
      "metadata": {
        "colab": {
          "base_uri": "https://localhost:8080/"
        },
        "id": "gz5xk6hXP0wZ",
        "outputId": "66ad1d7f-d70a-461a-9bf4-8710c30b67a1"
      },
      "execution_count": null,
      "outputs": [
        {
          "output_type": "stream",
          "name": "stdout",
          "text": [
            "Dish: Pasta - Price: 12\n",
            "Dish: Burger - Price: 8\n",
            "Dish: Salad - Price: 6\n"
          ]
        }
      ]
    },
    {
      "cell_type": "code",
      "source": [
        "for i in menu:\n",
        "  dish , price = i\n",
        "  print(\"Dish:\",dish,\"- Price:\",price)"
      ],
      "metadata": {
        "colab": {
          "base_uri": "https://localhost:8080/"
        },
        "id": "UYJoKAurPQIH",
        "outputId": "0474054f-5177-4573-f202-4713d16cb8b2"
      },
      "execution_count": null,
      "outputs": [
        {
          "output_type": "stream",
          "name": "stdout",
          "text": [
            "Dish: Pasta - Price: 12\n",
            "Dish: Burger - Price: 8\n",
            "Dish: Salad - Price: 6\n"
          ]
        }
      ]
    },
    {
      "cell_type": "code",
      "source": [
        "price"
      ],
      "metadata": {
        "colab": {
          "base_uri": "https://localhost:8080/"
        },
        "id": "L5TtandtPQCi",
        "outputId": "1eb121e1-8c76-49d6-d9a1-9add2ef8fcee"
      },
      "execution_count": null,
      "outputs": [
        {
          "output_type": "execute_result",
          "data": {
            "text/plain": [
              "12"
            ]
          },
          "metadata": {},
          "execution_count": 54
        }
      ]
    },
    {
      "cell_type": "code",
      "source": [
        "menu = [(\"Pasta\", 12), (\"Burger\", 8), (\"Salad\", 6)]\n",
        "\n",
        "for i in range(0,len(menu)):\n",
        "  dish, price = menu[i]\n",
        "  print(\"Dish:\",dish,\"- Price:\",price)"
      ],
      "metadata": {
        "colab": {
          "base_uri": "https://localhost:8080/"
        },
        "id": "tnH5nhbyQlf7",
        "outputId": "ad26a84d-63a7-48d1-a489-469520552566"
      },
      "execution_count": null,
      "outputs": [
        {
          "output_type": "stream",
          "name": "stdout",
          "text": [
            "Dish: Pasta - Price: 12\n",
            "Dish: Burger - Price: 8\n",
            "Dish: Salad - Price: 6\n"
          ]
        }
      ]
    },
    {
      "cell_type": "code",
      "source": [
        "#quiz\n",
        "nums = [3, 6, 9]\n",
        "\n",
        "for n in nums:\n",
        "  print(n * 2)"
      ],
      "metadata": {
        "colab": {
          "base_uri": "https://localhost:8080/"
        },
        "id": "N9pBApEdS3d5",
        "outputId": "229470b3-dafd-474c-f4d9-6e778b4eb30d"
      },
      "execution_count": null,
      "outputs": [
        {
          "output_type": "stream",
          "name": "stdout",
          "text": [
            "6\n",
            "12\n",
            "18\n"
          ]
        }
      ]
    },
    {
      "cell_type": "code",
      "source": [
        "list(range(0, 10, 2))"
      ],
      "metadata": {
        "colab": {
          "base_uri": "https://localhost:8080/"
        },
        "id": "Yyx6WmmATECr",
        "outputId": "c07199e7-9524-44a7-b5bd-1c081e72a7f5"
      },
      "execution_count": null,
      "outputs": [
        {
          "output_type": "execute_result",
          "data": {
            "text/plain": [
              "[0, 2, 4, 6, 8]"
            ]
          },
          "metadata": {},
          "execution_count": 66
        }
      ]
    },
    {
      "cell_type": "markdown",
      "metadata": {
        "id": "e9643171"
      },
      "source": [
        "**Product Price Increase:**\n",
        "- Write a program that given list of product prices and increases each price by 10%. Print the original and the new prices."
      ]
    },
    {
      "cell_type": "code",
      "source": [
        "100 + (100*0.1)"
      ],
      "metadata": {
        "colab": {
          "base_uri": "https://localhost:8080/"
        },
        "id": "2S90_-5iTenZ",
        "outputId": "7147ca8f-d26b-4905-cb9a-50419aa04711"
      },
      "execution_count": null,
      "outputs": [
        {
          "output_type": "execute_result",
          "data": {
            "text/plain": [
              "110.0"
            ]
          },
          "metadata": {},
          "execution_count": 68
        }
      ]
    },
    {
      "cell_type": "markdown",
      "source": [],
      "metadata": {
        "id": "Bzzn2kslTeei"
      }
    },
    {
      "cell_type": "code",
      "source": [
        "Product_prices = [90,60,75,40,30,10,100,50]\n",
        "\n",
        "for price in Product_prices:\n",
        "  New_price = price + ( price*0.1)\n",
        "  print(\"Original Price:\",price, \"New Price:\",New_price)"
      ],
      "metadata": {
        "id": "-lNM4arsQ8RZ",
        "colab": {
          "base_uri": "https://localhost:8080/"
        },
        "outputId": "a31670be-7ff0-4b3e-8f7f-b4ee646e9654"
      },
      "execution_count": null,
      "outputs": [
        {
          "output_type": "stream",
          "name": "stdout",
          "text": [
            "Original Price: 90 New Price: 99.0\n",
            "Original Price: 60 New Price: 66.0\n",
            "Original Price: 75 New Price: 82.5\n",
            "Original Price: 40 New Price: 44.0\n",
            "Original Price: 30 New Price: 33.0\n",
            "Original Price: 10 New Price: 11.0\n",
            "Original Price: 100 New Price: 110.0\n",
            "Original Price: 50 New Price: 55.0\n"
          ]
        }
      ]
    },
    {
      "cell_type": "code",
      "source": [
        "Product_prices = [90,60,75,40,30,10,100,50]\n",
        "New_price_list = []\n",
        "\n",
        "for price in Product_prices:\n",
        "  New_price = price + ( price*0.1)\n",
        "  New_price_list.append(New_price)\n",
        "  print(\"Original Price:\",price, \"New Price:\",New_price)"
      ],
      "metadata": {
        "id": "7iSFLCkwQ8Nw",
        "colab": {
          "base_uri": "https://localhost:8080/"
        },
        "outputId": "6f6c9954-53aa-4d14-f324-811a8a474ba4"
      },
      "execution_count": null,
      "outputs": [
        {
          "output_type": "stream",
          "name": "stdout",
          "text": [
            "Original Price: 90 New Price: 99.0\n",
            "Original Price: 60 New Price: 66.0\n",
            "Original Price: 75 New Price: 82.5\n",
            "Original Price: 40 New Price: 44.0\n",
            "Original Price: 30 New Price: 33.0\n",
            "Original Price: 10 New Price: 11.0\n",
            "Original Price: 100 New Price: 110.0\n",
            "Original Price: 50 New Price: 55.0\n"
          ]
        }
      ]
    },
    {
      "cell_type": "code",
      "source": [
        "Product_prices"
      ],
      "metadata": {
        "colab": {
          "base_uri": "https://localhost:8080/"
        },
        "id": "KF5BiWcKUCXQ",
        "outputId": "45b6f4d6-b68b-4bee-9f9b-0f75cc43463a"
      },
      "execution_count": null,
      "outputs": [
        {
          "output_type": "execute_result",
          "data": {
            "text/plain": [
              "[90, 60, 75, 40, 30, 10, 100, 50]"
            ]
          },
          "metadata": {},
          "execution_count": 71
        }
      ]
    },
    {
      "cell_type": "code",
      "source": [
        "New_price_list"
      ],
      "metadata": {
        "colab": {
          "base_uri": "https://localhost:8080/"
        },
        "id": "NEo8hgTQUCP6",
        "outputId": "244c4171-3e6e-450b-f837-4b9879f43cd7"
      },
      "execution_count": null,
      "outputs": [
        {
          "output_type": "execute_result",
          "data": {
            "text/plain": [
              "[99.0, 66.0, 82.5, 44.0, 33.0, 11.0, 110.0, 55.0]"
            ]
          },
          "metadata": {},
          "execution_count": 72
        }
      ]
    },
    {
      "cell_type": "code",
      "source": [],
      "metadata": {
        "id": "Ybk4mk-gUCHJ"
      },
      "execution_count": null,
      "outputs": []
    },
    {
      "cell_type": "markdown",
      "source": [
        "\n",
        "**Iterating Over Strings**\n",
        "\n",
        "Strings are sequences of characters, and you can use a for loop to iterate over each character in a string.\n"
      ],
      "metadata": {
        "id": "4ZfMNbIy52ze"
      }
    },
    {
      "cell_type": "code",
      "source": [
        "for i in \"Maimoona\":\n",
        "  print(i)"
      ],
      "metadata": {
        "id": "q7UG_pvVQ997",
        "colab": {
          "base_uri": "https://localhost:8080/"
        },
        "outputId": "b40b82f0-fb42-4a0b-c6f0-748cb39a2ee4"
      },
      "execution_count": null,
      "outputs": [
        {
          "output_type": "stream",
          "name": "stdout",
          "text": [
            "M\n",
            "a\n",
            "i\n",
            "m\n",
            "o\n",
            "o\n",
            "n\n",
            "a\n"
          ]
        }
      ]
    },
    {
      "cell_type": "code",
      "source": [],
      "metadata": {
        "id": "NnJ26Q6-Q96V"
      },
      "execution_count": null,
      "outputs": []
    },
    {
      "cell_type": "markdown",
      "source": [
        "You are developing a text analyzer tool. Iterate over a string and count the number of vowels in it.\n",
        "\n",
        "**Question:** Write a for loop to count the vowels in the string \"Data Analysis is Awesome!\"."
      ],
      "metadata": {
        "id": "PWacaIVq-Z4P"
      }
    },
    {
      "cell_type": "code",
      "source": [
        "vowels= \"aeiou\"\n",
        "\n",
        "\n",
        "data = \"Data Analysis is Awesome!\"\n",
        "\n",
        "counter = 0\n",
        "for i in data.lower():\n",
        "  if i in vowels:\n",
        "   # print(\"Vowels:\",i)\n",
        "    counter +=1\n",
        "\n",
        "print(\"Total count of vowels is:\",counter)\n"
      ],
      "metadata": {
        "id": "ns1wc9teQ_Ai",
        "colab": {
          "base_uri": "https://localhost:8080/"
        },
        "outputId": "6d71c310-4ba4-48ea-ecc2-ca863d265c50"
      },
      "execution_count": null,
      "outputs": [
        {
          "output_type": "stream",
          "name": "stdout",
          "text": [
            "Total count of vowels is: 10\n"
          ]
        }
      ]
    },
    {
      "cell_type": "code",
      "source": [],
      "metadata": {
        "id": "zeTCGE6lQ-8_"
      },
      "execution_count": null,
      "outputs": []
    },
    {
      "cell_type": "markdown",
      "source": [
        "### Loop with Conditions"
      ],
      "metadata": {
        "id": "NDU8HlboARw8"
      }
    },
    {
      "cell_type": "markdown",
      "source": [
        "**Question:** Identifying Fruits that Start with 'A'"
      ],
      "metadata": {
        "id": "xdSFcpfkBEIW"
      }
    },
    {
      "cell_type": "code",
      "source": [
        "\"Maimoona\".startswith(\"A\")"
      ],
      "metadata": {
        "colab": {
          "base_uri": "https://localhost:8080/"
        },
        "id": "0B9oPnfAVwbd",
        "outputId": "478def42-d319-4ecb-e7af-892086d96bd5"
      },
      "execution_count": null,
      "outputs": [
        {
          "output_type": "execute_result",
          "data": {
            "text/plain": [
              "False"
            ]
          },
          "metadata": {},
          "execution_count": 83
        }
      ]
    },
    {
      "cell_type": "code",
      "source": [
        "\"Maimoona\"[0]==\"M\""
      ],
      "metadata": {
        "colab": {
          "base_uri": "https://localhost:8080/"
        },
        "id": "28uZT3oqV26w",
        "outputId": "1ff3c151-a560-4929-be2f-2037c5fb53ba"
      },
      "execution_count": null,
      "outputs": [
        {
          "output_type": "execute_result",
          "data": {
            "text/plain": [
              "True"
            ]
          },
          "metadata": {},
          "execution_count": 85
        }
      ]
    },
    {
      "cell_type": "code",
      "source": [
        "fruits = [\"Kiwi\",\"Apple\",\"Banana\",\"Apricot\",\"Orange\"]\n",
        "\n",
        "for fruit in fruits:\n",
        "  if fruit.startswith(\"A\"):\n",
        "    print(fruit)"
      ],
      "metadata": {
        "id": "fHCpmhreRBjH",
        "colab": {
          "base_uri": "https://localhost:8080/"
        },
        "outputId": "0ba1809b-0ef0-41d7-971f-e2f144cfd9b4"
      },
      "execution_count": null,
      "outputs": [
        {
          "output_type": "stream",
          "name": "stdout",
          "text": [
            "Apple\n",
            "Apricot\n"
          ]
        }
      ]
    },
    {
      "cell_type": "code",
      "source": [
        "fruits_A = []\n",
        "\n",
        "fruits = [\"Kiwi\",\"Apple\",\"Banana\",\"Apricot\",\"Orange\"]\n",
        "\n",
        "for fruit in fruits:\n",
        "  if fruit.startswith(\"A\"):\n",
        "    fruits_A.append(fruit)\n",
        "\n",
        "fruits_A"
      ],
      "metadata": {
        "id": "R0MT4m-vRBfI",
        "colab": {
          "base_uri": "https://localhost:8080/"
        },
        "outputId": "0f1373de-42e5-4e90-999c-fb241fa16b38"
      },
      "execution_count": null,
      "outputs": [
        {
          "output_type": "execute_result",
          "data": {
            "text/plain": [
              "['Apple', 'Apricot']"
            ]
          },
          "metadata": {},
          "execution_count": 88
        }
      ]
    },
    {
      "cell_type": "markdown",
      "source": [
        "**Enumerate**"
      ],
      "metadata": {
        "id": "yw-AxFvDBYBU"
      }
    },
    {
      "cell_type": "code",
      "source": [
        "fruits = [\"Kiwi\",\"Apple\",\"Banana\",\"Apricot\",\"Orange\"]\n",
        "\n",
        "for fruit in fruits:\n",
        "  print(fruit)"
      ],
      "metadata": {
        "id": "N0JkQb_XRDgh",
        "colab": {
          "base_uri": "https://localhost:8080/"
        },
        "outputId": "43a4db52-64cd-413b-8612-5d27f4872977"
      },
      "execution_count": null,
      "outputs": [
        {
          "output_type": "stream",
          "name": "stdout",
          "text": [
            "Kiwi\n",
            "Apple\n",
            "Banana\n",
            "Apricot\n",
            "Orange\n"
          ]
        }
      ]
    },
    {
      "cell_type": "code",
      "source": [
        "fruits = [\"Kiwi\",\"Apple\",\"Banana\",\"Apricot\",\"Orange\"]\n",
        "\n",
        "for i in range(0,len(fruits)):\n",
        "  print(i,fruits[i])"
      ],
      "metadata": {
        "colab": {
          "base_uri": "https://localhost:8080/"
        },
        "id": "s8OUdC56W1BQ",
        "outputId": "41ed2206-b716-4c49-842f-426f31e66f34"
      },
      "execution_count": null,
      "outputs": [
        {
          "output_type": "stream",
          "name": "stdout",
          "text": [
            "0 Kiwi\n",
            "1 Apple\n",
            "2 Banana\n",
            "3 Apricot\n",
            "4 Orange\n"
          ]
        }
      ]
    },
    {
      "cell_type": "code",
      "source": [
        "for index, value in enumerate(fruits, start=1):\n",
        "  print(index, value)"
      ],
      "metadata": {
        "colab": {
          "base_uri": "https://localhost:8080/"
        },
        "id": "48AOKcUdWuxt",
        "outputId": "cc48f69c-ecca-4c0c-b6fb-993041b2c19d"
      },
      "execution_count": null,
      "outputs": [
        {
          "output_type": "stream",
          "name": "stdout",
          "text": [
            "1 Kiwi\n",
            "2 Apple\n",
            "3 Banana\n",
            "4 Apricot\n",
            "5 Orange\n"
          ]
        }
      ]
    },
    {
      "cell_type": "markdown",
      "source": [
        "Enumerate: returns index + value\n",
        "\n",
        "Simple loop:  returns value only. For index, you have to use ranges instead of direct list.\n",
        "\n"
      ],
      "metadata": {
        "id": "ma9bbRcQXMKk"
      }
    },
    {
      "cell_type": "code",
      "source": [],
      "metadata": {
        "id": "qyW8hxNwWuqX"
      },
      "execution_count": null,
      "outputs": []
    },
    {
      "cell_type": "markdown",
      "source": [
        "You are tracking daily temperatures and want to identify the days when the temperature was above 30°C.\n",
        "\n",
        "**Question:** Given the list temperatures = [28, 32, 31, 29, 35, 36, 30], write a for loop to print only the days when the temperature was above 30°C."
      ],
      "metadata": {
        "id": "TN6s6dY1AggA"
      }
    },
    {
      "cell_type": "code",
      "source": [
        "temperatures = [28, 32, 31, 29, 35, 36, 30]\n",
        "\n",
        "for day, temp in enumerate(temperatures, start=1):\n",
        "\n",
        "  if temp > 30:\n",
        "    print(\"Day:\",day,\"- Temperature:\",temp)"
      ],
      "metadata": {
        "id": "odQQV43eRHT_",
        "colab": {
          "base_uri": "https://localhost:8080/"
        },
        "outputId": "d9fa52be-36f8-4768-d283-13fd0576b7f1"
      },
      "execution_count": null,
      "outputs": [
        {
          "output_type": "stream",
          "name": "stdout",
          "text": [
            "Day: 2 - Temperature: 32\n",
            "Day: 3 - Temperature: 31\n",
            "Day: 5 - Temperature: 35\n",
            "Day: 6 - Temperature: 36\n"
          ]
        }
      ]
    },
    {
      "cell_type": "code",
      "source": [],
      "metadata": {
        "id": "CRMgVYuPRHP9"
      },
      "execution_count": null,
      "outputs": []
    },
    {
      "cell_type": "markdown",
      "source": [
        "### Keywords: Break, pass, continue"
      ],
      "metadata": {
        "id": "icEWUayVAaau"
      }
    },
    {
      "cell_type": "markdown",
      "source": [
        "#### Break Statement\n",
        "The break statement terminates the loop immediately when encountered."
      ],
      "metadata": {
        "id": "JC-hjNy17Sc7"
      }
    },
    {
      "cell_type": "code",
      "source": [
        "for i in range(0,10):\n",
        "  if(i==6):\n",
        "    break\n",
        "  print(i)"
      ],
      "metadata": {
        "id": "BOGXUGBIRKDt",
        "colab": {
          "base_uri": "https://localhost:8080/"
        },
        "outputId": "95f85665-dbe5-45d8-b319-d94cdd71a160"
      },
      "execution_count": null,
      "outputs": [
        {
          "output_type": "stream",
          "name": "stdout",
          "text": [
            "0\n",
            "1\n",
            "2\n",
            "3\n",
            "4\n",
            "5\n"
          ]
        }
      ]
    },
    {
      "cell_type": "code",
      "source": [],
      "metadata": {
        "id": "95eYEyylRJ_4"
      },
      "execution_count": null,
      "outputs": []
    },
    {
      "cell_type": "markdown",
      "source": [
        "You are searching for a specific book in a library's list of books. If you find it, you want to stop searching immediately.\n",
        "\n",
        "\n",
        "**Question:** Given the list\n",
        "\n",
        "books = [\"Data Science\", \"Machine Learning\", \"Python Programming\", \"Artificial Intelligence\"],\n",
        "\n",
        "write a for loop to search for \"Python Programming\" and stop once found."
      ],
      "metadata": {
        "id": "sftzi9Q4CYE2"
      }
    },
    {
      "cell_type": "code",
      "source": [
        "books = [\"Data Science\", \"Machine Learning\", \"Python Programming\", \"Artificial Intelligence\"]\n",
        "books"
      ],
      "metadata": {
        "colab": {
          "base_uri": "https://localhost:8080/"
        },
        "id": "_tdfaaEpZH_a",
        "outputId": "0fd320ff-fa71-4b5b-96dd-73556049233c"
      },
      "execution_count": null,
      "outputs": [
        {
          "output_type": "execute_result",
          "data": {
            "text/plain": [
              "['Data Science',\n",
              " 'Machine Learning',\n",
              " 'Python Programming',\n",
              " 'Artificial Intelligence']"
            ]
          },
          "metadata": {},
          "execution_count": 99
        }
      ]
    },
    {
      "cell_type": "code",
      "source": [
        "for book in books:\n",
        "  if book == \"Python Programming\":\n",
        "    print(\"I found this book\",book)\n",
        "    break"
      ],
      "metadata": {
        "id": "DNaUCj4LRLPP",
        "colab": {
          "base_uri": "https://localhost:8080/"
        },
        "outputId": "cb7ded1d-98c9-484f-c241-a54e0b1f1d1d"
      },
      "execution_count": null,
      "outputs": [
        {
          "output_type": "stream",
          "name": "stdout",
          "text": [
            "I found this book Python Programming\n"
          ]
        }
      ]
    },
    {
      "cell_type": "code",
      "source": [],
      "metadata": {
        "id": "T8_hrWGFRLLT"
      },
      "execution_count": null,
      "outputs": []
    },
    {
      "cell_type": "markdown",
      "source": [
        "#### Continue Statement\n",
        "The continue statement skips the current iteration and moves to the next iteration of the loop.\n",
        "\n"
      ],
      "metadata": {
        "id": "jRb55LtT7Kzy"
      }
    },
    {
      "cell_type": "code",
      "source": [],
      "metadata": {
        "id": "1oqpYRPjZozd"
      },
      "execution_count": null,
      "outputs": []
    },
    {
      "cell_type": "markdown",
      "source": [
        "You are processing a list of sales data. If a sale value is negative, skip it (indicating a return or refund).\n",
        "\n",
        "**Question:** Given the list sales = [200, -50, 300, -20, 150], write a for loop to calculate the total sales, skipping negative values.\n"
      ],
      "metadata": {
        "id": "EB4g5q8NCp7n"
      }
    },
    {
      "cell_type": "code",
      "source": [
        "sales = [200, -50, 300, -20, 150]\n",
        "\n",
        "total_sales = 0\n",
        "\n",
        "for i in sales:\n",
        "  if i<0:\n",
        "    continue\n",
        "  total_sales += i\n",
        "  print(i)\n",
        "\n",
        "print(\"Total sales=\",total_sales)"
      ],
      "metadata": {
        "id": "uXMl7M99RTDQ",
        "colab": {
          "base_uri": "https://localhost:8080/"
        },
        "outputId": "7d185810-d19c-4e63-b7e8-2ba2dfd4ffb1"
      },
      "execution_count": null,
      "outputs": [
        {
          "output_type": "stream",
          "name": "stdout",
          "text": [
            "200\n",
            "300\n",
            "150\n",
            "Total sales= 650\n"
          ]
        }
      ]
    },
    {
      "cell_type": "code",
      "source": [],
      "metadata": {
        "id": "KGy2Nx_ga_Ce"
      },
      "execution_count": null,
      "outputs": []
    },
    {
      "cell_type": "code",
      "source": [
        "#pass\n",
        "scores_list = [100,98,90,76,50,90,40,31]\n",
        "\n",
        "for scores in scores_list:\n",
        "  if scores >=90:\n",
        "    pass\n",
        "    #print(\"A+\")\n",
        "\n",
        "  elif scores >= 80:\n",
        "    print(\"B+\")\n",
        "\n",
        "  elif scores >= 70:\n",
        "    print(\"C+\")\n",
        "\n",
        "  elif scores>=60:\n",
        "    print(\"D+\")\n",
        "\n",
        "  else:\n",
        "    print(\"F\")\n"
      ],
      "metadata": {
        "colab": {
          "base_uri": "https://localhost:8080/"
        },
        "id": "U0_wH0fXbYol",
        "outputId": "60626073-7ca6-4900-9a72-2e0341b3d3ea"
      },
      "execution_count": null,
      "outputs": [
        {
          "output_type": "stream",
          "name": "stdout",
          "text": [
            "A+\n",
            "A+\n",
            "A+\n",
            "C+\n",
            "F\n",
            "A+\n",
            "F\n",
            "F\n"
          ]
        }
      ]
    },
    {
      "cell_type": "code",
      "source": [],
      "metadata": {
        "id": "YdaJ_bMjbYg3"
      },
      "execution_count": null,
      "outputs": []
    },
    {
      "cell_type": "markdown",
      "source": [
        "#### Pass Statement\n",
        "The Pass does nothing. It is used as a placeholder only."
      ],
      "metadata": {
        "id": "61MIktnNBloe"
      }
    },
    {
      "cell_type": "markdown",
      "source": [
        "You are creating a program to check a list of items, but you haven't yet implemented the functionality for certain items. Use the pass statement as a placeholder.\n",
        "\n",
        "**Question:** Iterate over the list items = [\"apple\", \"banana\", \"grape\", \"orange\"]. Print each item except \"grape\" (use pass for \"grape\")."
      ],
      "metadata": {
        "id": "wBI6VvoGBh9c"
      }
    },
    {
      "cell_type": "code",
      "source": [
        "items = [\"apple\", \"banana\", \"grape\", \"orange\"]\n",
        "\n",
        "for i in items:\n",
        "  if i ==\"grape\":\n",
        "    pass\n",
        "  else:\n",
        "    print(i)"
      ],
      "metadata": {
        "id": "M1PhNTO_RUOJ",
        "colab": {
          "base_uri": "https://localhost:8080/"
        },
        "outputId": "557e79c6-397b-4670-b4b6-32137ea49779"
      },
      "execution_count": null,
      "outputs": [
        {
          "output_type": "stream",
          "name": "stdout",
          "text": [
            "apple\n",
            "banana\n",
            "orange\n"
          ]
        }
      ]
    },
    {
      "cell_type": "code",
      "source": [],
      "metadata": {
        "id": "GvaFZ9j0RUKx"
      },
      "execution_count": null,
      "outputs": []
    },
    {
      "cell_type": "markdown",
      "source": [
        "**Differentiating pass and continue**\n",
        "\n",
        "You are developing a system to process user data. You have a list of user ages. For certain ages, like those below 10, you haven't decided how to handle them yet, so you'll use pass. For ages that are negative (which is invalid), you want to skip processing entirely using continue.\n",
        "\n",
        "**Question:** Given the list ages = [25, -5, 12, 8, 34, -1, 15], use a for loop to print each valid age. Use pass for ages below 10 (indicating you need to handle these cases later) and continue for negative ages to skip them."
      ],
      "metadata": {
        "id": "bh2xN0ngGf4f"
      }
    },
    {
      "cell_type": "code",
      "source": [
        "ages = [25, -5, 12, 8, 34, -1, 15]\n",
        "\n",
        "for age in ages:\n",
        "  if age < 10 and age>0:\n",
        "    pass\n",
        "\n",
        "  elif age < 0:\n",
        "    continue\n",
        "\n",
        "  print(age)"
      ],
      "metadata": {
        "id": "5yIZVzNTRXMj",
        "colab": {
          "base_uri": "https://localhost:8080/"
        },
        "outputId": "582b9c34-69b7-450f-8379-3630ce8085d2"
      },
      "execution_count": null,
      "outputs": [
        {
          "output_type": "stream",
          "name": "stdout",
          "text": [
            "25\n",
            "12\n",
            "8\n",
            "34\n",
            "15\n"
          ]
        }
      ]
    },
    {
      "cell_type": "code",
      "source": [],
      "metadata": {
        "id": "DBS1-ONORXI9"
      },
      "execution_count": null,
      "outputs": []
    },
    {
      "cell_type": "markdown",
      "source": [
        "### Nested Loops\n",
        "Nested loops are loops within loops. They are useful for performing repeated actions on a multidimensional scale."
      ],
      "metadata": {
        "id": "sIm-DyDr7Dl-"
      }
    },
    {
      "cell_type": "code",
      "source": [
        "for i in range(1,11):\n",
        "  print(\"2 x \",i,\"=\",2*i )"
      ],
      "metadata": {
        "colab": {
          "base_uri": "https://localhost:8080/"
        },
        "id": "ARpk5-EIe3WK",
        "outputId": "6560a233-6d3c-44df-fb76-80a94ecffb74"
      },
      "execution_count": null,
      "outputs": [
        {
          "output_type": "stream",
          "name": "stdout",
          "text": [
            "2 x  1 = 2\n",
            "2 x  2 = 4\n",
            "2 x  3 = 6\n",
            "2 x  4 = 8\n",
            "2 x  5 = 10\n",
            "2 x  6 = 12\n",
            "2 x  7 = 14\n",
            "2 x  8 = 16\n",
            "2 x  9 = 18\n",
            "2 x  10 = 20\n"
          ]
        }
      ]
    },
    {
      "cell_type": "code",
      "source": [
        "for i in range(1,11):\n",
        "  print(f\"2 x {i} = {2*i} \")"
      ],
      "metadata": {
        "id": "xxLQZh0fRbUn",
        "colab": {
          "base_uri": "https://localhost:8080/"
        },
        "outputId": "72c6387a-fa5e-41ce-fd65-a788bcd58929"
      },
      "execution_count": null,
      "outputs": [
        {
          "output_type": "stream",
          "name": "stdout",
          "text": [
            "2 x 1 = 2 \n",
            "2 x 2 = 4 \n",
            "2 x 3 = 6 \n",
            "2 x 4 = 8 \n",
            "2 x 5 = 10 \n",
            "2 x 6 = 12 \n",
            "2 x 7 = 14 \n",
            "2 x 8 = 16 \n",
            "2 x 9 = 18 \n",
            "2 x 10 = 20 \n"
          ]
        }
      ]
    },
    {
      "cell_type": "code",
      "source": [
        "for i in range(1,6):\n",
        "  print(f\"{i}'s Table\")\n",
        "  for j in range(1,11):\n",
        "    print(f\"{i} x {j} = {i*j} \")\n",
        "  print()\n"
      ],
      "metadata": {
        "id": "Hq0VPxzIRbQF",
        "colab": {
          "base_uri": "https://localhost:8080/"
        },
        "outputId": "a2eb6ef4-bb83-492d-b2ae-a810bd796d7c"
      },
      "execution_count": null,
      "outputs": [
        {
          "output_type": "stream",
          "name": "stdout",
          "text": [
            "1's Table\n",
            "1 x 1 = 1 \n",
            "1 x 2 = 2 \n",
            "1 x 3 = 3 \n",
            "1 x 4 = 4 \n",
            "1 x 5 = 5 \n",
            "1 x 6 = 6 \n",
            "1 x 7 = 7 \n",
            "1 x 8 = 8 \n",
            "1 x 9 = 9 \n",
            "1 x 10 = 10 \n",
            "\n",
            "2's Table\n",
            "2 x 1 = 2 \n",
            "2 x 2 = 4 \n",
            "2 x 3 = 6 \n",
            "2 x 4 = 8 \n",
            "2 x 5 = 10 \n",
            "2 x 6 = 12 \n",
            "2 x 7 = 14 \n",
            "2 x 8 = 16 \n",
            "2 x 9 = 18 \n",
            "2 x 10 = 20 \n",
            "\n",
            "3's Table\n",
            "3 x 1 = 3 \n",
            "3 x 2 = 6 \n",
            "3 x 3 = 9 \n",
            "3 x 4 = 12 \n",
            "3 x 5 = 15 \n",
            "3 x 6 = 18 \n",
            "3 x 7 = 21 \n",
            "3 x 8 = 24 \n",
            "3 x 9 = 27 \n",
            "3 x 10 = 30 \n",
            "\n",
            "4's Table\n",
            "4 x 1 = 4 \n",
            "4 x 2 = 8 \n",
            "4 x 3 = 12 \n",
            "4 x 4 = 16 \n",
            "4 x 5 = 20 \n",
            "4 x 6 = 24 \n",
            "4 x 7 = 28 \n",
            "4 x 8 = 32 \n",
            "4 x 9 = 36 \n",
            "4 x 10 = 40 \n",
            "\n",
            "5's Table\n",
            "5 x 1 = 5 \n",
            "5 x 2 = 10 \n",
            "5 x 3 = 15 \n",
            "5 x 4 = 20 \n",
            "5 x 5 = 25 \n",
            "5 x 6 = 30 \n",
            "5 x 7 = 35 \n",
            "5 x 8 = 40 \n",
            "5 x 9 = 45 \n",
            "5 x 10 = 50 \n",
            "\n"
          ]
        }
      ]
    },
    {
      "cell_type": "markdown",
      "source": [
        "Inventory Management for a Clothing Store\n",
        "\n",
        "- We have a list of clothing categories and a list of sizes for each category.\n",
        "- We want to create a complete inventory list showing each item with its category and size.\n"
      ],
      "metadata": {
        "id": "f7_MZu_xDUEU"
      }
    },
    {
      "cell_type": "code",
      "source": [
        "items = [\"shirt\", \"pant\",\"Jacket\"]\n",
        "sizes = [ \"small\",\"medium\",\"large\"]\n",
        "\n",
        "for item in items:\n",
        "  for size in sizes:\n",
        "    print(f\"{item} is available in {size} size.\")"
      ],
      "metadata": {
        "id": "Z2ClswsiRhcR",
        "colab": {
          "base_uri": "https://localhost:8080/"
        },
        "outputId": "5d13e6b2-83a2-45b7-b14b-3019e137f10e"
      },
      "execution_count": null,
      "outputs": [
        {
          "output_type": "stream",
          "name": "stdout",
          "text": [
            "shirt is available in small size.\n",
            "shirt is available in medium size.\n",
            "shirt is available in large size.\n",
            "pant is available in small size.\n",
            "pant is available in medium size.\n",
            "pant is available in large size.\n",
            "Jacket is available in small size.\n",
            "Jacket is available in medium size.\n",
            "Jacket is available in large size.\n"
          ]
        }
      ]
    },
    {
      "cell_type": "code",
      "source": [
        "help(str.startswith)"
      ],
      "metadata": {
        "colab": {
          "base_uri": "https://localhost:8080/"
        },
        "id": "wZ-gk_Cmhr4D",
        "outputId": "22ca48fd-4b76-4b55-b4cb-521d5af4b00a"
      },
      "execution_count": null,
      "outputs": [
        {
          "output_type": "stream",
          "name": "stdout",
          "text": [
            "Help on method_descriptor:\n",
            "\n",
            "startswith(...) unbound builtins.str method\n",
            "    S.startswith(prefix[, start[, end]]) -> bool\n",
            "    \n",
            "    Return True if S starts with the specified prefix, False otherwise.\n",
            "    With optional start, test S beginning at that position.\n",
            "    With optional end, stop comparing S at that position.\n",
            "    prefix can also be a tuple of strings to try.\n",
            "\n"
          ]
        }
      ]
    },
    {
      "cell_type": "code",
      "source": [
        "help(str)"
      ],
      "metadata": {
        "id": "8Ty-AIzuRhYr",
        "colab": {
          "base_uri": "https://localhost:8080/"
        },
        "outputId": "9157ce75-d9fc-43ba-eb59-8475a0c0ed4c"
      },
      "execution_count": null,
      "outputs": [
        {
          "output_type": "stream",
          "name": "stdout",
          "text": [
            "Help on class str in module builtins:\n",
            "\n",
            "class str(object)\n",
            " |  str(object='') -> str\n",
            " |  str(bytes_or_buffer[, encoding[, errors]]) -> str\n",
            " |  \n",
            " |  Create a new string object from the given object. If encoding or\n",
            " |  errors is specified, then the object must expose a data buffer\n",
            " |  that will be decoded using the given encoding and error handler.\n",
            " |  Otherwise, returns the result of object.__str__() (if defined)\n",
            " |  or repr(object).\n",
            " |  encoding defaults to sys.getdefaultencoding().\n",
            " |  errors defaults to 'strict'.\n",
            " |  \n",
            " |  Methods defined here:\n",
            " |  \n",
            " |  __add__(self, value, /)\n",
            " |      Return self+value.\n",
            " |  \n",
            " |  __contains__(self, key, /)\n",
            " |      Return key in self.\n",
            " |  \n",
            " |  __eq__(self, value, /)\n",
            " |      Return self==value.\n",
            " |  \n",
            " |  __format__(self, format_spec, /)\n",
            " |      Return a formatted version of the string as described by format_spec.\n",
            " |  \n",
            " |  __ge__(self, value, /)\n",
            " |      Return self>=value.\n",
            " |  \n",
            " |  __getattribute__(self, name, /)\n",
            " |      Return getattr(self, name).\n",
            " |  \n",
            " |  __getitem__(self, key, /)\n",
            " |      Return self[key].\n",
            " |  \n",
            " |  __getnewargs__(...)\n",
            " |  \n",
            " |  __gt__(self, value, /)\n",
            " |      Return self>value.\n",
            " |  \n",
            " |  __hash__(self, /)\n",
            " |      Return hash(self).\n",
            " |  \n",
            " |  __iter__(self, /)\n",
            " |      Implement iter(self).\n",
            " |  \n",
            " |  __le__(self, value, /)\n",
            " |      Return self<=value.\n",
            " |  \n",
            " |  __len__(self, /)\n",
            " |      Return len(self).\n",
            " |  \n",
            " |  __lt__(self, value, /)\n",
            " |      Return self<value.\n",
            " |  \n",
            " |  __mod__(self, value, /)\n",
            " |      Return self%value.\n",
            " |  \n",
            " |  __mul__(self, value, /)\n",
            " |      Return self*value.\n",
            " |  \n",
            " |  __ne__(self, value, /)\n",
            " |      Return self!=value.\n",
            " |  \n",
            " |  __repr__(self, /)\n",
            " |      Return repr(self).\n",
            " |  \n",
            " |  __rmod__(self, value, /)\n",
            " |      Return value%self.\n",
            " |  \n",
            " |  __rmul__(self, value, /)\n",
            " |      Return value*self.\n",
            " |  \n",
            " |  __sizeof__(self, /)\n",
            " |      Return the size of the string in memory, in bytes.\n",
            " |  \n",
            " |  __str__(self, /)\n",
            " |      Return str(self).\n",
            " |  \n",
            " |  capitalize(self, /)\n",
            " |      Return a capitalized version of the string.\n",
            " |      \n",
            " |      More specifically, make the first character have upper case and the rest lower\n",
            " |      case.\n",
            " |  \n",
            " |  casefold(self, /)\n",
            " |      Return a version of the string suitable for caseless comparisons.\n",
            " |  \n",
            " |  center(self, width, fillchar=' ', /)\n",
            " |      Return a centered string of length width.\n",
            " |      \n",
            " |      Padding is done using the specified fill character (default is a space).\n",
            " |  \n",
            " |  count(...)\n",
            " |      S.count(sub[, start[, end]]) -> int\n",
            " |      \n",
            " |      Return the number of non-overlapping occurrences of substring sub in\n",
            " |      string S[start:end].  Optional arguments start and end are\n",
            " |      interpreted as in slice notation.\n",
            " |  \n",
            " |  encode(self, /, encoding='utf-8', errors='strict')\n",
            " |      Encode the string using the codec registered for encoding.\n",
            " |      \n",
            " |      encoding\n",
            " |        The encoding in which to encode the string.\n",
            " |      errors\n",
            " |        The error handling scheme to use for encoding errors.\n",
            " |        The default is 'strict' meaning that encoding errors raise a\n",
            " |        UnicodeEncodeError.  Other possible values are 'ignore', 'replace' and\n",
            " |        'xmlcharrefreplace' as well as any other name registered with\n",
            " |        codecs.register_error that can handle UnicodeEncodeErrors.\n",
            " |  \n",
            " |  endswith(...)\n",
            " |      S.endswith(suffix[, start[, end]]) -> bool\n",
            " |      \n",
            " |      Return True if S ends with the specified suffix, False otherwise.\n",
            " |      With optional start, test S beginning at that position.\n",
            " |      With optional end, stop comparing S at that position.\n",
            " |      suffix can also be a tuple of strings to try.\n",
            " |  \n",
            " |  expandtabs(self, /, tabsize=8)\n",
            " |      Return a copy where all tab characters are expanded using spaces.\n",
            " |      \n",
            " |      If tabsize is not given, a tab size of 8 characters is assumed.\n",
            " |  \n",
            " |  find(...)\n",
            " |      S.find(sub[, start[, end]]) -> int\n",
            " |      \n",
            " |      Return the lowest index in S where substring sub is found,\n",
            " |      such that sub is contained within S[start:end].  Optional\n",
            " |      arguments start and end are interpreted as in slice notation.\n",
            " |      \n",
            " |      Return -1 on failure.\n",
            " |  \n",
            " |  format(...)\n",
            " |      S.format(*args, **kwargs) -> str\n",
            " |      \n",
            " |      Return a formatted version of S, using substitutions from args and kwargs.\n",
            " |      The substitutions are identified by braces ('{' and '}').\n",
            " |  \n",
            " |  format_map(...)\n",
            " |      S.format_map(mapping) -> str\n",
            " |      \n",
            " |      Return a formatted version of S, using substitutions from mapping.\n",
            " |      The substitutions are identified by braces ('{' and '}').\n",
            " |  \n",
            " |  index(...)\n",
            " |      S.index(sub[, start[, end]]) -> int\n",
            " |      \n",
            " |      Return the lowest index in S where substring sub is found,\n",
            " |      such that sub is contained within S[start:end].  Optional\n",
            " |      arguments start and end are interpreted as in slice notation.\n",
            " |      \n",
            " |      Raises ValueError when the substring is not found.\n",
            " |  \n",
            " |  isalnum(self, /)\n",
            " |      Return True if the string is an alpha-numeric string, False otherwise.\n",
            " |      \n",
            " |      A string is alpha-numeric if all characters in the string are alpha-numeric and\n",
            " |      there is at least one character in the string.\n",
            " |  \n",
            " |  isalpha(self, /)\n",
            " |      Return True if the string is an alphabetic string, False otherwise.\n",
            " |      \n",
            " |      A string is alphabetic if all characters in the string are alphabetic and there\n",
            " |      is at least one character in the string.\n",
            " |  \n",
            " |  isascii(self, /)\n",
            " |      Return True if all characters in the string are ASCII, False otherwise.\n",
            " |      \n",
            " |      ASCII characters have code points in the range U+0000-U+007F.\n",
            " |      Empty string is ASCII too.\n",
            " |  \n",
            " |  isdecimal(self, /)\n",
            " |      Return True if the string is a decimal string, False otherwise.\n",
            " |      \n",
            " |      A string is a decimal string if all characters in the string are decimal and\n",
            " |      there is at least one character in the string.\n",
            " |  \n",
            " |  isdigit(self, /)\n",
            " |      Return True if the string is a digit string, False otherwise.\n",
            " |      \n",
            " |      A string is a digit string if all characters in the string are digits and there\n",
            " |      is at least one character in the string.\n",
            " |  \n",
            " |  isidentifier(self, /)\n",
            " |      Return True if the string is a valid Python identifier, False otherwise.\n",
            " |      \n",
            " |      Call keyword.iskeyword(s) to test whether string s is a reserved identifier,\n",
            " |      such as \"def\" or \"class\".\n",
            " |  \n",
            " |  islower(self, /)\n",
            " |      Return True if the string is a lowercase string, False otherwise.\n",
            " |      \n",
            " |      A string is lowercase if all cased characters in the string are lowercase and\n",
            " |      there is at least one cased character in the string.\n",
            " |  \n",
            " |  isnumeric(self, /)\n",
            " |      Return True if the string is a numeric string, False otherwise.\n",
            " |      \n",
            " |      A string is numeric if all characters in the string are numeric and there is at\n",
            " |      least one character in the string.\n",
            " |  \n",
            " |  isprintable(self, /)\n",
            " |      Return True if the string is printable, False otherwise.\n",
            " |      \n",
            " |      A string is printable if all of its characters are considered printable in\n",
            " |      repr() or if it is empty.\n",
            " |  \n",
            " |  isspace(self, /)\n",
            " |      Return True if the string is a whitespace string, False otherwise.\n",
            " |      \n",
            " |      A string is whitespace if all characters in the string are whitespace and there\n",
            " |      is at least one character in the string.\n",
            " |  \n",
            " |  istitle(self, /)\n",
            " |      Return True if the string is a title-cased string, False otherwise.\n",
            " |      \n",
            " |      In a title-cased string, upper- and title-case characters may only\n",
            " |      follow uncased characters and lowercase characters only cased ones.\n",
            " |  \n",
            " |  isupper(self, /)\n",
            " |      Return True if the string is an uppercase string, False otherwise.\n",
            " |      \n",
            " |      A string is uppercase if all cased characters in the string are uppercase and\n",
            " |      there is at least one cased character in the string.\n",
            " |  \n",
            " |  join(self, iterable, /)\n",
            " |      Concatenate any number of strings.\n",
            " |      \n",
            " |      The string whose method is called is inserted in between each given string.\n",
            " |      The result is returned as a new string.\n",
            " |      \n",
            " |      Example: '.'.join(['ab', 'pq', 'rs']) -> 'ab.pq.rs'\n",
            " |  \n",
            " |  ljust(self, width, fillchar=' ', /)\n",
            " |      Return a left-justified string of length width.\n",
            " |      \n",
            " |      Padding is done using the specified fill character (default is a space).\n",
            " |  \n",
            " |  lower(self, /)\n",
            " |      Return a copy of the string converted to lowercase.\n",
            " |  \n",
            " |  lstrip(self, chars=None, /)\n",
            " |      Return a copy of the string with leading whitespace removed.\n",
            " |      \n",
            " |      If chars is given and not None, remove characters in chars instead.\n",
            " |  \n",
            " |  partition(self, sep, /)\n",
            " |      Partition the string into three parts using the given separator.\n",
            " |      \n",
            " |      This will search for the separator in the string.  If the separator is found,\n",
            " |      returns a 3-tuple containing the part before the separator, the separator\n",
            " |      itself, and the part after it.\n",
            " |      \n",
            " |      If the separator is not found, returns a 3-tuple containing the original string\n",
            " |      and two empty strings.\n",
            " |  \n",
            " |  removeprefix(self, prefix, /)\n",
            " |      Return a str with the given prefix string removed if present.\n",
            " |      \n",
            " |      If the string starts with the prefix string, return string[len(prefix):].\n",
            " |      Otherwise, return a copy of the original string.\n",
            " |  \n",
            " |  removesuffix(self, suffix, /)\n",
            " |      Return a str with the given suffix string removed if present.\n",
            " |      \n",
            " |      If the string ends with the suffix string and that suffix is not empty,\n",
            " |      return string[:-len(suffix)]. Otherwise, return a copy of the original\n",
            " |      string.\n",
            " |  \n",
            " |  replace(self, old, new, count=-1, /)\n",
            " |      Return a copy with all occurrences of substring old replaced by new.\n",
            " |      \n",
            " |        count\n",
            " |          Maximum number of occurrences to replace.\n",
            " |          -1 (the default value) means replace all occurrences.\n",
            " |      \n",
            " |      If the optional argument count is given, only the first count occurrences are\n",
            " |      replaced.\n",
            " |  \n",
            " |  rfind(...)\n",
            " |      S.rfind(sub[, start[, end]]) -> int\n",
            " |      \n",
            " |      Return the highest index in S where substring sub is found,\n",
            " |      such that sub is contained within S[start:end].  Optional\n",
            " |      arguments start and end are interpreted as in slice notation.\n",
            " |      \n",
            " |      Return -1 on failure.\n",
            " |  \n",
            " |  rindex(...)\n",
            " |      S.rindex(sub[, start[, end]]) -> int\n",
            " |      \n",
            " |      Return the highest index in S where substring sub is found,\n",
            " |      such that sub is contained within S[start:end].  Optional\n",
            " |      arguments start and end are interpreted as in slice notation.\n",
            " |      \n",
            " |      Raises ValueError when the substring is not found.\n",
            " |  \n",
            " |  rjust(self, width, fillchar=' ', /)\n",
            " |      Return a right-justified string of length width.\n",
            " |      \n",
            " |      Padding is done using the specified fill character (default is a space).\n",
            " |  \n",
            " |  rpartition(self, sep, /)\n",
            " |      Partition the string into three parts using the given separator.\n",
            " |      \n",
            " |      This will search for the separator in the string, starting at the end. If\n",
            " |      the separator is found, returns a 3-tuple containing the part before the\n",
            " |      separator, the separator itself, and the part after it.\n",
            " |      \n",
            " |      If the separator is not found, returns a 3-tuple containing two empty strings\n",
            " |      and the original string.\n",
            " |  \n",
            " |  rsplit(self, /, sep=None, maxsplit=-1)\n",
            " |      Return a list of the substrings in the string, using sep as the separator string.\n",
            " |      \n",
            " |        sep\n",
            " |          The separator used to split the string.\n",
            " |      \n",
            " |          When set to None (the default value), will split on any whitespace\n",
            " |          character (including \\n \\r \\t \\f and spaces) and will discard\n",
            " |          empty strings from the result.\n",
            " |        maxsplit\n",
            " |          Maximum number of splits.\n",
            " |          -1 (the default value) means no limit.\n",
            " |      \n",
            " |      Splitting starts at the end of the string and works to the front.\n",
            " |  \n",
            " |  rstrip(self, chars=None, /)\n",
            " |      Return a copy of the string with trailing whitespace removed.\n",
            " |      \n",
            " |      If chars is given and not None, remove characters in chars instead.\n",
            " |  \n",
            " |  split(self, /, sep=None, maxsplit=-1)\n",
            " |      Return a list of the substrings in the string, using sep as the separator string.\n",
            " |      \n",
            " |        sep\n",
            " |          The separator used to split the string.\n",
            " |      \n",
            " |          When set to None (the default value), will split on any whitespace\n",
            " |          character (including \\n \\r \\t \\f and spaces) and will discard\n",
            " |          empty strings from the result.\n",
            " |        maxsplit\n",
            " |          Maximum number of splits.\n",
            " |          -1 (the default value) means no limit.\n",
            " |      \n",
            " |      Splitting starts at the front of the string and works to the end.\n",
            " |      \n",
            " |      Note, str.split() is mainly useful for data that has been intentionally\n",
            " |      delimited.  With natural text that includes punctuation, consider using\n",
            " |      the regular expression module.\n",
            " |  \n",
            " |  splitlines(self, /, keepends=False)\n",
            " |      Return a list of the lines in the string, breaking at line boundaries.\n",
            " |      \n",
            " |      Line breaks are not included in the resulting list unless keepends is given and\n",
            " |      true.\n",
            " |  \n",
            " |  startswith(...)\n",
            " |      S.startswith(prefix[, start[, end]]) -> bool\n",
            " |      \n",
            " |      Return True if S starts with the specified prefix, False otherwise.\n",
            " |      With optional start, test S beginning at that position.\n",
            " |      With optional end, stop comparing S at that position.\n",
            " |      prefix can also be a tuple of strings to try.\n",
            " |  \n",
            " |  strip(self, chars=None, /)\n",
            " |      Return a copy of the string with leading and trailing whitespace removed.\n",
            " |      \n",
            " |      If chars is given and not None, remove characters in chars instead.\n",
            " |  \n",
            " |  swapcase(self, /)\n",
            " |      Convert uppercase characters to lowercase and lowercase characters to uppercase.\n",
            " |  \n",
            " |  title(self, /)\n",
            " |      Return a version of the string where each word is titlecased.\n",
            " |      \n",
            " |      More specifically, words start with uppercased characters and all remaining\n",
            " |      cased characters have lower case.\n",
            " |  \n",
            " |  translate(self, table, /)\n",
            " |      Replace each character in the string using the given translation table.\n",
            " |      \n",
            " |        table\n",
            " |          Translation table, which must be a mapping of Unicode ordinals to\n",
            " |          Unicode ordinals, strings, or None.\n",
            " |      \n",
            " |      The table must implement lookup/indexing via __getitem__, for instance a\n",
            " |      dictionary or list.  If this operation raises LookupError, the character is\n",
            " |      left untouched.  Characters mapped to None are deleted.\n",
            " |  \n",
            " |  upper(self, /)\n",
            " |      Return a copy of the string converted to uppercase.\n",
            " |  \n",
            " |  zfill(self, width, /)\n",
            " |      Pad a numeric string with zeros on the left, to fill a field of the given width.\n",
            " |      \n",
            " |      The string is never truncated.\n",
            " |  \n",
            " |  ----------------------------------------------------------------------\n",
            " |  Static methods defined here:\n",
            " |  \n",
            " |  __new__(*args, **kwargs)\n",
            " |      Create and return a new object.  See help(type) for accurate signature.\n",
            " |  \n",
            " |  maketrans(...)\n",
            " |      Return a translation table usable for str.translate().\n",
            " |      \n",
            " |      If there is only one argument, it must be a dictionary mapping Unicode\n",
            " |      ordinals (integers) or characters to Unicode ordinals, strings or None.\n",
            " |      Character keys will be then converted to ordinals.\n",
            " |      If there are two arguments, they must be strings of equal length, and\n",
            " |      in the resulting dictionary, each character in x will be mapped to the\n",
            " |      character at the same position in y. If there is a third argument, it\n",
            " |      must be a string, whose characters will be mapped to None in the result.\n",
            "\n"
          ]
        }
      ]
    },
    {
      "cell_type": "markdown",
      "source": [
        "### For Loop - else"
      ],
      "metadata": {
        "id": "27vOE9d0FQi7"
      }
    },
    {
      "cell_type": "markdown",
      "source": [
        "You are a security officer checking if a list of visitors has any blacklisted individuals. If no blacklisted visitor is found, you want to print a message that all visitors are safe.\n",
        "\n",
        "**Question:** Given the list visitors = [\"Jawad\", \"Danial\", \"Aliyan\",\"Usman\"] and the blacklist blacklist = [\"Bilal\", \"Danish\"], write a for loop to check if any visitor is blacklisted. If none are found, print a message saying, \"All visitors are cleared.\""
      ],
      "metadata": {
        "id": "Z-PiHt4SFO7d"
      }
    },
    {
      "cell_type": "code",
      "source": [
        "visitors = [\"Jawad\", \"Danial\", \"Aliyan\",\"Danish\",\"Usman\"]\n",
        "blacklist = [\"Bilal\", \"Danish\"]\n",
        "\n",
        "for visitor in visitors:\n",
        "  if visitor in blacklist:\n",
        "    print(f\"Visitor {visitor} is in blacklist\")\n",
        "    break\n",
        "\n",
        "else:\n",
        "  print(\"All visitors are cleared.\")"
      ],
      "metadata": {
        "id": "RtsHhMX5RiSt",
        "colab": {
          "base_uri": "https://localhost:8080/"
        },
        "outputId": "563dbb30-0fd7-40ef-b982-f42ff59fc6ca"
      },
      "execution_count": null,
      "outputs": [
        {
          "output_type": "stream",
          "name": "stdout",
          "text": [
            "Visitor Danish is in blacklist\n"
          ]
        }
      ]
    },
    {
      "cell_type": "code",
      "source": [
        "visitors = [\"Jawad\", \"Danial\", \"Aliyan\",\"Usman\"]\n",
        "blacklist = [\"Bilal\", \"Danish\"]\n",
        "\n",
        "for visitor in visitors:\n",
        "  if visitor in blacklist:\n",
        "    print(f\"Visitor {visitor} is in blacklist\")\n",
        "    break\n",
        "\n",
        "else:\n",
        "  print(\"All visitors are cleared.\")"
      ],
      "metadata": {
        "colab": {
          "base_uri": "https://localhost:8080/"
        },
        "id": "d27XzXSngKg6",
        "outputId": "6108d0d6-f8c4-4552-d32f-57d6336e533c"
      },
      "execution_count": null,
      "outputs": [
        {
          "output_type": "stream",
          "name": "stdout",
          "text": [
            "All visitors are cleared.\n"
          ]
        }
      ]
    },
    {
      "cell_type": "code",
      "source": [],
      "metadata": {
        "id": "Hd_8qeZ0gKZn"
      },
      "execution_count": null,
      "outputs": []
    },
    {
      "cell_type": "code",
      "source": [
        "for i in range(0,5):\n",
        "  print(i)\n",
        "  if i==9:\n",
        "    break\n",
        "\n",
        "else:\n",
        "  print(\"hello\")\n",
        "  print(\"The end!\")\n"
      ],
      "metadata": {
        "id": "pIUCsHL0RiPA",
        "colab": {
          "base_uri": "https://localhost:8080/"
        },
        "outputId": "079e7b97-a87a-450a-9cac-306ee0b699fc"
      },
      "execution_count": null,
      "outputs": [
        {
          "output_type": "stream",
          "name": "stdout",
          "text": [
            "0\n",
            "1\n",
            "2\n",
            "3\n",
            "4\n",
            "hello\n",
            "The end!\n"
          ]
        }
      ]
    },
    {
      "cell_type": "code",
      "source": [],
      "metadata": {
        "id": "5nDIvOFKguuo"
      },
      "execution_count": null,
      "outputs": []
    },
    {
      "cell_type": "code",
      "source": [
        "# Another Example\n",
        "# Find book in the list, if found, return else print(\"Not found in the list\")\n",
        "library = [\"Data Science\", \"Machine Learning\", \"Python Programming\", \"Artificial Intelligence\"]\n",
        "\n",
        "for book in library:\n",
        "  if book == \"Atomic Habits\":\n",
        "    print(\"I found this book\",book)\n",
        "    break\n",
        "\n",
        "else:\n",
        "  print(\"Not found in the library\")\n",
        "\n"
      ],
      "metadata": {
        "colab": {
          "base_uri": "https://localhost:8080/"
        },
        "id": "Ao04y4WmgunS",
        "outputId": "8c180ff7-5616-493c-860e-503c303232f8"
      },
      "execution_count": null,
      "outputs": [
        {
          "output_type": "stream",
          "name": "stdout",
          "text": [
            "Not found in the library\n"
          ]
        }
      ]
    },
    {
      "cell_type": "code",
      "source": [
        "# Another Example\n",
        "# Find book in the list, if found, return else print(\"Not found in the list\")\n",
        "library = [\"Data Science\", \"Machine Learning\", \"Python Programming\", \"Artificial Intelligence\"]\n",
        "\n",
        "for book in library:\n",
        "  if book == \"Python Programming\":\n",
        "    print(\"I found this book\",book)\n",
        "    break\n",
        "\n",
        "else:\n",
        "  print(\"Not found in the library\")\n",
        "\n",
        "\n",
        "# It will return \"found this book\" and as loop interrupted (not completed fully) so Else will not run"
      ],
      "metadata": {
        "id": "5H5qTizCRk9L",
        "colab": {
          "base_uri": "https://localhost:8080/"
        },
        "outputId": "d3e86b19-1e3b-4db9-b687-8ad7585c23a6"
      },
      "execution_count": null,
      "outputs": [
        {
          "output_type": "stream",
          "name": "stdout",
          "text": [
            "I found this book Python Programming\n"
          ]
        }
      ]
    },
    {
      "cell_type": "code",
      "source": [],
      "metadata": {
        "id": "4EH3y00nRk5i"
      },
      "execution_count": null,
      "outputs": []
    },
    {
      "cell_type": "markdown",
      "source": [
        "# **Task**"
      ],
      "metadata": {
        "id": "21fBybLfk8C4"
      }
    },
    {
      "cell_type": "markdown",
      "source": [
        "### **1. Send Invitation to Friends**\n",
        "\n",
        "You have a list of 5 friends. Use a loop to print an invitation message to each.\n",
        "\n",
        "friends = [\"Ali\", \"Sara\", \"Hassan\", \"Ayesha\", \"Zain\"]\n",
        "\n",
        "```\n",
        "Sample Output:\n",
        "\n",
        "Hey, Ali! I hope you are well. Ali, you're warmly invited to celebrate my birthday.\n",
        "\n",
        "```\n",
        "\n",
        "\n"
      ],
      "metadata": {
        "id": "_LhyCdCXlhEd"
      }
    },
    {
      "cell_type": "code",
      "source": [],
      "metadata": {
        "id": "_FmSIGy0mbCr"
      },
      "execution_count": null,
      "outputs": []
    },
    {
      "cell_type": "markdown",
      "source": [
        "\n",
        "### **2. Check Who Can Vote**\n",
        "\n",
        "Given a list of ages, print \"Eligible to vote\" for ages 18 or above.\n",
        "\n",
        "```\n",
        "Sample Output:\n",
        "\n",
        "Not eligible\n",
        "Eligible\n",
        "Not eligible\n",
        "Eligible\n",
        "```\n"
      ],
      "metadata": {
        "id": "z9wwheMrmbkK"
      }
    },
    {
      "cell_type": "code",
      "source": [
        "ages = [15, 22, 17, 30]\n",
        "\n"
      ],
      "metadata": {
        "id": "DuprTfgZmb4Y"
      },
      "execution_count": null,
      "outputs": []
    },
    {
      "cell_type": "markdown",
      "source": [
        "\n",
        "---\n",
        "\n",
        "### **3. First Item Out of Stock**\n",
        "\n",
        "Go through a list of items in a store. If you find `\"out of stock\"`, stop checking`.\n",
        "\n",
        "```\n",
        "Sample Output:\n",
        "\n",
        "Checking: Milk\n",
        "Checking: Bread\n",
        "Checking: Eggs\n",
        "Checking: Out of stock\n",
        "Item not available. Stopping...\n",
        "```\n"
      ],
      "metadata": {
        "id": "QH6sXCkimcGi"
      }
    },
    {
      "cell_type": "code",
      "source": [
        "items = [\"Milk\", \"Bread\", \"Eggs\", \"Out of stock\", \"Butter\", \"Juice\"]\n"
      ],
      "metadata": {
        "id": "dl1Sq1ikmcf0"
      },
      "execution_count": null,
      "outputs": []
    },
    {
      "cell_type": "markdown",
      "source": [
        "### **4. Skip Weekends**\n",
        "\n",
        "You want to print “Working day” for weekdays only. Skip \"Saturday\" and \"Sunday\".\n",
        "\n",
        "```\n",
        "# Sample Output:\n",
        "# Monday is a working day.\n",
        "# Tuesday is a working day.\n",
        "# Wednesday is a working day.\n",
        "```\n"
      ],
      "metadata": {
        "id": "OgJQv-GrmdAy"
      }
    },
    {
      "cell_type": "code",
      "source": [
        "days = [\"Monday\", \"Tuesday\", \"Saturday\", \"Sunday\", \"Wednesday\"]\n",
        "\n"
      ],
      "metadata": {
        "id": "D6-Al0MWmkOI"
      },
      "execution_count": null,
      "outputs": []
    },
    {
      "cell_type": "markdown",
      "source": [
        "### **5. Placeholder for Future Code**\n",
        "\n",
        "\n",
        "You’re building an app. You want to skip code for `\"Settings\"` for now.\n",
        "\n",
        "```\n",
        "# Sample Output:\n",
        "# Opening Home\n",
        "# Opening Profile\n",
        "# Opening Logout\n",
        "```\n",
        "\n",
        "\n"
      ],
      "metadata": {
        "id": "HTf638b3mlEo"
      }
    },
    {
      "cell_type": "code",
      "source": [
        "menu = [\"Home\", \"Profile\", \"Settings\", \"Logout\"]"
      ],
      "metadata": {
        "id": "Cdrj2X8tmmWF"
      },
      "execution_count": null,
      "outputs": []
    },
    {
      "cell_type": "markdown",
      "source": [
        "\n",
        "### **6. Restaurant Table Bookings**\n",
        "\n",
        "Print all table bookings for 2 days (Monday and Tuesday), with 3 tables each.\n",
        "\n",
        "```\n",
        "# Sample Output:\n",
        "# Monday - Table 1 booked\n",
        "# Monday - Table 2 booked\n",
        "# ...\n",
        "```\n"
      ],
      "metadata": {
        "id": "Tc0WSPN1nZPI"
      }
    },
    {
      "cell_type": "code",
      "source": [
        "days = [\"Monday\", \"Tuesday\"]\n",
        "tables = [1, 2, 3]\n",
        "\n"
      ],
      "metadata": {
        "id": "8OtIunq9nY_R"
      },
      "execution_count": null,
      "outputs": []
    },
    {
      "cell_type": "markdown",
      "source": [
        "### **7. Check Name in Guest List**\n",
        "\n",
        "Check if your friend \"Mona\" is in the guest list. If found, print \"Mona is coming\". Otherwise, \"Mona is not invited\".\n",
        "\n",
        "```\n",
        "# Sample Output:\n",
        "# Mona is not invited\n",
        "```\n"
      ],
      "metadata": {
        "id": "fvMZktLsmmsb"
      }
    },
    {
      "cell_type": "code",
      "source": [
        "guests = [\"Ali\", \"Sara\", \"Hassan\"]\n"
      ],
      "metadata": {
        "id": "Fafq-egZmnen"
      },
      "execution_count": null,
      "outputs": []
    },
    {
      "cell_type": "markdown",
      "source": [
        "**RM Notes**"
      ],
      "metadata": {
        "id": "C1zYrWlxiOJC"
      }
    },
    {
      "cell_type": "code",
      "source": [
        "names = ['Raheela', 'Asma', 'Jamal', 'Hassan']\n",
        "\n",
        "for name in names:\n",
        "  print(f'Hello {name}')"
      ],
      "metadata": {
        "id": "Z-a-ki5BiSZF",
        "outputId": "4a18d631-c659-4f24-dd4f-42474261383e",
        "colab": {
          "base_uri": "https://localhost:8080/"
        }
      },
      "execution_count": 1,
      "outputs": [
        {
          "output_type": "stream",
          "name": "stdout",
          "text": [
            "Hello Raheela\n",
            "Hello Asma\n",
            "Hello Jamal\n",
            "Hello Hassan\n"
          ]
        }
      ]
    },
    {
      "cell_type": "markdown",
      "source": [
        "###  **range(start, stop(not included), step)**"
      ],
      "metadata": {
        "id": "E8e4ryC1loHx"
      }
    },
    {
      "cell_type": "code",
      "source": [
        "for i in range(1,10,2):\n",
        "  print(i)\n"
      ],
      "metadata": {
        "id": "E9kk4aK9kAse",
        "outputId": "1f051fdd-34f2-4462-e7e9-b1272e077f99",
        "colab": {
          "base_uri": "https://localhost:8080/"
        }
      },
      "execution_count": 9,
      "outputs": [
        {
          "output_type": "stream",
          "name": "stdout",
          "text": [
            "1\n",
            "3\n",
            "5\n",
            "7\n",
            "9\n"
          ]
        }
      ]
    },
    {
      "cell_type": "code",
      "source": [
        "for i in range(0, 10, 2):\n",
        "    print(i, end=\" \")\n",
        "print()"
      ],
      "metadata": {
        "id": "t3n9ZTO1mNLX",
        "outputId": "ffd6a794-8ccf-4a89-dac9-a394778f8f36",
        "colab": {
          "base_uri": "https://localhost:8080/"
        }
      },
      "execution_count": 13,
      "outputs": [
        {
          "output_type": "stream",
          "name": "stdout",
          "text": [
            "0 2 4 6 8 \n"
          ]
        }
      ]
    },
    {
      "cell_type": "code",
      "source": [
        "\n",
        "names = ['Raheela', 'Asma', 'Jamal', 'Hassan']\n",
        "\n",
        "for name in range(len(names)):\n",
        "  print(f'Hello {names[name]} !')"
      ],
      "metadata": {
        "id": "8ipiw9vZi2R6",
        "outputId": "c2a2a1b1-3ad4-4080-fc5e-5248e6742a80",
        "colab": {
          "base_uri": "https://localhost:8080/"
        }
      },
      "execution_count": 22,
      "outputs": [
        {
          "output_type": "stream",
          "name": "stdout",
          "text": [
            "Hello Raheela !\n",
            "Hello Asma !\n",
            "Hello Jamal !\n",
            "Hello Hassan !\n"
          ]
        }
      ]
    },
    {
      "cell_type": "code",
      "source": [
        "names = ['Raheela', 'Asma', 'Jamal', 'Hassan',\"Ali\", \"Sara\"]\n",
        "\n",
        "for name in range(1,len(names)):\n",
        "  print(name, \"Hello\", names[name],\"!\")"
      ],
      "metadata": {
        "id": "XcEhx5Zbmk0F",
        "outputId": "b439c151-f807-4963-a2e8-6661b6b6a62f",
        "colab": {
          "base_uri": "https://localhost:8080/"
        }
      },
      "execution_count": 33,
      "outputs": [
        {
          "output_type": "stream",
          "name": "stdout",
          "text": [
            "1 Hello Asma !\n",
            "2 Hello Jamal !\n",
            "3 Hello Hassan !\n",
            "4 Hello Ali !\n",
            "5 Hello Sara !\n"
          ]
        }
      ]
    },
    {
      "cell_type": "markdown",
      "source": [],
      "metadata": {
        "id": "3_j0kJRYn1QF"
      }
    }
  ]
}