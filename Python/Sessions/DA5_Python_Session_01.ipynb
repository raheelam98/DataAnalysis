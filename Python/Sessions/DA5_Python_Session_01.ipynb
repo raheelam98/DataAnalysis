{
  "cells": [
    {
      "cell_type": "markdown",
      "metadata": {
        "id": "view-in-github",
        "colab_type": "text"
      },
      "source": [
        "<a href=\"https://colab.research.google.com/github/raheelam98/DataAnalysis/blob/main/Python/Sessions/DA5_Python_Session_01.ipynb\" target=\"_parent\"><img src=\"https://colab.research.google.com/assets/colab-badge.svg\" alt=\"Open In Colab\"/></a>"
      ]
    },
    {
      "cell_type": "markdown",
      "id": "137604e8",
      "metadata": {
        "id": "137604e8"
      },
      "source": [
        "# **Python**\n",
        "\n",
        "- Python is a programming language.\n",
        "- It's famous for Data tasks/jobs.\n",
        "- This is a versatile language. We can use it for games, app or  web developmenet, data analysis, mahcine learning, deep learning or AI, or automation.\n",
        "- It's user friendly\n",
        "- It's syntax is similar to natural English language.\n"
      ]
    },
    {
      "cell_type": "markdown",
      "id": "a236542e",
      "metadata": {
        "id": "a236542e"
      },
      "source": [
        "#### Basic Concepts"
      ]
    },
    {
      "cell_type": "markdown",
      "id": "cd2c8fb8",
      "metadata": {
        "id": "cd2c8fb8"
      },
      "source": [
        "**Print or Display Text**"
      ]
    },
    {
      "cell_type": "code",
      "source": [
        "print(\"Hello World!\")"
      ],
      "metadata": {
        "colab": {
          "base_uri": "https://localhost:8080/"
        },
        "id": "YX5YcoE0U5Et",
        "outputId": "dcccf0c3-6f4d-45ff-9a64-c977b50dc077"
      },
      "id": "YX5YcoE0U5Et",
      "execution_count": null,
      "outputs": [
        {
          "output_type": "stream",
          "name": "stdout",
          "text": [
            "Hello World!\n"
          ]
        }
      ]
    },
    {
      "cell_type": "code",
      "source": [
        "print(\"Welcome to DA5!!!\")"
      ],
      "metadata": {
        "id": "vjprKIMU4AWS",
        "colab": {
          "base_uri": "https://localhost:8080/"
        },
        "outputId": "6d7f57aa-37e8-44ef-83df-5d87455b986f"
      },
      "id": "vjprKIMU4AWS",
      "execution_count": null,
      "outputs": [
        {
          "output_type": "stream",
          "name": "stdout",
          "text": [
            "Welcome to DA5!!!\n"
          ]
        }
      ]
    },
    {
      "cell_type": "code",
      "source": [
        "print(4+5)"
      ],
      "metadata": {
        "colab": {
          "base_uri": "https://localhost:8080/"
        },
        "id": "45Cy7Vf1Uquf",
        "outputId": "3d7a10e6-c8f1-4dab-ea79-159ee681380d"
      },
      "id": "45Cy7Vf1Uquf",
      "execution_count": null,
      "outputs": [
        {
          "output_type": "stream",
          "name": "stdout",
          "text": [
            "9\n"
          ]
        }
      ]
    },
    {
      "cell_type": "code",
      "source": [
        "print(\"Welcome to DA5\")\n",
        "print(\"Hello Universe\")"
      ],
      "metadata": {
        "colab": {
          "base_uri": "https://localhost:8080/"
        },
        "id": "cwnPZ4hfVC6J",
        "outputId": "d49e3ede-f0e1-4e59-a553-cd7cb585ee0d"
      },
      "id": "cwnPZ4hfVC6J",
      "execution_count": null,
      "outputs": [
        {
          "output_type": "stream",
          "name": "stdout",
          "text": [
            "Welcome to DA5\n",
            "Hello Universe\n"
          ]
        }
      ]
    },
    {
      "cell_type": "markdown",
      "id": "10ebbaf0",
      "metadata": {
        "id": "10ebbaf0"
      },
      "source": [
        "## Variables\n",
        "\n",
        "- Variables are like container to store anything."
      ]
    },
    {
      "cell_type": "code",
      "source": [
        "Full_Name = \"maimoona Khilji\""
      ],
      "metadata": {
        "id": "uD6FbEL64InI"
      },
      "id": "uD6FbEL64InI",
      "execution_count": null,
      "outputs": []
    },
    {
      "cell_type": "code",
      "source": [
        "Full_Name  #python is case sensitive"
      ],
      "metadata": {
        "id": "Nhedm8Y15w_a",
        "colab": {
          "base_uri": "https://localhost:8080/",
          "height": 35
        },
        "outputId": "50ab36d9-6f68-4d01-8433-57202825193e"
      },
      "id": "Nhedm8Y15w_a",
      "execution_count": null,
      "outputs": [
        {
          "output_type": "execute_result",
          "data": {
            "text/plain": [
              "'maimoona Khilji'"
            ],
            "application/vnd.google.colaboratory.intrinsic+json": {
              "type": "string"
            }
          },
          "metadata": {},
          "execution_count": 16
        }
      ]
    },
    {
      "cell_type": "markdown",
      "source": [
        "To Run the cell:\n",
        "\n",
        "- Cntrl + Enter\n",
        "- Shift + Enter"
      ],
      "metadata": {
        "id": "60YX3qEQWnWx"
      },
      "id": "60YX3qEQWnWx"
    },
    {
      "cell_type": "code",
      "source": [
        "1+2"
      ],
      "metadata": {
        "id": "vVc8HOKY4Ig7",
        "colab": {
          "base_uri": "https://localhost:8080/"
        },
        "outputId": "10ea2b81-582c-4b4e-90a6-f51496a9a149"
      },
      "id": "vVc8HOKY4Ig7",
      "execution_count": null,
      "outputs": [
        {
          "output_type": "execute_result",
          "data": {
            "text/plain": [
              "3"
            ]
          },
          "metadata": {},
          "execution_count": 18
        }
      ]
    },
    {
      "cell_type": "code",
      "source": [
        "Total_Sales = 800"
      ],
      "metadata": {
        "id": "PpO64-tUWCce"
      },
      "id": "PpO64-tUWCce",
      "execution_count": null,
      "outputs": []
    },
    {
      "cell_type": "code",
      "source": [
        "#1Total_Sales = 800\n",
        "Total_sales9868  = 800"
      ],
      "metadata": {
        "id": "z4c7GBr_WCXS"
      },
      "id": "z4c7GBr_WCXS",
      "execution_count": null,
      "outputs": []
    },
    {
      "cell_type": "code",
      "source": [
        "Fullname@** = \"a\""
      ],
      "metadata": {
        "colab": {
          "base_uri": "https://localhost:8080/",
          "height": 106
        },
        "id": "v0eVpMFPXHEe",
        "outputId": "f7c1a1a6-297a-458b-9571-ddb877e34c1e"
      },
      "id": "v0eVpMFPXHEe",
      "execution_count": null,
      "outputs": [
        {
          "output_type": "error",
          "ename": "SyntaxError",
          "evalue": "invalid syntax (<ipython-input-24-de8c9177ba64>, line 1)",
          "traceback": [
            "\u001b[0;36m  File \u001b[0;32m\"<ipython-input-24-de8c9177ba64>\"\u001b[0;36m, line \u001b[0;32m1\u001b[0m\n\u001b[0;31m    Fullname@ = \"a\"\u001b[0m\n\u001b[0m              ^\u001b[0m\n\u001b[0;31mSyntaxError\u001b[0m\u001b[0;31m:\u001b[0m invalid syntax\n"
          ]
        }
      ]
    },
    {
      "cell_type": "markdown",
      "source": [
        "Variable name rules\n",
        "\n",
        "- Use underscore in between the words\n",
        "- avoid using extra characters\n",
        "- never start variable name with numerical digits\n",
        "- you can't add space between the words"
      ],
      "metadata": {
        "id": "fYOkj7wwXR9k"
      },
      "id": "fYOkj7wwXR9k"
    },
    {
      "cell_type": "code",
      "source": [
        "#Total sales\n",
        "#$**Total_Sales@.\n",
        "#124Fullname"
      ],
      "metadata": {
        "id": "-QqueBCLXG_l"
      },
      "id": "-QqueBCLXG_l",
      "execution_count": null,
      "outputs": []
    },
    {
      "cell_type": "code",
      "source": [
        "sales = 800"
      ],
      "metadata": {
        "id": "2rvsX3wXXG59"
      },
      "id": "2rvsX3wXXG59",
      "execution_count": null,
      "outputs": []
    },
    {
      "cell_type": "code",
      "source": [
        "full_name =\"maimoona\""
      ],
      "metadata": {
        "id": "3-d5T0jaWCSq"
      },
      "id": "3-d5T0jaWCSq",
      "execution_count": null,
      "outputs": []
    },
    {
      "cell_type": "markdown",
      "id": "681a4a46",
      "metadata": {
        "id": "681a4a46"
      },
      "source": [
        "### Data Types\n",
        "\n"
      ]
    },
    {
      "cell_type": "markdown",
      "source": [
        "- representation of type of information we have in our variable\n",
        "\n",
        "Types:\n",
        "- Numerical ( int, float)\n",
        "- text ( str)\n",
        "- boolean (True or False)\n",
        "\n",
        "- Sequence Data types (list, String, tuples)\n",
        "- Unordered ( Dictionary and Set)\n",
        "\n"
      ],
      "metadata": {
        "id": "0aBoTvhSYM9V"
      },
      "id": "0aBoTvhSYM9V"
    },
    {
      "cell_type": "code",
      "source": [
        "data = 'Hello My name is Maimoona'\n",
        "print(data)\n",
        "print(type(data)) #str=> string\n",
        "\n",
        "\n",
        "\n",
        "data = \"Hello My name is Fatima\"\n",
        "print(data)\n",
        "print(type(data)) #str=> string\n",
        "\n",
        "\n",
        "data = '''Heyyyyyy\n",
        "I am maimoona.\n",
        "I teach Python.'''\n",
        "print(data)\n",
        "print(type(data)) #str=> string"
      ],
      "metadata": {
        "colab": {
          "base_uri": "https://localhost:8080/"
        },
        "id": "MBLd7BjsYtEw",
        "outputId": "9375b8f3-9eaf-4203-b055-54510e19ad84"
      },
      "id": "MBLd7BjsYtEw",
      "execution_count": null,
      "outputs": [
        {
          "output_type": "stream",
          "name": "stdout",
          "text": [
            "Hello My name is Maimoona\n",
            "<class 'str'>\n",
            "Hello My name is Fatima\n",
            "<class 'str'>\n",
            "Heyyyyyy \n",
            "I am maimoona.\n",
            "I teach Python.\n",
            "<class 'str'>\n"
          ]
        }
      ]
    },
    {
      "cell_type": "code",
      "source": [
        "print(type(data))"
      ],
      "metadata": {
        "colab": {
          "base_uri": "https://localhost:8080/"
        },
        "id": "aepMgQYgY5mJ",
        "outputId": "3fdb8ab0-7fb0-4aa6-cfa9-b94096649628"
      },
      "id": "aepMgQYgY5mJ",
      "execution_count": null,
      "outputs": [
        {
          "output_type": "stream",
          "name": "stdout",
          "text": [
            "<class 'str'>\n"
          ]
        }
      ]
    },
    {
      "cell_type": "code",
      "source": [
        "age = 25\n",
        "type(age)"
      ],
      "metadata": {
        "colab": {
          "base_uri": "https://localhost:8080/"
        },
        "id": "Krb_K0L6Y5hD",
        "outputId": "f2b1c14f-a806-4b5b-84fd-4958af148e43"
      },
      "id": "Krb_K0L6Y5hD",
      "execution_count": null,
      "outputs": [
        {
          "output_type": "execute_result",
          "data": {
            "text/plain": [
              "int"
            ]
          },
          "metadata": {},
          "execution_count": 43
        }
      ]
    },
    {
      "cell_type": "code",
      "source": [
        "height = 5.1\n",
        "print(\"My Height is\", height, \"The data type of this variable is:\", type(height))"
      ],
      "metadata": {
        "colab": {
          "base_uri": "https://localhost:8080/"
        },
        "id": "TYf0uCtqYs6T",
        "outputId": "21ba862d-15ed-4662-d7af-6f9f4fad428c"
      },
      "id": "TYf0uCtqYs6T",
      "execution_count": null,
      "outputs": [
        {
          "output_type": "stream",
          "name": "stdout",
          "text": [
            "My Height is 5.1 The data type of this variable is: <class 'float'>\n"
          ]
        }
      ]
    },
    {
      "cell_type": "code",
      "source": [
        "sales = 98000\n",
        "print(\"Total sales:\", sales)"
      ],
      "metadata": {
        "id": "r6dHgFzT4GhI",
        "colab": {
          "base_uri": "https://localhost:8080/"
        },
        "outputId": "1dc80adb-364b-4ff4-feb1-891503e3150a"
      },
      "id": "r6dHgFzT4GhI",
      "execution_count": null,
      "outputs": [
        {
          "output_type": "stream",
          "name": "stdout",
          "text": [
            "Total sales: 98000\n"
          ]
        }
      ]
    },
    {
      "cell_type": "code",
      "source": [
        "sales"
      ],
      "metadata": {
        "id": "yBbsgq734GZB",
        "colab": {
          "base_uri": "https://localhost:8080/"
        },
        "outputId": "251a4103-3a47-4212-ac28-8b49b97da708"
      },
      "id": "yBbsgq734GZB",
      "execution_count": null,
      "outputs": [
        {
          "output_type": "execute_result",
          "data": {
            "text/plain": [
              "98000"
            ]
          },
          "metadata": {},
          "execution_count": 48
        }
      ]
    },
    {
      "cell_type": "code",
      "source": [
        "Name, age, height, educated = \"maimoona\", 24, 5.1, True"
      ],
      "metadata": {
        "id": "SdGRiUaLbVHR"
      },
      "id": "SdGRiUaLbVHR",
      "execution_count": null,
      "outputs": []
    },
    {
      "cell_type": "code",
      "source": [
        "print(\"My Name is:\",Name)\n",
        "print(\"My Age is:\",age)\n",
        "print(\"My Height is:\",height)\n",
        "print(\"I am Educated:\",educated)"
      ],
      "metadata": {
        "colab": {
          "base_uri": "https://localhost:8080/"
        },
        "id": "UqZYFxiLbVCp",
        "outputId": "e529df7f-4710-4ffe-e7f0-4004c2649360"
      },
      "id": "UqZYFxiLbVCp",
      "execution_count": null,
      "outputs": [
        {
          "output_type": "stream",
          "name": "stdout",
          "text": [
            "My Name is: maimoona\n",
            "My Age is: 24\n",
            "My Height is: 5.1\n",
            "I am Educated: True\n"
          ]
        }
      ]
    },
    {
      "cell_type": "code",
      "source": [
        "type(educated)"
      ],
      "metadata": {
        "id": "2mI0sJAW4GSe",
        "colab": {
          "base_uri": "https://localhost:8080/"
        },
        "outputId": "8d69468e-2d0e-439d-8d86-d4738426acd7"
      },
      "id": "2mI0sJAW4GSe",
      "execution_count": null,
      "outputs": [
        {
          "output_type": "execute_result",
          "data": {
            "text/plain": [
              "bool"
            ]
          },
          "metadata": {},
          "execution_count": 52
        }
      ]
    },
    {
      "cell_type": "code",
      "source": [
        "type(\"5\")"
      ],
      "metadata": {
        "colab": {
          "base_uri": "https://localhost:8080/"
        },
        "id": "VKZK0UNGb0dU",
        "outputId": "ee19d9eb-0911-43b6-e06f-583bbb48c2f9"
      },
      "id": "VKZK0UNGb0dU",
      "execution_count": null,
      "outputs": [
        {
          "output_type": "execute_result",
          "data": {
            "text/plain": [
              "str"
            ]
          },
          "metadata": {},
          "execution_count": 56
        }
      ]
    },
    {
      "cell_type": "code",
      "source": [
        "a = False\n",
        "type(a)"
      ],
      "metadata": {
        "colab": {
          "base_uri": "https://localhost:8080/"
        },
        "id": "PKgh82jMik62",
        "outputId": "36505723-2361-42f8-a7b2-a9c9898c43c5"
      },
      "id": "PKgh82jMik62",
      "execution_count": null,
      "outputs": [
        {
          "output_type": "execute_result",
          "data": {
            "text/plain": [
              "bool"
            ]
          },
          "metadata": {},
          "execution_count": 107
        }
      ]
    },
    {
      "cell_type": "code",
      "source": [],
      "metadata": {
        "id": "y8iKnGaAik01"
      },
      "id": "y8iKnGaAik01",
      "execution_count": null,
      "outputs": []
    },
    {
      "cell_type": "markdown",
      "id": "ff187d19",
      "metadata": {
        "id": "ff187d19"
      },
      "source": [
        "#### Data Type Conversion"
      ]
    },
    {
      "cell_type": "markdown",
      "source": [
        "##### String to Integer"
      ],
      "metadata": {
        "id": "jhNG-ar-cYcm"
      },
      "id": "jhNG-ar-cYcm"
    },
    {
      "cell_type": "code",
      "source": [
        "num = 100\n",
        "num + 15"
      ],
      "metadata": {
        "colab": {
          "base_uri": "https://localhost:8080/"
        },
        "id": "MXi9k3kOcB6S",
        "outputId": "61319d96-85e7-45a0-c090-4317017f39d8"
      },
      "id": "MXi9k3kOcB6S",
      "execution_count": null,
      "outputs": [
        {
          "output_type": "execute_result",
          "data": {
            "text/plain": [
              "115"
            ]
          },
          "metadata": {},
          "execution_count": 57
        }
      ]
    },
    {
      "cell_type": "code",
      "source": [
        "num = 150\n",
        "num + \"5\""
      ],
      "metadata": {
        "colab": {
          "base_uri": "https://localhost:8080/",
          "height": 159
        },
        "id": "TiP4EKdMcB1O",
        "outputId": "f7e89a13-da68-4fe8-a277-edd64c2bb302"
      },
      "id": "TiP4EKdMcB1O",
      "execution_count": null,
      "outputs": [
        {
          "output_type": "error",
          "ename": "TypeError",
          "evalue": "unsupported operand type(s) for +: 'int' and 'str'",
          "traceback": [
            "\u001b[0;31m---------------------------------------------------------------------------\u001b[0m",
            "\u001b[0;31mTypeError\u001b[0m                                 Traceback (most recent call last)",
            "\u001b[0;32m<ipython-input-58-0414a2582997>\u001b[0m in \u001b[0;36m<cell line: 0>\u001b[0;34m()\u001b[0m\n\u001b[1;32m      1\u001b[0m \u001b[0mnum\u001b[0m \u001b[0;34m=\u001b[0m \u001b[0;36m150\u001b[0m\u001b[0;34m\u001b[0m\u001b[0;34m\u001b[0m\u001b[0m\n\u001b[0;32m----> 2\u001b[0;31m \u001b[0mnum\u001b[0m \u001b[0;34m+\u001b[0m \u001b[0;34m\"5\"\u001b[0m\u001b[0;34m\u001b[0m\u001b[0;34m\u001b[0m\u001b[0m\n\u001b[0m",
            "\u001b[0;31mTypeError\u001b[0m: unsupported operand type(s) for +: 'int' and 'str'"
          ]
        }
      ]
    },
    {
      "cell_type": "code",
      "source": [
        "a = \"5\"\n",
        "type(a),a"
      ],
      "metadata": {
        "colab": {
          "base_uri": "https://localhost:8080/"
        },
        "id": "yw_0JHiqcbo6",
        "outputId": "1afa609b-2b3d-440d-f3c1-0ffdb4aa7b1b"
      },
      "id": "yw_0JHiqcbo6",
      "execution_count": null,
      "outputs": [
        {
          "output_type": "execute_result",
          "data": {
            "text/plain": [
              "(str, '5')"
            ]
          },
          "metadata": {},
          "execution_count": 61
        }
      ]
    },
    {
      "cell_type": "code",
      "source": [
        "a = int(a)\n",
        "type(a),a"
      ],
      "metadata": {
        "colab": {
          "base_uri": "https://localhost:8080/"
        },
        "id": "QtoR6ukCcbiU",
        "outputId": "80655da1-6ddc-4bad-f352-956d2da0fcde"
      },
      "id": "QtoR6ukCcbiU",
      "execution_count": null,
      "outputs": [
        {
          "output_type": "execute_result",
          "data": {
            "text/plain": [
              "(int, 5)"
            ]
          },
          "metadata": {},
          "execution_count": 63
        }
      ]
    },
    {
      "cell_type": "markdown",
      "source": [
        "##### int to string"
      ],
      "metadata": {
        "id": "U7oP99Ifcwad"
      },
      "id": "U7oP99Ifcwad"
    },
    {
      "cell_type": "code",
      "source": [
        "a = 100\n",
        "a,type(a)"
      ],
      "metadata": {
        "colab": {
          "base_uri": "https://localhost:8080/"
        },
        "id": "JKroBOJkcbcd",
        "outputId": "8d099d96-bb80-4d2b-8e6f-faf6d336f88d"
      },
      "id": "JKroBOJkcbcd",
      "execution_count": null,
      "outputs": [
        {
          "output_type": "execute_result",
          "data": {
            "text/plain": [
              "(100, int)"
            ]
          },
          "metadata": {},
          "execution_count": 67
        }
      ]
    },
    {
      "cell_type": "code",
      "source": [
        "a = str(a)\n",
        "a,type(a)"
      ],
      "metadata": {
        "colab": {
          "base_uri": "https://localhost:8080/"
        },
        "id": "8y64FPrKc1s8",
        "outputId": "933dbb27-4e2c-4c0c-d1bd-7f813ecae5d6"
      },
      "id": "8y64FPrKc1s8",
      "execution_count": null,
      "outputs": [
        {
          "output_type": "execute_result",
          "data": {
            "text/plain": [
              "('100', str)"
            ]
          },
          "metadata": {},
          "execution_count": 68
        }
      ]
    },
    {
      "cell_type": "code",
      "source": [
        "zip_code = 25000\n",
        "print(zip_code, type(zip_code))"
      ],
      "metadata": {
        "colab": {
          "base_uri": "https://localhost:8080/"
        },
        "id": "BgZmlkPHc1nr",
        "outputId": "338b1009-5871-4da9-b24b-73636f68f806"
      },
      "id": "BgZmlkPHc1nr",
      "execution_count": null,
      "outputs": [
        {
          "output_type": "stream",
          "name": "stdout",
          "text": [
            "25000 <class 'int'>\n"
          ]
        }
      ]
    },
    {
      "cell_type": "code",
      "source": [
        "zip_code = str(zip_code)\n",
        "zip_code, type(zip_code)"
      ],
      "metadata": {
        "colab": {
          "base_uri": "https://localhost:8080/"
        },
        "id": "MlQxdUeCcbW6",
        "outputId": "ecf1ec9e-cf2d-49aa-9c38-8dc414c803e6"
      },
      "id": "MlQxdUeCcbW6",
      "execution_count": null,
      "outputs": [
        {
          "output_type": "execute_result",
          "data": {
            "text/plain": [
              "('25000', str)"
            ]
          },
          "metadata": {},
          "execution_count": 71
        }
      ]
    },
    {
      "cell_type": "code",
      "source": [
        "sales = 25000\n",
        "print(sales, type(sales))"
      ],
      "metadata": {
        "id": "BCds-0QH6SUm",
        "colab": {
          "base_uri": "https://localhost:8080/"
        },
        "outputId": "68a84c1e-d788-425b-de6c-3d040798ddbd"
      },
      "id": "BCds-0QH6SUm",
      "execution_count": null,
      "outputs": [
        {
          "output_type": "stream",
          "name": "stdout",
          "text": [
            "25000 <class 'int'>\n"
          ]
        }
      ]
    },
    {
      "cell_type": "markdown",
      "source": [
        "##### int to float"
      ],
      "metadata": {
        "id": "-Ul-i8hQuoZ7"
      },
      "id": "-Ul-i8hQuoZ7"
    },
    {
      "cell_type": "code",
      "source": [
        "sales = float(sales)"
      ],
      "metadata": {
        "id": "ajANIg_vdXfj"
      },
      "id": "ajANIg_vdXfj",
      "execution_count": null,
      "outputs": []
    },
    {
      "cell_type": "code",
      "source": [
        "sales, type(sales)"
      ],
      "metadata": {
        "colab": {
          "base_uri": "https://localhost:8080/"
        },
        "id": "6KoQJnP0dXZN",
        "outputId": "b57aad7e-5048-4597-83f8-051a6ce26b00"
      },
      "id": "6KoQJnP0dXZN",
      "execution_count": null,
      "outputs": [
        {
          "output_type": "execute_result",
          "data": {
            "text/plain": [
              "(25000.0, float)"
            ]
          },
          "metadata": {},
          "execution_count": 77
        }
      ]
    },
    {
      "cell_type": "markdown",
      "source": [
        "##### \"String with float data\" to integer"
      ],
      "metadata": {
        "id": "KBfrzS85ur0L"
      },
      "id": "KBfrzS85ur0L"
    },
    {
      "cell_type": "code",
      "source": [
        "#Task: Convert \"5.6\" into integer\n",
        "\n",
        "\n",
        "num = \"5.6\"\n",
        "num = int(float(num))\n",
        "num"
      ],
      "metadata": {
        "colab": {
          "base_uri": "https://localhost:8080/"
        },
        "id": "jRVUHB1Rfn9Y",
        "outputId": "11820ca3-d1d7-4547-a605-aac15e5bea64"
      },
      "id": "jRVUHB1Rfn9Y",
      "execution_count": null,
      "outputs": [
        {
          "output_type": "execute_result",
          "data": {
            "text/plain": [
              "5"
            ]
          },
          "metadata": {},
          "execution_count": 86
        }
      ]
    },
    {
      "cell_type": "code",
      "source": [
        "num = \"5.6\"\n",
        "num = float(num)\n",
        "num = int(num)\n",
        "num"
      ],
      "metadata": {
        "colab": {
          "base_uri": "https://localhost:8080/"
        },
        "id": "L-R_fSw5gF6B",
        "outputId": "afa778c5-99e0-44c0-bbdd-c5f7348e7bb5"
      },
      "id": "L-R_fSw5gF6B",
      "execution_count": null,
      "outputs": [
        {
          "output_type": "execute_result",
          "data": {
            "text/plain": [
              "5"
            ]
          },
          "metadata": {},
          "execution_count": 87
        }
      ]
    },
    {
      "cell_type": "markdown",
      "source": [
        "##### int to bool"
      ],
      "metadata": {
        "id": "Lck5B3oLu3-y"
      },
      "id": "Lck5B3oLu3-y"
    },
    {
      "cell_type": "code",
      "source": [
        "bool(0)"
      ],
      "metadata": {
        "colab": {
          "base_uri": "https://localhost:8080/"
        },
        "id": "nMIt_ps4gFzQ",
        "outputId": "6184805d-9906-4952-daec-bc0ab79acfb1"
      },
      "id": "nMIt_ps4gFzQ",
      "execution_count": null,
      "outputs": [
        {
          "output_type": "execute_result",
          "data": {
            "text/plain": [
              "False"
            ]
          },
          "metadata": {},
          "execution_count": 182
        }
      ]
    },
    {
      "cell_type": "code",
      "source": [
        "bool(0)"
      ],
      "metadata": {
        "colab": {
          "base_uri": "https://localhost:8080/"
        },
        "id": "j3ggq788jKBM",
        "outputId": "3ab42b2c-9ad8-4e01-cb1d-adf8145562f5"
      },
      "id": "j3ggq788jKBM",
      "execution_count": null,
      "outputs": [
        {
          "output_type": "execute_result",
          "data": {
            "text/plain": [
              "False"
            ]
          },
          "metadata": {},
          "execution_count": 116
        }
      ]
    },
    {
      "cell_type": "code",
      "source": [
        "bool(100000)"
      ],
      "metadata": {
        "colab": {
          "base_uri": "https://localhost:8080/"
        },
        "id": "6KTimwdMkJ34",
        "outputId": "3a587a2c-dc21-461a-8f7c-f06e6f3e4048"
      },
      "id": "6KTimwdMkJ34",
      "execution_count": null,
      "outputs": [
        {
          "output_type": "execute_result",
          "data": {
            "text/plain": [
              "True"
            ]
          },
          "metadata": {},
          "execution_count": 122
        }
      ]
    },
    {
      "cell_type": "code",
      "source": [
        "bool(-5.66)"
      ],
      "metadata": {
        "colab": {
          "base_uri": "https://localhost:8080/"
        },
        "id": "ut3aUCYFkJxb",
        "outputId": "e0e4ab47-05b4-42a7-bc3a-90196e6bf042"
      },
      "id": "ut3aUCYFkJxb",
      "execution_count": null,
      "outputs": [
        {
          "output_type": "execute_result",
          "data": {
            "text/plain": [
              "True"
            ]
          },
          "metadata": {},
          "execution_count": 123
        }
      ]
    },
    {
      "cell_type": "markdown",
      "source": [
        "##### String to bool"
      ],
      "metadata": {
        "id": "RgnG4taKvAwT"
      },
      "id": "RgnG4taKvAwT"
    },
    {
      "cell_type": "code",
      "source": [
        "bool(\"\")"
      ],
      "metadata": {
        "colab": {
          "base_uri": "https://localhost:8080/"
        },
        "id": "VRDuAUzFkJnL",
        "outputId": "d5f2102f-198c-4d2c-806b-b14647bd2d0a"
      },
      "id": "VRDuAUzFkJnL",
      "execution_count": null,
      "outputs": [
        {
          "output_type": "execute_result",
          "data": {
            "text/plain": [
              "False"
            ]
          },
          "metadata": {},
          "execution_count": 119
        }
      ]
    },
    {
      "cell_type": "code",
      "source": [
        "bool(\" \")"
      ],
      "metadata": {
        "colab": {
          "base_uri": "https://localhost:8080/"
        },
        "id": "JcQG6VjAkJgT",
        "outputId": "ff8f745f-452c-433e-a393-5d5415820f54"
      },
      "id": "JcQG6VjAkJgT",
      "execution_count": null,
      "outputs": [
        {
          "output_type": "execute_result",
          "data": {
            "text/plain": [
              "True"
            ]
          },
          "metadata": {},
          "execution_count": 120
        }
      ]
    },
    {
      "cell_type": "code",
      "source": [
        "bool(\"Maimoona\")"
      ],
      "metadata": {
        "colab": {
          "base_uri": "https://localhost:8080/"
        },
        "id": "THonXTr4kN16",
        "outputId": "a068c6ac-bcb6-4e71-8904-533c1e66fb00"
      },
      "id": "THonXTr4kN16",
      "execution_count": null,
      "outputs": [
        {
          "output_type": "execute_result",
          "data": {
            "text/plain": [
              "True"
            ]
          },
          "metadata": {},
          "execution_count": 121
        }
      ]
    },
    {
      "cell_type": "markdown",
      "source": [
        "False when\n",
        "- numerical value = 0\n",
        "- string is empty\n",
        "\n",
        "True when\n",
        "- numeical value is less than 0 or greater than zero ( not zero)\n",
        "- string has one or more characters"
      ],
      "metadata": {
        "id": "FzwiiP-DjUwA"
      },
      "id": "FzwiiP-DjUwA"
    },
    {
      "cell_type": "markdown",
      "id": "36855c52",
      "metadata": {
        "id": "36855c52"
      },
      "source": [
        "## User Input"
      ]
    },
    {
      "cell_type": "code",
      "source": [
        "Name = input(\"Enter your name: \")"
      ],
      "metadata": {
        "colab": {
          "base_uri": "https://localhost:8080/"
        },
        "id": "K0L6p3exgeW5",
        "outputId": "60e1b1b2-e236-4bf1-d763-7c100c6da40f"
      },
      "id": "K0L6p3exgeW5",
      "execution_count": null,
      "outputs": [
        {
          "name": "stdout",
          "output_type": "stream",
          "text": [
            "Enter your name: Maimoona\n"
          ]
        }
      ]
    },
    {
      "cell_type": "code",
      "source": [
        "Age = input(\"Enter your age: \")"
      ],
      "metadata": {
        "colab": {
          "base_uri": "https://localhost:8080/"
        },
        "id": "3HLkbuAtgeRu",
        "outputId": "9f01502f-7928-4bc3-b0da-9fc6e8693fff"
      },
      "id": "3HLkbuAtgeRu",
      "execution_count": null,
      "outputs": [
        {
          "name": "stdout",
          "output_type": "stream",
          "text": [
            "Enter your age: 23\n"
          ]
        }
      ]
    },
    {
      "cell_type": "code",
      "source": [
        "english = float(input(\"Enter your english marks: \"))\n",
        "math = float(input(\"Enter your math marks: \"))\n",
        "science = float(input(\"Enter your science marks: \"))"
      ],
      "metadata": {
        "colab": {
          "base_uri": "https://localhost:8080/"
        },
        "id": "lE0dZFYpgeK7",
        "outputId": "4e899a18-974b-427f-b4ef-caf02afd1216"
      },
      "id": "lE0dZFYpgeK7",
      "execution_count": null,
      "outputs": [
        {
          "name": "stdout",
          "output_type": "stream",
          "text": [
            "Enter your english marks: 67\n",
            "Enter your math marks: 45\n",
            "Enter your science marks: 30\n"
          ]
        }
      ]
    },
    {
      "cell_type": "code",
      "source": [
        "obtained_marks = english + math + science\n",
        "total_marks = 300\n",
        "\n",
        "percentage = (obtained_marks / total_marks) * 100\n",
        "print(\"Percentage is\",percentage,\"%\")"
      ],
      "metadata": {
        "id": "2e_BfymQ6W9G",
        "colab": {
          "base_uri": "https://localhost:8080/"
        },
        "outputId": "11e36263-0dc6-4d9e-8a72-0e68767627f7"
      },
      "id": "2e_BfymQ6W9G",
      "execution_count": null,
      "outputs": [
        {
          "output_type": "stream",
          "name": "stdout",
          "text": [
            "Percentage is 47.333333333333336 %\n"
          ]
        }
      ]
    },
    {
      "cell_type": "code",
      "source": [
        "question = int(input(\"Do you want to continue:(answer: 0 or 1) \"))\n"
      ],
      "metadata": {
        "colab": {
          "base_uri": "https://localhost:8080/"
        },
        "id": "6TpsX9iriucH",
        "outputId": "67bb119e-e67c-436f-d38f-906813022bb1"
      },
      "id": "6TpsX9iriucH",
      "execution_count": null,
      "outputs": [
        {
          "name": "stdout",
          "output_type": "stream",
          "text": [
            "Do you want to continue:(answer: 0 or 1) 1\n"
          ]
        }
      ]
    },
    {
      "cell_type": "code",
      "source": [
        "type(question)"
      ],
      "metadata": {
        "colab": {
          "base_uri": "https://localhost:8080/"
        },
        "id": "5lVpk1yEiuVW",
        "outputId": "ae6c184e-b8cb-432a-f776-3afdcb3f09e9"
      },
      "id": "5lVpk1yEiuVW",
      "execution_count": null,
      "outputs": [
        {
          "output_type": "execute_result",
          "data": {
            "text/plain": [
              "int"
            ]
          },
          "metadata": {},
          "execution_count": 112
        }
      ]
    },
    {
      "cell_type": "code",
      "source": [
        "bool(question)  # 0 refers False, 1 refers to True"
      ],
      "metadata": {
        "colab": {
          "base_uri": "https://localhost:8080/"
        },
        "id": "UsPaPvOni_8Z",
        "outputId": "55a62901-ce0e-410c-ec20-4f7bad934005"
      },
      "id": "UsPaPvOni_8Z",
      "execution_count": null,
      "outputs": [
        {
          "output_type": "execute_result",
          "data": {
            "text/plain": [
              "True"
            ]
          },
          "metadata": {},
          "execution_count": 113
        }
      ]
    },
    {
      "cell_type": "markdown",
      "source": [
        "## Expressions and Operators"
      ],
      "metadata": {
        "id": "etRkgM8e6YEq"
      },
      "id": "etRkgM8e6YEq"
    },
    {
      "cell_type": "markdown",
      "id": "10a0f079",
      "metadata": {
        "id": "10a0f079"
      },
      "source": [
        "### Arithmetic Operators\n",
        "\n",
        "- Addition\n",
        "- Subtraction\n",
        "- Multiplication\n",
        "- Division\n",
        "- Floor\n",
        "- Remainder"
      ]
    },
    {
      "cell_type": "code",
      "source": [
        "a, b = 2, 10\n",
        "#print(\"we have two numbers, num1 =\", a ,\"and num2 =\", b)\n",
        "\n",
        "print(f\"we have two numbers, num1 = {a} and num2 = { b}\")"
      ],
      "metadata": {
        "colab": {
          "base_uri": "https://localhost:8080/"
        },
        "id": "xV0eEZ8KkjCA",
        "outputId": "bb0071dd-234b-4b3b-c9df-695a2b622e14"
      },
      "id": "xV0eEZ8KkjCA",
      "execution_count": null,
      "outputs": [
        {
          "output_type": "stream",
          "name": "stdout",
          "text": [
            "we have two numbers, num1 = 2 and num2 = 10\n"
          ]
        }
      ]
    },
    {
      "cell_type": "code",
      "source": [
        "print(f\"Addition: {a} + {b}  = {a+b}\")\n",
        "print(f\"Subtraction: {a} - {b} = {a-b}\")"
      ],
      "metadata": {
        "colab": {
          "base_uri": "https://localhost:8080/"
        },
        "id": "pRid_SVCki8F",
        "outputId": "1f00867e-95b4-4206-a47a-4dc2bf0de2ad"
      },
      "id": "pRid_SVCki8F",
      "execution_count": null,
      "outputs": [
        {
          "output_type": "stream",
          "name": "stdout",
          "text": [
            "Addition: 2 + 10  = 12\n",
            "Subtraction: 2 - 10 = -8\n"
          ]
        }
      ]
    },
    {
      "cell_type": "code",
      "source": [
        "print(f\"Multiplication {a} * {b} = {a*b}\")\n",
        "print(f\"Division {b} / {a} = {b/a}\")"
      ],
      "metadata": {
        "id": "DnfFrfmx6d9Z",
        "colab": {
          "base_uri": "https://localhost:8080/"
        },
        "outputId": "582876e3-0e1a-402b-e9f3-cbfd19e9595b"
      },
      "id": "DnfFrfmx6d9Z",
      "execution_count": null,
      "outputs": [
        {
          "output_type": "stream",
          "name": "stdout",
          "text": [
            "Multiplication 2 * 10 = 20\n",
            "Division 10 / 2 = 5.0\n"
          ]
        }
      ]
    },
    {
      "cell_type": "code",
      "source": [
        "a , b = 3, 10\n",
        "print(f\"Division {b} / {a} = {b/a}\")"
      ],
      "metadata": {
        "id": "riVtlL1F6d38",
        "colab": {
          "base_uri": "https://localhost:8080/"
        },
        "outputId": "6f1bfd51-a162-4703-a4db-d8833eadcdaf"
      },
      "id": "riVtlL1F6d38",
      "execution_count": null,
      "outputs": [
        {
          "output_type": "stream",
          "name": "stdout",
          "text": [
            "Division 10 / 3 = 3.3333333333333335\n"
          ]
        }
      ]
    },
    {
      "cell_type": "code",
      "source": [
        "print(f\"Floor division {b} // {a} = {b//a}\")"
      ],
      "metadata": {
        "colab": {
          "base_uri": "https://localhost:8080/"
        },
        "id": "EchZe_B8mIt2",
        "outputId": "2b8d688b-2a12-453c-fc39-42552acfd216"
      },
      "id": "EchZe_B8mIt2",
      "execution_count": null,
      "outputs": [
        {
          "output_type": "stream",
          "name": "stdout",
          "text": [
            "Floor division 10 // 3 = 3\n"
          ]
        }
      ]
    },
    {
      "cell_type": "code",
      "source": [
        "a = 3\n",
        "b = 2\n",
        "\n",
        "print(f\"Remainder of {a} / {b} = {a%b}\")"
      ],
      "metadata": {
        "colab": {
          "base_uri": "https://localhost:8080/"
        },
        "id": "8MAAYRFSmIne",
        "outputId": "ca832795-e533-44b4-ecc6-a31829a9fea3"
      },
      "id": "8MAAYRFSmIne",
      "execution_count": null,
      "outputs": [
        {
          "output_type": "stream",
          "name": "stdout",
          "text": [
            "Remainder of 3 / 2 = 1\n"
          ]
        }
      ]
    },
    {
      "cell_type": "code",
      "source": [],
      "metadata": {
        "id": "M7Ve9C0r6d0f"
      },
      "id": "M7Ve9C0r6d0f",
      "execution_count": null,
      "outputs": []
    },
    {
      "cell_type": "markdown",
      "id": "1de31b12",
      "metadata": {
        "id": "1de31b12"
      },
      "source": [
        "### Comparison operators\n",
        "\n",
        "- Equal (==)\n",
        "- Less than or equal (<=)\n",
        "- Greater than or equal (>=)\n"
      ]
    },
    {
      "cell_type": "code",
      "source": [
        "a = 10\n",
        "b = 10"
      ],
      "metadata": {
        "id": "5VuxGcjLm7n5"
      },
      "id": "5VuxGcjLm7n5",
      "execution_count": null,
      "outputs": []
    },
    {
      "cell_type": "code",
      "source": [
        "a == b"
      ],
      "metadata": {
        "id": "raN0LzzA6em3",
        "colab": {
          "base_uri": "https://localhost:8080/"
        },
        "outputId": "17c49ba6-7422-4956-9c45-5ff6058eba9c"
      },
      "id": "raN0LzzA6em3",
      "execution_count": null,
      "outputs": [
        {
          "output_type": "execute_result",
          "data": {
            "text/plain": [
              "True"
            ]
          },
          "metadata": {},
          "execution_count": 154
        }
      ]
    },
    {
      "cell_type": "code",
      "source": [
        "salary = float(input(\"Enter your salary: \"))\n",
        "salary > 50000"
      ],
      "metadata": {
        "colab": {
          "base_uri": "https://localhost:8080/"
        },
        "id": "x_0NKbNKnhd_",
        "outputId": "843d9879-07c5-48c7-ff66-2bc84c12e69d"
      },
      "id": "x_0NKbNKnhd_",
      "execution_count": null,
      "outputs": [
        {
          "name": "stdout",
          "output_type": "stream",
          "text": [
            "Enter your salary: 50000\n"
          ]
        },
        {
          "output_type": "execute_result",
          "data": {
            "text/plain": [
              "False"
            ]
          },
          "metadata": {},
          "execution_count": 155
        }
      ]
    },
    {
      "cell_type": "code",
      "source": [
        "salary >= 50000"
      ],
      "metadata": {
        "colab": {
          "base_uri": "https://localhost:8080/"
        },
        "id": "GmG85PotnhY0",
        "outputId": "41d4d2dc-7bdb-48a0-cd80-1e56a98d7ca3"
      },
      "id": "GmG85PotnhY0",
      "execution_count": null,
      "outputs": [
        {
          "output_type": "execute_result",
          "data": {
            "text/plain": [
              "True"
            ]
          },
          "metadata": {},
          "execution_count": 156
        }
      ]
    },
    {
      "cell_type": "code",
      "source": [
        "Gpa = float(input(\"Enter your GPA: \"))\n",
        "Gpa >= 3.0"
      ],
      "metadata": {
        "colab": {
          "base_uri": "https://localhost:8080/"
        },
        "id": "hwQxnvQ2nhRk",
        "outputId": "a09cdb58-cd95-4708-8157-b131fae632f5"
      },
      "id": "hwQxnvQ2nhRk",
      "execution_count": null,
      "outputs": [
        {
          "name": "stdout",
          "output_type": "stream",
          "text": [
            "Enter your GPA: 3.9\n"
          ]
        },
        {
          "output_type": "execute_result",
          "data": {
            "text/plain": [
              "True"
            ]
          },
          "metadata": {},
          "execution_count": 158
        }
      ]
    },
    {
      "cell_type": "code",
      "source": [
        "Gpa = float(input(\"Enter your GPA: \"))\n",
        "\n",
        "if  Gpa >= 3.0:\n",
        "  print(\"Yes you are eligible\")\n",
        "else:\n",
        "  print(\"Sorry you are not eligible\")"
      ],
      "metadata": {
        "colab": {
          "base_uri": "https://localhost:8080/"
        },
        "id": "wd7DzQu5oO4W",
        "outputId": "ee98f78c-d417-4de0-bf4d-2aa21df9e7e8"
      },
      "id": "wd7DzQu5oO4W",
      "execution_count": null,
      "outputs": [
        {
          "output_type": "stream",
          "name": "stdout",
          "text": [
            "Enter your GPA: 1.7\n",
            "Sorry you are not eligible\n"
          ]
        }
      ]
    },
    {
      "cell_type": "markdown",
      "id": "0fc38815",
      "metadata": {
        "id": "0fc38815"
      },
      "source": [
        "### Logical operators\n",
        "\n",
        "1. And\n",
        "  - True  False   => False\n",
        "  - False True    => False\n",
        "  - False False   => Fasle\n",
        "  - True  True    => True\n",
        "\n",
        "\n",
        "2. Or\n",
        "  - True  False   => True\n",
        "  - False True    => True\n",
        "  - False False   => False\n",
        "  - True  True    => True\n",
        "\n",
        "\n",
        "\n",
        "\n",
        "3. Not\n",
        "  - Not True  => False\n",
        "  - Not False => True"
      ]
    },
    {
      "cell_type": "code",
      "source": [
        "experience = int(input(\"Experience years: \"))\n",
        "education = input(\"Education:(MS, BS, PhD) \")\n",
        "\n",
        "# job criteria: experience >=2 and education BS\n",
        "experience >= 2 and education in [\"BS\",\"MS\"]"
      ],
      "metadata": {
        "id": "P8R7tqK_6oRL",
        "colab": {
          "base_uri": "https://localhost:8080/"
        },
        "outputId": "d8e1de9e-41f7-4712-8b9a-777dc917ea99"
      },
      "id": "P8R7tqK_6oRL",
      "execution_count": null,
      "outputs": [
        {
          "name": "stdout",
          "output_type": "stream",
          "text": [
            "Experience years: 5\n",
            "Education:(MS, BS, PhD) PhD\n"
          ]
        },
        {
          "output_type": "execute_result",
          "data": {
            "text/plain": [
              "False"
            ]
          },
          "metadata": {},
          "execution_count": 165
        }
      ]
    },
    {
      "cell_type": "code",
      "source": [
        "experience = int(input(\"Experience years: \"))\n",
        "education = input(\"Education:(MS, BS, PhD) \")\n",
        "\n",
        "# job criteria: experience >=2 or well educated\n",
        "experience >= 2 or education in [\"BS\",\"MS\",\"PhD\"]"
      ],
      "metadata": {
        "id": "HxV69gBB6oND",
        "colab": {
          "base_uri": "https://localhost:8080/"
        },
        "outputId": "2237d328-f4b7-40d0-b71f-84e52a3c4355"
      },
      "id": "HxV69gBB6oND",
      "execution_count": null,
      "outputs": [
        {
          "name": "stdout",
          "output_type": "stream",
          "text": [
            "Experience years: 0\n",
            "Education:(MS, BS, PhD) matric\n"
          ]
        },
        {
          "output_type": "execute_result",
          "data": {
            "text/plain": [
              "False"
            ]
          },
          "metadata": {},
          "execution_count": 169
        }
      ]
    },
    {
      "cell_type": "code",
      "source": [
        "\"Matric\" not in [\"BS\",\"MS\",\"PhD\"]"
      ],
      "metadata": {
        "id": "r5Ys481m6pqN",
        "colab": {
          "base_uri": "https://localhost:8080/"
        },
        "outputId": "74d6cb6a-336a-408f-cf7b-995180bf4f0c"
      },
      "id": "r5Ys481m6pqN",
      "execution_count": null,
      "outputs": [
        {
          "output_type": "execute_result",
          "data": {
            "text/plain": [
              "True"
            ]
          },
          "metadata": {},
          "execution_count": 173
        }
      ]
    },
    {
      "cell_type": "code",
      "source": [
        "not 23 > 20"
      ],
      "metadata": {
        "colab": {
          "base_uri": "https://localhost:8080/"
        },
        "id": "2jAiYFgHqe2A",
        "outputId": "c1b0281c-0080-411b-fea1-e3f5361f4276"
      },
      "id": "2jAiYFgHqe2A",
      "execution_count": null,
      "outputs": [
        {
          "output_type": "execute_result",
          "data": {
            "text/plain": [
              "False"
            ]
          },
          "metadata": {},
          "execution_count": 175
        }
      ]
    },
    {
      "cell_type": "code",
      "source": [],
      "metadata": {
        "id": "F3qwL9SMqevW"
      },
      "id": "F3qwL9SMqevW",
      "execution_count": null,
      "outputs": []
    },
    {
      "cell_type": "code",
      "source": [],
      "metadata": {
        "id": "Fi0eXlYIqecR"
      },
      "id": "Fi0eXlYIqecR",
      "execution_count": null,
      "outputs": []
    },
    {
      "cell_type": "markdown",
      "source": [
        "### Assignment Operators"
      ],
      "metadata": {
        "id": "wjPqjILL6qQ1"
      },
      "id": "wjPqjILL6qQ1"
    },
    {
      "cell_type": "code",
      "source": [
        "a = 10\n",
        "a = 15\n",
        "a"
      ],
      "metadata": {
        "id": "IBGCzc-l6rRY",
        "colab": {
          "base_uri": "https://localhost:8080/"
        },
        "outputId": "e50aeed7-082b-4563-ac60-06053e995295"
      },
      "id": "IBGCzc-l6rRY",
      "execution_count": null,
      "outputs": [
        {
          "output_type": "execute_result",
          "data": {
            "text/plain": [
              "15"
            ]
          },
          "metadata": {},
          "execution_count": 176
        }
      ]
    },
    {
      "cell_type": "code",
      "source": [
        "a = 10\n",
        "a = a + 5\n",
        "a"
      ],
      "metadata": {
        "id": "LY4wKuRV6rMs",
        "colab": {
          "base_uri": "https://localhost:8080/"
        },
        "outputId": "c5d36880-c522-4c29-9b37-d1caeca5a87b"
      },
      "id": "LY4wKuRV6rMs",
      "execution_count": null,
      "outputs": [
        {
          "output_type": "execute_result",
          "data": {
            "text/plain": [
              "15"
            ]
          },
          "metadata": {},
          "execution_count": 177
        }
      ]
    },
    {
      "cell_type": "code",
      "source": [
        "a = 10\n",
        "a += 5  # a = a + 5\n",
        "a"
      ],
      "metadata": {
        "id": "8-X8OjqZ6rH8",
        "colab": {
          "base_uri": "https://localhost:8080/"
        },
        "outputId": "1db73444-921a-4bba-9954-0abb79926a06"
      },
      "id": "8-X8OjqZ6rH8",
      "execution_count": null,
      "outputs": [
        {
          "output_type": "execute_result",
          "data": {
            "text/plain": [
              "15"
            ]
          },
          "metadata": {},
          "execution_count": 179
        }
      ]
    },
    {
      "cell_type": "code",
      "source": [
        "a = 10\n",
        "a *=2\n",
        "a"
      ],
      "metadata": {
        "colab": {
          "base_uri": "https://localhost:8080/"
        },
        "id": "itWVuz_XrDBT",
        "outputId": "660b42db-6653-4a5a-f8ca-25148458a33e"
      },
      "id": "itWVuz_XrDBT",
      "execution_count": null,
      "outputs": [
        {
          "output_type": "execute_result",
          "data": {
            "text/plain": [
              "20"
            ]
          },
          "metadata": {},
          "execution_count": 180
        }
      ]
    },
    {
      "cell_type": "code",
      "source": [
        "a = 10\n",
        "a /= 5\n",
        "a"
      ],
      "metadata": {
        "colab": {
          "base_uri": "https://localhost:8080/"
        },
        "id": "1Xkd0yzIrC6u",
        "outputId": "dbd300fc-af56-46a8-ff85-11ad12a2ea92"
      },
      "id": "1Xkd0yzIrC6u",
      "execution_count": null,
      "outputs": [
        {
          "output_type": "execute_result",
          "data": {
            "text/plain": [
              "2.0"
            ]
          },
          "metadata": {},
          "execution_count": 181
        }
      ]
    },
    {
      "cell_type": "markdown",
      "id": "353cfb2d",
      "metadata": {
        "id": "353cfb2d"
      },
      "source": [
        "# Task\n"
      ]
    },
    {
      "cell_type": "markdown",
      "id": "44afe269",
      "metadata": {
        "id": "44afe269"
      },
      "source": [
        "- Ask user to enter his name, age, qualification and store each in different variable."
      ]
    },
    {
      "cell_type": "code",
      "execution_count": null,
      "id": "c67cb5e8",
      "metadata": {
        "id": "c67cb5e8"
      },
      "outputs": [],
      "source": []
    },
    {
      "cell_type": "markdown",
      "id": "32b759b0",
      "metadata": {
        "id": "32b759b0"
      },
      "source": [
        "- Greet a user as Hello ____ ! (use the name variable here that was asked in above question)"
      ]
    },
    {
      "cell_type": "code",
      "execution_count": null,
      "id": "561e54bc",
      "metadata": {
        "id": "561e54bc"
      },
      "outputs": [],
      "source": []
    },
    {
      "cell_type": "markdown",
      "id": "60a30ed8",
      "metadata": {
        "id": "60a30ed8"
      },
      "source": [
        "- convert \"7.8964\" into int."
      ]
    },
    {
      "cell_type": "code",
      "execution_count": null,
      "id": "2ecb939b",
      "metadata": {
        "id": "2ecb939b"
      },
      "outputs": [],
      "source": []
    },
    {
      "cell_type": "markdown",
      "id": "e23afc89",
      "metadata": {
        "id": "e23afc89"
      },
      "source": [
        "- Display the Remainder result of 90 divided by 13 using the print() function."
      ]
    },
    {
      "cell_type": "code",
      "execution_count": null,
      "id": "96780770",
      "metadata": {
        "id": "96780770"
      },
      "outputs": [],
      "source": []
    },
    {
      "cell_type": "markdown",
      "id": "fdeb2d98",
      "metadata": {
        "id": "fdeb2d98"
      },
      "source": [
        "- Ask the user for an input, store it in a variable, and then display its data type."
      ]
    },
    {
      "cell_type": "code",
      "execution_count": null,
      "id": "92c3fe04",
      "metadata": {
        "id": "92c3fe04"
      },
      "outputs": [],
      "source": []
    },
    {
      "cell_type": "markdown",
      "id": "a3338945",
      "metadata": {
        "id": "a3338945"
      },
      "source": [
        "- Ask the user for his height, store it in a variable, and check if it is > 6.1"
      ]
    },
    {
      "cell_type": "code",
      "execution_count": null,
      "id": "861708fe",
      "metadata": {
        "id": "861708fe"
      },
      "outputs": [],
      "source": []
    },
    {
      "cell_type": "markdown",
      "id": "4ac1dbc6",
      "metadata": {
        "id": "4ac1dbc6"
      },
      "source": [
        "- Consider total marks is 100, ask user for marks and find it's percentage"
      ]
    },
    {
      "cell_type": "code",
      "execution_count": null,
      "id": "bf3f72de",
      "metadata": {
        "id": "bf3f72de"
      },
      "outputs": [],
      "source": []
    },
    {
      "cell_type": "markdown",
      "source": [
        "# Good Luck!"
      ],
      "metadata": {
        "id": "1c3OCUcw7hN-"
      },
      "id": "1c3OCUcw7hN-"
    },
    {
      "cell_type": "code",
      "source": [],
      "metadata": {
        "id": "sg3WvJdC7ino"
      },
      "id": "sg3WvJdC7ino",
      "execution_count": null,
      "outputs": []
    }
  ],
  "metadata": {
    "kernelspec": {
      "display_name": "Python 3 (ipykernel)",
      "language": "python",
      "name": "python3"
    },
    "language_info": {
      "codemirror_mode": {
        "name": "ipython",
        "version": 3
      },
      "file_extension": ".py",
      "mimetype": "text/x-python",
      "name": "python",
      "nbconvert_exporter": "python",
      "pygments_lexer": "ipython3",
      "version": "3.11.5"
    },
    "colab": {
      "provenance": [],
      "include_colab_link": true
    }
  },
  "nbformat": 4,
  "nbformat_minor": 5
}