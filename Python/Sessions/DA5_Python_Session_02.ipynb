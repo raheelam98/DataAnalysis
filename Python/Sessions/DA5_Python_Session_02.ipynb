{
  "cells": [
    {
      "cell_type": "markdown",
      "metadata": {
        "id": "view-in-github",
        "colab_type": "text"
      },
      "source": [
        "<a href=\"https://colab.research.google.com/github/raheelam98/DataAnalysis/blob/main/Python/Sessions/DA5_Python_Session_02.ipynb\" target=\"_parent\"><img src=\"https://colab.research.google.com/assets/colab-badge.svg\" alt=\"Open In Colab\"/></a>"
      ]
    },
    {
      "cell_type": "markdown",
      "source": [
        "collections\n",
        "1. string => collection of characters=> \"Maimoona\"\n",
        "2. list   => [ \"Kiwi\",\"Apple\",\"oranges\"]\n",
        "3. tuple  => (5,10) (x,y)\n",
        "4. set    => {1,4,5,7,8,9}\n",
        "5. dictionary  => {\"word\":\"meanings\",\"second_word\":\"second_meaning\"}"
      ],
      "metadata": {
        "id": "praWZOZkTzvQ"
      },
      "id": "praWZOZkTzvQ"
    },
    {
      "cell_type": "markdown",
      "metadata": {
        "jp-MarkdownHeadingCollapsed": true,
        "id": "045e7d21"
      },
      "source": [
        "# Sequence Data Types\n",
        "Sequence data types refers to collection of values that can be accessed by it's position.\n",
        "\n",
        "- String\n",
        "- List\n",
        "- Tuple"
      ],
      "id": "045e7d21"
    },
    {
      "cell_type": "markdown",
      "metadata": {
        "id": "5848e0a8"
      },
      "source": [
        "## **String**\n",
        "\n",
        "- string are collection of characters\n",
        "- strings are immutable\n",
        "- strings are indexed or ordered\n",
        "- strings can be defined using single, double or tripple quotation marks"
      ],
      "id": "5848e0a8"
    },
    {
      "cell_type": "markdown",
      "metadata": {
        "id": "446ddfb6"
      },
      "source": [
        "### **Define a string**"
      ],
      "id": "446ddfb6"
    },
    {
      "cell_type": "code",
      "source": [],
      "metadata": {
        "id": "hWkUbwqQWhcU"
      },
      "id": "hWkUbwqQWhcU",
      "execution_count": null,
      "outputs": []
    },
    {
      "cell_type": "code",
      "source": [
        "Name = \"Maimoona Khilji\"\n",
        "Details = '''My Name is Maimoona.\n",
        "My age is 23.\n",
        "I have done BS in Data Science.'''"
      ],
      "metadata": {
        "id": "wHejV-gLZf-k"
      },
      "id": "wHejV-gLZf-k",
      "execution_count": null,
      "outputs": []
    },
    {
      "cell_type": "code",
      "source": [
        "Name, type(Name)"
      ],
      "metadata": {
        "colab": {
          "base_uri": "https://localhost:8080/"
        },
        "id": "o7WmHG-jW8HR",
        "outputId": "7d83fbb9-d864-4123-b1e5-4795ed73fa00"
      },
      "id": "o7WmHG-jW8HR",
      "execution_count": null,
      "outputs": [
        {
          "output_type": "execute_result",
          "data": {
            "text/plain": [
              "('Maimoona Khilji', str)"
            ]
          },
          "metadata": {},
          "execution_count": 2
        }
      ]
    },
    {
      "cell_type": "code",
      "source": [
        "Details, type(Details)"
      ],
      "metadata": {
        "colab": {
          "base_uri": "https://localhost:8080/"
        },
        "id": "d72HtW11W8A2",
        "outputId": "d36a167d-84ec-4d27-b441-deac651eeabb"
      },
      "id": "d72HtW11W8A2",
      "execution_count": null,
      "outputs": [
        {
          "output_type": "execute_result",
          "data": {
            "text/plain": [
              "('My Name is Maimoona.\\nMy age is 23.\\nI have done BS in Data Science.', str)"
            ]
          },
          "metadata": {},
          "execution_count": 3
        }
      ]
    },
    {
      "cell_type": "markdown",
      "metadata": {
        "id": "732ce611"
      },
      "source": [
        "### **Indexing**"
      ],
      "id": "732ce611"
    },
    {
      "cell_type": "markdown",
      "metadata": {
        "id": "f0f2ed03"
      },
      "source": [
        "### **Fetch a single character**"
      ],
      "id": "f0f2ed03"
    },
    {
      "cell_type": "code",
      "source": [
        "data = \"ABCD\"\n",
        "data"
      ],
      "metadata": {
        "id": "8ydHW1YxZhGz",
        "colab": {
          "base_uri": "https://localhost:8080/",
          "height": 36
        },
        "outputId": "24aa6933-62ae-4202-dba9-e213349a7ee1"
      },
      "id": "8ydHW1YxZhGz",
      "execution_count": null,
      "outputs": [
        {
          "output_type": "execute_result",
          "data": {
            "text/plain": [
              "'ABCD'"
            ],
            "application/vnd.google.colaboratory.intrinsic+json": {
              "type": "string"
            }
          },
          "metadata": {},
          "execution_count": 4
        }
      ]
    },
    {
      "cell_type": "code",
      "source": [
        "len(data)"
      ],
      "metadata": {
        "colab": {
          "base_uri": "https://localhost:8080/"
        },
        "id": "L51WDDFzYBSn",
        "outputId": "2b121b9f-413a-445b-985e-6ddc4f7bd9e4"
      },
      "id": "L51WDDFzYBSn",
      "execution_count": null,
      "outputs": [
        {
          "output_type": "execute_result",
          "data": {
            "text/plain": [
              "4"
            ]
          },
          "metadata": {},
          "execution_count": 5
        }
      ]
    },
    {
      "cell_type": "code",
      "source": [
        "data[3]"
      ],
      "metadata": {
        "colab": {
          "base_uri": "https://localhost:8080/",
          "height": 36
        },
        "id": "5OoFfLw9XxRW",
        "outputId": "0cd6499e-7477-4e7e-bc59-d564b7c362fe"
      },
      "id": "5OoFfLw9XxRW",
      "execution_count": null,
      "outputs": [
        {
          "output_type": "execute_result",
          "data": {
            "text/plain": [
              "'D'"
            ],
            "application/vnd.google.colaboratory.intrinsic+json": {
              "type": "string"
            }
          },
          "metadata": {},
          "execution_count": 6
        }
      ]
    },
    {
      "cell_type": "code",
      "source": [
        "data[-1]"
      ],
      "metadata": {
        "colab": {
          "base_uri": "https://localhost:8080/",
          "height": 36
        },
        "id": "4Va3wuw1XxL0",
        "outputId": "2ac15b56-7c7e-4aa2-f7da-7ce355330708"
      },
      "id": "4Va3wuw1XxL0",
      "execution_count": null,
      "outputs": [
        {
          "output_type": "execute_result",
          "data": {
            "text/plain": [
              "'D'"
            ],
            "application/vnd.google.colaboratory.intrinsic+json": {
              "type": "string"
            }
          },
          "metadata": {},
          "execution_count": 7
        }
      ]
    },
    {
      "cell_type": "code",
      "source": [
        "data[-4]"
      ],
      "metadata": {
        "colab": {
          "base_uri": "https://localhost:8080/",
          "height": 36
        },
        "id": "L8z7aGqeXxE4",
        "outputId": "39564e84-6a26-4ae4-9906-229d014bdbfe"
      },
      "id": "L8z7aGqeXxE4",
      "execution_count": null,
      "outputs": [
        {
          "output_type": "execute_result",
          "data": {
            "text/plain": [
              "'A'"
            ],
            "application/vnd.google.colaboratory.intrinsic+json": {
              "type": "string"
            }
          },
          "metadata": {},
          "execution_count": 8
        }
      ]
    },
    {
      "cell_type": "code",
      "source": [
        "Name[0]"
      ],
      "metadata": {
        "id": "D408zBYSZg9l",
        "colab": {
          "base_uri": "https://localhost:8080/",
          "height": 36
        },
        "outputId": "70fd4af5-d318-485b-de0d-ad26ec8a8273"
      },
      "id": "D408zBYSZg9l",
      "execution_count": null,
      "outputs": [
        {
          "output_type": "execute_result",
          "data": {
            "text/plain": [
              "'M'"
            ],
            "application/vnd.google.colaboratory.intrinsic+json": {
              "type": "string"
            }
          },
          "metadata": {},
          "execution_count": 9
        }
      ]
    },
    {
      "cell_type": "markdown",
      "metadata": {
        "id": "56ba59aa"
      },
      "source": [
        "### **Slicing**\n",
        "\n",
        "Fetch a number of characters"
      ],
      "id": "56ba59aa"
    },
    {
      "cell_type": "code",
      "source": [
        "numeric_data = \"0123456789\"\n",
        "numeric_data"
      ],
      "metadata": {
        "id": "OMNvIRIkZk1F",
        "colab": {
          "base_uri": "https://localhost:8080/",
          "height": 36
        },
        "outputId": "685d32e3-c795-465c-a65e-cb282c11a4e7"
      },
      "id": "OMNvIRIkZk1F",
      "execution_count": null,
      "outputs": [
        {
          "output_type": "execute_result",
          "data": {
            "text/plain": [
              "'0123456789'"
            ],
            "application/vnd.google.colaboratory.intrinsic+json": {
              "type": "string"
            }
          },
          "metadata": {},
          "execution_count": 10
        }
      ]
    },
    {
      "cell_type": "code",
      "source": [
        "numeric_data[-1]\n",
        "\n",
        "#variable_name[starting_index: stop_index: steps] # bydefault, step = 1\n",
        "numeric_data[0:5]"
      ],
      "metadata": {
        "id": "TbpZUVBnZkuq",
        "colab": {
          "base_uri": "https://localhost:8080/",
          "height": 36
        },
        "outputId": "bcd5db3e-a986-47cc-97c0-e4ce15f90a56"
      },
      "id": "TbpZUVBnZkuq",
      "execution_count": null,
      "outputs": [
        {
          "output_type": "execute_result",
          "data": {
            "text/plain": [
              "'01234'"
            ],
            "application/vnd.google.colaboratory.intrinsic+json": {
              "type": "string"
            }
          },
          "metadata": {},
          "execution_count": 11
        }
      ]
    },
    {
      "cell_type": "code",
      "source": [
        "numeric_data[3:7]"
      ],
      "metadata": {
        "colab": {
          "base_uri": "https://localhost:8080/",
          "height": 36
        },
        "id": "T4A4uboCZVN0",
        "outputId": "aff420e2-42f3-408a-f777-a5673f3c1810"
      },
      "id": "T4A4uboCZVN0",
      "execution_count": null,
      "outputs": [
        {
          "output_type": "execute_result",
          "data": {
            "text/plain": [
              "'3456'"
            ],
            "application/vnd.google.colaboratory.intrinsic+json": {
              "type": "string"
            }
          },
          "metadata": {},
          "execution_count": 12
        }
      ]
    },
    {
      "cell_type": "code",
      "source": [
        "numeric_data[::5]"
      ],
      "metadata": {
        "colab": {
          "base_uri": "https://localhost:8080/",
          "height": 36
        },
        "id": "tvmSt61RZVHv",
        "outputId": "a35bbdb3-a373-48a3-c083-13feef5b7a35"
      },
      "id": "tvmSt61RZVHv",
      "execution_count": null,
      "outputs": [
        {
          "output_type": "execute_result",
          "data": {
            "text/plain": [
              "'05'"
            ],
            "application/vnd.google.colaboratory.intrinsic+json": {
              "type": "string"
            }
          },
          "metadata": {},
          "execution_count": 13
        }
      ]
    },
    {
      "cell_type": "code",
      "source": [
        "\"OF-123\"[0:2:1], \"OF-123\"[3::1]"
      ],
      "metadata": {
        "colab": {
          "base_uri": "https://localhost:8080/"
        },
        "id": "z5eo_gfyZVAL",
        "outputId": "be2c9e82-da2a-479d-c3e0-5c5f480a551c"
      },
      "id": "z5eo_gfyZVAL",
      "execution_count": null,
      "outputs": [
        {
          "output_type": "execute_result",
          "data": {
            "text/plain": [
              "('OF', '123')"
            ]
          },
          "metadata": {},
          "execution_count": 14
        }
      ]
    },
    {
      "cell_type": "code",
      "source": [
        "numeric_data[::-1]"
      ],
      "metadata": {
        "colab": {
          "base_uri": "https://localhost:8080/",
          "height": 36
        },
        "id": "AiQ5bLgla_F7",
        "outputId": "eb02351e-7cd7-49d0-b542-064d243e7e1c"
      },
      "id": "AiQ5bLgla_F7",
      "execution_count": null,
      "outputs": [
        {
          "output_type": "execute_result",
          "data": {
            "text/plain": [
              "'9876543210'"
            ],
            "application/vnd.google.colaboratory.intrinsic+json": {
              "type": "string"
            }
          },
          "metadata": {},
          "execution_count": 15
        }
      ]
    },
    {
      "cell_type": "code",
      "source": [
        "numeric_data[::-2]"
      ],
      "metadata": {
        "colab": {
          "base_uri": "https://localhost:8080/",
          "height": 36
        },
        "id": "0MJnlLZba--y",
        "outputId": "3733d99e-3471-4d75-b17d-69f3e170f119"
      },
      "id": "0MJnlLZba--y",
      "execution_count": null,
      "outputs": [
        {
          "output_type": "execute_result",
          "data": {
            "text/plain": [
              "'97531'"
            ],
            "application/vnd.google.colaboratory.intrinsic+json": {
              "type": "string"
            }
          },
          "metadata": {},
          "execution_count": 16
        }
      ]
    },
    {
      "cell_type": "code",
      "source": [
        "data"
      ],
      "metadata": {
        "id": "h2WIb5VpZkoB",
        "colab": {
          "base_uri": "https://localhost:8080/",
          "height": 36
        },
        "outputId": "e51108b8-262e-41fd-8fbd-a06904e339d7"
      },
      "id": "h2WIb5VpZkoB",
      "execution_count": null,
      "outputs": [
        {
          "output_type": "execute_result",
          "data": {
            "text/plain": [
              "'ABCD'"
            ],
            "application/vnd.google.colaboratory.intrinsic+json": {
              "type": "string"
            }
          },
          "metadata": {},
          "execution_count": 17
        }
      ]
    },
    {
      "cell_type": "code",
      "source": [
        "data[-2:-4:-1]"
      ],
      "metadata": {
        "colab": {
          "base_uri": "https://localhost:8080/",
          "height": 36
        },
        "id": "LK5Xe8ggbUnv",
        "outputId": "eff03a68-22a6-4c2d-a009-1a90c1bb9507"
      },
      "id": "LK5Xe8ggbUnv",
      "execution_count": null,
      "outputs": [
        {
          "output_type": "execute_result",
          "data": {
            "text/plain": [
              "'CB'"
            ],
            "application/vnd.google.colaboratory.intrinsic+json": {
              "type": "string"
            }
          },
          "metadata": {},
          "execution_count": 18
        }
      ]
    },
    {
      "cell_type": "code",
      "source": [
        "data[2:0:-1]"
      ],
      "metadata": {
        "colab": {
          "base_uri": "https://localhost:8080/",
          "height": 36
        },
        "id": "yZk-xVdNbUe2",
        "outputId": "446fe497-3423-4e79-c4f4-a2a31d2b2962"
      },
      "id": "yZk-xVdNbUe2",
      "execution_count": null,
      "outputs": [
        {
          "output_type": "execute_result",
          "data": {
            "text/plain": [
              "'CB'"
            ],
            "application/vnd.google.colaboratory.intrinsic+json": {
              "type": "string"
            }
          },
          "metadata": {},
          "execution_count": 19
        }
      ]
    },
    {
      "cell_type": "code",
      "source": [
        "\"DA5 Python\"[:3]"
      ],
      "metadata": {
        "colab": {
          "base_uri": "https://localhost:8080/",
          "height": 36
        },
        "id": "iyqNBH5ncN3e",
        "outputId": "4c5dabf1-2ee5-4e63-bccf-fbd8a6673d08"
      },
      "id": "iyqNBH5ncN3e",
      "execution_count": null,
      "outputs": [
        {
          "output_type": "execute_result",
          "data": {
            "text/plain": [
              "'DA5'"
            ],
            "application/vnd.google.colaboratory.intrinsic+json": {
              "type": "string"
            }
          },
          "metadata": {},
          "execution_count": 20
        }
      ]
    },
    {
      "cell_type": "code",
      "source": [
        "\"DA5 Python\"[4:]"
      ],
      "metadata": {
        "colab": {
          "base_uri": "https://localhost:8080/",
          "height": 36
        },
        "id": "xE4LXOczcNxM",
        "outputId": "cf1e3fdf-78ad-4444-90f0-d6e1a6221458"
      },
      "id": "xE4LXOczcNxM",
      "execution_count": null,
      "outputs": [
        {
          "output_type": "execute_result",
          "data": {
            "text/plain": [
              "'Python'"
            ],
            "application/vnd.google.colaboratory.intrinsic+json": {
              "type": "string"
            }
          },
          "metadata": {},
          "execution_count": 21
        }
      ]
    },
    {
      "cell_type": "code",
      "source": [],
      "metadata": {
        "id": "525bzuLBcNoY"
      },
      "id": "525bzuLBcNoY",
      "execution_count": null,
      "outputs": []
    },
    {
      "cell_type": "markdown",
      "metadata": {
        "id": "6039cdb8"
      },
      "source": [
        "### **String Methods**"
      ],
      "id": "6039cdb8"
    },
    {
      "cell_type": "markdown",
      "metadata": {
        "id": "9abbc424"
      },
      "source": [
        "#### **Upper / lower / Title**"
      ],
      "id": "9abbc424"
    },
    {
      "cell_type": "code",
      "source": [
        "name = \"MaimooNa KhiljI\"\n",
        "name.upper()"
      ],
      "metadata": {
        "id": "Bl7OLWEUZpVP",
        "colab": {
          "base_uri": "https://localhost:8080/",
          "height": 36
        },
        "outputId": "01f55e78-3df2-478f-f11e-5e8b65e41092"
      },
      "id": "Bl7OLWEUZpVP",
      "execution_count": null,
      "outputs": [
        {
          "output_type": "execute_result",
          "data": {
            "text/plain": [
              "'MAIMOONA KHILJI'"
            ],
            "application/vnd.google.colaboratory.intrinsic+json": {
              "type": "string"
            }
          },
          "metadata": {},
          "execution_count": 22
        }
      ]
    },
    {
      "cell_type": "code",
      "source": [
        "name.lower()"
      ],
      "metadata": {
        "colab": {
          "base_uri": "https://localhost:8080/",
          "height": 36
        },
        "id": "mRHZeK01dAlL",
        "outputId": "eb3a5181-718c-4b48-f18f-d72cb9025e02"
      },
      "id": "mRHZeK01dAlL",
      "execution_count": null,
      "outputs": [
        {
          "output_type": "execute_result",
          "data": {
            "text/plain": [
              "'maimoona khilji'"
            ],
            "application/vnd.google.colaboratory.intrinsic+json": {
              "type": "string"
            }
          },
          "metadata": {},
          "execution_count": 23
        }
      ]
    },
    {
      "cell_type": "code",
      "source": [
        "name.title()"
      ],
      "metadata": {
        "colab": {
          "base_uri": "https://localhost:8080/",
          "height": 36
        },
        "id": "3A06aKHOdAdr",
        "outputId": "63f0994b-1fd5-4078-94f1-384bed8f2cda"
      },
      "id": "3A06aKHOdAdr",
      "execution_count": null,
      "outputs": [
        {
          "output_type": "execute_result",
          "data": {
            "text/plain": [
              "'Maimoona Khilji'"
            ],
            "application/vnd.google.colaboratory.intrinsic+json": {
              "type": "string"
            }
          },
          "metadata": {},
          "execution_count": 24
        }
      ]
    },
    {
      "cell_type": "code",
      "source": [
        "name.capitalize()"
      ],
      "metadata": {
        "id": "zFQT8uTNZpO3",
        "colab": {
          "base_uri": "https://localhost:8080/",
          "height": 36
        },
        "outputId": "1f3d0eb3-d8cc-4501-9d21-410c54a35ad7"
      },
      "id": "zFQT8uTNZpO3",
      "execution_count": null,
      "outputs": [
        {
          "output_type": "execute_result",
          "data": {
            "text/plain": [
              "'Maimoona khilji'"
            ],
            "application/vnd.google.colaboratory.intrinsic+json": {
              "type": "string"
            }
          },
          "metadata": {},
          "execution_count": 25
        }
      ]
    },
    {
      "cell_type": "code",
      "source": [
        "name = name.title()\n",
        "name"
      ],
      "metadata": {
        "colab": {
          "base_uri": "https://localhost:8080/",
          "height": 36
        },
        "id": "SpwJp8HxdO9i",
        "outputId": "12893fae-b0a2-4e61-d370-59e4fba16ba4"
      },
      "id": "SpwJp8HxdO9i",
      "execution_count": null,
      "outputs": [
        {
          "output_type": "execute_result",
          "data": {
            "text/plain": [
              "'Maimoona Khilji'"
            ],
            "application/vnd.google.colaboratory.intrinsic+json": {
              "type": "string"
            }
          },
          "metadata": {},
          "execution_count": 26
        }
      ]
    },
    {
      "cell_type": "code",
      "source": [],
      "metadata": {
        "id": "SOv59TL4dO0x"
      },
      "id": "SOv59TL4dO0x",
      "execution_count": null,
      "outputs": []
    },
    {
      "cell_type": "markdown",
      "metadata": {
        "id": "305ded7e"
      },
      "source": [
        "#### **Check whether it is Numeric, Alphabetic or ALpha numeric**"
      ],
      "id": "305ded7e"
    },
    {
      "cell_type": "code",
      "source": [
        "age = input(\"Enter your age: \")"
      ],
      "metadata": {
        "id": "I7bAU0EnZrT0",
        "colab": {
          "base_uri": "https://localhost:8080/"
        },
        "outputId": "96eaa7a2-c5b0-4645-abce-8708d1173f29"
      },
      "id": "I7bAU0EnZrT0",
      "execution_count": null,
      "outputs": [
        {
          "name": "stdout",
          "output_type": "stream",
          "text": [
            "Enter your age: 23\n"
          ]
        }
      ]
    },
    {
      "cell_type": "code",
      "source": [
        "age.isnumeric()"
      ],
      "metadata": {
        "colab": {
          "base_uri": "https://localhost:8080/"
        },
        "id": "K0JpFSQud1MP",
        "outputId": "254accb5-98db-4ca0-bee6-72369fd8db1b"
      },
      "id": "K0JpFSQud1MP",
      "execution_count": null,
      "outputs": [
        {
          "output_type": "execute_result",
          "data": {
            "text/plain": [
              "True"
            ]
          },
          "metadata": {},
          "execution_count": 28
        }
      ]
    },
    {
      "cell_type": "code",
      "source": [
        "code = input(\"Enter your department code: \")  #DS, SE, SS, BBA"
      ],
      "metadata": {
        "colab": {
          "base_uri": "https://localhost:8080/"
        },
        "id": "6VuXl8oxeTKD",
        "outputId": "49f5444f-4665-4851-c18f-72709e0ecf25"
      },
      "id": "6VuXl8oxeTKD",
      "execution_count": null,
      "outputs": [
        {
          "name": "stdout",
          "output_type": "stream",
          "text": [
            "Enter your department code: BBA\n"
          ]
        }
      ]
    },
    {
      "cell_type": "code",
      "source": [
        "code.isalpha()  #all characters are alphabets , no extra character, no numeric value + no space"
      ],
      "metadata": {
        "colab": {
          "base_uri": "https://localhost:8080/"
        },
        "id": "1zZ82NYdd1Fi",
        "outputId": "f45ce829-32f5-4e7c-93b5-b5d9648bf772"
      },
      "id": "1zZ82NYdd1Fi",
      "execution_count": null,
      "outputs": [
        {
          "output_type": "execute_result",
          "data": {
            "text/plain": [
              "True"
            ]
          },
          "metadata": {},
          "execution_count": 30
        }
      ]
    },
    {
      "cell_type": "code",
      "source": [
        "password = input(\"Enter your password: \")"
      ],
      "metadata": {
        "colab": {
          "base_uri": "https://localhost:8080/"
        },
        "id": "MBrRvpOwd09L",
        "outputId": "596d4e9e-3772-4025-cfb9-56c5fddc49ce"
      },
      "id": "MBrRvpOwd09L",
      "execution_count": null,
      "outputs": [
        {
          "name": "stdout",
          "output_type": "stream",
          "text": [
            "Enter your password: MONA987\n"
          ]
        }
      ]
    },
    {
      "cell_type": "code",
      "source": [
        "password.isnumeric()"
      ],
      "metadata": {
        "colab": {
          "base_uri": "https://localhost:8080/"
        },
        "id": "LDY7ddfFfJSd",
        "outputId": "47668ece-7171-4f5f-9728-866a978c3b3d"
      },
      "id": "LDY7ddfFfJSd",
      "execution_count": null,
      "outputs": [
        {
          "output_type": "execute_result",
          "data": {
            "text/plain": [
              "False"
            ]
          },
          "metadata": {},
          "execution_count": 32
        }
      ]
    },
    {
      "cell_type": "code",
      "source": [
        "password.isalpha()"
      ],
      "metadata": {
        "colab": {
          "base_uri": "https://localhost:8080/"
        },
        "id": "U7VFov3PfJLL",
        "outputId": "b0a2c2ff-d4d4-4712-ea22-1dfc832a88f4"
      },
      "id": "U7VFov3PfJLL",
      "execution_count": null,
      "outputs": [
        {
          "output_type": "execute_result",
          "data": {
            "text/plain": [
              "False"
            ]
          },
          "metadata": {},
          "execution_count": 33
        }
      ]
    },
    {
      "cell_type": "code",
      "source": [
        "password.isalnum()"
      ],
      "metadata": {
        "colab": {
          "base_uri": "https://localhost:8080/"
        },
        "id": "8UOOBecTfJDJ",
        "outputId": "f029eac6-728a-4907-ffff-123180596d2f"
      },
      "id": "8UOOBecTfJDJ",
      "execution_count": null,
      "outputs": [
        {
          "output_type": "execute_result",
          "data": {
            "text/plain": [
              "True"
            ]
          },
          "metadata": {},
          "execution_count": 34
        }
      ]
    },
    {
      "cell_type": "markdown",
      "metadata": {
        "id": "934c3fff"
      },
      "source": [
        "#### **String concatenation**"
      ],
      "id": "934c3fff"
    },
    {
      "cell_type": "code",
      "source": [
        "\"maimoona\" + \" \" +\"Khilji\""
      ],
      "metadata": {
        "id": "PtSeElYeZuBg",
        "colab": {
          "base_uri": "https://localhost:8080/",
          "height": 36
        },
        "outputId": "8b6d1927-7d70-4c0b-fc06-90d1bdec24c0"
      },
      "id": "PtSeElYeZuBg",
      "execution_count": null,
      "outputs": [
        {
          "output_type": "execute_result",
          "data": {
            "text/plain": [
              "'maimoona Khilji'"
            ],
            "application/vnd.google.colaboratory.intrinsic+json": {
              "type": "string"
            }
          },
          "metadata": {},
          "execution_count": 35
        }
      ]
    },
    {
      "cell_type": "code",
      "source": [
        "data +\"-\"+ data"
      ],
      "metadata": {
        "id": "mX7BbrhzZt69",
        "colab": {
          "base_uri": "https://localhost:8080/",
          "height": 36
        },
        "outputId": "2424210a-6e73-4632-ed3d-4dd4c061aa1b"
      },
      "id": "mX7BbrhzZt69",
      "execution_count": null,
      "outputs": [
        {
          "output_type": "execute_result",
          "data": {
            "text/plain": [
              "'ABCD-ABCD'"
            ],
            "application/vnd.google.colaboratory.intrinsic+json": {
              "type": "string"
            }
          },
          "metadata": {},
          "execution_count": 36
        }
      ]
    },
    {
      "cell_type": "markdown",
      "metadata": {
        "id": "97f2fe1a"
      },
      "source": [
        "#### **Strip**"
      ],
      "id": "97f2fe1a"
    },
    {
      "cell_type": "code",
      "source": [
        "\" Maimoona Khilji       \".strip()   #trim"
      ],
      "metadata": {
        "id": "j4sFf5riZuhR",
        "colab": {
          "base_uri": "https://localhost:8080/",
          "height": 36
        },
        "outputId": "f53a0948-8688-4199-dfcd-a50934f0114f"
      },
      "id": "j4sFf5riZuhR",
      "execution_count": null,
      "outputs": [
        {
          "output_type": "execute_result",
          "data": {
            "text/plain": [
              "'Maimoona Khilji'"
            ],
            "application/vnd.google.colaboratory.intrinsic+json": {
              "type": "string"
            }
          },
          "metadata": {},
          "execution_count": 37
        }
      ]
    },
    {
      "cell_type": "code",
      "source": [
        "\" Maimoona Khilji       \".replace(\" \",\"\")"
      ],
      "metadata": {
        "id": "nbWIrxIEZuU-",
        "colab": {
          "base_uri": "https://localhost:8080/",
          "height": 36
        },
        "outputId": "f2450b8d-9b9d-4f08-9677-aeb983ffd7e5"
      },
      "id": "nbWIrxIEZuU-",
      "execution_count": null,
      "outputs": [
        {
          "output_type": "execute_result",
          "data": {
            "text/plain": [
              "'MaimoonaKhilji'"
            ],
            "application/vnd.google.colaboratory.intrinsic+json": {
              "type": "string"
            }
          },
          "metadata": {},
          "execution_count": 38
        }
      ]
    },
    {
      "cell_type": "markdown",
      "metadata": {
        "id": "bdb6c11d"
      },
      "source": [
        "#### **Split**"
      ],
      "id": "bdb6c11d"
    },
    {
      "cell_type": "code",
      "source": [
        "\"OF-123\".split(\"-\")"
      ],
      "metadata": {
        "id": "EPisaswfZv3G",
        "colab": {
          "base_uri": "https://localhost:8080/"
        },
        "outputId": "55dfa251-65f8-46cf-f643-0686bc71efb9"
      },
      "id": "EPisaswfZv3G",
      "execution_count": null,
      "outputs": [
        {
          "output_type": "execute_result",
          "data": {
            "text/plain": [
              "['OF', '123']"
            ]
          },
          "metadata": {},
          "execution_count": 39
        }
      ]
    },
    {
      "cell_type": "code",
      "source": [
        "numbers = \"1,2,3,4,5,6,7,8,9,10\"\n",
        "numbers[-1]"
      ],
      "metadata": {
        "colab": {
          "base_uri": "https://localhost:8080/",
          "height": 36
        },
        "id": "LT-jv3oegsI0",
        "outputId": "ee44b310-bbcb-4397-8ef2-775a8536d355"
      },
      "id": "LT-jv3oegsI0",
      "execution_count": null,
      "outputs": [
        {
          "output_type": "execute_result",
          "data": {
            "text/plain": [
              "'0'"
            ],
            "application/vnd.google.colaboratory.intrinsic+json": {
              "type": "string"
            }
          },
          "metadata": {},
          "execution_count": 40
        }
      ]
    },
    {
      "cell_type": "code",
      "source": [
        "numbers = numbers.split(\",\")\n",
        "numbers"
      ],
      "metadata": {
        "colab": {
          "base_uri": "https://localhost:8080/"
        },
        "id": "z3Esa_hEgsBA",
        "outputId": "51bd0052-a275-44f7-945f-1e6de639f89b"
      },
      "id": "z3Esa_hEgsBA",
      "execution_count": null,
      "outputs": [
        {
          "output_type": "execute_result",
          "data": {
            "text/plain": [
              "['1', '2', '3', '4', '5', '6', '7', '8', '9', '10']"
            ]
          },
          "metadata": {},
          "execution_count": 41
        }
      ]
    },
    {
      "cell_type": "code",
      "source": [
        "numbers[-1]"
      ],
      "metadata": {
        "id": "mJGqLMWWZvvm",
        "colab": {
          "base_uri": "https://localhost:8080/",
          "height": 36
        },
        "outputId": "847796bc-0998-49fd-9270-e9e9162d267e"
      },
      "id": "mJGqLMWWZvvm",
      "execution_count": null,
      "outputs": [
        {
          "output_type": "execute_result",
          "data": {
            "text/plain": [
              "'10'"
            ],
            "application/vnd.google.colaboratory.intrinsic+json": {
              "type": "string"
            }
          },
          "metadata": {},
          "execution_count": 42
        }
      ]
    },
    {
      "cell_type": "code",
      "source": [
        "\"maimoona khilji\".split(\" \")"
      ],
      "metadata": {
        "colab": {
          "base_uri": "https://localhost:8080/"
        },
        "id": "KJJwsPCShNXP",
        "outputId": "bb52b61c-864f-48d8-ff11-9de81133f0c1"
      },
      "id": "KJJwsPCShNXP",
      "execution_count": null,
      "outputs": [
        {
          "output_type": "execute_result",
          "data": {
            "text/plain": [
              "['maimoona', 'khilji']"
            ]
          },
          "metadata": {},
          "execution_count": 43
        }
      ]
    },
    {
      "cell_type": "code",
      "source": [
        "\"maimoon.khilji@gmail.com\".split(\"@\")"
      ],
      "metadata": {
        "colab": {
          "base_uri": "https://localhost:8080/"
        },
        "id": "yAvRe6I9hNQK",
        "outputId": "5ceaa463-fd4c-4b92-fca9-5a3bf7713cdc"
      },
      "id": "yAvRe6I9hNQK",
      "execution_count": null,
      "outputs": [
        {
          "output_type": "execute_result",
          "data": {
            "text/plain": [
              "['maimoon.khilji', 'gmail.com']"
            ]
          },
          "metadata": {},
          "execution_count": 44
        }
      ]
    },
    {
      "cell_type": "code",
      "source": [],
      "metadata": {
        "id": "dPeuSoTMhNIt"
      },
      "id": "dPeuSoTMhNIt",
      "execution_count": null,
      "outputs": []
    },
    {
      "cell_type": "markdown",
      "metadata": {
        "id": "b66093f9"
      },
      "source": [
        "#### **Join**"
      ],
      "id": "b66093f9"
    },
    {
      "cell_type": "code",
      "source": [
        "\"-\".join(\"DA5\")"
      ],
      "metadata": {
        "id": "EyH3LMW2cF73",
        "colab": {
          "base_uri": "https://localhost:8080/",
          "height": 36
        },
        "outputId": "f884adac-6d33-458c-fa77-450a436db9b3"
      },
      "id": "EyH3LMW2cF73",
      "execution_count": null,
      "outputs": [
        {
          "output_type": "execute_result",
          "data": {
            "text/plain": [
              "'D-A-5'"
            ],
            "application/vnd.google.colaboratory.intrinsic+json": {
              "type": "string"
            }
          },
          "metadata": {},
          "execution_count": 45
        }
      ]
    },
    {
      "cell_type": "code",
      "source": [
        "\"@\".join(['maimoon.khilji', 'gmail.com'])"
      ],
      "metadata": {
        "id": "XRuuAW3fZykn",
        "colab": {
          "base_uri": "https://localhost:8080/",
          "height": 36
        },
        "outputId": "d4bbf8d2-ac3c-4450-a3b0-e908598d45b5"
      },
      "id": "XRuuAW3fZykn",
      "execution_count": null,
      "outputs": [
        {
          "output_type": "execute_result",
          "data": {
            "text/plain": [
              "'maimoon.khilji@gmail.com'"
            ],
            "application/vnd.google.colaboratory.intrinsic+json": {
              "type": "string"
            }
          },
          "metadata": {},
          "execution_count": 46
        }
      ]
    },
    {
      "cell_type": "markdown",
      "source": [
        "Split: converts string into a list of multiple strings\n",
        "example: \"maimoona khilji\"  => [\"maimoona\", \"khilji\"]\n",
        "\n",
        "\n",
        "join: converts multiple strings/ values into a single string\n",
        "example: [\"maimoona\",\"khilji\"] => \"maimoona khilji\""
      ],
      "metadata": {
        "id": "W_jSemJOh1zR"
      },
      "id": "W_jSemJOh1zR"
    },
    {
      "cell_type": "markdown",
      "metadata": {
        "id": "70b1d287"
      },
      "source": [
        "#### **Replace**"
      ],
      "id": "70b1d287"
    },
    {
      "cell_type": "code",
      "source": [
        "\"I have ordered a book.\".replace(\"book\",\"pencil\")"
      ],
      "metadata": {
        "id": "-7vUgE3BZzwx",
        "colab": {
          "base_uri": "https://localhost:8080/",
          "height": 36
        },
        "outputId": "7997d5ff-e5b1-4474-e4cb-6193bfc38f67"
      },
      "id": "-7vUgE3BZzwx",
      "execution_count": null,
      "outputs": [
        {
          "output_type": "execute_result",
          "data": {
            "text/plain": [
              "'I have ordered a pencil.'"
            ],
            "application/vnd.google.colaboratory.intrinsic+json": {
              "type": "string"
            }
          },
          "metadata": {},
          "execution_count": 47
        }
      ]
    },
    {
      "cell_type": "code",
      "source": [
        "\"She is Maimoona. She has a very nice pencil.\".replace(\"She\",\"Maimoona\") #replace all"
      ],
      "metadata": {
        "id": "AOl_G4fIZzr3",
        "colab": {
          "base_uri": "https://localhost:8080/",
          "height": 36
        },
        "outputId": "8e3c6d6a-778c-4ce7-d0c7-1c80c9794ad0"
      },
      "id": "AOl_G4fIZzr3",
      "execution_count": null,
      "outputs": [
        {
          "output_type": "execute_result",
          "data": {
            "text/plain": [
              "'Maimoona is Maimoona. Maimoona has a very nice pencil.'"
            ],
            "application/vnd.google.colaboratory.intrinsic+json": {
              "type": "string"
            }
          },
          "metadata": {},
          "execution_count": 48
        }
      ]
    },
    {
      "cell_type": "markdown",
      "source": [
        "#### **Strings are immutable**\n",
        "( we can't change once it's defined)"
      ],
      "metadata": {
        "id": "FD0Uh1vljB36"
      },
      "id": "FD0Uh1vljB36"
    },
    {
      "cell_type": "code",
      "source": [
        "name = \"Maimoona khiljiiiii\"\n",
        "name"
      ],
      "metadata": {
        "colab": {
          "base_uri": "https://localhost:8080/",
          "height": 36
        },
        "id": "pi_5c9Q0mbzB",
        "outputId": "8863bfbe-e3bb-46f7-f3f3-d9b4e7937b98"
      },
      "id": "pi_5c9Q0mbzB",
      "execution_count": null,
      "outputs": [
        {
          "output_type": "execute_result",
          "data": {
            "text/plain": [
              "'Maimoona khiljiiiii'"
            ],
            "application/vnd.google.colaboratory.intrinsic+json": {
              "type": "string"
            }
          },
          "metadata": {},
          "execution_count": 49
        }
      ]
    },
    {
      "cell_type": "code",
      "source": [
        "name[15:] = \"\""
      ],
      "metadata": {
        "colab": {
          "base_uri": "https://localhost:8080/",
          "height": 141
        },
        "id": "TAsbiLHVmzOW",
        "outputId": "9bee97e5-f51a-4d3f-e772-ea3a37c37fdd"
      },
      "id": "TAsbiLHVmzOW",
      "execution_count": null,
      "outputs": [
        {
          "output_type": "error",
          "ename": "TypeError",
          "evalue": "'str' object does not support item assignment",
          "traceback": [
            "\u001b[0;31m---------------------------------------------------------------------------\u001b[0m",
            "\u001b[0;31mTypeError\u001b[0m                                 Traceback (most recent call last)",
            "\u001b[0;32m<ipython-input-50-2110746674>\u001b[0m in \u001b[0;36m<cell line: 0>\u001b[0;34m()\u001b[0m\n\u001b[0;32m----> 1\u001b[0;31m \u001b[0mname\u001b[0m\u001b[0;34m[\u001b[0m\u001b[0;36m15\u001b[0m\u001b[0;34m:\u001b[0m\u001b[0;34m]\u001b[0m \u001b[0;34m=\u001b[0m \u001b[0;34m\"\"\u001b[0m\u001b[0;34m\u001b[0m\u001b[0;34m\u001b[0m\u001b[0m\n\u001b[0m",
            "\u001b[0;31mTypeError\u001b[0m: 'str' object does not support item assignment"
          ]
        }
      ]
    },
    {
      "cell_type": "code",
      "source": [
        "name = name[:-4:]\n",
        "name"
      ],
      "metadata": {
        "colab": {
          "base_uri": "https://localhost:8080/",
          "height": 36
        },
        "id": "qw-H8-4wmbii",
        "outputId": "8bd421bd-bb71-4a18-8181-e2626c67aaf2"
      },
      "id": "qw-H8-4wmbii",
      "execution_count": null,
      "outputs": [
        {
          "output_type": "execute_result",
          "data": {
            "text/plain": [
              "'Maimoona khilji'"
            ],
            "application/vnd.google.colaboratory.intrinsic+json": {
              "type": "string"
            }
          },
          "metadata": {},
          "execution_count": 51
        }
      ]
    },
    {
      "cell_type": "markdown",
      "metadata": {
        "id": "fadc0280"
      },
      "source": [
        "#### **Index**"
      ],
      "id": "fadc0280"
    },
    {
      "cell_type": "code",
      "source": [
        "\"I have ordered a book.\".index(\"ordered\")"
      ],
      "metadata": {
        "id": "dI10iyHYZ1wH",
        "colab": {
          "base_uri": "https://localhost:8080/"
        },
        "outputId": "3aa37250-e015-41c0-f51c-d27d0e291471"
      },
      "id": "dI10iyHYZ1wH",
      "execution_count": null,
      "outputs": [
        {
          "output_type": "execute_result",
          "data": {
            "text/plain": [
              "7"
            ]
          },
          "metadata": {},
          "execution_count": 52
        }
      ]
    },
    {
      "cell_type": "code",
      "source": [
        "\"I have ordered a book\"[7:]"
      ],
      "metadata": {
        "id": "GKnctl_nZ1pv",
        "colab": {
          "base_uri": "https://localhost:8080/",
          "height": 36
        },
        "outputId": "a3f13a9b-3974-46a9-9851-1080cb34456c"
      },
      "id": "GKnctl_nZ1pv",
      "execution_count": null,
      "outputs": [
        {
          "output_type": "execute_result",
          "data": {
            "text/plain": [
              "'ordered a book'"
            ],
            "application/vnd.google.colaboratory.intrinsic+json": {
              "type": "string"
            }
          },
          "metadata": {},
          "execution_count": 53
        }
      ]
    },
    {
      "cell_type": "code",
      "source": [
        "\"maimoona khilji\".index(\"k\")"
      ],
      "metadata": {
        "colab": {
          "base_uri": "https://localhost:8080/"
        },
        "id": "ReE9EHD8jgHr",
        "outputId": "dbe23dc6-82e1-4f19-a059-ce9511324bee"
      },
      "id": "ReE9EHD8jgHr",
      "execution_count": null,
      "outputs": [
        {
          "output_type": "execute_result",
          "data": {
            "text/plain": [
              "9"
            ]
          },
          "metadata": {},
          "execution_count": 54
        }
      ]
    },
    {
      "cell_type": "code",
      "source": [
        "\"maimoona khilji\"[9:]"
      ],
      "metadata": {
        "colab": {
          "base_uri": "https://localhost:8080/",
          "height": 36
        },
        "id": "4P8NvuwwjirJ",
        "outputId": "570d752b-f05c-447f-98f8-2f096f6bf4ef"
      },
      "id": "4P8NvuwwjirJ",
      "execution_count": null,
      "outputs": [
        {
          "output_type": "execute_result",
          "data": {
            "text/plain": [
              "'khilji'"
            ],
            "application/vnd.google.colaboratory.intrinsic+json": {
              "type": "string"
            }
          },
          "metadata": {},
          "execution_count": 55
        }
      ]
    },
    {
      "cell_type": "code",
      "source": [
        "\"maimoona khilji\".index(\"i\")"
      ],
      "metadata": {
        "colab": {
          "base_uri": "https://localhost:8080/"
        },
        "id": "jLbuTY6dkSZt",
        "outputId": "b9e51223-0333-42dc-fab4-236d6e0f21c3"
      },
      "id": "jLbuTY6dkSZt",
      "execution_count": null,
      "outputs": [
        {
          "output_type": "execute_result",
          "data": {
            "text/plain": [
              "2"
            ]
          },
          "metadata": {},
          "execution_count": 56
        }
      ]
    },
    {
      "cell_type": "code",
      "source": [
        "\"maimoona khilji\".index(\"z\")"
      ],
      "metadata": {
        "colab": {
          "base_uri": "https://localhost:8080/",
          "height": 141
        },
        "id": "VcJ7ROqujoBI",
        "outputId": "3cfce79c-d5f9-40be-8073-c1fb3b5241fa"
      },
      "id": "VcJ7ROqujoBI",
      "execution_count": null,
      "outputs": [
        {
          "output_type": "error",
          "ename": "ValueError",
          "evalue": "substring not found",
          "traceback": [
            "\u001b[0;31m---------------------------------------------------------------------------\u001b[0m",
            "\u001b[0;31mValueError\u001b[0m                                Traceback (most recent call last)",
            "\u001b[0;32m<ipython-input-57-4105370540>\u001b[0m in \u001b[0;36m<cell line: 0>\u001b[0;34m()\u001b[0m\n\u001b[0;32m----> 1\u001b[0;31m \u001b[0;34m\"maimoona khilji\"\u001b[0m\u001b[0;34m.\u001b[0m\u001b[0mindex\u001b[0m\u001b[0;34m(\u001b[0m\u001b[0;34m\"z\"\u001b[0m\u001b[0;34m)\u001b[0m\u001b[0;34m\u001b[0m\u001b[0;34m\u001b[0m\u001b[0m\n\u001b[0m",
            "\u001b[0;31mValueError\u001b[0m: substring not found"
          ]
        }
      ]
    },
    {
      "cell_type": "code",
      "source": [
        "s = \"DataScience\"\n",
        "print(s[4:10])"
      ],
      "metadata": {
        "colab": {
          "base_uri": "https://localhost:8080/"
        },
        "id": "dTi3tpWwlzVI",
        "outputId": "58e2df10-e540-42b9-d1b1-c7f2d6bf3cb9"
      },
      "id": "dTi3tpWwlzVI",
      "execution_count": null,
      "outputs": [
        {
          "output_type": "stream",
          "name": "stdout",
          "text": [
            "Scienc\n"
          ]
        }
      ]
    },
    {
      "cell_type": "markdown",
      "metadata": {
        "id": "0413efd8"
      },
      "source": [
        "#### **Find**"
      ],
      "id": "0413efd8"
    },
    {
      "cell_type": "code",
      "source": [
        "\"maimoona khilji\".find(\"z\")   #-1 refers to substring not found"
      ],
      "metadata": {
        "id": "bRN7yDUVZ3lR",
        "colab": {
          "base_uri": "https://localhost:8080/"
        },
        "outputId": "f969cd51-849e-49d8-e5e8-4915c2d2309d"
      },
      "id": "bRN7yDUVZ3lR",
      "execution_count": null,
      "outputs": [
        {
          "output_type": "execute_result",
          "data": {
            "text/plain": [
              "-1"
            ]
          },
          "metadata": {},
          "execution_count": 59
        }
      ]
    },
    {
      "cell_type": "code",
      "source": [
        "\"maimoona khilji\".find(\"k\")"
      ],
      "metadata": {
        "id": "bboNor57Z3fm",
        "colab": {
          "base_uri": "https://localhost:8080/"
        },
        "outputId": "7c2f1722-3954-4d35-caf6-86de00e813a6"
      },
      "id": "bboNor57Z3fm",
      "execution_count": null,
      "outputs": [
        {
          "output_type": "execute_result",
          "data": {
            "text/plain": [
              "9"
            ]
          },
          "metadata": {},
          "execution_count": 60
        }
      ]
    },
    {
      "cell_type": "code",
      "source": [
        "data"
      ],
      "metadata": {
        "id": "zXcLMiWjZ3aK",
        "colab": {
          "base_uri": "https://localhost:8080/",
          "height": 36
        },
        "outputId": "44785892-9fd2-4c43-a191-3b9a9a84446b"
      },
      "id": "zXcLMiWjZ3aK",
      "execution_count": null,
      "outputs": [
        {
          "output_type": "execute_result",
          "data": {
            "text/plain": [
              "'ABCD'"
            ],
            "application/vnd.google.colaboratory.intrinsic+json": {
              "type": "string"
            }
          },
          "metadata": {},
          "execution_count": 61
        }
      ]
    },
    {
      "cell_type": "markdown",
      "metadata": {
        "id": "906a276a"
      },
      "source": [
        "#### **Delete a string**"
      ],
      "id": "906a276a"
    },
    {
      "cell_type": "code",
      "source": [
        "del data"
      ],
      "metadata": {
        "id": "Dq3Njh05Z4AN"
      },
      "id": "Dq3Njh05Z4AN",
      "execution_count": null,
      "outputs": []
    },
    {
      "cell_type": "code",
      "source": [
        "data"
      ],
      "metadata": {
        "id": "Rd1vnm6lZ353",
        "colab": {
          "base_uri": "https://localhost:8080/",
          "height": 141
        },
        "outputId": "2fbb6772-db36-4c59-8001-5a8aea0394ec"
      },
      "id": "Rd1vnm6lZ353",
      "execution_count": null,
      "outputs": [
        {
          "output_type": "error",
          "ename": "NameError",
          "evalue": "name 'data' is not defined",
          "traceback": [
            "\u001b[0;31m---------------------------------------------------------------------------\u001b[0m",
            "\u001b[0;31mNameError\u001b[0m                                 Traceback (most recent call last)",
            "\u001b[0;32m<ipython-input-63-391604064>\u001b[0m in \u001b[0;36m<cell line: 0>\u001b[0;34m()\u001b[0m\n\u001b[0;32m----> 1\u001b[0;31m \u001b[0mdata\u001b[0m\u001b[0;34m\u001b[0m\u001b[0;34m\u001b[0m\u001b[0m\n\u001b[0m",
            "\u001b[0;31mNameError\u001b[0m: name 'data' is not defined"
          ]
        }
      ]
    },
    {
      "cell_type": "markdown",
      "source": [
        "### **Task: User Input Form Data Cleaning**\n",
        "You're building a web form for user sign-up and you need to clean and process the input."
      ],
      "metadata": {
        "id": "8EWvlDGpNes7"
      },
      "id": "8EWvlDGpNes7"
    },
    {
      "cell_type": "code",
      "source": [
        "# 1. Ask a user's full name, age and email:\n",
        "name = input(\"Enter your name: \")\n",
        "age = input(\"Enter your age: \")\n",
        "email = input(\"Enter your email: \")\n",
        "\n"
      ],
      "metadata": {
        "id": "YfvuSFfKNkdM",
        "colab": {
          "base_uri": "https://localhost:8080/"
        },
        "outputId": "00066671-b5ea-4d2f-beea-1acf5ba89640"
      },
      "id": "YfvuSFfKNkdM",
      "execution_count": null,
      "outputs": [
        {
          "name": "stdout",
          "output_type": "stream",
          "text": [
            "Enter your name:     MaiMooNa khilJi   \n",
            "Enter your age: 23\n",
            "Enter your email: maimoon.khilji@gmail.com\n"
          ]
        }
      ]
    },
    {
      "cell_type": "code",
      "source": [
        "\n",
        "# 2. Remove extra spaces before saving:\n",
        "name = name.strip()\n",
        "print(\"Update name: \",name)\n",
        "\n",
        "# 3. Normalize name case:\n",
        "name = name.title()\n",
        "print(name)\n",
        "\n",
        "# 4. Get the first letter for user profile icon:\n",
        "print(name[0])\n",
        "\n",
        "# 5. Split the full name into parts:\n",
        "first_name, last_name = name.split(\" \")   #unpack\n",
        "print(\"First name:\",first_name, \", last name: \",last_name )\n",
        "\n",
        "# 6. Extract only the first name:\n",
        "print(first_name)\n",
        "\n",
        "# 7. Join first and last names with a hyphen:\n",
        "combine = \"-\".join([first_name,last_name])\n",
        "print(combine)\n",
        "\n",
        "# 8. Create a welcome message\n",
        "print(\"hello,\", name)\n",
        "\n",
        "# 9. Validate if age is numeric\n",
        "print(age.isnumeric())\n",
        "\n",
        "# 10. Check if there is @ in email.\n",
        "print(\"@\" in email)\n",
        "\n",
        "# 11. Check position of @ in email:\n",
        "print(email.find(\"@\"))\n",
        "\n",
        "# 12. After form is submitted, delete raw input:\n",
        "del name, age, email\n"
      ],
      "metadata": {
        "colab": {
          "base_uri": "https://localhost:8080/"
        },
        "id": "uImvDMm9njBX",
        "outputId": "c7507086-afb7-4f99-ad37-9e6ad615e633"
      },
      "id": "uImvDMm9njBX",
      "execution_count": null,
      "outputs": [
        {
          "output_type": "stream",
          "name": "stdout",
          "text": [
            "Update name:  MaiMooNa khilJi\n",
            "Maimoona Khilji\n",
            "M\n",
            "First name: Maimoona , last name:  Khilji\n",
            "Maimoona\n",
            "Maimoona-Khilji\n",
            "hello, Maimoona Khilji\n",
            "True\n",
            "True\n",
            "14\n"
          ]
        }
      ]
    },
    {
      "cell_type": "code",
      "source": [
        "name = \"M 1234\"\n",
        "type(name[3])"
      ],
      "metadata": {
        "colab": {
          "base_uri": "https://localhost:8080/"
        },
        "id": "PbcRBssQnivF",
        "outputId": "37b4b20a-0220-4126-8092-b948c90ecbc2"
      },
      "id": "PbcRBssQnivF",
      "execution_count": null,
      "outputs": [
        {
          "output_type": "execute_result",
          "data": {
            "text/plain": [
              "str"
            ]
          },
          "metadata": {},
          "execution_count": 67
        }
      ]
    },
    {
      "cell_type": "markdown",
      "metadata": {
        "id": "bd49794e"
      },
      "source": [
        "## List\n",
        "\n",
        "- collection of items or values\n",
        "- you can store data of any datatype\n",
        "- Define using [ ]"
      ],
      "id": "bd49794e"
    },
    {
      "cell_type": "markdown",
      "source": [
        "### **Define a list**"
      ],
      "metadata": {
        "id": "4DqGfOLLCYaQ"
      },
      "id": "4DqGfOLLCYaQ"
    },
    {
      "cell_type": "code",
      "source": [
        "dummy_list = [1, \"maimoona khilji\",23, 5.1,\"DS\",True]\n",
        "dummy_list"
      ],
      "metadata": {
        "colab": {
          "base_uri": "https://localhost:8080/"
        },
        "id": "fSpyPYzkr9wM",
        "outputId": "c9ba2d1e-d868-4ee4-e6a8-fa480e273ee5"
      },
      "id": "fSpyPYzkr9wM",
      "execution_count": null,
      "outputs": [
        {
          "output_type": "execute_result",
          "data": {
            "text/plain": [
              "[1, 'maimoona khilji', 23, 5.1, 'DS', True]"
            ]
          },
          "metadata": {},
          "execution_count": 68
        }
      ]
    },
    {
      "cell_type": "code",
      "source": [
        "type(dummy_list)"
      ],
      "metadata": {
        "colab": {
          "base_uri": "https://localhost:8080/"
        },
        "id": "5_RkZUc1r76F",
        "outputId": "6cac12f0-2083-467a-f82d-0d69507daa71"
      },
      "id": "5_RkZUc1r76F",
      "execution_count": null,
      "outputs": [
        {
          "output_type": "execute_result",
          "data": {
            "text/plain": [
              "list"
            ]
          },
          "metadata": {},
          "execution_count": 69
        }
      ]
    },
    {
      "cell_type": "code",
      "source": [
        "type(dummy_list[-1])"
      ],
      "metadata": {
        "colab": {
          "base_uri": "https://localhost:8080/"
        },
        "id": "91JWu5MAr7wt",
        "outputId": "ef8c8d4a-9c8c-4100-a892-f298bc760722"
      },
      "id": "91JWu5MAr7wt",
      "execution_count": null,
      "outputs": [
        {
          "output_type": "execute_result",
          "data": {
            "text/plain": [
              "bool"
            ]
          },
          "metadata": {},
          "execution_count": 70
        }
      ]
    },
    {
      "cell_type": "code",
      "source": [
        "dummy_list = [[1, \"maimoona khilji\",23, 5.1,\"DS\",True],[2,\"Ahmad khan\",23,5.6,\"DS\",True]]\n",
        "dummy_list"
      ],
      "metadata": {
        "colab": {
          "base_uri": "https://localhost:8080/"
        },
        "id": "PNh5Wdh4sOov",
        "outputId": "89e7da7b-fc7d-4b33-e23d-f74bc0ca1e96"
      },
      "id": "PNh5Wdh4sOov",
      "execution_count": null,
      "outputs": [
        {
          "output_type": "execute_result",
          "data": {
            "text/plain": [
              "[[1, 'maimoona khilji', 23, 5.1, 'DS', True],\n",
              " [2, 'Ahmad khan', 23, 5.6, 'DS', True]]"
            ]
          },
          "metadata": {},
          "execution_count": 71
        }
      ]
    },
    {
      "cell_type": "code",
      "source": [
        "dummy_list[1]"
      ],
      "metadata": {
        "colab": {
          "base_uri": "https://localhost:8080/"
        },
        "id": "Fjub9eG2sk5Z",
        "outputId": "d7a3442d-d588-4719-e4e0-32eeaacdd85b"
      },
      "id": "Fjub9eG2sk5Z",
      "execution_count": null,
      "outputs": [
        {
          "output_type": "execute_result",
          "data": {
            "text/plain": [
              "[2, 'Ahmad khan', 23, 5.6, 'DS', True]"
            ]
          },
          "metadata": {},
          "execution_count": 72
        }
      ]
    },
    {
      "cell_type": "code",
      "source": [],
      "metadata": {
        "id": "XR5a1cvxsOzx"
      },
      "id": "XR5a1cvxsOzx",
      "execution_count": null,
      "outputs": []
    },
    {
      "cell_type": "code",
      "source": [
        "department = [\"BBA\",\"IT\",\"Social Sciences\",\"Engineering\"]\n",
        "department"
      ],
      "metadata": {
        "id": "ltlripTuaChj",
        "colab": {
          "base_uri": "https://localhost:8080/"
        },
        "outputId": "37b6e5b8-b737-49bf-ed8a-a712c4a523c7"
      },
      "id": "ltlripTuaChj",
      "execution_count": null,
      "outputs": [
        {
          "output_type": "execute_result",
          "data": {
            "text/plain": [
              "['BBA', 'IT', 'Social Sciences', 'Engineering']"
            ]
          },
          "metadata": {},
          "execution_count": 73
        }
      ]
    },
    {
      "cell_type": "code",
      "source": [
        "len(department)"
      ],
      "metadata": {
        "colab": {
          "base_uri": "https://localhost:8080/"
        },
        "id": "J4Yl0--1qDYj",
        "outputId": "eef0b2dd-3778-406e-ce58-ff87c096c9af"
      },
      "id": "J4Yl0--1qDYj",
      "execution_count": null,
      "outputs": [
        {
          "output_type": "execute_result",
          "data": {
            "text/plain": [
              "4"
            ]
          },
          "metadata": {},
          "execution_count": 74
        }
      ]
    },
    {
      "cell_type": "markdown",
      "source": [
        "### **Indexing**"
      ],
      "metadata": {
        "id": "FOVEQnOuCboh"
      },
      "id": "FOVEQnOuCboh"
    },
    {
      "cell_type": "code",
      "source": [
        "department[0]"
      ],
      "metadata": {
        "id": "MBLHciXBaDqp",
        "colab": {
          "base_uri": "https://localhost:8080/",
          "height": 36
        },
        "outputId": "ed97be93-dc94-453c-d704-6dd2d74803d3"
      },
      "id": "MBLHciXBaDqp",
      "execution_count": null,
      "outputs": [
        {
          "output_type": "execute_result",
          "data": {
            "text/plain": [
              "'BBA'"
            ],
            "application/vnd.google.colaboratory.intrinsic+json": {
              "type": "string"
            }
          },
          "metadata": {},
          "execution_count": 75
        }
      ]
    },
    {
      "cell_type": "code",
      "source": [
        "department[-1]"
      ],
      "metadata": {
        "id": "RhbatsZvaDlc",
        "colab": {
          "base_uri": "https://localhost:8080/",
          "height": 36
        },
        "outputId": "8fb8b95d-3c37-4168-fa10-489ec5f61847"
      },
      "id": "RhbatsZvaDlc",
      "execution_count": null,
      "outputs": [
        {
          "output_type": "execute_result",
          "data": {
            "text/plain": [
              "'Engineering'"
            ],
            "application/vnd.google.colaboratory.intrinsic+json": {
              "type": "string"
            }
          },
          "metadata": {},
          "execution_count": 76
        }
      ]
    },
    {
      "cell_type": "markdown",
      "source": [
        "### **Slicing**"
      ],
      "metadata": {
        "id": "iXGnh1qTCfAE"
      },
      "id": "iXGnh1qTCfAE"
    },
    {
      "cell_type": "code",
      "source": [
        "department[1::2]"
      ],
      "metadata": {
        "id": "9nNErS06aFJp",
        "colab": {
          "base_uri": "https://localhost:8080/"
        },
        "outputId": "ac00e4be-7caa-479e-c383-b714c5c033fe"
      },
      "id": "9nNErS06aFJp",
      "execution_count": null,
      "outputs": [
        {
          "output_type": "execute_result",
          "data": {
            "text/plain": [
              "['IT', 'Engineering']"
            ]
          },
          "metadata": {},
          "execution_count": 77
        }
      ]
    },
    {
      "cell_type": "markdown",
      "metadata": {
        "id": "a7f1fd63"
      },
      "source": [
        "### **Update a value**"
      ],
      "id": "a7f1fd63"
    },
    {
      "cell_type": "code",
      "source": [
        "department"
      ],
      "metadata": {
        "id": "mekUnEnnaGTp",
        "colab": {
          "base_uri": "https://localhost:8080/"
        },
        "outputId": "98b2cd85-c44c-491b-e8f1-5eb0b4203793"
      },
      "id": "mekUnEnnaGTp",
      "execution_count": null,
      "outputs": [
        {
          "output_type": "execute_result",
          "data": {
            "text/plain": [
              "['BBA', 'IT', 'Social Sciences', 'Engineering']"
            ]
          },
          "metadata": {},
          "execution_count": 78
        }
      ]
    },
    {
      "cell_type": "code",
      "source": [
        "department[2] = \"Medical\"\n",
        "department"
      ],
      "metadata": {
        "id": "ZcTpb2OTaGOZ",
        "colab": {
          "base_uri": "https://localhost:8080/"
        },
        "outputId": "f0c95998-f471-4d4d-e496-4418691d4d2d"
      },
      "id": "ZcTpb2OTaGOZ",
      "execution_count": null,
      "outputs": [
        {
          "output_type": "execute_result",
          "data": {
            "text/plain": [
              "['BBA', 'IT', 'Medical', 'Engineering']"
            ]
          },
          "metadata": {},
          "execution_count": 79
        }
      ]
    },
    {
      "cell_type": "code",
      "source": [
        "department[-1] = \"Electrical\""
      ],
      "metadata": {
        "id": "qZySQx3yqvWg"
      },
      "id": "qZySQx3yqvWg",
      "execution_count": null,
      "outputs": []
    },
    {
      "cell_type": "code",
      "source": [
        "department"
      ],
      "metadata": {
        "colab": {
          "base_uri": "https://localhost:8080/"
        },
        "id": "4q2SONyRqvMd",
        "outputId": "9a3fc53f-e4ff-460f-8902-9e9158c7868b"
      },
      "id": "4q2SONyRqvMd",
      "execution_count": null,
      "outputs": [
        {
          "output_type": "execute_result",
          "data": {
            "text/plain": [
              "['BBA', 'IT', 'Medical', 'Electrical']"
            ]
          },
          "metadata": {},
          "execution_count": 81
        }
      ]
    },
    {
      "cell_type": "markdown",
      "metadata": {
        "id": "b19bbd06"
      },
      "source": [
        "### **Insert a value at specific index**"
      ],
      "id": "b19bbd06"
    },
    {
      "cell_type": "code",
      "source": [
        "department.insert(1,\"Data science\")\n",
        "department"
      ],
      "metadata": {
        "id": "LKHqgUXmaH2q",
        "colab": {
          "base_uri": "https://localhost:8080/"
        },
        "outputId": "e05d02bd-300b-462d-b102-a6a8182e85f2"
      },
      "id": "LKHqgUXmaH2q",
      "execution_count": null,
      "outputs": [
        {
          "output_type": "execute_result",
          "data": {
            "text/plain": [
              "['BBA', 'Data science', 'IT', 'Medical', 'Electrical']"
            ]
          },
          "metadata": {},
          "execution_count": 82
        }
      ]
    },
    {
      "cell_type": "code",
      "source": [],
      "metadata": {
        "id": "vTdaEZrgaHxZ"
      },
      "id": "vTdaEZrgaHxZ",
      "execution_count": null,
      "outputs": []
    },
    {
      "cell_type": "markdown",
      "metadata": {
        "id": "f87dd296"
      },
      "source": [
        "### **Append**"
      ],
      "id": "f87dd296"
    },
    {
      "cell_type": "code",
      "source": [
        "department.append(\"Computer Science\")\n",
        "department"
      ],
      "metadata": {
        "id": "lq9RSFIRaJFa",
        "colab": {
          "base_uri": "https://localhost:8080/"
        },
        "outputId": "76393b9b-7c46-452d-9331-98c83050a535"
      },
      "id": "lq9RSFIRaJFa",
      "execution_count": null,
      "outputs": [
        {
          "output_type": "execute_result",
          "data": {
            "text/plain": [
              "['BBA', 'Data science', 'IT', 'Medical', 'Electrical', 'Computer Science']"
            ]
          },
          "metadata": {},
          "execution_count": 83
        }
      ]
    },
    {
      "cell_type": "code",
      "source": [
        "department.append(\"AI\")\n",
        "department"
      ],
      "metadata": {
        "id": "V4gOd7nXaJAG",
        "colab": {
          "base_uri": "https://localhost:8080/"
        },
        "outputId": "f469a4d9-d39a-4e9a-94c4-d896dca28750"
      },
      "id": "V4gOd7nXaJAG",
      "execution_count": null,
      "outputs": [
        {
          "output_type": "execute_result",
          "data": {
            "text/plain": [
              "['BBA',\n",
              " 'Data science',\n",
              " 'IT',\n",
              " 'Medical',\n",
              " 'Electrical',\n",
              " 'Computer Science',\n",
              " 'AI']"
            ]
          },
          "metadata": {},
          "execution_count": 84
        }
      ]
    },
    {
      "cell_type": "code",
      "source": [
        "department"
      ],
      "metadata": {
        "colab": {
          "base_uri": "https://localhost:8080/"
        },
        "id": "Bmp70caEuiLe",
        "outputId": "90ee1172-0974-4041-f82d-6f312972d280"
      },
      "id": "Bmp70caEuiLe",
      "execution_count": null,
      "outputs": [
        {
          "output_type": "execute_result",
          "data": {
            "text/plain": [
              "['BBA',\n",
              " 'Data science',\n",
              " 'IT',\n",
              " 'Medical',\n",
              " 'Electrical',\n",
              " 'Computer Science',\n",
              " 'AI']"
            ]
          },
          "metadata": {},
          "execution_count": 85
        }
      ]
    },
    {
      "cell_type": "code",
      "source": [
        "department.append([\"Software engineering\",\"AI\"])\n",
        "department"
      ],
      "metadata": {
        "colab": {
          "base_uri": "https://localhost:8080/"
        },
        "id": "-hyhFmwVuhuM",
        "outputId": "e83eb823-1f9d-4494-9f65-70138293e783"
      },
      "id": "-hyhFmwVuhuM",
      "execution_count": null,
      "outputs": [
        {
          "output_type": "execute_result",
          "data": {
            "text/plain": [
              "['BBA',\n",
              " 'Data science',\n",
              " 'IT',\n",
              " 'Medical',\n",
              " 'Electrical',\n",
              " 'Computer Science',\n",
              " 'AI',\n",
              " ['Software engineering', 'AI']]"
            ]
          },
          "metadata": {},
          "execution_count": 86
        }
      ]
    },
    {
      "cell_type": "code",
      "source": [
        "department[-1]"
      ],
      "metadata": {
        "colab": {
          "base_uri": "https://localhost:8080/"
        },
        "id": "jyNUcdaKuqCm",
        "outputId": "df4735d7-8b98-40c0-aa69-d79779046d12"
      },
      "id": "jyNUcdaKuqCm",
      "execution_count": null,
      "outputs": [
        {
          "output_type": "execute_result",
          "data": {
            "text/plain": [
              "['Software engineering', 'AI']"
            ]
          },
          "metadata": {},
          "execution_count": 87
        }
      ]
    },
    {
      "cell_type": "markdown",
      "metadata": {
        "id": "a9b0c2dc"
      },
      "source": [
        "### **Extend**"
      ],
      "id": "a9b0c2dc"
    },
    {
      "cell_type": "code",
      "source": [
        "department.extend([\"cyber security\",\"English\",\"Social sciences\"])\n",
        "department"
      ],
      "metadata": {
        "id": "kbiuKiBOaL8z",
        "colab": {
          "base_uri": "https://localhost:8080/"
        },
        "outputId": "cd562333-e675-4698-a966-375fd6c76352"
      },
      "id": "kbiuKiBOaL8z",
      "execution_count": null,
      "outputs": [
        {
          "output_type": "execute_result",
          "data": {
            "text/plain": [
              "['BBA',\n",
              " 'Data science',\n",
              " 'IT',\n",
              " 'Medical',\n",
              " 'Electrical',\n",
              " 'Computer Science',\n",
              " 'AI',\n",
              " ['Software engineering', 'AI'],\n",
              " 'cyber security',\n",
              " 'English',\n",
              " 'Social sciences']"
            ]
          },
          "metadata": {},
          "execution_count": 88
        }
      ]
    },
    {
      "cell_type": "markdown",
      "source": [
        "1. insert=> adds a value at specific index\n",
        "2. append=> adds a value at the end of the list\n",
        "3. extend=> adds multiple values at the end of the list"
      ],
      "metadata": {
        "id": "ApcxJrrvrtNt"
      },
      "id": "ApcxJrrvrtNt"
    },
    {
      "cell_type": "code",
      "source": [],
      "metadata": {
        "id": "b05-KQvyaL2a"
      },
      "id": "b05-KQvyaL2a",
      "execution_count": null,
      "outputs": []
    },
    {
      "cell_type": "markdown",
      "metadata": {
        "id": "bdfefc1c"
      },
      "source": [
        "### **Remove**"
      ],
      "id": "bdfefc1c"
    },
    {
      "cell_type": "code",
      "source": [
        "department.remove(\"English\")"
      ],
      "metadata": {
        "id": "M6HcNeJbaN1j"
      },
      "id": "M6HcNeJbaN1j",
      "execution_count": null,
      "outputs": []
    },
    {
      "cell_type": "code",
      "source": [
        "department"
      ],
      "metadata": {
        "id": "Yr8CRF7xaNjJ",
        "colab": {
          "base_uri": "https://localhost:8080/"
        },
        "outputId": "381c1eee-dc23-4fb8-a72f-7ac60975483c"
      },
      "id": "Yr8CRF7xaNjJ",
      "execution_count": null,
      "outputs": [
        {
          "output_type": "execute_result",
          "data": {
            "text/plain": [
              "['BBA',\n",
              " 'Data science',\n",
              " 'IT',\n",
              " 'Medical',\n",
              " 'Electrical',\n",
              " 'Computer Science',\n",
              " 'AI',\n",
              " ['Software engineering', 'AI'],\n",
              " 'cyber security',\n",
              " 'Social sciences']"
            ]
          },
          "metadata": {},
          "execution_count": 90
        }
      ]
    },
    {
      "cell_type": "code",
      "source": [
        "department.remove( ['Software engineering', 'AI'])"
      ],
      "metadata": {
        "id": "VT-KqJ5OuH0X"
      },
      "id": "VT-KqJ5OuH0X",
      "execution_count": null,
      "outputs": []
    },
    {
      "cell_type": "code",
      "source": [
        "department"
      ],
      "metadata": {
        "colab": {
          "base_uri": "https://localhost:8080/"
        },
        "id": "RZ3I99EnyiXT",
        "outputId": "172c65ba-bc7a-47d7-8412-c39a3c24bc05"
      },
      "id": "RZ3I99EnyiXT",
      "execution_count": null,
      "outputs": [
        {
          "output_type": "execute_result",
          "data": {
            "text/plain": [
              "['BBA',\n",
              " 'Data science',\n",
              " 'IT',\n",
              " 'Medical',\n",
              " 'Electrical',\n",
              " 'Computer Science',\n",
              " 'AI',\n",
              " 'cyber security',\n",
              " 'Social sciences']"
            ]
          },
          "metadata": {},
          "execution_count": 93
        }
      ]
    },
    {
      "cell_type": "code",
      "source": [
        "department.remove(\"BBA\")"
      ],
      "metadata": {
        "id": "MP1LJAAoyeh9"
      },
      "id": "MP1LJAAoyeh9",
      "execution_count": null,
      "outputs": []
    },
    {
      "cell_type": "code",
      "source": [
        "removed_element = department.remove(\"IT\")"
      ],
      "metadata": {
        "id": "-ITwBtebynYR"
      },
      "id": "-ITwBtebynYR",
      "execution_count": null,
      "outputs": []
    },
    {
      "cell_type": "code",
      "source": [
        "print(removed_element)"
      ],
      "metadata": {
        "colab": {
          "base_uri": "https://localhost:8080/"
        },
        "id": "ACMqQonOyqGc",
        "outputId": "ae87c77f-7362-4a1e-8c89-33bc0ad7a286"
      },
      "id": "ACMqQonOyqGc",
      "execution_count": null,
      "outputs": [
        {
          "output_type": "stream",
          "name": "stdout",
          "text": [
            "None\n"
          ]
        }
      ]
    },
    {
      "cell_type": "markdown",
      "metadata": {
        "id": "a658a19c"
      },
      "source": [
        "### **Pop**"
      ],
      "id": "a658a19c"
    },
    {
      "cell_type": "code",
      "source": [
        "department"
      ],
      "metadata": {
        "id": "E4x-20QGaRKb",
        "colab": {
          "base_uri": "https://localhost:8080/"
        },
        "outputId": "72f0e23a-37c7-40be-a9dc-80e0023e63fd"
      },
      "id": "E4x-20QGaRKb",
      "execution_count": null,
      "outputs": [
        {
          "output_type": "execute_result",
          "data": {
            "text/plain": [
              "['Data science',\n",
              " 'Medical',\n",
              " 'Electrical',\n",
              " 'Computer Science',\n",
              " 'AI',\n",
              " 'cyber security',\n",
              " 'Social sciences']"
            ]
          },
          "metadata": {},
          "execution_count": 97
        }
      ]
    },
    {
      "cell_type": "code",
      "source": [
        "department.pop()  #By default it will remove element from -1"
      ],
      "metadata": {
        "id": "Ikn2xVuFaRE9",
        "colab": {
          "base_uri": "https://localhost:8080/",
          "height": 36
        },
        "outputId": "aef3ace8-a3d8-43ee-ed66-29cb737edd0e"
      },
      "id": "Ikn2xVuFaRE9",
      "execution_count": null,
      "outputs": [
        {
          "output_type": "execute_result",
          "data": {
            "text/plain": [
              "'Social sciences'"
            ],
            "application/vnd.google.colaboratory.intrinsic+json": {
              "type": "string"
            }
          },
          "metadata": {},
          "execution_count": 98
        }
      ]
    },
    {
      "cell_type": "code",
      "source": [
        "department.pop(5)"
      ],
      "metadata": {
        "colab": {
          "base_uri": "https://localhost:8080/",
          "height": 36
        },
        "id": "XFrmPuiJvXOm",
        "outputId": "17780525-743e-4fc9-fa97-686379dff2a5"
      },
      "id": "XFrmPuiJvXOm",
      "execution_count": null,
      "outputs": [
        {
          "output_type": "execute_result",
          "data": {
            "text/plain": [
              "'cyber security'"
            ],
            "application/vnd.google.colaboratory.intrinsic+json": {
              "type": "string"
            }
          },
          "metadata": {},
          "execution_count": 99
        }
      ]
    },
    {
      "cell_type": "code",
      "source": [
        "department"
      ],
      "metadata": {
        "colab": {
          "base_uri": "https://localhost:8080/"
        },
        "id": "36UlVnG4yyTs",
        "outputId": "d7b7d809-4db0-4965-d5b3-de1431483329"
      },
      "id": "36UlVnG4yyTs",
      "execution_count": null,
      "outputs": [
        {
          "output_type": "execute_result",
          "data": {
            "text/plain": [
              "['Data science', 'Medical', 'Electrical', 'Computer Science', 'AI']"
            ]
          },
          "metadata": {},
          "execution_count": 100
        }
      ]
    },
    {
      "cell_type": "code",
      "source": [
        "backup = []\n",
        "\n",
        "removed_element= department.pop(1)\n",
        "\n",
        "backup.append(removed_element)"
      ],
      "metadata": {
        "id": "vgLWCWnwyv4u"
      },
      "id": "vgLWCWnwyv4u",
      "execution_count": null,
      "outputs": []
    },
    {
      "cell_type": "code",
      "source": [
        "department"
      ],
      "metadata": {
        "colab": {
          "base_uri": "https://localhost:8080/"
        },
        "id": "-vDvqXY4zEZJ",
        "outputId": "1b00e1ee-a755-43f2-ad71-f173e54d7300"
      },
      "id": "-vDvqXY4zEZJ",
      "execution_count": null,
      "outputs": [
        {
          "output_type": "execute_result",
          "data": {
            "text/plain": [
              "['Data science', 'Electrical', 'Computer Science', 'AI']"
            ]
          },
          "metadata": {},
          "execution_count": 102
        }
      ]
    },
    {
      "cell_type": "code",
      "source": [
        "backup"
      ],
      "metadata": {
        "colab": {
          "base_uri": "https://localhost:8080/"
        },
        "id": "kG1rngyFzGJi",
        "outputId": "8db31afb-dc9e-449c-ecf5-7c364bc066b9"
      },
      "id": "kG1rngyFzGJi",
      "execution_count": null,
      "outputs": [
        {
          "output_type": "execute_result",
          "data": {
            "text/plain": [
              "['Medical']"
            ]
          },
          "metadata": {},
          "execution_count": 103
        }
      ]
    },
    {
      "cell_type": "markdown",
      "source": [
        "pop\n",
        "1. it displays the value that is going to be removed\n",
        "2. remove the elements/values using index number"
      ],
      "metadata": {
        "id": "fzkSRkuWvbMn"
      },
      "id": "fzkSRkuWvbMn"
    },
    {
      "cell_type": "markdown",
      "metadata": {
        "id": "89762e59"
      },
      "source": [
        "### **Double indexing**"
      ],
      "id": "89762e59"
    },
    {
      "cell_type": "code",
      "source": [
        "dummy_list = [[1, \"maimoona khilji\",23, 5.1,\"DS\",True], [2,\"Ahmad khan\",23,5.6,\"DS\",True]]\n",
        "dummy_list"
      ],
      "metadata": {
        "id": "-k_RFcJWaRzT",
        "colab": {
          "base_uri": "https://localhost:8080/"
        },
        "outputId": "088b352c-a89e-4b8d-bf6c-c290aca63323"
      },
      "id": "-k_RFcJWaRzT",
      "execution_count": null,
      "outputs": [
        {
          "output_type": "execute_result",
          "data": {
            "text/plain": [
              "[[1, 'maimoona khilji', 23, 5.1, 'DS', True],\n",
              " [2, 'Ahmad khan', 23, 5.6, 'DS', True]]"
            ]
          },
          "metadata": {},
          "execution_count": 104
        }
      ]
    },
    {
      "cell_type": "code",
      "source": [
        "dummy_list[0][4]"
      ],
      "metadata": {
        "id": "cMM8XUSUaRse",
        "colab": {
          "base_uri": "https://localhost:8080/",
          "height": 36
        },
        "outputId": "fd007f96-419b-4c47-abad-7376074cd9d6"
      },
      "id": "cMM8XUSUaRse",
      "execution_count": null,
      "outputs": [
        {
          "output_type": "execute_result",
          "data": {
            "text/plain": [
              "'DS'"
            ],
            "application/vnd.google.colaboratory.intrinsic+json": {
              "type": "string"
            }
          },
          "metadata": {},
          "execution_count": 105
        }
      ]
    },
    {
      "cell_type": "code",
      "source": [
        "dummy_list[1]"
      ],
      "metadata": {
        "colab": {
          "base_uri": "https://localhost:8080/"
        },
        "id": "bkxmmNjus5v5",
        "outputId": "fc4fca80-34ea-41f5-e3e6-936b57376398"
      },
      "id": "bkxmmNjus5v5",
      "execution_count": null,
      "outputs": [
        {
          "output_type": "execute_result",
          "data": {
            "text/plain": [
              "[2, 'Ahmad khan', 23, 5.6, 'DS', True]"
            ]
          },
          "metadata": {},
          "execution_count": 106
        }
      ]
    },
    {
      "cell_type": "code",
      "source": [
        "len(dummy_list)"
      ],
      "metadata": {
        "colab": {
          "base_uri": "https://localhost:8080/"
        },
        "id": "jlqGBkLTs71E",
        "outputId": "51ecc93c-33c3-40fd-db8d-4a1b9daf00d3"
      },
      "id": "jlqGBkLTs71E",
      "execution_count": null,
      "outputs": [
        {
          "output_type": "execute_result",
          "data": {
            "text/plain": [
              "2"
            ]
          },
          "metadata": {},
          "execution_count": 107
        }
      ]
    },
    {
      "cell_type": "markdown",
      "metadata": {
        "id": "befe1207"
      },
      "source": [
        "### **List concatenation**"
      ],
      "id": "befe1207"
    },
    {
      "cell_type": "code",
      "source": [
        "[1,2,3,4] + [9]"
      ],
      "metadata": {
        "id": "fhhpkEozaT5E",
        "colab": {
          "base_uri": "https://localhost:8080/"
        },
        "outputId": "6bea446b-fa49-46b8-ec03-787c8b336f75"
      },
      "id": "fhhpkEozaT5E",
      "execution_count": null,
      "outputs": [
        {
          "output_type": "execute_result",
          "data": {
            "text/plain": [
              "[1, 2, 3, 4, 9]"
            ]
          },
          "metadata": {},
          "execution_count": 108
        }
      ]
    },
    {
      "cell_type": "markdown",
      "source": [
        "### **Task: Online Shopping Cart**\n",
        "Scenario: You’re building a shopping cart for an e-commerce app."
      ],
      "metadata": {
        "id": "KPd0sf0SPXEg"
      },
      "id": "KPd0sf0SPXEg"
    },
    {
      "cell_type": "code",
      "source": [
        "# 1. Define a List\n",
        "cart = [\"laptop\",\"PC\",\"keyboard\",\"mouse\" ]\n",
        "print(cart)\n",
        "\n",
        "# 2. Show the first item:\n",
        "print(cart[0])\n",
        "\n",
        "# 3. Show first two items:\n",
        "print(cart[0:2])\n",
        "\n",
        "# 4. Replace \"mouse\" with \"wireless mouse\":\n",
        "cart[-1]=\"wireless mouse\"\n",
        "print(cart)\n",
        "\n",
        "# 5. Insert \"monitor\" at position 1:\n",
        "cart.insert(1,\"monitor\")\n",
        "print(cart)\n",
        "\n",
        "# 6. Add \"USB cable\":\n",
        "cart.append(\"USB cable\")\n",
        "print(cart)\n",
        "\n",
        "# 7. Add a wishlist to the cart:\n",
        "cart.extend([\"headphones\",\"mobile covers\",\"stickers\"])\n",
        "print(cart)\n",
        "\n",
        "# 8. Remove \"keyboard\":\n",
        "cart.remove(\"keyboard\")\n",
        "print(cart)\n",
        "\n",
        "# 9. Remove the last item added:\n",
        "cart.pop()\n",
        "print(cart)\n",
        "\n",
        "# 10. Get the first letter of second item:\n",
        "print(cart[1][0])\n",
        "\n",
        "# 11. Merge two carts: cart + extra_cart\n",
        "extra_Cart = [\"gaming pc\",\"lenovo laptop\"]\n",
        "print(cart + extra_Cart)\n"
      ],
      "metadata": {
        "id": "_p1ugtVPPW9M",
        "colab": {
          "base_uri": "https://localhost:8080/"
        },
        "outputId": "c10abaaa-94e5-4d26-a8e8-52398d9dd421"
      },
      "id": "_p1ugtVPPW9M",
      "execution_count": null,
      "outputs": [
        {
          "output_type": "stream",
          "name": "stdout",
          "text": [
            "['laptop', 'PC', 'keyboard', 'mouse']\n",
            "laptop\n",
            "['laptop', 'PC']\n",
            "['laptop', 'PC', 'keyboard', 'wireless mouse']\n",
            "['laptop', 'monitor', 'PC', 'keyboard', 'wireless mouse']\n",
            "['laptop', 'monitor', 'PC', 'keyboard', 'wireless mouse', 'USB cable']\n",
            "['laptop', 'monitor', 'PC', 'keyboard', 'wireless mouse', 'USB cable', 'headphones', 'mobile covers', 'stickers']\n",
            "['laptop', 'monitor', 'PC', 'wireless mouse', 'USB cable', 'headphones', 'mobile covers', 'stickers']\n",
            "['laptop', 'monitor', 'PC', 'wireless mouse', 'USB cable', 'headphones', 'mobile covers']\n",
            "m\n",
            "['laptop', 'monitor', 'PC', 'wireless mouse', 'USB cable', 'headphones', 'mobile covers', 'gaming pc', 'lenovo laptop']\n"
          ]
        }
      ]
    },
    {
      "cell_type": "code",
      "source": [
        "cart"
      ],
      "metadata": {
        "id": "U5TV770dPW4E",
        "colab": {
          "base_uri": "https://localhost:8080/"
        },
        "outputId": "a993da72-5bdf-456a-c264-55789a16cf10"
      },
      "id": "U5TV770dPW4E",
      "execution_count": null,
      "outputs": [
        {
          "output_type": "execute_result",
          "data": {
            "text/plain": [
              "['laptop',\n",
              " 'monitor',\n",
              " 'PC',\n",
              " 'wireless mouse',\n",
              " 'USB cable',\n",
              " 'headphones',\n",
              " 'mobile covers']"
            ]
          },
          "metadata": {},
          "execution_count": 110
        }
      ]
    },
    {
      "cell_type": "code",
      "source": [
        "cart[1]"
      ],
      "metadata": {
        "id": "VfbuuWFxPWqb",
        "colab": {
          "base_uri": "https://localhost:8080/",
          "height": 36
        },
        "outputId": "043cae63-3078-4fa4-ab32-fba485771371"
      },
      "id": "VfbuuWFxPWqb",
      "execution_count": null,
      "outputs": [
        {
          "output_type": "execute_result",
          "data": {
            "text/plain": [
              "'monitor'"
            ],
            "application/vnd.google.colaboratory.intrinsic+json": {
              "type": "string"
            }
          },
          "metadata": {},
          "execution_count": 111
        }
      ]
    },
    {
      "cell_type": "code",
      "source": [
        "cart.remove(\"monitor\")\n",
        "cart"
      ],
      "metadata": {
        "colab": {
          "base_uri": "https://localhost:8080/"
        },
        "id": "cd1KnpiExHSL",
        "outputId": "505e0f8a-c5fd-4287-fa41-26e6fe56736d"
      },
      "id": "cd1KnpiExHSL",
      "execution_count": null,
      "outputs": [
        {
          "output_type": "execute_result",
          "data": {
            "text/plain": [
              "['laptop', 'PC', 'wireless mouse', 'USB cable', 'headphones', 'mobile covers']"
            ]
          },
          "metadata": {},
          "execution_count": 112
        }
      ]
    },
    {
      "cell_type": "code",
      "source": [
        "cart.pop(2)\n",
        "cart"
      ],
      "metadata": {
        "colab": {
          "base_uri": "https://localhost:8080/"
        },
        "id": "SGsFlEkLxLkp",
        "outputId": "b0456acc-b3e8-415e-e76e-95cdc0762f87"
      },
      "id": "SGsFlEkLxLkp",
      "execution_count": null,
      "outputs": [
        {
          "output_type": "execute_result",
          "data": {
            "text/plain": [
              "['laptop', 'PC', 'USB cable', 'headphones', 'mobile covers']"
            ]
          },
          "metadata": {},
          "execution_count": 113
        }
      ]
    },
    {
      "cell_type": "code",
      "source": [
        "cart[2]"
      ],
      "metadata": {
        "colab": {
          "base_uri": "https://localhost:8080/",
          "height": 36
        },
        "id": "wNwdfKTWxRL4",
        "outputId": "08f2e844-b036-444f-fb84-ec337b588d49"
      },
      "id": "wNwdfKTWxRL4",
      "execution_count": null,
      "outputs": [
        {
          "output_type": "execute_result",
          "data": {
            "text/plain": [
              "'USB cable'"
            ],
            "application/vnd.google.colaboratory.intrinsic+json": {
              "type": "string"
            }
          },
          "metadata": {},
          "execution_count": 114
        }
      ]
    },
    {
      "cell_type": "markdown",
      "metadata": {
        "id": "8e075396"
      },
      "source": [
        "## **Task**"
      ],
      "id": "8e075396"
    },
    {
      "cell_type": "markdown",
      "source": [
        "### **String**"
      ],
      "metadata": {
        "id": "CFL8MfYnYNOB"
      },
      "id": "CFL8MfYnYNOB"
    },
    {
      "cell_type": "markdown",
      "metadata": {
        "id": "624fabed"
      },
      "source": [
        "**1. numbers = \"0123456789\". Print odd numbers**\n",
        "\n",
        "Expected Output: 13579"
      ],
      "id": "624fabed"
    },
    {
      "cell_type": "code",
      "source": [],
      "metadata": {
        "id": "IzUAZgXB35eL"
      },
      "id": "IzUAZgXB35eL",
      "execution_count": null,
      "outputs": []
    },
    {
      "cell_type": "markdown",
      "metadata": {
        "id": "80442fe4"
      },
      "source": [
        "**2. Replace my name with your name in given string.**"
      ],
      "id": "80442fe4"
    },
    {
      "cell_type": "code",
      "source": [
        "full_name = \"My name is Maimoona Khilji\"\n"
      ],
      "metadata": {
        "id": "TuifXjAH36rq"
      },
      "id": "TuifXjAH36rq",
      "execution_count": null,
      "outputs": []
    },
    {
      "cell_type": "markdown",
      "metadata": {
        "id": "0d75266a"
      },
      "source": [
        "**3. Find out the index of the word \"P\".**\n"
      ],
      "id": "0d75266a"
    },
    {
      "cell_type": "code",
      "source": [
        "sentence = \"I am excited to learn Python\"\n"
      ],
      "metadata": {
        "id": "yYdVsE-G385D"
      },
      "id": "yYdVsE-G385D",
      "execution_count": null,
      "outputs": []
    },
    {
      "cell_type": "markdown",
      "metadata": {
        "id": "b34a8aca"
      },
      "source": [
        "**4. Reverse the string.**"
      ],
      "id": "b34a8aca"
    },
    {
      "cell_type": "code",
      "source": [
        "letters = \"abcdefghijklmnop\"\n"
      ],
      "metadata": {
        "id": "jVv1_drb38wi"
      },
      "id": "jVv1_drb38wi",
      "execution_count": null,
      "outputs": []
    },
    {
      "cell_type": "markdown",
      "source": [
        "**5. Write a line of code to clean the name and convert it to title case.**\n",
        "\n",
        "Expected Output: \"Ali Khan\""
      ],
      "metadata": {
        "id": "2fjYA1AUW_46"
      },
      "id": "2fjYA1AUW_46"
    },
    {
      "cell_type": "code",
      "source": [
        "name = \" ali khan \""
      ],
      "metadata": {
        "id": "47B9l_rP4APL"
      },
      "id": "47B9l_rP4APL",
      "execution_count": null,
      "outputs": []
    },
    {
      "cell_type": "markdown",
      "source": [
        "### **List**"
      ],
      "metadata": {
        "id": "E92GU0ueYQJ3"
      },
      "id": "E92GU0ueYQJ3"
    },
    {
      "cell_type": "markdown",
      "source": [
        "**1. Create a list called colors with the elements \"red\", \"green\", \"blue\", \"yellow\".**\n"
      ],
      "metadata": {
        "id": "oNlMSAENYSad"
      },
      "id": "oNlMSAENYSad"
    },
    {
      "cell_type": "code",
      "source": [],
      "metadata": {
        "id": "tRbDLBaM4CcV"
      },
      "id": "tRbDLBaM4CcV",
      "execution_count": null,
      "outputs": []
    },
    {
      "cell_type": "markdown",
      "source": [
        "**2. Add \"purple\" to the end of the colors list.**\n"
      ],
      "metadata": {
        "id": "D4MncEyWYapN"
      },
      "id": "D4MncEyWYapN"
    },
    {
      "cell_type": "code",
      "source": [],
      "metadata": {
        "id": "ENzyPnH84CxK"
      },
      "id": "ENzyPnH84CxK",
      "execution_count": null,
      "outputs": []
    },
    {
      "cell_type": "markdown",
      "source": [
        "**3. Insert \"orange\" at the second position in the colors list.**\n"
      ],
      "metadata": {
        "id": "FKmem_3XYbmV"
      },
      "id": "FKmem_3XYbmV"
    },
    {
      "cell_type": "code",
      "source": [],
      "metadata": {
        "id": "b59xULd_4Erf"
      },
      "id": "b59xULd_4Erf",
      "execution_count": null,
      "outputs": []
    },
    {
      "cell_type": "markdown",
      "source": [
        "**4. Remove \"blue\" from the colors list.**\n"
      ],
      "metadata": {
        "id": "dBzflyvNYdju"
      },
      "id": "dBzflyvNYdju"
    },
    {
      "cell_type": "code",
      "source": [],
      "metadata": {
        "id": "FW4jHSp44FEb"
      },
      "id": "FW4jHSp44FEb",
      "execution_count": null,
      "outputs": []
    },
    {
      "cell_type": "markdown",
      "source": [
        "**5. Create a new list called shades with \"light blue\" and \"dark green\", and add these to the colors list.**"
      ],
      "metadata": {
        "id": "oX9eSeFLYesS"
      },
      "id": "oX9eSeFLYesS"
    },
    {
      "cell_type": "code",
      "source": [],
      "metadata": {
        "id": "-2PodY934Fmb"
      },
      "id": "-2PodY934Fmb",
      "execution_count": null,
      "outputs": []
    },
    {
      "cell_type": "markdown",
      "source": [
        "# **Good Luck!**"
      ],
      "metadata": {
        "id": "zgStEoQZavDr"
      },
      "id": "zgStEoQZavDr"
    }
  ],
  "metadata": {
    "kernelspec": {
      "display_name": "Python 3 (ipykernel)",
      "language": "python",
      "name": "python3"
    },
    "language_info": {
      "codemirror_mode": {
        "name": "ipython",
        "version": 3
      },
      "file_extension": ".py",
      "mimetype": "text/x-python",
      "name": "python",
      "nbconvert_exporter": "python",
      "pygments_lexer": "ipython3",
      "version": "3.12.4"
    },
    "colab": {
      "provenance": [],
      "include_colab_link": true
    }
  },
  "nbformat": 4,
  "nbformat_minor": 5
}