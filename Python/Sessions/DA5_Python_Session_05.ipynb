{
  "nbformat": 4,
  "nbformat_minor": 0,
  "metadata": {
    "colab": {
      "provenance": [],
      "include_colab_link": true
    },
    "kernelspec": {
      "name": "python3",
      "display_name": "Python 3"
    },
    "language_info": {
      "name": "python"
    }
  },
  "cells": [
    {
      "cell_type": "markdown",
      "metadata": {
        "id": "view-in-github",
        "colab_type": "text"
      },
      "source": [
        "<a href=\"https://colab.research.google.com/github/raheelam98/DataAnalysis/blob/main/Python/Sessions/DA5_Python_Session_05.ipynb\" target=\"_parent\"><img src=\"https://colab.research.google.com/assets/colab-badge.svg\" alt=\"Open In Colab\"/></a>"
      ]
    },
    {
      "cell_type": "markdown",
      "source": [
        "## While Loop\n",
        "\n",
        "The while loop is used to repeatedly execute a block of code as long as a certain condition is true. It continues to execute the code within the loop until the condition becomes false. This is especially useful when the number of iterations is not predetermined.\n",
        "\n",
        "**Syntax:**\n",
        "\n",
        "while condition:\n",
        "\n",
        "   \\# Code to execute as long as the condition is true\n",
        "\n"
      ],
      "metadata": {
        "id": "-F3jrN6iH7Pb"
      }
    },
    {
      "cell_type": "markdown",
      "source": [
        "- **while keyword:** This begins the while loop.\n",
        "- **condition:** An expression that is evaluated before each iteration. The loop continues as long as this condition is True.\n",
        "- **code block:** The set of statements that are executed repeatedly as long as the condition is True."
      ],
      "metadata": {
        "id": "DjLbmYU2pwGI"
      }
    },
    {
      "cell_type": "code",
      "source": [
        "for i in range(5):\n",
        "  print(i)"
      ],
      "metadata": {
        "colab": {
          "base_uri": "https://localhost:8080/"
        },
        "id": "mHertnBIW7aK",
        "outputId": "eb275840-a11c-417f-9a34-9d816e4f8f4b"
      },
      "execution_count": null,
      "outputs": [
        {
          "output_type": "stream",
          "name": "stdout",
          "text": [
            "0\n",
            "1\n",
            "2\n",
            "3\n",
            "4\n"
          ]
        }
      ]
    },
    {
      "cell_type": "code",
      "source": [
        "# i < 5\n",
        "\n",
        "i = 0\n",
        "\n",
        "while i < 5:\n",
        "  print(i)\n",
        "  i += 1"
      ],
      "metadata": {
        "colab": {
          "base_uri": "https://localhost:8080/"
        },
        "id": "NuXZ0xzkYNyF",
        "outputId": "c5ca4b4f-578b-44e9-c6d7-8175d2e3c7cb"
      },
      "execution_count": null,
      "outputs": [
        {
          "output_type": "stream",
          "name": "stdout",
          "text": [
            "0\n",
            "1\n",
            "2\n",
            "3\n",
            "4\n"
          ]
        }
      ]
    },
    {
      "cell_type": "code",
      "source": [
        "# i < 5\n",
        "\n",
        "i = 0\n",
        "\n",
        "while i < 5:\n",
        "  print(i)\n",
        "  break\n"
      ],
      "metadata": {
        "colab": {
          "base_uri": "https://localhost:8080/"
        },
        "id": "7DYJ2FVGX13X",
        "outputId": "720ed31e-d6d8-498d-9f91-8c0341b090cc"
      },
      "execution_count": null,
      "outputs": [
        {
          "output_type": "stream",
          "name": "stdout",
          "text": [
            "0\n"
          ]
        }
      ]
    },
    {
      "cell_type": "code",
      "source": [
        "# while True:\n",
        "#   if condition1:\n",
        "#     print(\"hello\")\n",
        "\n",
        "#   elif condition2:\n",
        "#     break\n"
      ],
      "metadata": {
        "id": "L_nCHy5lYciU"
      },
      "execution_count": null,
      "outputs": []
    },
    {
      "cell_type": "code",
      "source": [
        "# i < 5\n",
        "\n",
        "i = 0\n",
        "\n",
        "while i < 5:\n",
        "  print(i)\n",
        "  i += 1      # i = i+1"
      ],
      "metadata": {
        "colab": {
          "base_uri": "https://localhost:8080/"
        },
        "id": "Qfa9ceLlXEUO",
        "outputId": "4a71edc4-2ab0-491a-fdfd-339b4c7cdddf"
      },
      "execution_count": null,
      "outputs": [
        {
          "output_type": "stream",
          "name": "stdout",
          "text": [
            "0\n",
            "1\n",
            "2\n",
            "3\n",
            "4\n"
          ]
        }
      ]
    },
    {
      "cell_type": "markdown",
      "source": [
        "\n",
        "\n",
        "**Question:** You are creating an ATM machine simulation. The machine should keep asking for the correct PIN until the user enters it correctly. The correct PIN is 1234."
      ],
      "metadata": {
        "id": "XAoPkO82AQ-D"
      }
    },
    {
      "cell_type": "code",
      "source": [
        "correct_pin = \"1234\"\n",
        "\n",
        "pin_input = input(\"Enter your PIN: \")\n",
        "\n",
        "while pin_input != correct_pin:\n",
        "  print(\"Incorrect PIN :(\")\n",
        "  pin_input = input(\"Kindly! Enter your correct PIN: \")\n",
        "\n",
        "else:\n",
        "  print(\"You have entered a correct PIN :)\")"
      ],
      "metadata": {
        "colab": {
          "base_uri": "https://localhost:8080/"
        },
        "id": "WUymiM7JYzP7",
        "outputId": "eb79ea46-5fb2-4071-8040-e0327ba9e5e6"
      },
      "execution_count": null,
      "outputs": [
        {
          "name": "stdout",
          "output_type": "stream",
          "text": [
            "Enter your PIN: 4\n",
            "Incorrect PIN :(\n",
            "Kindly! Enter your correct PIN: 5\n",
            "Incorrect PIN :(\n",
            "Kindly! Enter your correct PIN: ABC\n",
            "Incorrect PIN :(\n",
            "Kindly! Enter your correct PIN: as\n",
            "Incorrect PIN :(\n",
            "Kindly! Enter your correct PIN: h\n",
            "Incorrect PIN :(\n",
            "Kindly! Enter your correct PIN: k\n",
            "Incorrect PIN :(\n",
            "Kindly! Enter your correct PIN: t\n",
            "Incorrect PIN :(\n",
            "Kindly! Enter your correct PIN: \n",
            "Incorrect PIN :(\n",
            "Kindly! Enter your correct PIN: 1234\n"
          ]
        }
      ]
    },
    {
      "cell_type": "code",
      "source": [
        "correct_pin = 1234\n",
        "\n",
        "pin_input = int(input(\"Enter your PIN: \"))\n",
        "\n",
        "while pin_input != correct_pin:\n",
        "  print(\"Incorrect PIN :(\")\n",
        "  pin_input = input(\"Kindly! Enter your correct PIN: \")\n",
        "\n",
        "else:\n",
        "  print(\"You have entered a correct PIN :)\")"
      ],
      "metadata": {
        "colab": {
          "base_uri": "https://localhost:8080/"
        },
        "id": "_14jmLunZmym",
        "outputId": "08819b74-f33d-45b1-b00c-4426d66be062"
      },
      "execution_count": null,
      "outputs": [
        {
          "name": "stdout",
          "output_type": "stream",
          "text": [
            "Enter your PIN: 1234\n"
          ]
        }
      ]
    },
    {
      "cell_type": "code",
      "source": [
        "i = 1\n",
        "while i <=5:\n",
        "  j = 0\n",
        "  while j < 10:\n",
        "    print(f\"{i} x {j} = {i*j}\")\n",
        "    j += 1\n",
        "\n",
        "  print()\n",
        "  i +=1"
      ],
      "metadata": {
        "colab": {
          "base_uri": "https://localhost:8080/"
        },
        "id": "ckYwastbZmtg",
        "outputId": "44b70d87-b45d-4aad-b084-06b7486e8bcd"
      },
      "execution_count": null,
      "outputs": [
        {
          "output_type": "stream",
          "name": "stdout",
          "text": [
            "1 x 0 = 0\n",
            "1 x 1 = 1\n",
            "1 x 2 = 2\n",
            "1 x 3 = 3\n",
            "1 x 4 = 4\n",
            "1 x 5 = 5\n",
            "1 x 6 = 6\n",
            "1 x 7 = 7\n",
            "1 x 8 = 8\n",
            "1 x 9 = 9\n",
            "\n",
            "2 x 0 = 0\n",
            "2 x 1 = 2\n",
            "2 x 2 = 4\n",
            "2 x 3 = 6\n",
            "2 x 4 = 8\n",
            "2 x 5 = 10\n",
            "2 x 6 = 12\n",
            "2 x 7 = 14\n",
            "2 x 8 = 16\n",
            "2 x 9 = 18\n",
            "\n",
            "3 x 0 = 0\n",
            "3 x 1 = 3\n",
            "3 x 2 = 6\n",
            "3 x 3 = 9\n",
            "3 x 4 = 12\n",
            "3 x 5 = 15\n",
            "3 x 6 = 18\n",
            "3 x 7 = 21\n",
            "3 x 8 = 24\n",
            "3 x 9 = 27\n",
            "\n",
            "4 x 0 = 0\n",
            "4 x 1 = 4\n",
            "4 x 2 = 8\n",
            "4 x 3 = 12\n",
            "4 x 4 = 16\n",
            "4 x 5 = 20\n",
            "4 x 6 = 24\n",
            "4 x 7 = 28\n",
            "4 x 8 = 32\n",
            "4 x 9 = 36\n",
            "\n",
            "5 x 0 = 0\n",
            "5 x 1 = 5\n",
            "5 x 2 = 10\n",
            "5 x 3 = 15\n",
            "5 x 4 = 20\n",
            "5 x 5 = 25\n",
            "5 x 6 = 30\n",
            "5 x 7 = 35\n",
            "5 x 8 = 40\n",
            "5 x 9 = 45\n",
            "\n"
          ]
        }
      ]
    },
    {
      "cell_type": "markdown",
      "source": [
        "**Question:** Create a program to take input from user and continue the loop until user enters the numeric value"
      ],
      "metadata": {
        "id": "4uQQ4vKyAQ-E"
      }
    },
    {
      "cell_type": "code",
      "source": [
        "while True:\n",
        "  user_input = input(\"Enter a number: \")\n",
        "  if user_input.isnumeric():\n",
        "    user_input = int(user_input)\n",
        "    print(\"You have entered a valid number. \")\n",
        "    break\n",
        "  else:\n",
        "    print(\"Invalid input. Please enter a valid number.\")\n",
        "\n"
      ],
      "metadata": {
        "id": "jgqrdNnODRKa",
        "colab": {
          "base_uri": "https://localhost:8080/"
        },
        "outputId": "20d5a427-93dd-4168-c9bd-8a4e7a10ac78"
      },
      "execution_count": null,
      "outputs": [
        {
          "output_type": "stream",
          "name": "stdout",
          "text": [
            "Enter a number: a\n",
            "Invalid input. Please enter a valid number.\n",
            "Enter a number: %\n",
            "Invalid input. Please enter a valid number.\n",
            "Enter a number: f\n",
            "Invalid input. Please enter a valid number.\n",
            "Enter a number: h\n",
            "Invalid input. Please enter a valid number.\n",
            "Enter a number: twenty\n",
            "Invalid input. Please enter a valid number.\n",
            "Enter a number: 5\n",
            "You have entered a valid number. \n"
          ]
        }
      ]
    },
    {
      "cell_type": "code",
      "source": [
        "user_input = input(\"Enter a number: \")\n",
        "\n",
        "while not user_input.isnumeric():\n",
        "  print(\"Invalid input. Please enter a valid number.\")\n",
        "  user_input = input(\"Enter a number: \")\n",
        "\n",
        "user_input = int(user_input)\n",
        "print(\"You have entered a valid number. \")\n"
      ],
      "metadata": {
        "colab": {
          "base_uri": "https://localhost:8080/"
        },
        "id": "h1qeSqZKbLLH",
        "outputId": "b37c2e35-74da-432b-bc4b-b7897ac945f1"
      },
      "execution_count": null,
      "outputs": [
        {
          "output_type": "stream",
          "name": "stdout",
          "text": [
            "Enter a number: a\n",
            "Invalid input. Please enter a valid number.\n",
            "Enter a number: f\n",
            "Invalid input. Please enter a valid number.\n",
            "Enter a number: ^\n",
            "Invalid input. Please enter a valid number.\n",
            "Enter a number: 5\n",
            "You have entered a valid number. \n"
          ]
        }
      ]
    },
    {
      "cell_type": "code",
      "source": [
        "user_input = input(\"Enter a number: \")\n",
        "\n",
        "while not user_input.isnumeric():\n",
        "  print(\"Invalid input. Please enter a valid number.\")\n",
        "  user_input = input(\"Enter a number: \")\n",
        "\n",
        "else:\n",
        "  user_input = int(user_input)\n",
        "  print(\"You have entered a valid number. \")\n"
      ],
      "metadata": {
        "id": "q5H1laQxbLFi"
      },
      "execution_count": null,
      "outputs": []
    },
    {
      "cell_type": "markdown",
      "source": [
        "\n",
        "\n",
        "**Question:** You are developing a customer feedback system. The system is designed to ignore empty feedback for now, but you plan to implement this functionality later. Print all non-empty comments.\n",
        "\n",
        "feedbacks = [\"Great service!\", \"\", \"Could be better.\", \"\", \"Loved it!\"]"
      ],
      "metadata": {
        "id": "RpBqIKBJAQ-G"
      }
    },
    {
      "cell_type": "code",
      "source": [
        "feedbacks = [\"Great service!\", \"\", \"Could be better.\", \"\", \"Loved it!\"]\n",
        "\n",
        "i = 0\n",
        "while i < len(feedbacks):\n",
        "  if feedbacks[i]==\"\":\n",
        "    pass\n",
        "  else:\n",
        "    print(\"A valid feedback: \",feedbacks[i])\n",
        "  i +=1\n"
      ],
      "metadata": {
        "id": "QystTa48EgsZ",
        "colab": {
          "base_uri": "https://localhost:8080/"
        },
        "outputId": "a30dad09-f392-4b75-b477-aa0f2bde150d"
      },
      "execution_count": null,
      "outputs": [
        {
          "output_type": "stream",
          "name": "stdout",
          "text": [
            "A valid feedback:  Great service!\n",
            "A valid feedback:  Could be better.\n",
            "A valid feedback:  Loved it!\n"
          ]
        }
      ]
    },
    {
      "cell_type": "code",
      "source": [
        "for i in feedbacks:\n",
        "  if i ==\"\":\n",
        "    pass\n",
        "  else:\n",
        "    print(\"A valid feedback: \",i)"
      ],
      "metadata": {
        "id": "inDE7f7aEdnL",
        "colab": {
          "base_uri": "https://localhost:8080/"
        },
        "outputId": "7401b1dd-c26a-49e2-bc96-a6809105891b"
      },
      "execution_count": null,
      "outputs": [
        {
          "output_type": "stream",
          "name": "stdout",
          "text": [
            "A valid feedback:  Great service!\n",
            "A valid feedback:  Could be better.\n",
            "A valid feedback:  Loved it!\n"
          ]
        }
      ]
    },
    {
      "cell_type": "markdown",
      "source": [
        "# Functions\n",
        "\n",
        "\n",
        "A user-defined function is a block of code that performs a specific task. It can be reused multiple times by calling its name.\n",
        "\n",
        "- built-in functions: print, len, int, str, list, range\n",
        "- user-defined: defined by users"
      ],
      "metadata": {
        "id": "fiRY68eWHlUo"
      }
    },
    {
      "cell_type": "markdown",
      "source": [
        "\n",
        "\n",
        "**Components**\n",
        "\n",
        "- def keyword\n",
        "- function name\n",
        "- parameter enclosed in round brackets\n",
        "- line of code"
      ],
      "metadata": {
        "id": "h9AP1oRfHoaV"
      }
    },
    {
      "cell_type": "code",
      "source": [
        "def greetings(name):\n",
        "  \"\"\"\n",
        "  This a function to greet or welcomes guests.\n",
        "  Here name is a parameter.\n",
        "  \"\"\"\n",
        "\n",
        "  print(f\"Welcome,{name}! It's a pleasure to have you here.\")\n",
        "  print(\"We hope you have a fantastic time.\")\n",
        "  print(\"Feel free to explore and make yourself at home.\")\n",
        "  print(\"If you need any assistance, please don't hesitate to ask.\")\n",
        "  print(\"Enjoy your stay!\")\n",
        "\n",
        "\n"
      ],
      "metadata": {
        "id": "2nVfHlXJEmW2"
      },
      "execution_count": null,
      "outputs": []
    },
    {
      "cell_type": "code",
      "source": [
        "greetings(\"Mona\")"
      ],
      "metadata": {
        "colab": {
          "base_uri": "https://localhost:8080/"
        },
        "id": "aPowobbDgY8C",
        "outputId": "55533641-5720-4b61-ce3f-44026c0632ef"
      },
      "execution_count": null,
      "outputs": [
        {
          "output_type": "stream",
          "name": "stdout",
          "text": [
            "Welcome,Mona! It's a pleasure to have you here.\n",
            "We hope you have a fantastic time.\n",
            "Feel free to explore and make yourself at home.\n",
            "If you need any assistance, please don't hesitate to ask.\n",
            "Enjoy your stay!\n"
          ]
        }
      ]
    },
    {
      "cell_type": "code",
      "source": [
        "help(greetings)"
      ],
      "metadata": {
        "colab": {
          "base_uri": "https://localhost:8080/"
        },
        "id": "BdtsMD-5hds2",
        "outputId": "0f22936d-a669-4a92-d94b-29f9c75c7924"
      },
      "execution_count": null,
      "outputs": [
        {
          "output_type": "stream",
          "name": "stdout",
          "text": [
            "Help on function greetings in module __main__:\n",
            "\n",
            "greetings(name)\n",
            "    This a function to greet or welcomes guests.\n",
            "    Here name is a parameter.\n",
            "\n"
          ]
        }
      ]
    },
    {
      "cell_type": "code",
      "source": [
        "help(print)"
      ],
      "metadata": {
        "colab": {
          "base_uri": "https://localhost:8080/"
        },
        "id": "FU4qdtr6hdhs",
        "outputId": "5889ecca-d25c-40f3-f234-abe4dd50cf04"
      },
      "execution_count": null,
      "outputs": [
        {
          "output_type": "stream",
          "name": "stdout",
          "text": [
            "Help on built-in function print in module builtins:\n",
            "\n",
            "print(*args, sep=' ', end='\\n', file=None, flush=False)\n",
            "    Prints the values to a stream, or to sys.stdout by default.\n",
            "    \n",
            "    sep\n",
            "      string inserted between values, default a space.\n",
            "    end\n",
            "      string appended after the last value, default a newline.\n",
            "    file\n",
            "      a file-like object (stream); defaults to the current sys.stdout.\n",
            "    flush\n",
            "      whether to forcibly flush the stream.\n",
            "\n"
          ]
        }
      ]
    },
    {
      "cell_type": "code",
      "source": [
        "guests = [\"Asma\",\"Azra\",\"Amina\",\"Husnain\",\"rafia\",\"Maimoona\"]\n",
        "\n",
        "for i in guests:\n",
        "  greetings(i)\n",
        "  print()"
      ],
      "metadata": {
        "colab": {
          "base_uri": "https://localhost:8080/"
        },
        "id": "ApDlglMwgck0",
        "outputId": "2fad9254-82fc-433b-9d99-5839cffabaf3"
      },
      "execution_count": null,
      "outputs": [
        {
          "output_type": "stream",
          "name": "stdout",
          "text": [
            "Welcome,Asma! It's a pleasure to have you here.\n",
            "We hope you have a fantastic time.\n",
            "Feel free to explore and make yourself at home.\n",
            "If you need any assistance, please don't hesitate to ask.\n",
            "Enjoy your stay!\n",
            "\n",
            "Welcome,Azra! It's a pleasure to have you here.\n",
            "We hope you have a fantastic time.\n",
            "Feel free to explore and make yourself at home.\n",
            "If you need any assistance, please don't hesitate to ask.\n",
            "Enjoy your stay!\n",
            "\n",
            "Welcome,Amina! It's a pleasure to have you here.\n",
            "We hope you have a fantastic time.\n",
            "Feel free to explore and make yourself at home.\n",
            "If you need any assistance, please don't hesitate to ask.\n",
            "Enjoy your stay!\n",
            "\n",
            "Welcome,Husnain! It's a pleasure to have you here.\n",
            "We hope you have a fantastic time.\n",
            "Feel free to explore and make yourself at home.\n",
            "If you need any assistance, please don't hesitate to ask.\n",
            "Enjoy your stay!\n",
            "\n",
            "Welcome,rafia! It's a pleasure to have you here.\n",
            "We hope you have a fantastic time.\n",
            "Feel free to explore and make yourself at home.\n",
            "If you need any assistance, please don't hesitate to ask.\n",
            "Enjoy your stay!\n",
            "\n",
            "Welcome,Maimoona! It's a pleasure to have you here.\n",
            "We hope you have a fantastic time.\n",
            "Feel free to explore and make yourself at home.\n",
            "If you need any assistance, please don't hesitate to ask.\n",
            "Enjoy your stay!\n",
            "\n"
          ]
        }
      ]
    },
    {
      "cell_type": "markdown",
      "source": [
        "## Arguments vs. Parameters\n",
        "\n",
        "Parameters are placeholders that represent the inputs needed for a function, while arguments are the actual data provided to these inputs.\n",
        "\n",
        "- **Parameters:** Variables defined in the function declaration that act as placeholders for the values passed to the function.\n",
        "- **Arguments:** Actual values passed to the function when it is called."
      ],
      "metadata": {
        "id": "xCcxwiq3IUJk"
      }
    },
    {
      "cell_type": "code",
      "source": [
        "#def greetings(name) => here name is parameter\n",
        "\n",
        "#greetings(\"Mona\") = > Here Mona is argument"
      ],
      "metadata": {
        "id": "_XYnZfRyEvgV",
        "colab": {
          "base_uri": "https://localhost:8080/"
        },
        "outputId": "550ec2a4-4c2d-4e06-e883-3a486cd68634"
      },
      "execution_count": null,
      "outputs": [
        {
          "output_type": "stream",
          "name": "stdout",
          "text": [
            "hello\n"
          ]
        }
      ]
    },
    {
      "cell_type": "markdown",
      "source": [
        "## Print vs. Return\n",
        "\n",
        "Create a function that returns the total sales for a product. You want the function to either display the result or return it for further use.\n",
        "\n",
        "- **Print:** Displays the total sales, no further action.\n",
        "- **Return:** Provides the value for further calculation or storage."
      ],
      "metadata": {
        "id": "2_TAADCNKIXg"
      }
    },
    {
      "cell_type": "code",
      "source": [
        "def total_sales(quantity , price):\n",
        "  sales = quantity * price\n",
        "  print(sales)"
      ],
      "metadata": {
        "id": "5vXPRKVBjJ3r"
      },
      "execution_count": null,
      "outputs": []
    },
    {
      "cell_type": "code",
      "source": [
        "total_sales(8,100)"
      ],
      "metadata": {
        "colab": {
          "base_uri": "https://localhost:8080/"
        },
        "id": "7G-KEGOhjJyb",
        "outputId": "4b319342-5d29-4913-fd51-81d709d39266"
      },
      "execution_count": null,
      "outputs": [
        {
          "output_type": "stream",
          "name": "stdout",
          "text": [
            "800\n"
          ]
        }
      ]
    },
    {
      "cell_type": "code",
      "source": [
        "print(total_sales(8,100))"
      ],
      "metadata": {
        "colab": {
          "base_uri": "https://localhost:8080/"
        },
        "id": "HuXLKJ_zj1wt",
        "outputId": "b79c6364-87ad-4600-ebd0-9b386834526b"
      },
      "execution_count": null,
      "outputs": [
        {
          "output_type": "stream",
          "name": "stdout",
          "text": [
            "800\n",
            "None\n"
          ]
        }
      ]
    },
    {
      "cell_type": "code",
      "source": [
        "def total_sales(quantity , price):\n",
        "  sales = quantity * price\n",
        "  return sales"
      ],
      "metadata": {
        "id": "9JT5ljvxjsvf"
      },
      "execution_count": null,
      "outputs": []
    },
    {
      "cell_type": "code",
      "source": [
        "cost = 600\n",
        "sales = total_sales(8,100)\n",
        "profit = sales - cost\n",
        "profit"
      ],
      "metadata": {
        "colab": {
          "base_uri": "https://localhost:8080/"
        },
        "id": "B9wp4_rijgZ1",
        "outputId": "fb020db7-5697-4b25-a421-9891dc2919ab"
      },
      "execution_count": null,
      "outputs": [
        {
          "output_type": "execute_result",
          "data": {
            "text/plain": [
              "200"
            ]
          },
          "metadata": {},
          "execution_count": 55
        }
      ]
    },
    {
      "cell_type": "code",
      "source": [
        "print(total_sales(8,100))"
      ],
      "metadata": {
        "colab": {
          "base_uri": "https://localhost:8080/"
        },
        "id": "bDMsxmJtjgUB",
        "outputId": "d28db701-f58d-43ad-9194-5735898cc8fe"
      },
      "execution_count": null,
      "outputs": [
        {
          "output_type": "stream",
          "name": "stdout",
          "text": [
            "800\n"
          ]
        }
      ]
    },
    {
      "cell_type": "markdown",
      "source": [
        "**Examples using greeting function**"
      ],
      "metadata": {
        "id": "QNEbOECejE7J"
      }
    },
    {
      "cell_type": "code",
      "source": [
        "def greetings(name):\n",
        "  \"\"\"\n",
        "  This a function to greet or welcomes guests.\n",
        "  Here name is a parameter.\n",
        "  \"\"\"\n",
        "\n",
        "  print(f\"Welcome,{name}! It's a pleasure to have you here.\")\n",
        "  print(\"We hope you have a fantastic time.\")\n",
        "  print(\"Feel free to explore and make yourself at home.\")\n",
        "  print(\"If you need any assistance, please don't hesitate to ask.\")\n",
        "  print(\"Enjoy your stay!\")\n",
        "\n",
        "\n"
      ],
      "metadata": {
        "id": "Ns6U5ZMjFSXa"
      },
      "execution_count": null,
      "outputs": []
    },
    {
      "cell_type": "code",
      "source": [
        "message = greetings(\"Mona\")"
      ],
      "metadata": {
        "colab": {
          "base_uri": "https://localhost:8080/"
        },
        "id": "tAOSpvAQiP4Z",
        "outputId": "a096e0e9-553a-4300-e1cc-a0a19b041f1b"
      },
      "execution_count": null,
      "outputs": [
        {
          "output_type": "stream",
          "name": "stdout",
          "text": [
            "Welcome,Mona! It's a pleasure to have you here.\n",
            "We hope you have a fantastic time.\n",
            "Feel free to explore and make yourself at home.\n",
            "If you need any assistance, please don't hesitate to ask.\n",
            "Enjoy your stay!\n"
          ]
        }
      ]
    },
    {
      "cell_type": "code",
      "source": [
        "print(message)"
      ],
      "metadata": {
        "id": "bsUKLDOfEvcO",
        "colab": {
          "base_uri": "https://localhost:8080/"
        },
        "outputId": "c14267b9-e271-4219-8de8-2597e46c4af1"
      },
      "execution_count": null,
      "outputs": [
        {
          "output_type": "stream",
          "name": "stdout",
          "text": [
            "None\n"
          ]
        }
      ]
    },
    {
      "cell_type": "code",
      "source": [
        "def greetings(name):\n",
        "  \"\"\"\n",
        "  This a function to greet or welcomes guests.\n",
        "  Here name is a parameter.\n",
        "  \"\"\"\n",
        "  return f\"\"\"Welcome,{name}! It's a pleasure to have you here.\n",
        "  We hope you have a fantastic time.\n",
        "  Feel free to explore and make yourself at home.\n",
        "  If you need any assistance, please don't hesitate to ask.\n",
        "  Enjoy your stay!\"\"\"\n",
        "\n",
        "\n"
      ],
      "metadata": {
        "id": "BbrzgQQHEvYA"
      },
      "execution_count": null,
      "outputs": []
    },
    {
      "cell_type": "code",
      "source": [
        "message = greetings(\"Mona\")"
      ],
      "metadata": {
        "id": "lbyjclbXEvUD"
      },
      "execution_count": null,
      "outputs": []
    },
    {
      "cell_type": "code",
      "source": [
        "message"
      ],
      "metadata": {
        "colab": {
          "base_uri": "https://localhost:8080/",
          "height": 53
        },
        "id": "A8q3kZrEixZ1",
        "outputId": "75110bec-4917-461f-85f1-529586a0617f"
      },
      "execution_count": null,
      "outputs": [
        {
          "output_type": "execute_result",
          "data": {
            "text/plain": [
              "\"Welcome,Mona! It's a pleasure to have you here. \\n  We hope you have a fantastic time.\\n  Feel free to explore and make yourself at home.\\n  If you need any assistance, please don't hesitate to ask.\\n  Enjoy your stay!\""
            ],
            "application/vnd.google.colaboratory.intrinsic+json": {
              "type": "string"
            }
          },
          "metadata": {},
          "execution_count": 39
        }
      ]
    },
    {
      "cell_type": "code",
      "source": [
        "print(message)"
      ],
      "metadata": {
        "colab": {
          "base_uri": "https://localhost:8080/"
        },
        "id": "N-ya2yEsiyf8",
        "outputId": "c17ea68b-0b66-4bb6-9ee7-9654e7c66ece"
      },
      "execution_count": null,
      "outputs": [
        {
          "output_type": "stream",
          "name": "stdout",
          "text": [
            "Welcome,Mona! It's a pleasure to have you here. \n",
            "  We hope you have a fantastic time.\n",
            "  Feel free to explore and make yourself at home.\n",
            "  If you need any assistance, please don't hesitate to ask.\n",
            "  Enjoy your stay!\n"
          ]
        }
      ]
    },
    {
      "cell_type": "markdown",
      "source": [
        "## Positional Arguments\n",
        "\n",
        "The order of arguments matters when calling the function."
      ],
      "metadata": {
        "id": "_3PBb2UoJnyn"
      }
    },
    {
      "cell_type": "markdown",
      "source": [
        "**Calculating Gross Profit Margin**"
      ],
      "metadata": {
        "id": "2onINdQzVIU9"
      }
    },
    {
      "cell_type": "code",
      "source": [
        "def gross_profit_margin(product_name, revenue, COGS):\n",
        "  profit_margin = (revenue - COGS )/revenue * 100\n",
        "  return f\"The gross profit margin for {product_name} is {profit_margin}%\"\n"
      ],
      "metadata": {
        "id": "vttIt-XvEzAi"
      },
      "execution_count": null,
      "outputs": []
    },
    {
      "cell_type": "code",
      "source": [
        "gross_profit_margin(\"Laptop\", 1000, 600)"
      ],
      "metadata": {
        "id": "AV1xN59AEyyH",
        "colab": {
          "base_uri": "https://localhost:8080/",
          "height": 36
        },
        "outputId": "5d282800-2b1c-4459-8a75-1f6f17e0dca4"
      },
      "execution_count": null,
      "outputs": [
        {
          "output_type": "execute_result",
          "data": {
            "text/plain": [
              "'The gross profit margin for Laptop is 40.0%'"
            ],
            "application/vnd.google.colaboratory.intrinsic+json": {
              "type": "string"
            }
          },
          "metadata": {},
          "execution_count": 58
        }
      ]
    },
    {
      "cell_type": "code",
      "source": [
        "gross_profit_margin( 1000, 600, \"Laptop\")"
      ],
      "metadata": {
        "colab": {
          "base_uri": "https://localhost:8080/",
          "height": 228
        },
        "id": "wk49RaQckvhk",
        "outputId": "06c62f5d-ad2e-409b-d020-37a682f71dd5"
      },
      "execution_count": null,
      "outputs": [
        {
          "output_type": "error",
          "ename": "TypeError",
          "evalue": "unsupported operand type(s) for -: 'int' and 'str'",
          "traceback": [
            "\u001b[0;31m---------------------------------------------------------------------------\u001b[0m",
            "\u001b[0;31mTypeError\u001b[0m                                 Traceback (most recent call last)",
            "\u001b[0;32m<ipython-input-59-216638959>\u001b[0m in \u001b[0;36m<cell line: 0>\u001b[0;34m()\u001b[0m\n\u001b[0;32m----> 1\u001b[0;31m \u001b[0mgross_profit_margin\u001b[0m\u001b[0;34m(\u001b[0m \u001b[0;36m1000\u001b[0m\u001b[0;34m,\u001b[0m \u001b[0;36m600\u001b[0m\u001b[0;34m,\u001b[0m \u001b[0;34m\"Laptop\"\u001b[0m\u001b[0;34m)\u001b[0m\u001b[0;34m\u001b[0m\u001b[0;34m\u001b[0m\u001b[0m\n\u001b[0m",
            "\u001b[0;32m<ipython-input-57-1650026166>\u001b[0m in \u001b[0;36mgross_profit_margin\u001b[0;34m(product_name, revenue, COGS)\u001b[0m\n\u001b[1;32m      1\u001b[0m \u001b[0;32mdef\u001b[0m \u001b[0mgross_profit_margin\u001b[0m\u001b[0;34m(\u001b[0m\u001b[0mproduct_name\u001b[0m\u001b[0;34m,\u001b[0m \u001b[0mrevenue\u001b[0m\u001b[0;34m,\u001b[0m \u001b[0mCOGS\u001b[0m\u001b[0;34m)\u001b[0m\u001b[0;34m:\u001b[0m\u001b[0;34m\u001b[0m\u001b[0;34m\u001b[0m\u001b[0m\n\u001b[0;32m----> 2\u001b[0;31m   \u001b[0mprofit_margin\u001b[0m \u001b[0;34m=\u001b[0m \u001b[0;34m(\u001b[0m\u001b[0mrevenue\u001b[0m \u001b[0;34m-\u001b[0m \u001b[0mCOGS\u001b[0m \u001b[0;34m)\u001b[0m\u001b[0;34m/\u001b[0m\u001b[0mrevenue\u001b[0m \u001b[0;34m*\u001b[0m \u001b[0;36m100\u001b[0m\u001b[0;34m\u001b[0m\u001b[0;34m\u001b[0m\u001b[0m\n\u001b[0m\u001b[1;32m      3\u001b[0m   \u001b[0;32mreturn\u001b[0m \u001b[0;34mf\"The gross profit margin for {product_name} is {profit_margin}%\"\u001b[0m\u001b[0;34m\u001b[0m\u001b[0;34m\u001b[0m\u001b[0m\n",
            "\u001b[0;31mTypeError\u001b[0m: unsupported operand type(s) for -: 'int' and 'str'"
          ]
        }
      ]
    },
    {
      "cell_type": "code",
      "source": [
        "def data(name, salary):\n",
        "  salary += 500\n",
        "  return f\"Employee {name} has a salary of {salary}\"\n"
      ],
      "metadata": {
        "id": "lPoMB2hNk9O3"
      },
      "execution_count": null,
      "outputs": []
    },
    {
      "cell_type": "code",
      "source": [
        "data(\"maimoona\",1000)"
      ],
      "metadata": {
        "colab": {
          "base_uri": "https://localhost:8080/",
          "height": 36
        },
        "id": "l_6cirP6k9Hi",
        "outputId": "6861a11d-7ced-4857-9ede-4c2a2159be2b"
      },
      "execution_count": null,
      "outputs": [
        {
          "output_type": "execute_result",
          "data": {
            "text/plain": [
              "'data recorded'"
            ],
            "application/vnd.google.colaboratory.intrinsic+json": {
              "type": "string"
            }
          },
          "metadata": {},
          "execution_count": 65
        }
      ]
    },
    {
      "cell_type": "code",
      "source": [
        "data(salary=1000,name=\"Maimoona\")"
      ],
      "metadata": {
        "colab": {
          "base_uri": "https://localhost:8080/",
          "height": 36
        },
        "id": "q9KLMaMelRpa",
        "outputId": "f6b3af02-de84-4049-ac6b-a11cb2beea63"
      },
      "execution_count": null,
      "outputs": [
        {
          "output_type": "execute_result",
          "data": {
            "text/plain": [
              "'Employee Maimoona has a salary of 1500'"
            ],
            "application/vnd.google.colaboratory.intrinsic+json": {
              "type": "string"
            }
          },
          "metadata": {},
          "execution_count": 63
        }
      ]
    },
    {
      "cell_type": "code",
      "source": [
        "data(1000,\"maimoona\")"
      ],
      "metadata": {
        "colab": {
          "base_uri": "https://localhost:8080/",
          "height": 228
        },
        "id": "_zLC8ukSlI50",
        "outputId": "4712b1a5-a761-406d-dce3-912e63615c47"
      },
      "execution_count": null,
      "outputs": [
        {
          "output_type": "error",
          "ename": "TypeError",
          "evalue": "can only concatenate str (not \"int\") to str",
          "traceback": [
            "\u001b[0;31m---------------------------------------------------------------------------\u001b[0m",
            "\u001b[0;31mTypeError\u001b[0m                                 Traceback (most recent call last)",
            "\u001b[0;32m<ipython-input-66-459667694>\u001b[0m in \u001b[0;36m<cell line: 0>\u001b[0;34m()\u001b[0m\n\u001b[0;32m----> 1\u001b[0;31m \u001b[0mdata\u001b[0m\u001b[0;34m(\u001b[0m\u001b[0;36m1000\u001b[0m\u001b[0;34m,\u001b[0m\u001b[0;34m\"maimoona\"\u001b[0m\u001b[0;34m)\u001b[0m\u001b[0;34m\u001b[0m\u001b[0;34m\u001b[0m\u001b[0m\n\u001b[0m",
            "\u001b[0;32m<ipython-input-64-2121148484>\u001b[0m in \u001b[0;36mdata\u001b[0;34m(name, salary)\u001b[0m\n\u001b[1;32m      1\u001b[0m \u001b[0;32mdef\u001b[0m \u001b[0mdata\u001b[0m\u001b[0;34m(\u001b[0m\u001b[0mname\u001b[0m\u001b[0;34m,\u001b[0m \u001b[0msalary\u001b[0m\u001b[0;34m)\u001b[0m\u001b[0;34m:\u001b[0m\u001b[0;34m\u001b[0m\u001b[0;34m\u001b[0m\u001b[0m\n\u001b[0;32m----> 2\u001b[0;31m   \u001b[0msalary\u001b[0m \u001b[0;34m+=\u001b[0m \u001b[0;36m500\u001b[0m\u001b[0;34m\u001b[0m\u001b[0;34m\u001b[0m\u001b[0m\n\u001b[0m\u001b[1;32m      3\u001b[0m   \u001b[0;32mreturn\u001b[0m \u001b[0;34mf\"data recorded\"\u001b[0m\u001b[0;34m\u001b[0m\u001b[0;34m\u001b[0m\u001b[0m\n",
            "\u001b[0;31mTypeError\u001b[0m: can only concatenate str (not \"int\") to str"
          ]
        }
      ]
    },
    {
      "cell_type": "code",
      "source": [
        "help(data)"
      ],
      "metadata": {
        "colab": {
          "base_uri": "https://localhost:8080/"
        },
        "id": "EzfGPeo7l_H8",
        "outputId": "b62eab38-1fbf-4df6-d8a3-6ba93fada60d"
      },
      "execution_count": null,
      "outputs": [
        {
          "output_type": "stream",
          "name": "stdout",
          "text": [
            "Help on function data in module __main__:\n",
            "\n",
            "data(name, salary)\n",
            "\n"
          ]
        }
      ]
    },
    {
      "cell_type": "code",
      "source": [
        "data(salary=500,name=\"Asma\")"
      ],
      "metadata": {
        "colab": {
          "base_uri": "https://localhost:8080/",
          "height": 36
        },
        "id": "G29V6Ypyl_CO",
        "outputId": "375c1252-d6af-40a6-f65f-dbb7e4c572c8"
      },
      "execution_count": null,
      "outputs": [
        {
          "output_type": "execute_result",
          "data": {
            "text/plain": [
              "'data recorded'"
            ],
            "application/vnd.google.colaboratory.intrinsic+json": {
              "type": "string"
            }
          },
          "metadata": {},
          "execution_count": 68
        }
      ]
    },
    {
      "cell_type": "code",
      "source": [
        "data(name=\"Asma\",salary=500)"
      ],
      "metadata": {
        "colab": {
          "base_uri": "https://localhost:8080/",
          "height": 36
        },
        "id": "Tx5ulRDlmFWr",
        "outputId": "549e689b-57fb-4193-d94e-29486ddf1007"
      },
      "execution_count": null,
      "outputs": [
        {
          "output_type": "execute_result",
          "data": {
            "text/plain": [
              "'data recorded'"
            ],
            "application/vnd.google.colaboratory.intrinsic+json": {
              "type": "string"
            }
          },
          "metadata": {},
          "execution_count": 69
        }
      ]
    },
    {
      "cell_type": "markdown",
      "source": [
        "## Default Parameters\n",
        "\n",
        "Create a function to calculate bonus payments for employees. The bonus percentage can be adjusted, but defaults to 10%.\n",
        "\n",
        "- **Function:** calculate_bonus(salary, bonus_percentage=10)"
      ],
      "metadata": {
        "id": "VfZmG59yJ1et"
      }
    },
    {
      "cell_type": "code",
      "source": [
        "def calculate_bonus(salary, bonus_percentage=10):\n",
        "  bonus = salary * bonus_percentage/100\n",
        "  return bonus"
      ],
      "metadata": {
        "id": "SFlCaa4_mWce"
      },
      "execution_count": null,
      "outputs": []
    },
    {
      "cell_type": "code",
      "source": [
        "calculate_bonus(1000,5)"
      ],
      "metadata": {
        "id": "NpwA4uqJFLv9",
        "colab": {
          "base_uri": "https://localhost:8080/"
        },
        "outputId": "eca92770-cfaa-4d9c-86c0-432c005b8c95"
      },
      "execution_count": null,
      "outputs": [
        {
          "output_type": "execute_result",
          "data": {
            "text/plain": [
              "50.0"
            ]
          },
          "metadata": {},
          "execution_count": 75
        }
      ]
    },
    {
      "cell_type": "code",
      "source": [
        "calculate_bonus(1000)"
      ],
      "metadata": {
        "colab": {
          "base_uri": "https://localhost:8080/"
        },
        "id": "K9sowT4Lmo1I",
        "outputId": "43759c07-c830-4436-d5d4-f38bdde38f95"
      },
      "execution_count": null,
      "outputs": [
        {
          "output_type": "execute_result",
          "data": {
            "text/plain": [
              "100.0"
            ]
          },
          "metadata": {},
          "execution_count": 76
        }
      ]
    },
    {
      "cell_type": "code",
      "source": [],
      "metadata": {
        "id": "1JMDO1n3m2UI"
      },
      "execution_count": null,
      "outputs": []
    },
    {
      "cell_type": "code",
      "source": [
        "def greetings(name= \"Dear\"):\n",
        "  \"\"\"\n",
        "  This a function to greet or welcomes guests.\n",
        "  Here name is a parameter.\n",
        "  \"\"\"\n",
        "  return f\"\"\"Welcome,{name}! It's a pleasure to have you here.\n",
        "  We hope you have a fantastic time.\n",
        "  Feel free to explore and make yourself at home.\n",
        "  If you need any assistance, please don't hesitate to ask.\n",
        "  Enjoy your stay!\"\"\"\n",
        "\n",
        "\n"
      ],
      "metadata": {
        "id": "w16yDhsYm2Os"
      },
      "execution_count": null,
      "outputs": []
    },
    {
      "cell_type": "code",
      "source": [
        "greetings()"
      ],
      "metadata": {
        "colab": {
          "base_uri": "https://localhost:8080/",
          "height": 53
        },
        "id": "CtvV_fNHm2H_",
        "outputId": "c6168ec7-7479-4991-e284-0bdd2d6f55c5"
      },
      "execution_count": null,
      "outputs": [
        {
          "output_type": "execute_result",
          "data": {
            "text/plain": [
              "\"Welcome,Dear! It's a pleasure to have you here. \\n  We hope you have a fantastic time.\\n  Feel free to explore and make yourself at home.\\n  If you need any assistance, please don't hesitate to ask.\\n  Enjoy your stay!\""
            ],
            "application/vnd.google.colaboratory.intrinsic+json": {
              "type": "string"
            }
          },
          "metadata": {},
          "execution_count": 80
        }
      ]
    },
    {
      "cell_type": "code",
      "source": [
        "def sum(num1=0, num2=0):\n",
        "  return num1 + num2\n",
        "\n",
        "sum(5,6)"
      ],
      "metadata": {
        "colab": {
          "base_uri": "https://localhost:8080/"
        },
        "id": "ZxEjmmyInOwV",
        "outputId": "b4d3188f-7b8d-4643-adab-e0893c441e0b"
      },
      "execution_count": null,
      "outputs": [
        {
          "output_type": "execute_result",
          "data": {
            "text/plain": [
              "11"
            ]
          },
          "metadata": {},
          "execution_count": 83
        }
      ]
    },
    {
      "cell_type": "code",
      "source": [
        "sum(5)  # 5 + 0"
      ],
      "metadata": {
        "colab": {
          "base_uri": "https://localhost:8080/"
        },
        "id": "SULxLhdXnOOS",
        "outputId": "0efe13c9-9894-490d-b1d3-aa99f53e0d3b"
      },
      "execution_count": null,
      "outputs": [
        {
          "output_type": "execute_result",
          "data": {
            "text/plain": [
              "5"
            ]
          },
          "metadata": {},
          "execution_count": 85
        }
      ]
    },
    {
      "cell_type": "markdown",
      "source": [
        "## Args and Kwargs\n",
        "\n",
        "- *Args: When number of arguments are not known. Used to pass a non-keyworded, variable-length argument list to a function.\n",
        "\n",
        "- **kwargs is a special syntax used in function definitions to pass a variable number of keyword arguments to a function. It is often pronounced as \"keyword arguments\""
      ],
      "metadata": {
        "id": "rdzEav03FU2-"
      }
    },
    {
      "cell_type": "code",
      "source": [
        "def multiply_numbers(num1, num2, num3, num4):\n",
        "  return num1 * num2 * num3 * num4"
      ],
      "metadata": {
        "id": "a6lmkF6tnroW"
      },
      "execution_count": null,
      "outputs": []
    },
    {
      "cell_type": "code",
      "source": [
        "multiply_numbers(5,4,3,1)"
      ],
      "metadata": {
        "colab": {
          "base_uri": "https://localhost:8080/"
        },
        "id": "JsYmz7zInrg4",
        "outputId": "dbfba712-91fb-4973-ccc7-edc7e7794ccd"
      },
      "execution_count": null,
      "outputs": [
        {
          "output_type": "execute_result",
          "data": {
            "text/plain": [
              "60"
            ]
          },
          "metadata": {},
          "execution_count": 91
        }
      ]
    },
    {
      "cell_type": "code",
      "source": [
        "#*args\n",
        "# 5 6 7 8 9 1 2 3\n",
        "args = [5,6,7,8,9,1,2,3 ]\n",
        "\n",
        "result = 1\n",
        "for i in args:\n",
        "  result *=i\n",
        "\n",
        "result"
      ],
      "metadata": {
        "colab": {
          "base_uri": "https://localhost:8080/"
        },
        "id": "pFw_luRZoOVe",
        "outputId": "3302b9bd-0190-400e-9f91-8634b3cb2fcc"
      },
      "execution_count": null,
      "outputs": [
        {
          "output_type": "execute_result",
          "data": {
            "text/plain": [
              "90720"
            ]
          },
          "metadata": {},
          "execution_count": 93
        }
      ]
    },
    {
      "cell_type": "markdown",
      "source": [],
      "metadata": {
        "id": "gOdGRnvZoOMG"
      }
    },
    {
      "cell_type": "code",
      "source": [
        "def text(*number):\n",
        "  for i in number:\n",
        "    print(i)\n",
        "\n"
      ],
      "metadata": {
        "id": "5Kk6KvV0qyHA"
      },
      "execution_count": null,
      "outputs": []
    },
    {
      "cell_type": "code",
      "source": [
        "text(\"A\")"
      ],
      "metadata": {
        "colab": {
          "base_uri": "https://localhost:8080/"
        },
        "id": "1G8S7hknq3vM",
        "outputId": "1117a6dc-e360-40b9-f986-5dc93d967de1"
      },
      "execution_count": null,
      "outputs": [
        {
          "output_type": "stream",
          "name": "stdout",
          "text": [
            "A\n"
          ]
        }
      ]
    },
    {
      "cell_type": "code",
      "source": [
        "text(\"A\",\"b\",\"c\",\"d\",\"e\")"
      ],
      "metadata": {
        "colab": {
          "base_uri": "https://localhost:8080/"
        },
        "id": "Cctl1UdBq3mR",
        "outputId": "bca92c52-6069-491c-c015-4ea266b181d2"
      },
      "execution_count": null,
      "outputs": [
        {
          "output_type": "stream",
          "name": "stdout",
          "text": [
            "A\n",
            "b\n",
            "c\n",
            "d\n",
            "e\n"
          ]
        }
      ]
    },
    {
      "cell_type": "code",
      "source": [
        "def multiply_numbers(*number):\n",
        "  result = 1\n",
        "  for i in number:\n",
        "    result *=i\n",
        "  return result\n"
      ],
      "metadata": {
        "id": "AKFOP30dc6Vs"
      },
      "execution_count": null,
      "outputs": []
    },
    {
      "cell_type": "code",
      "source": [
        "multiply_numbers(1,2,5,8,9,10,100,4,3)"
      ],
      "metadata": {
        "id": "dujYA_K8c6Tt",
        "colab": {
          "base_uri": "https://localhost:8080/"
        },
        "outputId": "8a5b4e5a-3ff2-45ca-80b9-cfcfebd98d3e"
      },
      "execution_count": null,
      "outputs": [
        {
          "output_type": "execute_result",
          "data": {
            "text/plain": [
              "8640000"
            ]
          },
          "metadata": {},
          "execution_count": 98
        }
      ]
    },
    {
      "cell_type": "code",
      "source": [
        "{\"name\":\"maimoona\"}"
      ],
      "metadata": {
        "id": "LGtrQs6kplcC"
      },
      "execution_count": null,
      "outputs": []
    },
    {
      "cell_type": "code",
      "source": [
        "def user_data(**kwargs):\n",
        "  return kwargs"
      ],
      "metadata": {
        "id": "uxvmG02noruq"
      },
      "execution_count": null,
      "outputs": []
    },
    {
      "cell_type": "code",
      "source": [
        "user_data(name = \"Maimoona\",last_name=\"Khilji\",age=23,location=\"Peshawar\",Gender = \"Female\",Education=\"MS\")"
      ],
      "metadata": {
        "colab": {
          "base_uri": "https://localhost:8080/"
        },
        "id": "a_A1zA82ornf",
        "outputId": "0c52c86b-f410-456a-f365-f416127f3bdc"
      },
      "execution_count": null,
      "outputs": [
        {
          "output_type": "execute_result",
          "data": {
            "text/plain": [
              "{'name': 'Maimoona',\n",
              " 'last_name': 'Khilji',\n",
              " 'age': 23,\n",
              " 'location': 'Peshawar',\n",
              " 'Gender': 'Female',\n",
              " 'Education': 'MS'}"
            ]
          },
          "metadata": {},
          "execution_count": 100
        }
      ]
    },
    {
      "cell_type": "code",
      "source": [
        "names = []\n",
        "def user_data(**kwargs):\n",
        "\n",
        "  for key, value in kwargs.items():\n",
        "    print(f\"{key}: {value}\")\n",
        "    if key==\"name\":\n",
        "      names.append(value)\n",
        "\n",
        "  return names"
      ],
      "metadata": {
        "id": "SIlTbbdPpt8E"
      },
      "execution_count": null,
      "outputs": []
    },
    {
      "cell_type": "code",
      "source": [
        "user_data(name = \"Maimoona\",last_name=\"Khilji\",age=23,location=\"Peshawar\",Gender = \"Female\",Education=\"MS\")"
      ],
      "metadata": {
        "colab": {
          "base_uri": "https://localhost:8080/"
        },
        "id": "VKBtHdcipt2G",
        "outputId": "cef02bf6-799c-42a1-c1e4-cfd31347c4ac"
      },
      "execution_count": null,
      "outputs": [
        {
          "output_type": "stream",
          "name": "stdout",
          "text": [
            "name: Maimoona\n",
            "last_name: Khilji\n",
            "age: 23\n",
            "location: Peshawar\n",
            "Gender: Female\n",
            "Education: MS\n"
          ]
        },
        {
          "output_type": "execute_result",
          "data": {
            "text/plain": [
              "['Maimoona']"
            ]
          },
          "metadata": {},
          "execution_count": 102
        }
      ]
    },
    {
      "cell_type": "code",
      "source": [
        "user_data(name = \"Maimoona\",last_name=\"Khilji\",age=23)"
      ],
      "metadata": {
        "colab": {
          "base_uri": "https://localhost:8080/"
        },
        "id": "lu_tBQ3gptte",
        "outputId": "59519f7c-03cc-489e-c166-a525e0f156b6"
      },
      "execution_count": null,
      "outputs": [
        {
          "output_type": "stream",
          "name": "stdout",
          "text": [
            "name: Maimoona\n",
            "last_name: Khilji\n",
            "age: 23\n"
          ]
        },
        {
          "output_type": "execute_result",
          "data": {
            "text/plain": [
              "['Maimoona', 'Maimoona']"
            ]
          },
          "metadata": {},
          "execution_count": 103
        }
      ]
    },
    {
      "cell_type": "code",
      "source": [
        "user_data(name = \"Asma\",last_name=\"Khilji\")"
      ],
      "metadata": {
        "colab": {
          "base_uri": "https://localhost:8080/"
        },
        "id": "hVexAIpGqZHz",
        "outputId": "08657b95-4b00-42b9-c759-cbd25ed1f305"
      },
      "execution_count": null,
      "outputs": [
        {
          "output_type": "stream",
          "name": "stdout",
          "text": [
            "name: Asma\n",
            "last_name: Khilji\n"
          ]
        },
        {
          "output_type": "execute_result",
          "data": {
            "text/plain": [
              "['Maimoona', 'Maimoona', 'Asma']"
            ]
          },
          "metadata": {},
          "execution_count": 104
        }
      ]
    },
    {
      "cell_type": "code",
      "source": [
        "user_data(name = \"Azra\",last_name=\"Khilji\",age=23,Education=\"MS\")"
      ],
      "metadata": {
        "colab": {
          "base_uri": "https://localhost:8080/"
        },
        "id": "HKY2Hm4IqZAd",
        "outputId": "9e267aec-d422-48db-aa4b-e7c52a9abae5"
      },
      "execution_count": null,
      "outputs": [
        {
          "output_type": "stream",
          "name": "stdout",
          "text": [
            "name: Azra\n",
            "last_name: Khilji\n",
            "age: 23\n",
            "Education: MS\n"
          ]
        },
        {
          "output_type": "execute_result",
          "data": {
            "text/plain": [
              "['Maimoona', 'Maimoona', 'Asma', 'Azra']"
            ]
          },
          "metadata": {},
          "execution_count": 105
        }
      ]
    },
    {
      "cell_type": "code",
      "source": [
        "names"
      ],
      "metadata": {
        "colab": {
          "base_uri": "https://localhost:8080/"
        },
        "id": "3xZIxkGwqYzP",
        "outputId": "a9d30deb-83bb-47be-825c-6053d02a895c"
      },
      "execution_count": null,
      "outputs": [
        {
          "output_type": "execute_result",
          "data": {
            "text/plain": [
              "['Maimoona', 'Maimoona', 'Asma', 'Azra']"
            ]
          },
          "metadata": {},
          "execution_count": 107
        }
      ]
    },
    {
      "cell_type": "code",
      "source": [],
      "metadata": {
        "id": "2-GujoOHqiNL"
      },
      "execution_count": null,
      "outputs": []
    },
    {
      "cell_type": "code",
      "source": [
        "def multiply_numbers(*number):\n",
        "  result = 1\n",
        "  for i in number:\n",
        "    if str(i).isalpha():\n",
        "      pass\n",
        "    else:\n",
        "      result *=i\n",
        "  return result\n"
      ],
      "metadata": {
        "id": "BsqVYQTbrHSg"
      },
      "execution_count": null,
      "outputs": []
    },
    {
      "cell_type": "code",
      "source": [
        "multiply_numbers(1,2,4,5,\"a\",3)"
      ],
      "metadata": {
        "colab": {
          "base_uri": "https://localhost:8080/"
        },
        "id": "AeUMGItzrHEf",
        "outputId": "5c759026-5bcd-4f56-eb4f-11e8bd762728"
      },
      "execution_count": null,
      "outputs": [
        {
          "output_type": "execute_result",
          "data": {
            "text/plain": [
              "120"
            ]
          },
          "metadata": {},
          "execution_count": 118
        }
      ]
    },
    {
      "cell_type": "code",
      "source": [],
      "metadata": {
        "id": "4lE6qnevrc5R"
      },
      "execution_count": null,
      "outputs": []
    },
    {
      "cell_type": "markdown",
      "source": [
        "# Lambda\n",
        "\n",
        "- Lambda functions are small functions defined using the lambda keyword.\n",
        "- They are typically used for short, simple operations that don't require a full function definition.\n",
        "- Syntax:\n",
        "   - lambda arguments: expression\n",
        "- Lambda functions can be useful in situations where you need a simple function for a short period of time, without needing to define a full function with a name.\n"
      ],
      "metadata": {
        "id": "HZBWTPtTYNIm"
      }
    },
    {
      "cell_type": "code",
      "source": [
        "def sum(num1, num2):\n",
        "  return num1+num2"
      ],
      "metadata": {
        "id": "m6lRxcSFrc_j"
      },
      "execution_count": null,
      "outputs": []
    },
    {
      "cell_type": "markdown",
      "source": [
        "**Calculate the sales tax for different items using a lambda function. `Expression: price * tax_rate**"
      ],
      "metadata": {
        "id": "trZwYU_2YPkL"
      }
    },
    {
      "cell_type": "code",
      "source": [
        "def calculate_tax_rate(price, tax_rate):\n",
        "  return price * tax_rate\n",
        "\n",
        "\n",
        "calculate_tax_rate(100, 0.05)"
      ],
      "metadata": {
        "id": "cQeIDSVBc7sP",
        "colab": {
          "base_uri": "https://localhost:8080/"
        },
        "outputId": "7f813d4d-2bbc-454d-a113-921cb742c1f2"
      },
      "execution_count": null,
      "outputs": [
        {
          "output_type": "execute_result",
          "data": {
            "text/plain": [
              "5.0"
            ]
          },
          "metadata": {},
          "execution_count": 123
        }
      ]
    },
    {
      "cell_type": "code",
      "source": [
        "sales_tax = lambda price, tax_rate: price * tax_rate\n",
        "sales_tax(800,0.1)"
      ],
      "metadata": {
        "id": "H3D296-gc7po",
        "colab": {
          "base_uri": "https://localhost:8080/"
        },
        "outputId": "4537120f-0330-4408-9fc4-695b0b99e2f6"
      },
      "execution_count": null,
      "outputs": [
        {
          "output_type": "execute_result",
          "data": {
            "text/plain": [
              "80.0"
            ]
          },
          "metadata": {},
          "execution_count": 122
        }
      ]
    },
    {
      "cell_type": "markdown",
      "source": [
        "**Calculate the total price after applying a discount using a lambda function.**"
      ],
      "metadata": {
        "id": "vq7kkkNlarDO"
      }
    },
    {
      "cell_type": "code",
      "source": [
        "total_price = lambda price, discount: price *(1-discount)\n",
        "\n",
        "print(f\"Total price {1000} after discount of {5}% is {total_price(1000,0.05)}.\")"
      ],
      "metadata": {
        "id": "RKeJYEEBdWvh",
        "colab": {
          "base_uri": "https://localhost:8080/"
        },
        "outputId": "523e0df9-3657-404f-fcb3-8d46dccb31bd"
      },
      "execution_count": null,
      "outputs": [
        {
          "output_type": "stream",
          "name": "stdout",
          "text": [
            "Total price 1000 after discount of 5% is 950.0.\n"
          ]
        }
      ]
    },
    {
      "cell_type": "code",
      "source": [],
      "metadata": {
        "id": "5C-ESVckdWte"
      },
      "execution_count": null,
      "outputs": []
    },
    {
      "cell_type": "code",
      "source": [
        "#lambda, filter, map, etc\n",
        "\n",
        "def square_of_list(numbers):\n",
        "  square_list =[]\n",
        "  for i in numbers:\n",
        "    square_list.append(i**2)\n",
        "  return square_list\n",
        "\n",
        "square_of_list([1,2,3,4])"
      ],
      "metadata": {
        "colab": {
          "base_uri": "https://localhost:8080/"
        },
        "id": "HPJqSJo9yMy3",
        "outputId": "298eb30f-cad8-4aff-b19c-4befef63dfb8"
      },
      "execution_count": null,
      "outputs": [
        {
          "output_type": "execute_result",
          "data": {
            "text/plain": [
              "[1, 4, 9, 16]"
            ]
          },
          "metadata": {},
          "execution_count": 152
        }
      ]
    },
    {
      "cell_type": "code",
      "source": [
        "square_list = list( map(lambda i: i**2,[1,2,3,4]))\n",
        "square_list"
      ],
      "metadata": {
        "colab": {
          "base_uri": "https://localhost:8080/"
        },
        "id": "fIgMiar4yMqr",
        "outputId": "a7473121-23f0-476e-c707-6620c7706301"
      },
      "execution_count": null,
      "outputs": [
        {
          "output_type": "execute_result",
          "data": {
            "text/plain": [
              "[1, 4, 9, 16]"
            ]
          },
          "metadata": {},
          "execution_count": 158
        }
      ]
    },
    {
      "cell_type": "code",
      "source": [
        "list(range(5))"
      ],
      "metadata": {
        "colab": {
          "base_uri": "https://localhost:8080/"
        },
        "id": "aigeCVmKzCbD",
        "outputId": "5a981730-7ae6-42dd-c972-43d480dc0df0"
      },
      "execution_count": null,
      "outputs": [
        {
          "output_type": "execute_result",
          "data": {
            "text/plain": [
              "[0, 1, 2, 3, 4]"
            ]
          },
          "metadata": {},
          "execution_count": 156
        }
      ]
    },
    {
      "cell_type": "markdown",
      "source": [
        "# Exception Handling\n"
      ],
      "metadata": {
        "id": "Dh130tcOrJXv"
      }
    },
    {
      "cell_type": "code",
      "source": [
        "try:\n",
        " # Code block where exceptions may occur\n",
        " ...\n",
        "except ExceptionType1:\n",
        " # Handle ExceptionType1\n",
        " ...\n",
        "except ExceptionType2:\n",
        " # Handle ExceptionType2\n",
        " ...\n",
        "else:\n",
        " # Optional block that executes if no exceptions are raised\n",
        " ...\n",
        "finally:\n",
        " # Optional block that always executes, useful for cleanup actions"
      ],
      "metadata": {
        "id": "A5ne0KhDqnvQ"
      },
      "execution_count": null,
      "outputs": []
    },
    {
      "cell_type": "markdown",
      "source": [
        "**Function to process a list of sales data and calculate the average sales**"
      ],
      "metadata": {
        "id": "2DnRwPpDrh_5"
      }
    },
    {
      "cell_type": "code",
      "source": [
        "sum([1,2,3,4,5,6])"
      ],
      "metadata": {
        "colab": {
          "base_uri": "https://localhost:8080/"
        },
        "id": "ACftHmpGuom5",
        "outputId": "1cf74931-132f-4002-ea38-7f18cbc3cb39"
      },
      "execution_count": null,
      "outputs": [
        {
          "output_type": "execute_result",
          "data": {
            "text/plain": [
              "21"
            ]
          },
          "metadata": {},
          "execution_count": 130
        }
      ]
    },
    {
      "cell_type": "code",
      "source": [
        "def calculate_average(sales):\n",
        "  total_sales = sum(sales)\n",
        "  average = total_sales/len(sales)\n",
        "  return average"
      ],
      "metadata": {
        "id": "7LC5s1KqeKIC"
      },
      "execution_count": null,
      "outputs": []
    },
    {
      "cell_type": "code",
      "source": [
        "calculate_average([100,350,150,400,500,16])"
      ],
      "metadata": {
        "colab": {
          "base_uri": "https://localhost:8080/"
        },
        "id": "uYFaZM1cu72d",
        "outputId": "70120782-743c-4deb-eeae-50ef62b4b38b"
      },
      "execution_count": null,
      "outputs": [
        {
          "output_type": "execute_result",
          "data": {
            "text/plain": [
              "252.66666666666666"
            ]
          },
          "metadata": {},
          "execution_count": 133
        }
      ]
    },
    {
      "cell_type": "code",
      "source": [
        "calculate_average([])"
      ],
      "metadata": {
        "colab": {
          "base_uri": "https://localhost:8080/",
          "height": 245
        },
        "id": "P95n1bJqu7w0",
        "outputId": "e74ca10a-2a32-4650-c82c-20d80c7e7515"
      },
      "execution_count": null,
      "outputs": [
        {
          "output_type": "error",
          "ename": "ZeroDivisionError",
          "evalue": "division by zero",
          "traceback": [
            "\u001b[0;31m---------------------------------------------------------------------------\u001b[0m",
            "\u001b[0;31mZeroDivisionError\u001b[0m                         Traceback (most recent call last)",
            "\u001b[0;32m<ipython-input-134-298085174>\u001b[0m in \u001b[0;36m<cell line: 0>\u001b[0;34m()\u001b[0m\n\u001b[0;32m----> 1\u001b[0;31m \u001b[0mcalculate_average\u001b[0m\u001b[0;34m(\u001b[0m\u001b[0;34m[\u001b[0m\u001b[0;34m]\u001b[0m\u001b[0;34m)\u001b[0m\u001b[0;34m\u001b[0m\u001b[0;34m\u001b[0m\u001b[0m\n\u001b[0m",
            "\u001b[0;32m<ipython-input-131-4273624638>\u001b[0m in \u001b[0;36mcalculate_average\u001b[0;34m(sales)\u001b[0m\n\u001b[1;32m      1\u001b[0m \u001b[0;32mdef\u001b[0m \u001b[0mcalculate_average\u001b[0m\u001b[0;34m(\u001b[0m\u001b[0msales\u001b[0m\u001b[0;34m)\u001b[0m\u001b[0;34m:\u001b[0m\u001b[0;34m\u001b[0m\u001b[0;34m\u001b[0m\u001b[0m\n\u001b[1;32m      2\u001b[0m   \u001b[0mtotal_sales\u001b[0m \u001b[0;34m=\u001b[0m \u001b[0msum\u001b[0m\u001b[0;34m(\u001b[0m\u001b[0msales\u001b[0m\u001b[0;34m)\u001b[0m\u001b[0;34m\u001b[0m\u001b[0;34m\u001b[0m\u001b[0m\n\u001b[0;32m----> 3\u001b[0;31m   \u001b[0maverage\u001b[0m \u001b[0;34m=\u001b[0m \u001b[0mtotal_sales\u001b[0m\u001b[0;34m/\u001b[0m\u001b[0mlen\u001b[0m\u001b[0;34m(\u001b[0m\u001b[0msales\u001b[0m\u001b[0;34m)\u001b[0m\u001b[0;34m\u001b[0m\u001b[0;34m\u001b[0m\u001b[0m\n\u001b[0m\u001b[1;32m      4\u001b[0m   \u001b[0;32mreturn\u001b[0m \u001b[0maverage\u001b[0m\u001b[0;34m\u001b[0m\u001b[0;34m\u001b[0m\u001b[0m\n",
            "\u001b[0;31mZeroDivisionError\u001b[0m: division by zero"
          ]
        }
      ]
    },
    {
      "cell_type": "code",
      "source": [],
      "metadata": {
        "id": "YYKfgsRKeKFR"
      },
      "execution_count": null,
      "outputs": []
    },
    {
      "cell_type": "markdown",
      "source": [
        "## Zero Division Error"
      ],
      "metadata": {
        "id": "NdjU8XIzr2ZS"
      }
    },
    {
      "cell_type": "code",
      "source": [
        "def calculate_average(sales):\n",
        "  try:\n",
        "    total_sales = sum(sales)\n",
        "    average = total_sales/len(sales)\n",
        "\n",
        "  except ZeroDivisionError:\n",
        "    return \"You have entered an empty list of sales. It means the total sales = 0.\"\n",
        "\n",
        "  else:\n",
        "    return average\n"
      ],
      "metadata": {
        "id": "xx0z_XBteJlb"
      },
      "execution_count": null,
      "outputs": []
    },
    {
      "cell_type": "code",
      "source": [
        "calculate_average([])"
      ],
      "metadata": {
        "id": "tleLtO_PeJjE",
        "colab": {
          "base_uri": "https://localhost:8080/",
          "height": 36
        },
        "outputId": "b1510e9c-a873-40a7-ae5c-350a60c4ca08"
      },
      "execution_count": null,
      "outputs": [
        {
          "output_type": "execute_result",
          "data": {
            "text/plain": [
              "'You have entered an empty list of sales. It means the total sales = 0.'"
            ],
            "application/vnd.google.colaboratory.intrinsic+json": {
              "type": "string"
            }
          },
          "metadata": {},
          "execution_count": 136
        }
      ]
    },
    {
      "cell_type": "markdown",
      "source": [
        "## TypeError"
      ],
      "metadata": {
        "id": "dWIE-xa-tFM8"
      }
    },
    {
      "cell_type": "code",
      "source": [
        "def calculate_average(sales):\n",
        "  try:\n",
        "    total_sales = sum(sales)\n",
        "    average = total_sales/len(sales)\n",
        "\n",
        "  except ZeroDivisionError:\n",
        "    return \"You have entered an empty list of sales. It means the total sales = 0.\"\n",
        "\n",
        "  except TypeError:\n",
        "    return \"You have entered an invalid sales value. Kindly Check your list.\"\n",
        "\n",
        "\n",
        "  else:\n",
        "    return average\n"
      ],
      "metadata": {
        "id": "Nd3ouTWmwGyn"
      },
      "execution_count": null,
      "outputs": []
    },
    {
      "cell_type": "code",
      "source": [
        "calculate_average([100,250,500,\"ten\"])\n",
        "\n"
      ],
      "metadata": {
        "colab": {
          "base_uri": "https://localhost:8080/",
          "height": 36
        },
        "id": "b3zz4uOpv8-O",
        "outputId": "3a6e73a2-a11f-4549-e6b5-3de1be87ee9f"
      },
      "execution_count": null,
      "outputs": [
        {
          "output_type": "execute_result",
          "data": {
            "text/plain": [
              "'You have entered an invalid sales value. Kindly Check your list.'"
            ],
            "application/vnd.google.colaboratory.intrinsic+json": {
              "type": "string"
            }
          },
          "metadata": {},
          "execution_count": 140
        }
      ]
    },
    {
      "cell_type": "code",
      "source": [
        "calculate_average([100,250,500,10])\n",
        "\n"
      ],
      "metadata": {
        "id": "tDI_D6UHeY3E",
        "colab": {
          "base_uri": "https://localhost:8080/"
        },
        "outputId": "47fb3e1e-c753-4eef-c8aa-bf8066d377bd"
      },
      "execution_count": null,
      "outputs": [
        {
          "output_type": "execute_result",
          "data": {
            "text/plain": [
              "215.0"
            ]
          },
          "metadata": {},
          "execution_count": 141
        }
      ]
    },
    {
      "cell_type": "code",
      "source": [
        "def calculate_average(sales):\n",
        "  try:\n",
        "    total_sales = sum(sales)\n",
        "    average = total_sales/len(sales)\n",
        "\n",
        "  except:\n",
        "    return \"You have entered invalid. Kindly Check your list.\"\n",
        "\n",
        "\n",
        "  else:\n",
        "    return average\n"
      ],
      "metadata": {
        "id": "zduNK4Z6wtTT"
      },
      "execution_count": null,
      "outputs": []
    },
    {
      "cell_type": "code",
      "source": [
        "calculate_average([\"a\",1,3,5])"
      ],
      "metadata": {
        "colab": {
          "base_uri": "https://localhost:8080/",
          "height": 36
        },
        "id": "3rrBY8vcwtNC",
        "outputId": "fd9363dd-d4fb-4ff0-9b51-68cf81c50332"
      },
      "execution_count": null,
      "outputs": [
        {
          "output_type": "execute_result",
          "data": {
            "text/plain": [
              "'You have entered invalid. Kindly Check your list.'"
            ],
            "application/vnd.google.colaboratory.intrinsic+json": {
              "type": "string"
            }
          },
          "metadata": {},
          "execution_count": 143
        }
      ]
    },
    {
      "cell_type": "code",
      "source": [
        "calculate_average([])"
      ],
      "metadata": {
        "colab": {
          "base_uri": "https://localhost:8080/",
          "height": 36
        },
        "id": "GeV5Ltb7w6-m",
        "outputId": "69564528-4ed4-40c9-8842-c56e78405552"
      },
      "execution_count": null,
      "outputs": [
        {
          "output_type": "execute_result",
          "data": {
            "text/plain": [
              "'You have entered invalid. Kindly Check your list.'"
            ],
            "application/vnd.google.colaboratory.intrinsic+json": {
              "type": "string"
            }
          },
          "metadata": {},
          "execution_count": 144
        }
      ]
    },
    {
      "cell_type": "markdown",
      "source": [
        "## Customize Error"
      ],
      "metadata": {
        "id": "yzigFHCfxmMc"
      }
    },
    {
      "cell_type": "code",
      "source": [
        "def divide(num1, num2):\n",
        "  if num2==0:\n",
        "    raise ValueError(\"Hello! Hope you are well. Your denominator value is Zero :(\")\n",
        "  return num1/num2"
      ],
      "metadata": {
        "id": "yEkbBi6qw872"
      },
      "execution_count": null,
      "outputs": []
    },
    {
      "cell_type": "code",
      "source": [
        "divide(10,2)"
      ],
      "metadata": {
        "colab": {
          "base_uri": "https://localhost:8080/"
        },
        "id": "D7P2S9Z4xhkP",
        "outputId": "238ddf73-5ec8-44a5-e9ba-d0c7b32cc154"
      },
      "execution_count": null,
      "outputs": [
        {
          "output_type": "execute_result",
          "data": {
            "text/plain": [
              "5.0"
            ]
          },
          "metadata": {},
          "execution_count": 150
        }
      ]
    },
    {
      "cell_type": "code",
      "source": [
        "divide(5,0)"
      ],
      "metadata": {
        "colab": {
          "base_uri": "https://localhost:8080/",
          "height": 245
        },
        "id": "bM0gzVWYxNna",
        "outputId": "6d81df7d-9da7-4bb2-8d76-ecba337497a9"
      },
      "execution_count": null,
      "outputs": [
        {
          "output_type": "error",
          "ename": "ValueError",
          "evalue": "Hello! Hope you are well. Your denominator value is Zero :(",
          "traceback": [
            "\u001b[0;31m---------------------------------------------------------------------------\u001b[0m",
            "\u001b[0;31mValueError\u001b[0m                                Traceback (most recent call last)",
            "\u001b[0;32m<ipython-input-148-2101080697>\u001b[0m in \u001b[0;36m<cell line: 0>\u001b[0;34m()\u001b[0m\n\u001b[0;32m----> 1\u001b[0;31m \u001b[0mdivide\u001b[0m\u001b[0;34m(\u001b[0m\u001b[0;36m5\u001b[0m\u001b[0;34m,\u001b[0m\u001b[0;36m0\u001b[0m\u001b[0;34m)\u001b[0m\u001b[0;34m\u001b[0m\u001b[0;34m\u001b[0m\u001b[0m\n\u001b[0m",
            "\u001b[0;32m<ipython-input-147-1608859381>\u001b[0m in \u001b[0;36mdivide\u001b[0;34m(num1, num2)\u001b[0m\n\u001b[1;32m      1\u001b[0m \u001b[0;32mdef\u001b[0m \u001b[0mdivide\u001b[0m\u001b[0;34m(\u001b[0m\u001b[0mnum1\u001b[0m\u001b[0;34m,\u001b[0m \u001b[0mnum2\u001b[0m\u001b[0;34m)\u001b[0m\u001b[0;34m:\u001b[0m\u001b[0;34m\u001b[0m\u001b[0;34m\u001b[0m\u001b[0m\n\u001b[1;32m      2\u001b[0m   \u001b[0;32mif\u001b[0m \u001b[0mnum2\u001b[0m\u001b[0;34m==\u001b[0m\u001b[0;36m0\u001b[0m\u001b[0;34m:\u001b[0m\u001b[0;34m\u001b[0m\u001b[0;34m\u001b[0m\u001b[0m\n\u001b[0;32m----> 3\u001b[0;31m     \u001b[0;32mraise\u001b[0m \u001b[0mValueError\u001b[0m\u001b[0;34m(\u001b[0m\u001b[0;34m\"Hello! Hope you are well. Your denominator value is Zero :(\"\u001b[0m\u001b[0;34m)\u001b[0m\u001b[0;34m\u001b[0m\u001b[0;34m\u001b[0m\u001b[0m\n\u001b[0m\u001b[1;32m      4\u001b[0m   \u001b[0;32mreturn\u001b[0m \u001b[0mnum1\u001b[0m\u001b[0;34m/\u001b[0m\u001b[0mnum2\u001b[0m\u001b[0;34m\u001b[0m\u001b[0;34m\u001b[0m\u001b[0m\n",
            "\u001b[0;31mValueError\u001b[0m: Hello! Hope you are well. Your denominator value is Zero :("
          ]
        }
      ]
    },
    {
      "cell_type": "code",
      "source": [],
      "metadata": {
        "id": "QeXAETZSxOr3"
      },
      "execution_count": null,
      "outputs": []
    }
  ]
}