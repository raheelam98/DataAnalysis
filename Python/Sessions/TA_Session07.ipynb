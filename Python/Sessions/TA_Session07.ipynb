{
  "nbformat": 4,
  "nbformat_minor": 0,
  "metadata": {
    "colab": {
      "provenance": [],
      "include_colab_link": true
    },
    "kernelspec": {
      "name": "python3",
      "display_name": "Python 3"
    },
    "language_info": {
      "name": "python"
    }
  },
  "cells": [
    {
      "cell_type": "markdown",
      "metadata": {
        "id": "view-in-github",
        "colab_type": "text"
      },
      "source": [
        "<a href=\"https://colab.research.google.com/github/raheelam98/DataAnalysis/blob/main/Python/Sessions/TA_Session07.ipynb\" target=\"_parent\"><img src=\"https://colab.research.google.com/assets/colab-badge.svg\" alt=\"Open In Colab\"/></a>"
      ]
    },
    {
      "cell_type": "code",
      "execution_count": null,
      "metadata": {
        "id": "jaTeVXSfcz-B"
      },
      "outputs": [],
      "source": []
    },
    {
      "cell_type": "markdown",
      "source": [
        "# Resources Explored in this Session"
      ],
      "metadata": {
        "id": "0m-wgdn0ppMO"
      }
    },
    {
      "cell_type": "markdown",
      "source": [
        "https://www.kaggle.com/     \n",
        "\n",
        "*  https://www.geeksforgeeks.org/difference-between-for-loop-and-while-loop-in-programming/\n",
        "\n",
        "\n",
        "*   https://www.kaggle.com/datasets/snap/amazon-fine-food-reviews\n",
        "\n",
        "*   https://pythontutor.com/\n",
        "\n",
        "*   https://medium.com/@firdausauliafaza/exploring-speed-eficiency-a-comparative-analysis-of-for-and-while-loops-in-python-f3dab75d57a7\n",
        "\n",
        "\n",
        "*   https://media.geeksforgeeks.org/wp-content/uploads/20240419100954/Difference-between-For-Loop-and-While-Loop-in-Programming.webp\n",
        "\n"
      ],
      "metadata": {
        "id": "qdN9TDl2ocgD"
      }
    },
    {
      "cell_type": "markdown",
      "source": [
        "Question: Iterate over the list items = [\"apple\", \"banana\", \"grape\", \"orange\"]. Print each item except \"grape\" (use pass for \"grape\")."
      ],
      "metadata": {
        "id": "9MBoV2XUdc0x"
      }
    },
    {
      "cell_type": "code",
      "source": [
        "items = [\"apple\", \"banana\", \"grape\", \"orange\"]"
      ],
      "metadata": {
        "id": "Xt1fyDmVdeXA"
      },
      "execution_count": null,
      "outputs": []
    },
    {
      "cell_type": "code",
      "source": [
        "for i in items:\n",
        "  if i == \"grape\":\n",
        "    pass\n",
        "  else:\n",
        "    print(i)\n"
      ],
      "metadata": {
        "colab": {
          "base_uri": "https://localhost:8080/"
        },
        "id": "bu2-twx9dsZn",
        "outputId": "fd9c2718-6608-415e-a8c0-e73830477f66"
      },
      "execution_count": null,
      "outputs": [
        {
          "output_type": "stream",
          "name": "stdout",
          "text": [
            "apple\n",
            "banana\n",
            "orange\n"
          ]
        }
      ]
    },
    {
      "cell_type": "code",
      "source": [],
      "metadata": {
        "id": "U6uQS7_rfQg4"
      },
      "execution_count": null,
      "outputs": []
    },
    {
      "cell_type": "markdown",
      "source": [
        "While loop is used when we dont have any fixed number of iterations or we want to stop when the condiiton is fulfilled\n"
      ],
      "metadata": {
        "id": "ZsSFiRpgff3N"
      }
    },
    {
      "cell_type": "code",
      "source": [
        "# 1 to 5 number loop\n",
        "\n",
        "for i in range(0,5):\n",
        "  print(i)"
      ],
      "metadata": {
        "colab": {
          "base_uri": "https://localhost:8080/"
        },
        "id": "jbvzO1n3fq6G",
        "outputId": "33a7b39e-0ac8-4564-98a4-f259f16bac55"
      },
      "execution_count": null,
      "outputs": [
        {
          "output_type": "stream",
          "name": "stdout",
          "text": [
            "0\n",
            "1\n",
            "2\n",
            "3\n",
            "4\n"
          ]
        }
      ]
    },
    {
      "cell_type": "code",
      "source": [],
      "metadata": {
        "id": "w0wm6c6MiIB5"
      },
      "execution_count": null,
      "outputs": []
    },
    {
      "cell_type": "code",
      "source": [
        "#while\n",
        "\n",
        "\n",
        "i = 0\n",
        "while i < 5:\n",
        "  print(i)\n",
        "  i += 1\n",
        "\n",
        "\n",
        "\n",
        "\n"
      ],
      "metadata": {
        "colab": {
          "base_uri": "https://localhost:8080/"
        },
        "id": "7c6VHeeOgCoG",
        "outputId": "a57d4b5a-2d0b-4e8c-b151-f6df694d53df"
      },
      "execution_count": null,
      "outputs": [
        {
          "output_type": "stream",
          "name": "stdout",
          "text": [
            "0\n",
            "1\n",
            "2\n",
            "3\n",
            "4\n"
          ]
        }
      ]
    },
    {
      "cell_type": "code",
      "source": [],
      "metadata": {
        "id": "hh9WEXkhiJd9"
      },
      "execution_count": null,
      "outputs": []
    },
    {
      "cell_type": "markdown",
      "source": [
        "# Error Handling"
      ],
      "metadata": {
        "id": "m665xn45pvtB"
      }
    },
    {
      "cell_type": "markdown",
      "source": [
        "Error Handling :\n",
        "\n",
        "ZeroDivisionError\n",
        "\n",
        "TypeError:\n",
        "\n",
        "we can make customzied error:\n",
        "\n"
      ],
      "metadata": {
        "id": "QbF4QnQUjxpb"
      }
    },
    {
      "cell_type": "code",
      "source": [
        "try:\n",
        "  #code\n",
        "except ExceptionType1:\n",
        "  #code\n",
        "else:\n",
        "  #optionalblock\n",
        "finally:\n",
        "    #optionalblock\n"
      ],
      "metadata": {
        "id": "FZgpRIwXkalQ"
      },
      "execution_count": null,
      "outputs": []
    },
    {
      "cell_type": "code",
      "source": [
        "sum([1,2,3,4,5,6,7,8])"
      ],
      "metadata": {
        "colab": {
          "base_uri": "https://localhost:8080/"
        },
        "id": "mdC2OZT7k3ia",
        "outputId": "bf90f156-96ab-4e53-c6a7-f5ea0926aa73"
      },
      "execution_count": null,
      "outputs": [
        {
          "output_type": "execute_result",
          "data": {
            "text/plain": [
              "36"
            ]
          },
          "metadata": {},
          "execution_count": 6
        }
      ]
    },
    {
      "cell_type": "code",
      "source": [
        "def total_revenue(sales):\n",
        "  total_sales = sum(sales)\n",
        "  revenue = total_sales / 100\n",
        "  return revenue\n"
      ],
      "metadata": {
        "id": "3OMsyl_alBXi"
      },
      "execution_count": null,
      "outputs": []
    },
    {
      "cell_type": "code",
      "source": [
        "total_revenue([100, 200, 300])"
      ],
      "metadata": {
        "colab": {
          "base_uri": "https://localhost:8080/"
        },
        "id": "o1SbB8R1ljjc",
        "outputId": "fa987bd9-3036-4c7b-f818-893fb857c556"
      },
      "execution_count": null,
      "outputs": [
        {
          "output_type": "execute_result",
          "data": {
            "text/plain": [
              "6.0"
            ]
          },
          "metadata": {},
          "execution_count": 11
        }
      ]
    },
    {
      "cell_type": "code",
      "source": [
        "total_revenue([])"
      ],
      "metadata": {
        "colab": {
          "base_uri": "https://localhost:8080/"
        },
        "id": "2OW50u7ilpli",
        "outputId": "65db3481-6ca3-4847-9bbd-e35dc72299b2"
      },
      "execution_count": null,
      "outputs": [
        {
          "output_type": "execute_result",
          "data": {
            "text/plain": [
              "0.0"
            ]
          },
          "metadata": {},
          "execution_count": 12
        }
      ]
    },
    {
      "cell_type": "code",
      "source": [
        "def average_sales(sales):\n",
        "  total_sales = sum(sales)\n",
        "  average = total_sales / len(sales)\n",
        "  return average\n"
      ],
      "metadata": {
        "id": "gLbVFYGkl9Hb"
      },
      "execution_count": null,
      "outputs": []
    },
    {
      "cell_type": "code",
      "source": [
        "average_sales([100,200,300])"
      ],
      "metadata": {
        "colab": {
          "base_uri": "https://localhost:8080/"
        },
        "id": "lJjyJVBumJvd",
        "outputId": "9a600057-fb50-473b-cf74-4d5e670518e4"
      },
      "execution_count": null,
      "outputs": [
        {
          "output_type": "execute_result",
          "data": {
            "text/plain": [
              "200.0"
            ]
          },
          "metadata": {},
          "execution_count": 14
        }
      ]
    },
    {
      "cell_type": "code",
      "source": [
        "average_sales([])"
      ],
      "metadata": {
        "colab": {
          "base_uri": "https://localhost:8080/",
          "height": 245
        },
        "id": "F6CradXMmPk8",
        "outputId": "eb391221-004d-431f-ca6a-32baaf26ffd2"
      },
      "execution_count": null,
      "outputs": [
        {
          "output_type": "error",
          "ename": "ZeroDivisionError",
          "evalue": "division by zero",
          "traceback": [
            "\u001b[0;31m---------------------------------------------------------------------------\u001b[0m",
            "\u001b[0;31mZeroDivisionError\u001b[0m                         Traceback (most recent call last)",
            "\u001b[0;32m/tmp/ipython-input-15-1204291679.py\u001b[0m in \u001b[0;36m<cell line: 0>\u001b[0;34m()\u001b[0m\n\u001b[0;32m----> 1\u001b[0;31m \u001b[0maverage_sales\u001b[0m\u001b[0;34m(\u001b[0m\u001b[0;34m[\u001b[0m\u001b[0;34m]\u001b[0m\u001b[0;34m)\u001b[0m\u001b[0;34m\u001b[0m\u001b[0;34m\u001b[0m\u001b[0m\n\u001b[0m",
            "\u001b[0;32m/tmp/ipython-input-13-809369706.py\u001b[0m in \u001b[0;36maverage_sales\u001b[0;34m(sales)\u001b[0m\n\u001b[1;32m      1\u001b[0m \u001b[0;32mdef\u001b[0m \u001b[0maverage_sales\u001b[0m\u001b[0;34m(\u001b[0m\u001b[0msales\u001b[0m\u001b[0;34m)\u001b[0m\u001b[0;34m:\u001b[0m\u001b[0;34m\u001b[0m\u001b[0;34m\u001b[0m\u001b[0m\n\u001b[1;32m      2\u001b[0m   \u001b[0mtotal_sales\u001b[0m \u001b[0;34m=\u001b[0m \u001b[0msum\u001b[0m\u001b[0;34m(\u001b[0m\u001b[0msales\u001b[0m\u001b[0;34m)\u001b[0m\u001b[0;34m\u001b[0m\u001b[0;34m\u001b[0m\u001b[0m\n\u001b[0;32m----> 3\u001b[0;31m   \u001b[0maverage\u001b[0m \u001b[0;34m=\u001b[0m \u001b[0mtotal_sales\u001b[0m \u001b[0;34m/\u001b[0m \u001b[0mlen\u001b[0m\u001b[0;34m(\u001b[0m\u001b[0msales\u001b[0m\u001b[0;34m)\u001b[0m\u001b[0;34m\u001b[0m\u001b[0;34m\u001b[0m\u001b[0m\n\u001b[0m\u001b[1;32m      4\u001b[0m   \u001b[0;32mreturn\u001b[0m \u001b[0maverage\u001b[0m\u001b[0;34m\u001b[0m\u001b[0;34m\u001b[0m\u001b[0m\n",
            "\u001b[0;31mZeroDivisionError\u001b[0m: division by zero"
          ]
        }
      ]
    },
    {
      "cell_type": "code",
      "source": [
        "def average_sales(sales):\n",
        "  try:\n",
        "\n",
        "   total_sales = sum(sales)\n",
        "   average = total_sales / len(sales)\n",
        "\n",
        "  except ZeroDivisionError:\n",
        "     return \"Invalid Entry\"\n",
        "\n",
        "  else:\n",
        "   return average\n"
      ],
      "metadata": {
        "id": "3B_RvKinmYIj"
      },
      "execution_count": null,
      "outputs": []
    },
    {
      "cell_type": "markdown",
      "source": [],
      "metadata": {
        "id": "_j2ZKBgVoXGE"
      }
    },
    {
      "cell_type": "code",
      "source": [
        "average_sales([])"
      ],
      "metadata": {
        "colab": {
          "base_uri": "https://localhost:8080/",
          "height": 35
        },
        "id": "VlfB_Lz7nL_Y",
        "outputId": "45bcf798-c206-40b0-d368-a91cb876512f"
      },
      "execution_count": null,
      "outputs": [
        {
          "output_type": "execute_result",
          "data": {
            "text/plain": [
              "'Invalid Entry'"
            ],
            "application/vnd.google.colaboratory.intrinsic+json": {
              "type": "string"
            }
          },
          "metadata": {},
          "execution_count": 17
        }
      ]
    }
  ]
}