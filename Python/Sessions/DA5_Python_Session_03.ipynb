{
  "cells": [
    {
      "cell_type": "markdown",
      "metadata": {
        "id": "view-in-github",
        "colab_type": "text"
      },
      "source": [
        "<a href=\"https://colab.research.google.com/github/raheelam98/DataAnalysis/blob/main/Python/Sessions/DA5_Python_Session_03.ipynb\" target=\"_parent\"><img src=\"https://colab.research.google.com/assets/colab-badge.svg\" alt=\"Open In Colab\"/></a>"
      ]
    },
    {
      "cell_type": "markdown",
      "metadata": {
        "id": "ff2c35cd"
      },
      "source": [
        "## **Tuple**\n",
        "\n",
        "- Sequence or collection of items\n",
        "- Tuple is immutable\n",
        "- define using round brackets  ( )\n",
        "- For a single value tuple, always put a comma after a value. (A,)\n",
        "- Immutable sequence types\n",
        "- Tuples are like lists but cannot be changed (no item addition, removal, or modification)."
      ],
      "id": "ff2c35cd"
    },
    {
      "cell_type": "markdown",
      "source": [
        "### **Define Tuple**"
      ],
      "metadata": {
        "id": "DueqOIxJC6_c"
      },
      "id": "DueqOIxJC6_c"
    },
    {
      "cell_type": "code",
      "source": [
        "string = \"a\"\n",
        "string"
      ],
      "metadata": {
        "colab": {
          "base_uri": "https://localhost:8080/",
          "height": 35
        },
        "id": "IgKINsaLq0DP",
        "outputId": "e72b02d9-edc7-455b-d8be-ffe4335b4828"
      },
      "id": "IgKINsaLq0DP",
      "execution_count": null,
      "outputs": [
        {
          "output_type": "execute_result",
          "data": {
            "text/plain": [
              "'a'"
            ],
            "application/vnd.google.colaboratory.intrinsic+json": {
              "type": "string"
            }
          },
          "metadata": {},
          "execution_count": 37
        }
      ]
    },
    {
      "cell_type": "code",
      "source": [
        "list_ = [1]\n",
        "list_"
      ],
      "metadata": {
        "colab": {
          "base_uri": "https://localhost:8080/"
        },
        "id": "ir8kzIhyq5Ij",
        "outputId": "4c4b95bc-5127-4f27-9113-e2bac0e12204"
      },
      "id": "ir8kzIhyq5Ij",
      "execution_count": null,
      "outputs": [
        {
          "output_type": "execute_result",
          "data": {
            "text/plain": [
              "[1]"
            ]
          },
          "metadata": {},
          "execution_count": 38
        }
      ]
    },
    {
      "cell_type": "code",
      "source": [
        "tuple_ = (5)\n",
        "tuple_"
      ],
      "metadata": {
        "colab": {
          "base_uri": "https://localhost:8080/"
        },
        "id": "8XBvlnaiqzgL",
        "outputId": "547701b6-5115-490d-e53d-0f6266232545"
      },
      "id": "8XBvlnaiqzgL",
      "execution_count": null,
      "outputs": [
        {
          "output_type": "execute_result",
          "data": {
            "text/plain": [
              "5"
            ]
          },
          "metadata": {},
          "execution_count": 46
        }
      ]
    },
    {
      "cell_type": "code",
      "source": [
        "type(tuple_)"
      ],
      "metadata": {
        "colab": {
          "base_uri": "https://localhost:8080/"
        },
        "id": "lGscPM3trB4g",
        "outputId": "b179fbf3-747f-4f4a-b9b2-443d360f8454"
      },
      "id": "lGscPM3trB4g",
      "execution_count": null,
      "outputs": [
        {
          "output_type": "execute_result",
          "data": {
            "text/plain": [
              "int"
            ]
          },
          "metadata": {},
          "execution_count": 47
        }
      ]
    },
    {
      "cell_type": "code",
      "source": [
        "tuple_ = (5,)\n",
        "tuple_"
      ],
      "metadata": {
        "colab": {
          "base_uri": "https://localhost:8080/"
        },
        "id": "dvJBMMoYrMDH",
        "outputId": "15024c10-6546-4b12-dd5d-cf7fa7088209"
      },
      "id": "dvJBMMoYrMDH",
      "execution_count": null,
      "outputs": [
        {
          "output_type": "execute_result",
          "data": {
            "text/plain": [
              "(5,)"
            ]
          },
          "metadata": {},
          "execution_count": 48
        }
      ]
    },
    {
      "cell_type": "markdown",
      "source": [
        "shapes of vector:\n",
        "- (5,) => 5 elements [ 1,2,3,4,5]\n",
        "- (5,6) => 5 rows and 6 columns"
      ],
      "metadata": {
        "id": "4dHE6pbJrqXc"
      },
      "id": "4dHE6pbJrqXc"
    },
    {
      "cell_type": "code",
      "source": [],
      "metadata": {
        "id": "q2hNMpvYrNsH"
      },
      "id": "q2hNMpvYrNsH",
      "execution_count": null,
      "outputs": []
    },
    {
      "cell_type": "markdown",
      "source": [
        "**Define tuple with mutiple items**"
      ],
      "metadata": {
        "id": "NtaHD_MxrxiP"
      },
      "id": "NtaHD_MxrxiP"
    },
    {
      "cell_type": "code",
      "source": [
        "dummy_tuple = (4,5,\"Maimoona\",5.6,True,[1,4],(1,5))\n",
        "dummy_tuple"
      ],
      "metadata": {
        "id": "pu8CMSyfhHQz",
        "colab": {
          "base_uri": "https://localhost:8080/"
        },
        "outputId": "dbfe742c-462a-4a64-c53c-cb16ed5625f0"
      },
      "id": "pu8CMSyfhHQz",
      "execution_count": null,
      "outputs": [
        {
          "output_type": "execute_result",
          "data": {
            "text/plain": [
              "(4, 5, 'Maimoona', 5.6, True, [1, 4], (1, 5))"
            ]
          },
          "metadata": {},
          "execution_count": 8
        }
      ]
    },
    {
      "cell_type": "code",
      "source": [
        "type(dummy_tuple)"
      ],
      "metadata": {
        "colab": {
          "base_uri": "https://localhost:8080/"
        },
        "id": "94XKeuDQoXoc",
        "outputId": "0edae367-7bf4-4b47-f9cd-a093a2aa9560"
      },
      "id": "94XKeuDQoXoc",
      "execution_count": null,
      "outputs": [
        {
          "output_type": "execute_result",
          "data": {
            "text/plain": [
              "tuple"
            ]
          },
          "metadata": {},
          "execution_count": 7
        }
      ]
    },
    {
      "cell_type": "markdown",
      "source": [
        "### **Indexing**"
      ],
      "metadata": {
        "id": "xIpyGYumC9gj"
      },
      "id": "xIpyGYumC9gj"
    },
    {
      "cell_type": "code",
      "source": [
        "dummy_tuple"
      ],
      "metadata": {
        "id": "ADGkUZ9KhICv",
        "colab": {
          "base_uri": "https://localhost:8080/"
        },
        "outputId": "80b0ab0d-84dc-403b-f88c-4e0e480eef48"
      },
      "id": "ADGkUZ9KhICv",
      "execution_count": null,
      "outputs": [
        {
          "output_type": "execute_result",
          "data": {
            "text/plain": [
              "(4, 5, 'Maimoona', 5.6, True, [1, 4], (1, 5))"
            ]
          },
          "metadata": {},
          "execution_count": 9
        }
      ]
    },
    {
      "cell_type": "code",
      "source": [
        "type(dummy_tuple[-6])"
      ],
      "metadata": {
        "colab": {
          "base_uri": "https://localhost:8080/"
        },
        "id": "ZGRJ_py8owon",
        "outputId": "ec033095-ec75-41ff-9f78-ef50fb329f90"
      },
      "id": "ZGRJ_py8owon",
      "execution_count": null,
      "outputs": [
        {
          "output_type": "execute_result",
          "data": {
            "text/plain": [
              "int"
            ]
          },
          "metadata": {},
          "execution_count": 17
        }
      ]
    },
    {
      "cell_type": "code",
      "source": [
        "dummy_tuple[0]=6"
      ],
      "metadata": {
        "colab": {
          "base_uri": "https://localhost:8080/",
          "height": 141
        },
        "id": "v86lEYRkpVYf",
        "outputId": "0af03361-8ef6-4c51-8cf9-eae6bc13ed99"
      },
      "id": "v86lEYRkpVYf",
      "execution_count": null,
      "outputs": [
        {
          "output_type": "error",
          "ename": "TypeError",
          "evalue": "'tuple' object does not support item assignment",
          "traceback": [
            "\u001b[0;31m---------------------------------------------------------------------------\u001b[0m",
            "\u001b[0;31mTypeError\u001b[0m                                 Traceback (most recent call last)",
            "\u001b[0;32m<ipython-input-22-4010725379>\u001b[0m in \u001b[0;36m<cell line: 0>\u001b[0;34m()\u001b[0m\n\u001b[0;32m----> 1\u001b[0;31m \u001b[0mdummy_tuple\u001b[0m\u001b[0;34m[\u001b[0m\u001b[0;36m0\u001b[0m\u001b[0;34m]\u001b[0m\u001b[0;34m=\u001b[0m\u001b[0;36m6\u001b[0m\u001b[0;34m\u001b[0m\u001b[0;34m\u001b[0m\u001b[0m\n\u001b[0m",
            "\u001b[0;31mTypeError\u001b[0m: 'tuple' object does not support item assignment"
          ]
        }
      ]
    },
    {
      "cell_type": "code",
      "source": [
        "# concatenation\n",
        "dummy_tuple+(4,5)"
      ],
      "metadata": {
        "colab": {
          "base_uri": "https://localhost:8080/"
        },
        "id": "yScSro0xpVSa",
        "outputId": "9218e920-c372-4b86-9722-b5662b9ddbb3"
      },
      "id": "yScSro0xpVSa",
      "execution_count": null,
      "outputs": [
        {
          "output_type": "execute_result",
          "data": {
            "text/plain": [
              "(4, 5, 'Maimoona', 5.6, True, [1, 4], (1, 5), 4, 5)"
            ]
          },
          "metadata": {},
          "execution_count": 24
        }
      ]
    },
    {
      "cell_type": "code",
      "source": [
        "a = [\"a\",\"b\",\"c\",\"d\",\"e\"]\n",
        "a[3]=\"m\"\n",
        "a"
      ],
      "metadata": {
        "colab": {
          "base_uri": "https://localhost:8080/"
        },
        "id": "zPwUdXBwowhj",
        "outputId": "08fe6c06-93a0-472d-ef22-0b31099d1069"
      },
      "id": "zPwUdXBwowhj",
      "execution_count": null,
      "outputs": [
        {
          "output_type": "execute_result",
          "data": {
            "text/plain": [
              "['a', 'b', 'c', 'm', 'e']"
            ]
          },
          "metadata": {},
          "execution_count": 20
        }
      ]
    },
    {
      "cell_type": "code",
      "source": [],
      "metadata": {
        "id": "yhLPz0VvhH7z"
      },
      "id": "yhLPz0VvhH7z",
      "execution_count": null,
      "outputs": []
    },
    {
      "cell_type": "markdown",
      "source": [
        "### **Slicing**"
      ],
      "metadata": {
        "id": "nAMSdWMlDDrp"
      },
      "id": "nAMSdWMlDDrp"
    },
    {
      "cell_type": "code",
      "source": [
        "dummy_tuple"
      ],
      "metadata": {
        "id": "8SRErk8DhJI_",
        "colab": {
          "base_uri": "https://localhost:8080/"
        },
        "outputId": "2716dc05-dc80-492e-9806-f216b2bfbac6"
      },
      "id": "8SRErk8DhJI_",
      "execution_count": null,
      "outputs": [
        {
          "output_type": "execute_result",
          "data": {
            "text/plain": [
              "(4, 5, 'Maimoona', 5.6, True, [1, 4], (1, 5))"
            ]
          },
          "metadata": {},
          "execution_count": 31
        }
      ]
    },
    {
      "cell_type": "code",
      "source": [
        "dummy_tuple[2:]"
      ],
      "metadata": {
        "colab": {
          "base_uri": "https://localhost:8080/"
        },
        "id": "tZTE5XTuqdSO",
        "outputId": "1193c060-32d7-42bc-e198-acf036a5ff6b"
      },
      "id": "tZTE5XTuqdSO",
      "execution_count": null,
      "outputs": [
        {
          "output_type": "execute_result",
          "data": {
            "text/plain": [
              "('Maimoona', 5.6, True, [1, 4], (1, 5))"
            ]
          },
          "metadata": {},
          "execution_count": 32
        }
      ]
    },
    {
      "cell_type": "code",
      "source": [
        "#variable_name[starting_index : stop_index : steps]\n",
        "dummy_tuple[::2]"
      ],
      "metadata": {
        "colab": {
          "base_uri": "https://localhost:8080/"
        },
        "id": "VmVUSLQRqdNN",
        "outputId": "4de90110-1922-4e13-f478-2295b198764d"
      },
      "id": "VmVUSLQRqdNN",
      "execution_count": null,
      "outputs": [
        {
          "output_type": "execute_result",
          "data": {
            "text/plain": [
              "(4, 'Maimoona', True, (1, 5))"
            ]
          },
          "metadata": {},
          "execution_count": 34
        }
      ]
    },
    {
      "cell_type": "code",
      "source": [
        "dummy_tuple[1::2]"
      ],
      "metadata": {
        "colab": {
          "base_uri": "https://localhost:8080/"
        },
        "id": "cAUyUmVOqdIG",
        "outputId": "e00219c4-5d6b-49ba-e0e7-ab43f592d8f9"
      },
      "id": "cAUyUmVOqdIG",
      "execution_count": null,
      "outputs": [
        {
          "output_type": "execute_result",
          "data": {
            "text/plain": [
              "(5, 5.6, [1, 4])"
            ]
          },
          "metadata": {},
          "execution_count": 35
        }
      ]
    },
    {
      "cell_type": "code",
      "source": [],
      "metadata": {
        "id": "_WnNuZ2JqdAW"
      },
      "id": "_WnNuZ2JqdAW",
      "execution_count": null,
      "outputs": []
    },
    {
      "cell_type": "markdown",
      "metadata": {
        "id": "7d20bceb"
      },
      "source": [
        "### **Count**"
      ],
      "id": "7d20bceb"
    },
    {
      "cell_type": "code",
      "source": [
        "scores = ( 99,90,98,97,97,90,91,95,97)\n",
        "scores"
      ],
      "metadata": {
        "id": "viOLwpJZhKUO",
        "colab": {
          "base_uri": "https://localhost:8080/"
        },
        "outputId": "59684c9e-1e6d-4fb9-ab90-a60ebeb0c7ab"
      },
      "id": "viOLwpJZhKUO",
      "execution_count": null,
      "outputs": [
        {
          "output_type": "execute_result",
          "data": {
            "text/plain": [
              "(99, 90, 98, 97, 97, 90, 91, 95, 97)"
            ]
          },
          "metadata": {},
          "execution_count": 25
        }
      ]
    },
    {
      "cell_type": "code",
      "source": [
        "scores.count(97)\n",
        "#scores.count(9) #return 0 because there is no 9 in tuple"
      ],
      "metadata": {
        "id": "DArukJXdhKOv",
        "colab": {
          "base_uri": "https://localhost:8080/"
        },
        "outputId": "c56338f3-f22a-4afc-b225-f186c9e85b9f"
      },
      "id": "DArukJXdhKOv",
      "execution_count": null,
      "outputs": [
        {
          "output_type": "execute_result",
          "data": {
            "text/plain": [
              "3"
            ]
          },
          "metadata": {},
          "execution_count": 28
        }
      ]
    },
    {
      "cell_type": "markdown",
      "metadata": {
        "id": "4608cff6"
      },
      "source": [
        "### **Index**"
      ],
      "id": "4608cff6"
    },
    {
      "cell_type": "code",
      "source": [
        "scores"
      ],
      "metadata": {
        "id": "TldjhAzZhMFW",
        "colab": {
          "base_uri": "https://localhost:8080/"
        },
        "outputId": "9e946f39-e890-4381-cb2e-f87c1049db61"
      },
      "id": "TldjhAzZhMFW",
      "execution_count": null,
      "outputs": [
        {
          "output_type": "execute_result",
          "data": {
            "text/plain": [
              "(99, 90, 98, 97, 97, 90, 91, 95, 97)"
            ]
          },
          "metadata": {},
          "execution_count": 29
        }
      ]
    },
    {
      "cell_type": "code",
      "source": [
        "scores.index(90)"
      ],
      "metadata": {
        "id": "6w7mjNOthL_l",
        "colab": {
          "base_uri": "https://localhost:8080/"
        },
        "outputId": "65018de1-c91d-44f0-9f6e-5452eb880d60"
      },
      "id": "6w7mjNOthL_l",
      "execution_count": null,
      "outputs": [
        {
          "output_type": "execute_result",
          "data": {
            "text/plain": [
              "1"
            ]
          },
          "metadata": {},
          "execution_count": 30
        }
      ]
    },
    {
      "cell_type": "markdown",
      "source": [
        "### **Unpacking**"
      ],
      "metadata": {
        "id": "QMgyF32ltj2A"
      },
      "id": "QMgyF32ltj2A"
    },
    {
      "cell_type": "code",
      "source": [
        "a, b = 4,5\n",
        "print(\"a: \",a,\" b: \",b)"
      ],
      "metadata": {
        "id": "jNcZGKu1hQlS",
        "colab": {
          "base_uri": "https://localhost:8080/"
        },
        "outputId": "d1432bc9-367d-4a19-ad52-ed7ecb75eeb9"
      },
      "id": "jNcZGKu1hQlS",
      "execution_count": null,
      "outputs": [
        {
          "output_type": "stream",
          "name": "stdout",
          "text": [
            "a:  4  b:  5\n"
          ]
        }
      ]
    },
    {
      "cell_type": "code",
      "source": [
        "a , b = [1,2]\n",
        "print(\"a: \",a,\" b: \",b)"
      ],
      "metadata": {
        "colab": {
          "base_uri": "https://localhost:8080/"
        },
        "id": "L4pM4U_WsDzS",
        "outputId": "9345e0b1-8b76-498c-e46b-d18098365ae5"
      },
      "id": "L4pM4U_WsDzS",
      "execution_count": null,
      "outputs": [
        {
          "output_type": "stream",
          "name": "stdout",
          "text": [
            "a:  1  b:  2\n"
          ]
        }
      ]
    },
    {
      "cell_type": "code",
      "source": [
        "a, b = ( 5,6)\n",
        "print(\"a: \",a,\" b: \",b)"
      ],
      "metadata": {
        "id": "buJsQ2_ZhQgE",
        "colab": {
          "base_uri": "https://localhost:8080/"
        },
        "outputId": "287f4a72-5ae7-4654-b829-a01e93ced26f"
      },
      "id": "buJsQ2_ZhQgE",
      "execution_count": null,
      "outputs": [
        {
          "output_type": "stream",
          "name": "stdout",
          "text": [
            "a:  5  b:  6\n"
          ]
        }
      ]
    },
    {
      "cell_type": "markdown",
      "metadata": {
        "id": "b856f8ef"
      },
      "source": [
        "## **Set**\n",
        "\n",
        "- Collection of elements..\n",
        "- Union / intersection / difference or the other mathematical functions\n",
        "- define using curly brackes { }"
      ],
      "id": "b856f8ef"
    },
    {
      "cell_type": "markdown",
      "source": [
        "### **Define Set**"
      ],
      "metadata": {
        "id": "zqigZml0DdsV"
      },
      "id": "zqigZml0DdsV"
    },
    {
      "cell_type": "code",
      "source": [
        "my_set = {1,4,5,6}\n",
        "my_set"
      ],
      "metadata": {
        "id": "TOGMnbzei8Pm",
        "colab": {
          "base_uri": "https://localhost:8080/"
        },
        "outputId": "674f33fd-cd47-4061-a4d2-219f16126eba"
      },
      "id": "TOGMnbzei8Pm",
      "execution_count": null,
      "outputs": [
        {
          "output_type": "execute_result",
          "data": {
            "text/plain": [
              "{1, 4, 5, 6}"
            ]
          },
          "metadata": {},
          "execution_count": 55
        }
      ]
    },
    {
      "cell_type": "code",
      "source": [
        "type(my_set)"
      ],
      "metadata": {
        "id": "tvohwdjOi8Ka",
        "colab": {
          "base_uri": "https://localhost:8080/"
        },
        "outputId": "6cd2d021-34f7-49e4-cce7-60057849e7a6"
      },
      "id": "tvohwdjOi8Ka",
      "execution_count": null,
      "outputs": [
        {
          "output_type": "execute_result",
          "data": {
            "text/plain": [
              "set"
            ]
          },
          "metadata": {},
          "execution_count": 56
        }
      ]
    },
    {
      "cell_type": "code",
      "source": [
        "my_set\n",
        "#my_set[0]  #it will throw error because there is no index in Sets"
      ],
      "metadata": {
        "colab": {
          "base_uri": "https://localhost:8080/"
        },
        "id": "wGgE2IgTs-Ng",
        "outputId": "2cad678e-4fd5-4c19-93d5-76491924229f"
      },
      "id": "wGgE2IgTs-Ng",
      "execution_count": null,
      "outputs": [
        {
          "output_type": "execute_result",
          "data": {
            "text/plain": [
              "{1, 4, 5, 6}"
            ]
          },
          "metadata": {},
          "execution_count": 60
        }
      ]
    },
    {
      "cell_type": "code",
      "source": [
        "scores"
      ],
      "metadata": {
        "colab": {
          "base_uri": "https://localhost:8080/"
        },
        "id": "Tsl4DfmvtZiu",
        "outputId": "79c0030c-2621-4093-a7c8-b7d50e449914"
      },
      "id": "Tsl4DfmvtZiu",
      "execution_count": null,
      "outputs": [
        {
          "output_type": "execute_result",
          "data": {
            "text/plain": [
              "(99, 90, 98, 97, 97, 90, 91, 95, 97)"
            ]
          },
          "metadata": {},
          "execution_count": 62
        }
      ]
    },
    {
      "cell_type": "code",
      "source": [
        "set(scores)"
      ],
      "metadata": {
        "colab": {
          "base_uri": "https://localhost:8080/"
        },
        "id": "lpbVoNdetbSh",
        "outputId": "680c7c32-dc87-45e9-f28e-a3127a41da87"
      },
      "id": "lpbVoNdetbSh",
      "execution_count": null,
      "outputs": [
        {
          "output_type": "execute_result",
          "data": {
            "text/plain": [
              "{90, 91, 95, 97, 98, 99}"
            ]
          },
          "metadata": {},
          "execution_count": 63
        }
      ]
    },
    {
      "cell_type": "code",
      "source": [
        "a ={ 99,90,98,97,97,90,91,95,97}\n",
        "a\n",
        "# it will automatically remove the duplicates"
      ],
      "metadata": {
        "colab": {
          "base_uri": "https://localhost:8080/"
        },
        "id": "dAbZd5DztMQi",
        "outputId": "40da34c6-e18d-45bc-a5e0-33e9274d9854"
      },
      "id": "dAbZd5DztMQi",
      "execution_count": null,
      "outputs": [
        {
          "output_type": "execute_result",
          "data": {
            "text/plain": [
              "{90, 91, 95, 97, 98, 99}"
            ]
          },
          "metadata": {},
          "execution_count": 61
        }
      ]
    },
    {
      "cell_type": "code",
      "source": [
        "a = {\"a\",\"b\",\"A\"}\n",
        "a"
      ],
      "metadata": {
        "colab": {
          "base_uri": "https://localhost:8080/"
        },
        "id": "LSQPKB9ptoFC",
        "outputId": "8a2c6970-817e-4c3c-a419-47d7e75124fb"
      },
      "id": "LSQPKB9ptoFC",
      "execution_count": null,
      "outputs": [
        {
          "output_type": "execute_result",
          "data": {
            "text/plain": [
              "{'A', 'a', 'b'}"
            ]
          },
          "metadata": {},
          "execution_count": 64
        }
      ]
    },
    {
      "cell_type": "code",
      "source": [
        "[\"m\",\"a\",\"i\",\"m\",\"o\",\"o\",\"n\",\"a\"]  #lists are ordered and indexed collection\n",
        "(\"m\",\"a\",\"i\",\"m\",\"o\",\"o\",\"n\",\"a\")  #Tuples are ordered and indexed collection\n",
        "{\"m\",\"a\",\"i\",\"m\",\"o\",\"o\",\"n\",\"a\"}  #Sets are unordered and unindexed collection"
      ],
      "metadata": {
        "colab": {
          "base_uri": "https://localhost:8080/"
        },
        "id": "Gnc3XKgatn-r",
        "outputId": "f0e9c3be-fa2c-48a5-d8e6-cb0cc9a7d692"
      },
      "id": "Gnc3XKgatn-r",
      "execution_count": null,
      "outputs": [
        {
          "output_type": "execute_result",
          "data": {
            "text/plain": [
              "{'a', 'i', 'm', 'n', 'o'}"
            ]
          },
          "metadata": {},
          "execution_count": 65
        }
      ]
    },
    {
      "cell_type": "markdown",
      "metadata": {
        "id": "d12a0d00"
      },
      "source": [
        "### **Union**"
      ],
      "id": "d12a0d00"
    },
    {
      "cell_type": "code",
      "source": [
        "Ahmad = { \"english\",\"urdu\",\"math\",\"science\"}\n",
        "Aliyan = { \"english\",\"urdu\",\"physics\",\"chemistry\"}\n"
      ],
      "metadata": {
        "id": "c5og6wxPi9p8"
      },
      "id": "c5og6wxPi9p8",
      "execution_count": null,
      "outputs": []
    },
    {
      "cell_type": "code",
      "source": [
        "#a complete list of subjects\n",
        "Ahmad.union(Aliyan)"
      ],
      "metadata": {
        "id": "aNHCtWxri9ka",
        "colab": {
          "base_uri": "https://localhost:8080/"
        },
        "outputId": "6a324cb9-063e-4eae-bbf6-bdc2e2aa60e5"
      },
      "id": "aNHCtWxri9ka",
      "execution_count": null,
      "outputs": [
        {
          "output_type": "execute_result",
          "data": {
            "text/plain": [
              "{'chemistry', 'english', 'math', 'physics', 'science', 'urdu'}"
            ]
          },
          "metadata": {},
          "execution_count": 67
        }
      ]
    },
    {
      "cell_type": "code",
      "source": [
        "Ahmad | Aliyan"
      ],
      "metadata": {
        "colab": {
          "base_uri": "https://localhost:8080/"
        },
        "id": "46UsVlAJum6e",
        "outputId": "a7beb078-9f42-4959-f548-155c0a788266"
      },
      "id": "46UsVlAJum6e",
      "execution_count": null,
      "outputs": [
        {
          "output_type": "execute_result",
          "data": {
            "text/plain": [
              "{'chemistry', 'english', 'math', 'physics', 'science', 'urdu'}"
            ]
          },
          "metadata": {},
          "execution_count": 68
        }
      ]
    },
    {
      "cell_type": "markdown",
      "metadata": {
        "id": "813baace"
      },
      "source": [
        "### **Intersection**"
      ],
      "id": "813baace"
    },
    {
      "cell_type": "code",
      "source": [
        "Ahmad.intersection(Aliyan)"
      ],
      "metadata": {
        "id": "k5kccWuxi_1I",
        "colab": {
          "base_uri": "https://localhost:8080/"
        },
        "outputId": "4dd98884-48d7-43aa-8b38-35e45509934f"
      },
      "id": "k5kccWuxi_1I",
      "execution_count": null,
      "outputs": [
        {
          "output_type": "execute_result",
          "data": {
            "text/plain": [
              "{'english', 'urdu'}"
            ]
          },
          "metadata": {},
          "execution_count": 69
        }
      ]
    },
    {
      "cell_type": "code",
      "source": [
        "Ahmad & Aliyan"
      ],
      "metadata": {
        "id": "GyHzxGbHi_pj",
        "colab": {
          "base_uri": "https://localhost:8080/"
        },
        "outputId": "dde6d9c8-f4d0-4a3f-f52f-fd0447fc7d67"
      },
      "id": "GyHzxGbHi_pj",
      "execution_count": null,
      "outputs": [
        {
          "output_type": "execute_result",
          "data": {
            "text/plain": [
              "{'english', 'urdu'}"
            ]
          },
          "metadata": {},
          "execution_count": 70
        }
      ]
    },
    {
      "cell_type": "markdown",
      "metadata": {
        "id": "51a773f0"
      },
      "source": [
        "### **Difference**"
      ],
      "id": "51a773f0"
    },
    {
      "cell_type": "code",
      "source": [
        "Ahmad"
      ],
      "metadata": {
        "id": "NiC6ufB9jAQN",
        "colab": {
          "base_uri": "https://localhost:8080/"
        },
        "outputId": "65e779b0-af61-488c-8969-368e7099b63a"
      },
      "id": "NiC6ufB9jAQN",
      "execution_count": null,
      "outputs": [
        {
          "output_type": "execute_result",
          "data": {
            "text/plain": [
              "{'english', 'math', 'science', 'urdu'}"
            ]
          },
          "metadata": {},
          "execution_count": 71
        }
      ]
    },
    {
      "cell_type": "code",
      "source": [
        "Aliyan"
      ],
      "metadata": {
        "id": "GEU8MzOcjAKc",
        "colab": {
          "base_uri": "https://localhost:8080/"
        },
        "outputId": "cc6fe731-8a62-4b4e-a373-3c8ae4ad6f37"
      },
      "id": "GEU8MzOcjAKc",
      "execution_count": null,
      "outputs": [
        {
          "output_type": "execute_result",
          "data": {
            "text/plain": [
              "{'chemistry', 'english', 'physics', 'urdu'}"
            ]
          },
          "metadata": {},
          "execution_count": 73
        }
      ]
    },
    {
      "cell_type": "code",
      "source": [
        "Ahmad.difference(Aliyan)"
      ],
      "metadata": {
        "colab": {
          "base_uri": "https://localhost:8080/"
        },
        "id": "qLaXZ-6Ju9q9",
        "outputId": "048e1dca-6255-4478-ff50-c625374c738a"
      },
      "id": "qLaXZ-6Ju9q9",
      "execution_count": null,
      "outputs": [
        {
          "output_type": "execute_result",
          "data": {
            "text/plain": [
              "{'math', 'science'}"
            ]
          },
          "metadata": {},
          "execution_count": 74
        }
      ]
    },
    {
      "cell_type": "code",
      "source": [],
      "metadata": {
        "id": "WSyW0cZ6u9j8"
      },
      "id": "WSyW0cZ6u9j8",
      "execution_count": null,
      "outputs": []
    },
    {
      "cell_type": "code",
      "source": [],
      "metadata": {
        "id": "qbdZKb93u69f"
      },
      "id": "qbdZKb93u69f",
      "execution_count": null,
      "outputs": []
    },
    {
      "cell_type": "markdown",
      "source": [
        "### **Add element**"
      ],
      "metadata": {
        "id": "8jacp5FMDoBa"
      },
      "id": "8jacp5FMDoBa"
    },
    {
      "cell_type": "code",
      "source": [
        "my_set"
      ],
      "metadata": {
        "id": "ovUgbaXXjB81",
        "colab": {
          "base_uri": "https://localhost:8080/"
        },
        "outputId": "b8acb521-df0e-41c8-d920-a7a8dc6ed2ab"
      },
      "id": "ovUgbaXXjB81",
      "execution_count": null,
      "outputs": [
        {
          "output_type": "execute_result",
          "data": {
            "text/plain": [
              "{1, 4, 5, 6}"
            ]
          },
          "metadata": {},
          "execution_count": 76
        }
      ]
    },
    {
      "cell_type": "code",
      "source": [
        "my_set.add(80)\n",
        "my_set.add(3)\n",
        "my_set.add((80,81))\n",
        "my_set"
      ],
      "metadata": {
        "colab": {
          "base_uri": "https://localhost:8080/"
        },
        "id": "9uFdccefvNys",
        "outputId": "c37c53cc-a48d-4a92-cc09-3d75bcecba8f"
      },
      "id": "9uFdccefvNys",
      "execution_count": null,
      "outputs": [
        {
          "output_type": "execute_result",
          "data": {
            "text/plain": [
              "{(80, 81), 1, 3, 4, 5, 6, 80}"
            ]
          },
          "metadata": {},
          "execution_count": 80
        }
      ]
    },
    {
      "cell_type": "markdown",
      "source": [
        "### **Remove Element**"
      ],
      "metadata": {
        "id": "GjfhcOgsDtFl"
      },
      "id": "GjfhcOgsDtFl"
    },
    {
      "cell_type": "code",
      "source": [
        "my_set.remove(1)\n",
        "my_set"
      ],
      "metadata": {
        "id": "U6ONnhPcjDPn",
        "colab": {
          "base_uri": "https://localhost:8080/"
        },
        "outputId": "3a509c10-d334-4f8c-dba1-e895742fd975"
      },
      "id": "U6ONnhPcjDPn",
      "execution_count": null,
      "outputs": [
        {
          "output_type": "execute_result",
          "data": {
            "text/plain": [
              "{(80, 81), 3, 4, 5, 6, 80}"
            ]
          },
          "metadata": {},
          "execution_count": 81
        }
      ]
    },
    {
      "cell_type": "markdown",
      "source": [
        "### **Pop**"
      ],
      "metadata": {
        "id": "jIOUq8aEDxF4"
      },
      "id": "jIOUq8aEDxF4"
    },
    {
      "cell_type": "code",
      "source": [
        "my_set.pop()"
      ],
      "metadata": {
        "id": "1Ydu90lbjEuN",
        "colab": {
          "base_uri": "https://localhost:8080/"
        },
        "outputId": "59e7fdc9-ad08-4527-d875-137c06a35117"
      },
      "id": "1Ydu90lbjEuN",
      "execution_count": null,
      "outputs": [
        {
          "output_type": "execute_result",
          "data": {
            "text/plain": [
              "3"
            ]
          },
          "metadata": {},
          "execution_count": 82
        }
      ]
    },
    {
      "cell_type": "code",
      "source": [
        "my_set.pop()"
      ],
      "metadata": {
        "id": "7BLFpR3XjEnq",
        "colab": {
          "base_uri": "https://localhost:8080/"
        },
        "outputId": "acb69f60-3f3f-4cab-ab23-8a286ebd6031"
      },
      "id": "7BLFpR3XjEnq",
      "execution_count": null,
      "outputs": [
        {
          "output_type": "execute_result",
          "data": {
            "text/plain": [
              "4"
            ]
          },
          "metadata": {},
          "execution_count": 83
        }
      ]
    },
    {
      "cell_type": "code",
      "source": [
        "my_set"
      ],
      "metadata": {
        "colab": {
          "base_uri": "https://localhost:8080/"
        },
        "id": "CcFgXiWjwCaA",
        "outputId": "a35b3390-8ff8-4af9-dae3-7169cc990e39"
      },
      "id": "CcFgXiWjwCaA",
      "execution_count": null,
      "outputs": [
        {
          "output_type": "execute_result",
          "data": {
            "text/plain": [
              "{(80, 81), 5, 6, 80}"
            ]
          },
          "metadata": {},
          "execution_count": 84
        }
      ]
    },
    {
      "cell_type": "code",
      "source": [],
      "metadata": {
        "id": "kdnYOvXAwCLU"
      },
      "id": "kdnYOvXAwCLU",
      "execution_count": null,
      "outputs": []
    },
    {
      "cell_type": "markdown",
      "metadata": {
        "id": "09a04375"
      },
      "source": [
        "## **Dictionary**\n",
        "\n",
        "- collection of items in form key-value pair\n",
        "- using curly brackets { key : value}\n",
        "- Keys must be unique\n",
        "- It has no index ( NOT- sequenced)\n",
        "\n",
        "- Example\n",
        "    Gradebook\n",
        "    student_name   scores\n",
        "\n",
        "\n",
        "    [ahmad, ali, usman] [ 90,98,78]\n",
        "    {ahmad: 90 , ali:98, usman:78 }"
      ],
      "id": "09a04375"
    },
    {
      "cell_type": "code",
      "source": [],
      "metadata": {
        "id": "eehqYs6-x1BW"
      },
      "id": "eehqYs6-x1BW",
      "execution_count": null,
      "outputs": []
    },
    {
      "cell_type": "markdown",
      "source": [
        "### **Creating a dictionary**\n"
      ],
      "metadata": {
        "id": "-WnOPMx5GPOG"
      },
      "id": "-WnOPMx5GPOG"
    },
    {
      "cell_type": "code",
      "source": [
        "contact_list = {\"Ahmad\":\"0123456789\", \"Ali\":\"09887665577\",\"Usman\":\"0987654321\",\"Ali\":\"1234\"}\n",
        "contact_list"
      ],
      "metadata": {
        "id": "w1FsL7GLjJHh",
        "colab": {
          "base_uri": "https://localhost:8080/"
        },
        "outputId": "41159118-a5e3-49c9-c72a-c4d13b3813fe"
      },
      "id": "w1FsL7GLjJHh",
      "execution_count": null,
      "outputs": [
        {
          "output_type": "execute_result",
          "data": {
            "text/plain": [
              "{'Ahmad': '0123456789', 'Ali': '1234', 'Usman': '0987654321'}"
            ]
          },
          "metadata": {},
          "execution_count": 87
        }
      ]
    },
    {
      "cell_type": "code",
      "source": [
        "type(contact_list)"
      ],
      "metadata": {
        "id": "zyTNZsrhjJB7",
        "colab": {
          "base_uri": "https://localhost:8080/"
        },
        "outputId": "748e2475-793d-4a89-85d7-1cb9db933812"
      },
      "id": "zyTNZsrhjJB7",
      "execution_count": null,
      "outputs": [
        {
          "output_type": "execute_result",
          "data": {
            "text/plain": [
              "dict"
            ]
          },
          "metadata": {},
          "execution_count": 86
        }
      ]
    },
    {
      "cell_type": "code",
      "source": [
        "contact_list[\"Ahmad\"]"
      ],
      "metadata": {
        "colab": {
          "base_uri": "https://localhost:8080/",
          "height": 35
        },
        "id": "X_iSWF6vyD-j",
        "outputId": "5b502764-d055-488d-97b9-4529a38eca7b"
      },
      "id": "X_iSWF6vyD-j",
      "execution_count": null,
      "outputs": [
        {
          "output_type": "execute_result",
          "data": {
            "text/plain": [
              "'0123456789'"
            ],
            "application/vnd.google.colaboratory.intrinsic+json": {
              "type": "string"
            }
          },
          "metadata": {},
          "execution_count": 88
        }
      ]
    },
    {
      "cell_type": "code",
      "source": [
        "contact_list[\"Usman\"]"
      ],
      "metadata": {
        "colab": {
          "base_uri": "https://localhost:8080/",
          "height": 35
        },
        "id": "s3fypkU5yGZY",
        "outputId": "b647fac8-5cf9-4de8-9866-d0f3b87e5bd6"
      },
      "id": "s3fypkU5yGZY",
      "execution_count": null,
      "outputs": [
        {
          "output_type": "execute_result",
          "data": {
            "text/plain": [
              "'0987654321'"
            ],
            "application/vnd.google.colaboratory.intrinsic+json": {
              "type": "string"
            }
          },
          "metadata": {},
          "execution_count": 90
        }
      ]
    },
    {
      "cell_type": "markdown",
      "metadata": {
        "id": "d785794f"
      },
      "source": [
        "### **keys we can have**\n",
        "\n",
        "- string\n",
        "- int\n",
        "- tuple\n",
        "- bool"
      ],
      "id": "d785794f"
    },
    {
      "cell_type": "code",
      "source": [
        "dummy_dictionary = {\"A\":\"string key\", 5:\"int key\",5.7: \"float key\", (1,):\"tuple key\",True:\"Bool key\"}\n",
        "dummy_dictionary"
      ],
      "metadata": {
        "colab": {
          "base_uri": "https://localhost:8080/"
        },
        "id": "BMqhYMDx1FiU",
        "outputId": "cd533ce1-ebf3-4c9a-d605-3313a1291bb7"
      },
      "id": "BMqhYMDx1FiU",
      "execution_count": null,
      "outputs": [
        {
          "output_type": "execute_result",
          "data": {
            "text/plain": [
              "{'A': 'string key',\n",
              " 5: 'int key',\n",
              " 5.7: 'float key',\n",
              " (1,): 'tuple key',\n",
              " True: 'Bool key'}"
            ]
          },
          "metadata": {},
          "execution_count": 98
        }
      ]
    },
    {
      "cell_type": "code",
      "source": [
        "bool_dictionary = {True:\"True\", False:\"False\",True:5,False:10}\n",
        "bool_dictionary"
      ],
      "metadata": {
        "colab": {
          "base_uri": "https://localhost:8080/"
        },
        "id": "ZdGyQc0K1Fba",
        "outputId": "282f7e70-ee62-4a91-8dbf-b5c3525214d1"
      },
      "id": "ZdGyQc0K1Fba",
      "execution_count": null,
      "outputs": [
        {
          "output_type": "execute_result",
          "data": {
            "text/plain": [
              "{True: 5, False: 10}"
            ]
          },
          "metadata": {},
          "execution_count": 96
        }
      ]
    },
    {
      "cell_type": "markdown",
      "source": [
        "### **Values we can have**\n",
        "\n",
        "- string\n",
        "- int\n",
        "- tuple\n",
        "- bool\n",
        "- list\n",
        "- dictionary\n",
        "- sets"
      ],
      "metadata": {
        "id": "Lb3100mm1y_D"
      },
      "id": "Lb3100mm1y_D"
    },
    {
      "cell_type": "code",
      "source": [
        "dummy_Dictionary = {1:\"String\", 2: 6, 3:6.5, 4:True, 5: [1,2,3],6: {1:\"A\"}, 7: {1,3}, 8: (10,9)}\n",
        "dummy_Dictionary"
      ],
      "metadata": {
        "id": "m6YBxzMujL__",
        "colab": {
          "base_uri": "https://localhost:8080/"
        },
        "outputId": "1233cb88-c750-42a4-86c8-a57c2c5a2616"
      },
      "id": "m6YBxzMujL__",
      "execution_count": null,
      "outputs": [
        {
          "output_type": "execute_result",
          "data": {
            "text/plain": [
              "{1: 'String',\n",
              " 2: 6,\n",
              " 3: 6.5,\n",
              " 4: True,\n",
              " 5: [1, 2, 3],\n",
              " 6: {1: 'A'},\n",
              " 7: {1, 3},\n",
              " 8: (10, 9)}"
            ]
          },
          "metadata": {},
          "execution_count": 100
        }
      ]
    },
    {
      "cell_type": "code",
      "source": [
        "Grades = {\"Ahmad\":{\"English\":90,\"urdu\":91,\"Math\":96},\n",
        "          \"Ali\":{\"English\":95,\"urdu\":99,\"Math\":92},\n",
        "          \"usman\":{\"English\":90,\"urdu\":97,\"Math\":99}}\n",
        "\n",
        "Grades"
      ],
      "metadata": {
        "colab": {
          "base_uri": "https://localhost:8080/"
        },
        "id": "ctz6bP0Q2g16",
        "outputId": "1f6a974c-89ec-4a62-9ff7-4e55a25acef1"
      },
      "id": "ctz6bP0Q2g16",
      "execution_count": null,
      "outputs": [
        {
          "output_type": "execute_result",
          "data": {
            "text/plain": [
              "{'Ahmad': {'English': 90, 'urdu': 91, 'Math': 96},\n",
              " 'Ali': {'English': 95, 'urdu': 99, 'Math': 92},\n",
              " 'usman': {'English': 90, 'urdu': 97, 'Math': 99}}"
            ]
          },
          "metadata": {},
          "execution_count": 101
        }
      ]
    },
    {
      "cell_type": "markdown",
      "metadata": {
        "id": "4b9f0a7c"
      },
      "source": [
        "### **Fetch values using keys**"
      ],
      "id": "4b9f0a7c"
    },
    {
      "cell_type": "code",
      "source": [
        "Grades[\"Ali\"]"
      ],
      "metadata": {
        "id": "qM1EuN9ejOpW",
        "colab": {
          "base_uri": "https://localhost:8080/"
        },
        "outputId": "e6430f25-0caf-4d1f-ec2b-9b0c130fac61"
      },
      "id": "qM1EuN9ejOpW",
      "execution_count": null,
      "outputs": [
        {
          "output_type": "execute_result",
          "data": {
            "text/plain": [
              "{'English': 95, 'urdu': 99, 'Math': 92}"
            ]
          },
          "metadata": {},
          "execution_count": 103
        }
      ]
    },
    {
      "cell_type": "code",
      "source": [
        "Grades[\"Ali\"][\"urdu\"]"
      ],
      "metadata": {
        "id": "6JNslz4FjQKz",
        "colab": {
          "base_uri": "https://localhost:8080/"
        },
        "outputId": "80c5b675-138d-4f18-df7d-6589961c0197"
      },
      "id": "6JNslz4FjQKz",
      "execution_count": null,
      "outputs": [
        {
          "output_type": "execute_result",
          "data": {
            "text/plain": [
              "99"
            ]
          },
          "metadata": {},
          "execution_count": 104
        }
      ]
    },
    {
      "cell_type": "code",
      "source": [
        "a = {\"Ali\":[10,90,96],\"Ahmad\":[10,90,96], \"Usman\":\"90 98 99\",\"Maimoona\":90}\n",
        "a"
      ],
      "metadata": {
        "colab": {
          "base_uri": "https://localhost:8080/"
        },
        "id": "nm8QqjXv3Uzy",
        "outputId": "1cdb1a79-b794-40c1-f0d0-d3010fe14cbe"
      },
      "id": "nm8QqjXv3Uzy",
      "execution_count": null,
      "outputs": [
        {
          "output_type": "execute_result",
          "data": {
            "text/plain": [
              "{'Ali': [10, 90, 96],\n",
              " 'Ahmad': [10, 90, 96],\n",
              " 'Usman': '90 98 99',\n",
              " 'Maimoona': 90}"
            ]
          },
          "metadata": {},
          "execution_count": 118
        }
      ]
    },
    {
      "cell_type": "code",
      "source": [
        "a[\"Ahmad\"][1]"
      ],
      "metadata": {
        "colab": {
          "base_uri": "https://localhost:8080/"
        },
        "id": "jSgiwmgJ4JnJ",
        "outputId": "825d00b4-9e7c-4d87-f5d7-0f02982f97ac"
      },
      "id": "jSgiwmgJ4JnJ",
      "execution_count": null,
      "outputs": [
        {
          "output_type": "execute_result",
          "data": {
            "text/plain": [
              "90"
            ]
          },
          "metadata": {},
          "execution_count": 119
        }
      ]
    },
    {
      "cell_type": "code",
      "source": [
        "a[\"Usman\"][6::]"
      ],
      "metadata": {
        "colab": {
          "base_uri": "https://localhost:8080/",
          "height": 35
        },
        "id": "jnpAr8j53dbo",
        "outputId": "9a2601fb-4c5d-44ab-afbd-7af2613d6dab"
      },
      "id": "jnpAr8j53dbo",
      "execution_count": null,
      "outputs": [
        {
          "output_type": "execute_result",
          "data": {
            "text/plain": [
              "'99'"
            ],
            "application/vnd.google.colaboratory.intrinsic+json": {
              "type": "string"
            }
          },
          "metadata": {},
          "execution_count": 120
        }
      ]
    },
    {
      "cell_type": "code",
      "source": [
        "a[\"Maimoona\"]"
      ],
      "metadata": {
        "colab": {
          "base_uri": "https://localhost:8080/"
        },
        "id": "X6nseuXd3dV5",
        "outputId": "4e6ffaaf-3a5f-4704-e97f-5b4dc3cc0a09"
      },
      "id": "X6nseuXd3dV5",
      "execution_count": null,
      "outputs": [
        {
          "output_type": "execute_result",
          "data": {
            "text/plain": [
              "90"
            ]
          },
          "metadata": {},
          "execution_count": 122
        }
      ]
    },
    {
      "cell_type": "markdown",
      "metadata": {
        "id": "30c2a431"
      },
      "source": [
        "### **Fetch items, keys, values using methods**"
      ],
      "id": "30c2a431"
    },
    {
      "cell_type": "code",
      "source": [
        "Grades"
      ],
      "metadata": {
        "id": "ufipPvMljQpi",
        "colab": {
          "base_uri": "https://localhost:8080/"
        },
        "outputId": "c8643602-9e1a-4843-f661-f21d0d048c8a"
      },
      "id": "ufipPvMljQpi",
      "execution_count": null,
      "outputs": [
        {
          "output_type": "execute_result",
          "data": {
            "text/plain": [
              "{'Ahmad': {'English': 90, 'urdu': 91, 'Math': 96},\n",
              " 'Ali': {'English': 95, 'urdu': 99, 'Math': 92},\n",
              " 'usman': {'English': 90, 'urdu': 97, 'Math': 99}}"
            ]
          },
          "metadata": {},
          "execution_count": 123
        }
      ]
    },
    {
      "cell_type": "code",
      "source": [
        "Grades.keys()"
      ],
      "metadata": {
        "id": "5HvmhTbkjQlB",
        "colab": {
          "base_uri": "https://localhost:8080/"
        },
        "outputId": "03f2f631-a3f8-4aae-c4e6-70b4cfa7780b"
      },
      "id": "5HvmhTbkjQlB",
      "execution_count": null,
      "outputs": [
        {
          "output_type": "execute_result",
          "data": {
            "text/plain": [
              "dict_keys(['Ahmad', 'Ali', 'usman'])"
            ]
          },
          "metadata": {},
          "execution_count": 124
        }
      ]
    },
    {
      "cell_type": "code",
      "source": [
        "Grades[\"usman\"]"
      ],
      "metadata": {
        "colab": {
          "base_uri": "https://localhost:8080/"
        },
        "id": "fstmENBQ46UZ",
        "outputId": "be51f0b7-b28c-44f0-9e35-79acb2f2ac74"
      },
      "id": "fstmENBQ46UZ",
      "execution_count": null,
      "outputs": [
        {
          "output_type": "execute_result",
          "data": {
            "text/plain": [
              "{'English': 90, 'urdu': 97, 'Math': 99}"
            ]
          },
          "metadata": {},
          "execution_count": 128
        }
      ]
    },
    {
      "cell_type": "code",
      "source": [
        "Grades[\"Ahmad\"].keys()  #criteria: the calling key must have a dictionary value"
      ],
      "metadata": {
        "colab": {
          "base_uri": "https://localhost:8080/"
        },
        "id": "1vaKEZzQ46Nw",
        "outputId": "febc77dd-1efa-4c3a-ac07-1683d2778784"
      },
      "id": "1vaKEZzQ46Nw",
      "execution_count": null,
      "outputs": [
        {
          "output_type": "execute_result",
          "data": {
            "text/plain": [
              "dict_keys(['English', 'urdu', 'Math'])"
            ]
          },
          "metadata": {},
          "execution_count": 132
        }
      ]
    },
    {
      "cell_type": "code",
      "source": [],
      "metadata": {
        "id": "N9xUzfXe5ZWk"
      },
      "id": "N9xUzfXe5ZWk",
      "execution_count": null,
      "outputs": []
    },
    {
      "cell_type": "code",
      "source": [
        "Data = {\"name\":[\"Maimoona\",\"asma\",\"husnain\"],\"age\":[23,24,25]}\n",
        "Data"
      ],
      "metadata": {
        "id": "8uzHMuArjQgC",
        "colab": {
          "base_uri": "https://localhost:8080/"
        },
        "outputId": "4e6b5e55-0b10-4b1e-d65e-bee87c5e2a6a"
      },
      "id": "8uzHMuArjQgC",
      "execution_count": null,
      "outputs": [
        {
          "output_type": "execute_result",
          "data": {
            "text/plain": [
              "{'name': ['Maimoona', 'asma', 'husnain'], 'age': [23, 24, 25]}"
            ]
          },
          "metadata": {},
          "execution_count": 125
        }
      ]
    },
    {
      "cell_type": "code",
      "source": [
        "Data.keys()"
      ],
      "metadata": {
        "id": "1RAp9v8fjQap",
        "colab": {
          "base_uri": "https://localhost:8080/"
        },
        "outputId": "af3ed231-af42-4852-c3b9-6c9ff22f5b10"
      },
      "id": "1RAp9v8fjQap",
      "execution_count": null,
      "outputs": [
        {
          "output_type": "execute_result",
          "data": {
            "text/plain": [
              "dict_keys(['name', 'age'])"
            ]
          },
          "metadata": {},
          "execution_count": 126
        }
      ]
    },
    {
      "cell_type": "code",
      "source": [
        "Data[\"age\"]"
      ],
      "metadata": {
        "colab": {
          "base_uri": "https://localhost:8080/"
        },
        "id": "OPOIKwm243V6",
        "outputId": "32bd3a98-6f5c-4e91-b562-209c4e50b0dd"
      },
      "id": "OPOIKwm243V6",
      "execution_count": null,
      "outputs": [
        {
          "output_type": "execute_result",
          "data": {
            "text/plain": [
              "[23, 24, 25]"
            ]
          },
          "metadata": {},
          "execution_count": 127
        }
      ]
    },
    {
      "cell_type": "markdown",
      "source": [
        "**Values**"
      ],
      "metadata": {
        "id": "E7RsJHFQ5AzB"
      },
      "id": "E7RsJHFQ5AzB"
    },
    {
      "cell_type": "code",
      "source": [
        "Grades"
      ],
      "metadata": {
        "colab": {
          "base_uri": "https://localhost:8080/"
        },
        "id": "eQrnD6Rx4_2E",
        "outputId": "d21f75e8-cdcb-4b5b-d14a-7bca1cdc525b"
      },
      "id": "eQrnD6Rx4_2E",
      "execution_count": null,
      "outputs": [
        {
          "output_type": "execute_result",
          "data": {
            "text/plain": [
              "{'Ahmad': {'English': 90, 'urdu': 91, 'Math': 96},\n",
              " 'Ali': {'English': 95, 'urdu': 99, 'Math': 92},\n",
              " 'usman': {'English': 90, 'urdu': 97, 'Math': 99}}"
            ]
          },
          "metadata": {},
          "execution_count": 129
        }
      ]
    },
    {
      "cell_type": "code",
      "source": [
        "Grades.values()"
      ],
      "metadata": {
        "colab": {
          "base_uri": "https://localhost:8080/"
        },
        "id": "CIGzuKIG4_wc",
        "outputId": "95ca879c-f37b-4040-b76a-18bdf3ffcfb4"
      },
      "id": "CIGzuKIG4_wc",
      "execution_count": null,
      "outputs": [
        {
          "output_type": "execute_result",
          "data": {
            "text/plain": [
              "dict_values([{'English': 90, 'urdu': 91, 'Math': 96}, {'English': 95, 'urdu': 99, 'Math': 92}, {'English': 90, 'urdu': 97, 'Math': 99}])"
            ]
          },
          "metadata": {},
          "execution_count": 130
        }
      ]
    },
    {
      "cell_type": "code",
      "source": [
        "Data.values()"
      ],
      "metadata": {
        "colab": {
          "base_uri": "https://localhost:8080/"
        },
        "id": "NhhnoQtQ4_oh",
        "outputId": "1c9fe847-a424-4e11-b607-a587679ad159"
      },
      "id": "NhhnoQtQ4_oh",
      "execution_count": null,
      "outputs": [
        {
          "output_type": "execute_result",
          "data": {
            "text/plain": [
              "dict_values([['Maimoona', 'asma', 'husnain'], [23, 24, 25]])"
            ]
          },
          "metadata": {},
          "execution_count": 131
        }
      ]
    },
    {
      "cell_type": "markdown",
      "source": [
        "**Items**"
      ],
      "metadata": {
        "id": "8_tYiE0m5lSk"
      },
      "id": "8_tYiE0m5lSk"
    },
    {
      "cell_type": "code",
      "source": [
        "Data.items()"
      ],
      "metadata": {
        "colab": {
          "base_uri": "https://localhost:8080/"
        },
        "id": "G1ZSP3Mu5krx",
        "outputId": "c16223d7-6edc-469c-b86a-e2fe1f010310"
      },
      "id": "G1ZSP3Mu5krx",
      "execution_count": null,
      "outputs": [
        {
          "output_type": "execute_result",
          "data": {
            "text/plain": [
              "dict_items([('name', ['Maimoona', 'asma', 'husnain']), ('age', [23, 24, 25])])"
            ]
          },
          "metadata": {},
          "execution_count": 134
        }
      ]
    },
    {
      "cell_type": "code",
      "source": [],
      "metadata": {
        "id": "KydZrKPb5j0h"
      },
      "id": "KydZrKPb5j0h",
      "execution_count": null,
      "outputs": []
    },
    {
      "cell_type": "markdown",
      "metadata": {
        "id": "9b87827d"
      },
      "source": [
        "### **Update a value**"
      ],
      "id": "9b87827d"
    },
    {
      "cell_type": "code",
      "source": [
        "Grades"
      ],
      "metadata": {
        "id": "N7D2bqOYjSyi",
        "colab": {
          "base_uri": "https://localhost:8080/"
        },
        "outputId": "d3a6307f-6942-41b5-a390-38c0be811b78"
      },
      "id": "N7D2bqOYjSyi",
      "execution_count": null,
      "outputs": [
        {
          "output_type": "execute_result",
          "data": {
            "text/plain": [
              "{'Ahmad': {'English': 90, 'urdu': 91, 'Math': 96},\n",
              " 'Ali': {'English': 95, 'urdu': 99, 'Math': 92},\n",
              " 'usman': {'English': 90, 'urdu': 97, 'Math': 99}}"
            ]
          },
          "metadata": {},
          "execution_count": 135
        }
      ]
    },
    {
      "cell_type": "code",
      "source": [
        "Grades[\"Ahmad\"] = 90\n",
        "Grades"
      ],
      "metadata": {
        "id": "nnGTlNHujStA",
        "colab": {
          "base_uri": "https://localhost:8080/"
        },
        "outputId": "92bb9547-c252-42d4-fe0f-f04973c494f0"
      },
      "id": "nnGTlNHujStA",
      "execution_count": null,
      "outputs": [
        {
          "output_type": "execute_result",
          "data": {
            "text/plain": [
              "{'Ahmad': 90,\n",
              " 'Ali': {'English': 95, 'urdu': 99, 'Math': 92},\n",
              " 'usman': {'English': 90, 'urdu': 97, 'Math': 99}}"
            ]
          },
          "metadata": {},
          "execution_count": 136
        }
      ]
    },
    {
      "cell_type": "code",
      "source": [
        "Grades[\"Ahmad\"] = {'English': 90, 'urdu': 91, 'Math': 96}\n",
        "Grades"
      ],
      "metadata": {
        "colab": {
          "base_uri": "https://localhost:8080/"
        },
        "id": "n0-q9LDc57kG",
        "outputId": "91a19d82-6796-4a75-89f3-f12cb39f3da5"
      },
      "id": "n0-q9LDc57kG",
      "execution_count": null,
      "outputs": [
        {
          "output_type": "execute_result",
          "data": {
            "text/plain": [
              "{'Ahmad': {'English': 90, 'urdu': 91, 'Math': 96},\n",
              " 'Ali': {'English': 95, 'urdu': 99, 'Math': 92},\n",
              " 'usman': {'English': 90, 'urdu': 97, 'Math': 99}}"
            ]
          },
          "metadata": {},
          "execution_count": 137
        }
      ]
    },
    {
      "cell_type": "code",
      "source": [
        "Grades[\"Ahmad\"][\"English\"] = 95\n",
        "Grades"
      ],
      "metadata": {
        "colab": {
          "base_uri": "https://localhost:8080/"
        },
        "id": "W1eK_rg457dU",
        "outputId": "28e5db51-b294-4ed8-a5b0-e472fa065009"
      },
      "id": "W1eK_rg457dU",
      "execution_count": null,
      "outputs": [
        {
          "output_type": "execute_result",
          "data": {
            "text/plain": [
              "{'Ahmad': {'English': 95, 'urdu': 91, 'Math': 96},\n",
              " 'Ali': {'English': 95, 'urdu': 99, 'Math': 92},\n",
              " 'usman': {'English': 90, 'urdu': 97, 'Math': 99}}"
            ]
          },
          "metadata": {},
          "execution_count": 139
        }
      ]
    },
    {
      "cell_type": "code",
      "source": [
        "# It will add a new key-value pair because we don't have science scores\n",
        "Grades[\"Ahmad\"][\"Science\"] = 95\n",
        "Grades"
      ],
      "metadata": {
        "colab": {
          "base_uri": "https://localhost:8080/"
        },
        "id": "LoWw3tY156-7",
        "outputId": "ffcfab99-1e17-4e55-fc52-66309563d31c"
      },
      "id": "LoWw3tY156-7",
      "execution_count": null,
      "outputs": [
        {
          "output_type": "execute_result",
          "data": {
            "text/plain": [
              "{'Ahmad': {'English': 95, 'urdu': 91, 'Math': 96, 'Science': 95},\n",
              " 'Ali': {'English': 95, 'urdu': 99, 'Math': 92},\n",
              " 'usman': {'English': 90, 'urdu': 97, 'Math': 99}}"
            ]
          },
          "metadata": {},
          "execution_count": 140
        }
      ]
    },
    {
      "cell_type": "code",
      "source": [
        "Grades[\"Ahmad\"][\"Science\"] = 100\n",
        "Grades"
      ],
      "metadata": {
        "colab": {
          "base_uri": "https://localhost:8080/"
        },
        "id": "i3OmXg5Z6pnp",
        "outputId": "5e417d81-3273-40a7-f260-4183278b1dc4"
      },
      "id": "i3OmXg5Z6pnp",
      "execution_count": null,
      "outputs": [
        {
          "output_type": "execute_result",
          "data": {
            "text/plain": [
              "{'Ahmad': {'English': 95, 'urdu': 91, 'Math': 96, 'Science': 100},\n",
              " 'Ali': {'English': 95, 'urdu': 99, 'Math': 92},\n",
              " 'usman': {'English': 90, 'urdu': 97, 'Math': 99}}"
            ]
          },
          "metadata": {},
          "execution_count": 141
        }
      ]
    },
    {
      "cell_type": "code",
      "source": [],
      "metadata": {
        "id": "BUGgxct16clW"
      },
      "id": "BUGgxct16clW",
      "execution_count": null,
      "outputs": []
    },
    {
      "cell_type": "code",
      "source": [],
      "metadata": {
        "id": "aA4-lj9F6cc_"
      },
      "id": "aA4-lj9F6cc_",
      "execution_count": null,
      "outputs": []
    },
    {
      "cell_type": "markdown",
      "metadata": {
        "id": "d8b46916"
      },
      "source": [
        "### **Remove Values**"
      ],
      "id": "d8b46916"
    },
    {
      "cell_type": "markdown",
      "metadata": {
        "id": "9235c2c9"
      },
      "source": [
        "#### **pop item**"
      ],
      "id": "9235c2c9"
    },
    {
      "cell_type": "code",
      "source": [
        "Grades"
      ],
      "metadata": {
        "id": "kGi4RmwsjVtj",
        "colab": {
          "base_uri": "https://localhost:8080/"
        },
        "outputId": "d1f637f0-5a76-4ae8-a65b-d925ffe337ca"
      },
      "id": "kGi4RmwsjVtj",
      "execution_count": null,
      "outputs": [
        {
          "output_type": "execute_result",
          "data": {
            "text/plain": [
              "{'Ahmad': {'English': 95, 'urdu': 91, 'Math': 96, 'Science': 100},\n",
              " 'Ali': {'English': 95, 'urdu': 99, 'Math': 92},\n",
              " 'usman': {'English': 90, 'urdu': 97, 'Math': 99}}"
            ]
          },
          "metadata": {},
          "execution_count": 142
        }
      ]
    },
    {
      "cell_type": "code",
      "source": [
        "Grades.popitem() # it will remove last key-value pair"
      ],
      "metadata": {
        "id": "X3l6BXM2jVom",
        "colab": {
          "base_uri": "https://localhost:8080/"
        },
        "outputId": "9cc339bb-24b7-4d9c-8119-121381d1584a"
      },
      "id": "X3l6BXM2jVom",
      "execution_count": null,
      "outputs": [
        {
          "output_type": "execute_result",
          "data": {
            "text/plain": [
              "('usman', {'English': 90, 'urdu': 97, 'Math': 99})"
            ]
          },
          "metadata": {},
          "execution_count": 143
        }
      ]
    },
    {
      "cell_type": "code",
      "source": [
        "Grades"
      ],
      "metadata": {
        "colab": {
          "base_uri": "https://localhost:8080/"
        },
        "id": "OZ8A6FpD7LlS",
        "outputId": "7b0beb3f-dd29-4ae2-89f0-9b0f1c4bed2a"
      },
      "id": "OZ8A6FpD7LlS",
      "execution_count": null,
      "outputs": [
        {
          "output_type": "execute_result",
          "data": {
            "text/plain": [
              "{'Ahmad': {'English': 95, 'urdu': 91, 'Math': 96, 'Science': 100},\n",
              " 'Ali': {'English': 95, 'urdu': 99, 'Math': 92}}"
            ]
          },
          "metadata": {},
          "execution_count": 144
        }
      ]
    },
    {
      "cell_type": "code",
      "source": [
        "Grades[\"Ali\"].popitem()"
      ],
      "metadata": {
        "colab": {
          "base_uri": "https://localhost:8080/"
        },
        "id": "cKM_ZB8G7QOj",
        "outputId": "f0b419b1-31cf-43d9-f7f5-80d8c0b5ef91"
      },
      "id": "cKM_ZB8G7QOj",
      "execution_count": null,
      "outputs": [
        {
          "output_type": "execute_result",
          "data": {
            "text/plain": [
              "('Math', 92)"
            ]
          },
          "metadata": {},
          "execution_count": 146
        }
      ]
    },
    {
      "cell_type": "code",
      "source": [
        "Grades"
      ],
      "metadata": {
        "colab": {
          "base_uri": "https://localhost:8080/"
        },
        "id": "EvcoesHW7QGv",
        "outputId": "801b6d41-a68c-4975-88f2-267abac3f2f4"
      },
      "id": "EvcoesHW7QGv",
      "execution_count": null,
      "outputs": [
        {
          "output_type": "execute_result",
          "data": {
            "text/plain": [
              "{'Ahmad': {'English': 95, 'urdu': 91, 'Math': 96, 'Science': 100},\n",
              " 'Ali': {'English': 95, 'urdu': 99}}"
            ]
          },
          "metadata": {},
          "execution_count": 147
        }
      ]
    },
    {
      "cell_type": "code",
      "source": [],
      "metadata": {
        "id": "PxZ5a8Ct7Y-f"
      },
      "id": "PxZ5a8Ct7Y-f",
      "execution_count": null,
      "outputs": []
    },
    {
      "cell_type": "code",
      "source": [
        "Data"
      ],
      "metadata": {
        "colab": {
          "base_uri": "https://localhost:8080/"
        },
        "id": "pz8dJSoj7Y2_",
        "outputId": "216f1a3c-3dde-4461-b92a-2eb91907fe1d"
      },
      "id": "pz8dJSoj7Y2_",
      "execution_count": null,
      "outputs": [
        {
          "output_type": "execute_result",
          "data": {
            "text/plain": [
              "{'name': ['Maimoona', 'asma', 'husnain'], 'age': [23, 24, 25]}"
            ]
          },
          "metadata": {},
          "execution_count": 148
        }
      ]
    },
    {
      "cell_type": "code",
      "source": [
        "Data[\"age\"].pop()"
      ],
      "metadata": {
        "colab": {
          "base_uri": "https://localhost:8080/"
        },
        "id": "rzZnqWOW7aEZ",
        "outputId": "169baf13-9aec-4b65-f19e-ff59bd15268b"
      },
      "id": "rzZnqWOW7aEZ",
      "execution_count": null,
      "outputs": [
        {
          "output_type": "execute_result",
          "data": {
            "text/plain": [
              "25"
            ]
          },
          "metadata": {},
          "execution_count": 151
        }
      ]
    },
    {
      "cell_type": "code",
      "source": [
        "Data"
      ],
      "metadata": {
        "colab": {
          "base_uri": "https://localhost:8080/"
        },
        "id": "OYVssMR37vg8",
        "outputId": "dcb847fc-a119-45d9-ba8b-5f5d37dedd1b"
      },
      "id": "OYVssMR37vg8",
      "execution_count": null,
      "outputs": [
        {
          "output_type": "execute_result",
          "data": {
            "text/plain": [
              "{'name': ['Maimoona', 'asma', 'husnain'], 'age': [23, 24]}"
            ]
          },
          "metadata": {},
          "execution_count": 152
        }
      ]
    },
    {
      "cell_type": "markdown",
      "metadata": {
        "id": "807aa912"
      },
      "source": [
        "#### **pop**"
      ],
      "id": "807aa912"
    },
    {
      "cell_type": "code",
      "source": [
        "Grades.pop(\"Ahmad\") #instead of index (as in lists), pass key"
      ],
      "metadata": {
        "id": "xUm_p9tTjWI-",
        "colab": {
          "base_uri": "https://localhost:8080/"
        },
        "outputId": "f90b0638-9ff7-405b-9018-1c7e8bf5a79a"
      },
      "id": "xUm_p9tTjWI-",
      "execution_count": null,
      "outputs": [
        {
          "output_type": "execute_result",
          "data": {
            "text/plain": [
              "{'English': 95, 'urdu': 91, 'Math': 96, 'Science': 100}"
            ]
          },
          "metadata": {},
          "execution_count": 154
        }
      ]
    },
    {
      "cell_type": "code",
      "source": [
        "Grades"
      ],
      "metadata": {
        "id": "o74i9FHPjWDv",
        "colab": {
          "base_uri": "https://localhost:8080/"
        },
        "outputId": "d56d623d-e3c3-42de-9a23-83b8fd123ab5"
      },
      "id": "o74i9FHPjWDv",
      "execution_count": null,
      "outputs": [
        {
          "output_type": "execute_result",
          "data": {
            "text/plain": [
              "{'Ali': {'English': 95, 'urdu': 99}}"
            ]
          },
          "metadata": {},
          "execution_count": 155
        }
      ]
    },
    {
      "cell_type": "markdown",
      "source": [
        "#### **Clear**"
      ],
      "metadata": {
        "id": "4JcBC6EaFx_N"
      },
      "id": "4JcBC6EaFx_N"
    },
    {
      "cell_type": "code",
      "source": [
        "Grades.clear()"
      ],
      "metadata": {
        "id": "FR2v4JaLjYJf"
      },
      "id": "FR2v4JaLjYJf",
      "execution_count": null,
      "outputs": []
    },
    {
      "cell_type": "code",
      "source": [
        "Grades"
      ],
      "metadata": {
        "id": "U_w-yxOgjYDt",
        "colab": {
          "base_uri": "https://localhost:8080/"
        },
        "outputId": "8f1887c2-490f-426f-f345-abd1d79d8cd2"
      },
      "id": "U_w-yxOgjYDt",
      "execution_count": null,
      "outputs": [
        {
          "output_type": "execute_result",
          "data": {
            "text/plain": [
              "{}"
            ]
          },
          "metadata": {},
          "execution_count": 157
        }
      ]
    },
    {
      "cell_type": "markdown",
      "source": [
        "#### **Delete a key-value pair or complete dictionary**\n",
        "\n"
      ],
      "metadata": {
        "id": "o8hzgEdJGfk2"
      },
      "id": "o8hzgEdJGfk2"
    },
    {
      "cell_type": "code",
      "source": [
        "del Grades"
      ],
      "metadata": {
        "id": "xDp5GwlWjZIa"
      },
      "id": "xDp5GwlWjZIa",
      "execution_count": null,
      "outputs": []
    },
    {
      "cell_type": "code",
      "source": [
        "del Data[\"age\"]"
      ],
      "metadata": {
        "id": "fSdaCGFx8SH7"
      },
      "id": "fSdaCGFx8SH7",
      "execution_count": null,
      "outputs": []
    },
    {
      "cell_type": "code",
      "source": [
        "Data"
      ],
      "metadata": {
        "colab": {
          "base_uri": "https://localhost:8080/"
        },
        "id": "gUt4oRLL8R7B",
        "outputId": "f7dae1aa-de72-4d7f-9394-68921ed7a251"
      },
      "id": "gUt4oRLL8R7B",
      "execution_count": null,
      "outputs": [
        {
          "output_type": "execute_result",
          "data": {
            "text/plain": [
              "{'name': ['Maimoona', 'asma', 'husnain']}"
            ]
          },
          "metadata": {},
          "execution_count": 162
        }
      ]
    },
    {
      "cell_type": "code",
      "source": [
        "data = {\"name\":[\"Maimoona\",\"asma\",\"husnain\"],\"age\":[23,24,25]}\n",
        "data"
      ],
      "metadata": {
        "colab": {
          "base_uri": "https://localhost:8080/"
        },
        "id": "7msyQTmW8eYJ",
        "outputId": "6e60258a-af9e-4122-ae94-98493ae097ea"
      },
      "id": "7msyQTmW8eYJ",
      "execution_count": null,
      "outputs": [
        {
          "output_type": "execute_result",
          "data": {
            "text/plain": [
              "{'name': ['Maimoona', 'asma', 'husnain'], 'age': [23, 24, 25]}"
            ]
          },
          "metadata": {},
          "execution_count": 163
        }
      ]
    },
    {
      "cell_type": "code",
      "source": [
        "import pandas as pd\n",
        "\n",
        "df = pd.DataFrame(data)\n",
        "df"
      ],
      "metadata": {
        "colab": {
          "base_uri": "https://localhost:8080/",
          "height": 143
        },
        "id": "MfzRXSaD8ePA",
        "outputId": "0eaf1682-891f-4d2e-8fc6-682186ae5b61"
      },
      "id": "MfzRXSaD8ePA",
      "execution_count": null,
      "outputs": [
        {
          "output_type": "execute_result",
          "data": {
            "text/plain": [
              "       name  age\n",
              "0  Maimoona   23\n",
              "1      asma   24\n",
              "2   husnain   25"
            ],
            "text/html": [
              "\n",
              "  <div id=\"df-e6937abf-0ecf-45c5-b843-5391717fd708\" class=\"colab-df-container\">\n",
              "    <div>\n",
              "<style scoped>\n",
              "    .dataframe tbody tr th:only-of-type {\n",
              "        vertical-align: middle;\n",
              "    }\n",
              "\n",
              "    .dataframe tbody tr th {\n",
              "        vertical-align: top;\n",
              "    }\n",
              "\n",
              "    .dataframe thead th {\n",
              "        text-align: right;\n",
              "    }\n",
              "</style>\n",
              "<table border=\"1\" class=\"dataframe\">\n",
              "  <thead>\n",
              "    <tr style=\"text-align: right;\">\n",
              "      <th></th>\n",
              "      <th>name</th>\n",
              "      <th>age</th>\n",
              "    </tr>\n",
              "  </thead>\n",
              "  <tbody>\n",
              "    <tr>\n",
              "      <th>0</th>\n",
              "      <td>Maimoona</td>\n",
              "      <td>23</td>\n",
              "    </tr>\n",
              "    <tr>\n",
              "      <th>1</th>\n",
              "      <td>asma</td>\n",
              "      <td>24</td>\n",
              "    </tr>\n",
              "    <tr>\n",
              "      <th>2</th>\n",
              "      <td>husnain</td>\n",
              "      <td>25</td>\n",
              "    </tr>\n",
              "  </tbody>\n",
              "</table>\n",
              "</div>\n",
              "    <div class=\"colab-df-buttons\">\n",
              "\n",
              "  <div class=\"colab-df-container\">\n",
              "    <button class=\"colab-df-convert\" onclick=\"convertToInteractive('df-e6937abf-0ecf-45c5-b843-5391717fd708')\"\n",
              "            title=\"Convert this dataframe to an interactive table.\"\n",
              "            style=\"display:none;\">\n",
              "\n",
              "  <svg xmlns=\"http://www.w3.org/2000/svg\" height=\"24px\" viewBox=\"0 -960 960 960\">\n",
              "    <path d=\"M120-120v-720h720v720H120Zm60-500h600v-160H180v160Zm220 220h160v-160H400v160Zm0 220h160v-160H400v160ZM180-400h160v-160H180v160Zm440 0h160v-160H620v160ZM180-180h160v-160H180v160Zm440 0h160v-160H620v160Z\"/>\n",
              "  </svg>\n",
              "    </button>\n",
              "\n",
              "  <style>\n",
              "    .colab-df-container {\n",
              "      display:flex;\n",
              "      gap: 12px;\n",
              "    }\n",
              "\n",
              "    .colab-df-convert {\n",
              "      background-color: #E8F0FE;\n",
              "      border: none;\n",
              "      border-radius: 50%;\n",
              "      cursor: pointer;\n",
              "      display: none;\n",
              "      fill: #1967D2;\n",
              "      height: 32px;\n",
              "      padding: 0 0 0 0;\n",
              "      width: 32px;\n",
              "    }\n",
              "\n",
              "    .colab-df-convert:hover {\n",
              "      background-color: #E2EBFA;\n",
              "      box-shadow: 0px 1px 2px rgba(60, 64, 67, 0.3), 0px 1px 3px 1px rgba(60, 64, 67, 0.15);\n",
              "      fill: #174EA6;\n",
              "    }\n",
              "\n",
              "    .colab-df-buttons div {\n",
              "      margin-bottom: 4px;\n",
              "    }\n",
              "\n",
              "    [theme=dark] .colab-df-convert {\n",
              "      background-color: #3B4455;\n",
              "      fill: #D2E3FC;\n",
              "    }\n",
              "\n",
              "    [theme=dark] .colab-df-convert:hover {\n",
              "      background-color: #434B5C;\n",
              "      box-shadow: 0px 1px 3px 1px rgba(0, 0, 0, 0.15);\n",
              "      filter: drop-shadow(0px 1px 2px rgba(0, 0, 0, 0.3));\n",
              "      fill: #FFFFFF;\n",
              "    }\n",
              "  </style>\n",
              "\n",
              "    <script>\n",
              "      const buttonEl =\n",
              "        document.querySelector('#df-e6937abf-0ecf-45c5-b843-5391717fd708 button.colab-df-convert');\n",
              "      buttonEl.style.display =\n",
              "        google.colab.kernel.accessAllowed ? 'block' : 'none';\n",
              "\n",
              "      async function convertToInteractive(key) {\n",
              "        const element = document.querySelector('#df-e6937abf-0ecf-45c5-b843-5391717fd708');\n",
              "        const dataTable =\n",
              "          await google.colab.kernel.invokeFunction('convertToInteractive',\n",
              "                                                    [key], {});\n",
              "        if (!dataTable) return;\n",
              "\n",
              "        const docLinkHtml = 'Like what you see? Visit the ' +\n",
              "          '<a target=\"_blank\" href=https://colab.research.google.com/notebooks/data_table.ipynb>data table notebook</a>'\n",
              "          + ' to learn more about interactive tables.';\n",
              "        element.innerHTML = '';\n",
              "        dataTable['output_type'] = 'display_data';\n",
              "        await google.colab.output.renderOutput(dataTable, element);\n",
              "        const docLink = document.createElement('div');\n",
              "        docLink.innerHTML = docLinkHtml;\n",
              "        element.appendChild(docLink);\n",
              "      }\n",
              "    </script>\n",
              "  </div>\n",
              "\n",
              "\n",
              "    <div id=\"df-468117fd-10cd-4c30-a59a-83103383f52f\">\n",
              "      <button class=\"colab-df-quickchart\" onclick=\"quickchart('df-468117fd-10cd-4c30-a59a-83103383f52f')\"\n",
              "                title=\"Suggest charts\"\n",
              "                style=\"display:none;\">\n",
              "\n",
              "<svg xmlns=\"http://www.w3.org/2000/svg\" height=\"24px\"viewBox=\"0 0 24 24\"\n",
              "     width=\"24px\">\n",
              "    <g>\n",
              "        <path d=\"M19 3H5c-1.1 0-2 .9-2 2v14c0 1.1.9 2 2 2h14c1.1 0 2-.9 2-2V5c0-1.1-.9-2-2-2zM9 17H7v-7h2v7zm4 0h-2V7h2v10zm4 0h-2v-4h2v4z\"/>\n",
              "    </g>\n",
              "</svg>\n",
              "      </button>\n",
              "\n",
              "<style>\n",
              "  .colab-df-quickchart {\n",
              "      --bg-color: #E8F0FE;\n",
              "      --fill-color: #1967D2;\n",
              "      --hover-bg-color: #E2EBFA;\n",
              "      --hover-fill-color: #174EA6;\n",
              "      --disabled-fill-color: #AAA;\n",
              "      --disabled-bg-color: #DDD;\n",
              "  }\n",
              "\n",
              "  [theme=dark] .colab-df-quickchart {\n",
              "      --bg-color: #3B4455;\n",
              "      --fill-color: #D2E3FC;\n",
              "      --hover-bg-color: #434B5C;\n",
              "      --hover-fill-color: #FFFFFF;\n",
              "      --disabled-bg-color: #3B4455;\n",
              "      --disabled-fill-color: #666;\n",
              "  }\n",
              "\n",
              "  .colab-df-quickchart {\n",
              "    background-color: var(--bg-color);\n",
              "    border: none;\n",
              "    border-radius: 50%;\n",
              "    cursor: pointer;\n",
              "    display: none;\n",
              "    fill: var(--fill-color);\n",
              "    height: 32px;\n",
              "    padding: 0;\n",
              "    width: 32px;\n",
              "  }\n",
              "\n",
              "  .colab-df-quickchart:hover {\n",
              "    background-color: var(--hover-bg-color);\n",
              "    box-shadow: 0 1px 2px rgba(60, 64, 67, 0.3), 0 1px 3px 1px rgba(60, 64, 67, 0.15);\n",
              "    fill: var(--button-hover-fill-color);\n",
              "  }\n",
              "\n",
              "  .colab-df-quickchart-complete:disabled,\n",
              "  .colab-df-quickchart-complete:disabled:hover {\n",
              "    background-color: var(--disabled-bg-color);\n",
              "    fill: var(--disabled-fill-color);\n",
              "    box-shadow: none;\n",
              "  }\n",
              "\n",
              "  .colab-df-spinner {\n",
              "    border: 2px solid var(--fill-color);\n",
              "    border-color: transparent;\n",
              "    border-bottom-color: var(--fill-color);\n",
              "    animation:\n",
              "      spin 1s steps(1) infinite;\n",
              "  }\n",
              "\n",
              "  @keyframes spin {\n",
              "    0% {\n",
              "      border-color: transparent;\n",
              "      border-bottom-color: var(--fill-color);\n",
              "      border-left-color: var(--fill-color);\n",
              "    }\n",
              "    20% {\n",
              "      border-color: transparent;\n",
              "      border-left-color: var(--fill-color);\n",
              "      border-top-color: var(--fill-color);\n",
              "    }\n",
              "    30% {\n",
              "      border-color: transparent;\n",
              "      border-left-color: var(--fill-color);\n",
              "      border-top-color: var(--fill-color);\n",
              "      border-right-color: var(--fill-color);\n",
              "    }\n",
              "    40% {\n",
              "      border-color: transparent;\n",
              "      border-right-color: var(--fill-color);\n",
              "      border-top-color: var(--fill-color);\n",
              "    }\n",
              "    60% {\n",
              "      border-color: transparent;\n",
              "      border-right-color: var(--fill-color);\n",
              "    }\n",
              "    80% {\n",
              "      border-color: transparent;\n",
              "      border-right-color: var(--fill-color);\n",
              "      border-bottom-color: var(--fill-color);\n",
              "    }\n",
              "    90% {\n",
              "      border-color: transparent;\n",
              "      border-bottom-color: var(--fill-color);\n",
              "    }\n",
              "  }\n",
              "</style>\n",
              "\n",
              "      <script>\n",
              "        async function quickchart(key) {\n",
              "          const quickchartButtonEl =\n",
              "            document.querySelector('#' + key + ' button');\n",
              "          quickchartButtonEl.disabled = true;  // To prevent multiple clicks.\n",
              "          quickchartButtonEl.classList.add('colab-df-spinner');\n",
              "          try {\n",
              "            const charts = await google.colab.kernel.invokeFunction(\n",
              "                'suggestCharts', [key], {});\n",
              "          } catch (error) {\n",
              "            console.error('Error during call to suggestCharts:', error);\n",
              "          }\n",
              "          quickchartButtonEl.classList.remove('colab-df-spinner');\n",
              "          quickchartButtonEl.classList.add('colab-df-quickchart-complete');\n",
              "        }\n",
              "        (() => {\n",
              "          let quickchartButtonEl =\n",
              "            document.querySelector('#df-468117fd-10cd-4c30-a59a-83103383f52f button');\n",
              "          quickchartButtonEl.style.display =\n",
              "            google.colab.kernel.accessAllowed ? 'block' : 'none';\n",
              "        })();\n",
              "      </script>\n",
              "    </div>\n",
              "\n",
              "  <div id=\"id_1e95c5e1-450d-44ee-917d-1d1675a6e02b\">\n",
              "    <style>\n",
              "      .colab-df-generate {\n",
              "        background-color: #E8F0FE;\n",
              "        border: none;\n",
              "        border-radius: 50%;\n",
              "        cursor: pointer;\n",
              "        display: none;\n",
              "        fill: #1967D2;\n",
              "        height: 32px;\n",
              "        padding: 0 0 0 0;\n",
              "        width: 32px;\n",
              "      }\n",
              "\n",
              "      .colab-df-generate:hover {\n",
              "        background-color: #E2EBFA;\n",
              "        box-shadow: 0px 1px 2px rgba(60, 64, 67, 0.3), 0px 1px 3px 1px rgba(60, 64, 67, 0.15);\n",
              "        fill: #174EA6;\n",
              "      }\n",
              "\n",
              "      [theme=dark] .colab-df-generate {\n",
              "        background-color: #3B4455;\n",
              "        fill: #D2E3FC;\n",
              "      }\n",
              "\n",
              "      [theme=dark] .colab-df-generate:hover {\n",
              "        background-color: #434B5C;\n",
              "        box-shadow: 0px 1px 3px 1px rgba(0, 0, 0, 0.15);\n",
              "        filter: drop-shadow(0px 1px 2px rgba(0, 0, 0, 0.3));\n",
              "        fill: #FFFFFF;\n",
              "      }\n",
              "    </style>\n",
              "    <button class=\"colab-df-generate\" onclick=\"generateWithVariable('df')\"\n",
              "            title=\"Generate code using this dataframe.\"\n",
              "            style=\"display:none;\">\n",
              "\n",
              "  <svg xmlns=\"http://www.w3.org/2000/svg\" height=\"24px\"viewBox=\"0 0 24 24\"\n",
              "       width=\"24px\">\n",
              "    <path d=\"M7,19H8.4L18.45,9,17,7.55,7,17.6ZM5,21V16.75L18.45,3.32a2,2,0,0,1,2.83,0l1.4,1.43a1.91,1.91,0,0,1,.58,1.4,1.91,1.91,0,0,1-.58,1.4L9.25,21ZM18.45,9,17,7.55Zm-12,3A5.31,5.31,0,0,0,4.9,8.1,5.31,5.31,0,0,0,1,6.5,5.31,5.31,0,0,0,4.9,4.9,5.31,5.31,0,0,0,6.5,1,5.31,5.31,0,0,0,8.1,4.9,5.31,5.31,0,0,0,12,6.5,5.46,5.46,0,0,0,6.5,12Z\"/>\n",
              "  </svg>\n",
              "    </button>\n",
              "    <script>\n",
              "      (() => {\n",
              "      const buttonEl =\n",
              "        document.querySelector('#id_1e95c5e1-450d-44ee-917d-1d1675a6e02b button.colab-df-generate');\n",
              "      buttonEl.style.display =\n",
              "        google.colab.kernel.accessAllowed ? 'block' : 'none';\n",
              "\n",
              "      buttonEl.onclick = () => {\n",
              "        google.colab.notebook.generateWithVariable('df');\n",
              "      }\n",
              "      })();\n",
              "    </script>\n",
              "  </div>\n",
              "\n",
              "    </div>\n",
              "  </div>\n"
            ],
            "application/vnd.google.colaboratory.intrinsic+json": {
              "type": "dataframe",
              "variable_name": "df",
              "summary": "{\n  \"name\": \"df\",\n  \"rows\": 3,\n  \"fields\": [\n    {\n      \"column\": \"name\",\n      \"properties\": {\n        \"dtype\": \"string\",\n        \"num_unique_values\": 3,\n        \"samples\": [\n          \"Maimoona\",\n          \"asma\",\n          \"husnain\"\n        ],\n        \"semantic_type\": \"\",\n        \"description\": \"\"\n      }\n    },\n    {\n      \"column\": \"age\",\n      \"properties\": {\n        \"dtype\": \"number\",\n        \"std\": 1,\n        \"min\": 23,\n        \"max\": 25,\n        \"num_unique_values\": 3,\n        \"samples\": [\n          23,\n          24,\n          25\n        ],\n        \"semantic_type\": \"\",\n        \"description\": \"\"\n      }\n    }\n  ]\n}"
            }
          },
          "metadata": {},
          "execution_count": 164
        }
      ]
    },
    {
      "cell_type": "markdown",
      "metadata": {
        "id": "79df3c50"
      },
      "source": [
        "## **Conditional Statements**\n",
        "\n",
        "\n",
        "\n",
        "\n",
        "\n"
      ],
      "id": "79df3c50"
    },
    {
      "cell_type": "markdown",
      "source": [
        "### **IF**\n",
        "```\n",
        "if condition:\n",
        "    Statement\n",
        "```\n"
      ],
      "metadata": {
        "id": "ksfzp9JujHHy"
      },
      "id": "ksfzp9JujHHy"
    },
    {
      "cell_type": "code",
      "source": [
        "if(condition,True, False)\n",
        "\n",
        "if condition:\n",
        "  True\n",
        "\n",
        "#indentation=> it shows the lines of block belong to which condition"
      ],
      "metadata": {
        "id": "4S8BowEd9MaF"
      },
      "id": "4S8BowEd9MaF",
      "execution_count": null,
      "outputs": []
    },
    {
      "cell_type": "markdown",
      "source": [
        "**Write a Python program that takes an integer input from the user and prints whether the number is positive.**"
      ],
      "metadata": {
        "id": "ryRsE1EBXRs1"
      },
      "id": "ryRsE1EBXRs1"
    },
    {
      "cell_type": "code",
      "source": [
        "num = int(input(\"Enter any number: \"))\n",
        "\n",
        "if num > 0:\n",
        "  print(num,\"is positive\")"
      ],
      "metadata": {
        "colab": {
          "base_uri": "https://localhost:8080/"
        },
        "id": "qqZYqA7R-MeS",
        "outputId": "aa5b6fa4-a914-446c-bdd0-d86f01235e64"
      },
      "id": "qqZYqA7R-MeS",
      "execution_count": null,
      "outputs": [
        {
          "output_type": "stream",
          "name": "stdout",
          "text": [
            "Enter any number: 10\n",
            "10 is positive\n"
          ]
        }
      ]
    },
    {
      "cell_type": "code",
      "source": [
        "num = int(input(\"Enter any number: \"))\n",
        "\n",
        "if num > 0:\n",
        "  print(num,\"is positive\")"
      ],
      "metadata": {
        "id": "DxFi7dBnjacx",
        "colab": {
          "base_uri": "https://localhost:8080/"
        },
        "outputId": "e67b8961-9af8-405f-b845-c4af43d84009"
      },
      "id": "DxFi7dBnjacx",
      "execution_count": null,
      "outputs": [
        {
          "name": "stdout",
          "output_type": "stream",
          "text": [
            "Enter any number: -9\n"
          ]
        }
      ]
    },
    {
      "cell_type": "markdown",
      "source": [
        "### **IF-Else**"
      ],
      "metadata": {
        "id": "x-vojtVqjL7R"
      },
      "id": "x-vojtVqjL7R"
    },
    {
      "cell_type": "markdown",
      "source": [
        "```\n",
        "if condition:\n",
        "    statement\n",
        "\n",
        "else:\n",
        "    statement\n",
        "```"
      ],
      "metadata": {
        "id": "034_EUYqh5iD"
      },
      "id": "034_EUYqh5iD"
    },
    {
      "cell_type": "markdown",
      "source": [
        "**Write a Python program that takes an integer input from the user and prints whether the number is positive or negative.**"
      ],
      "metadata": {
        "id": "c25n9UmEYXUU"
      },
      "id": "c25n9UmEYXUU"
    },
    {
      "cell_type": "code",
      "source": [
        "num = int(input(\"Enter any number: \"))\n",
        "\n",
        "if num >=0:    #-7\n",
        "  print(num,\"is positive\")\n",
        "\n",
        "else:\n",
        "  print(num,\"is negative\")"
      ],
      "metadata": {
        "id": "DLKLt3Wfjbko",
        "colab": {
          "base_uri": "https://localhost:8080/"
        },
        "outputId": "4df7c588-3e83-419e-a6e3-b5d69b0e608b"
      },
      "id": "DLKLt3Wfjbko",
      "execution_count": null,
      "outputs": [
        {
          "output_type": "stream",
          "name": "stdout",
          "text": [
            "Enter any number: 100\n",
            "100 is positive\n"
          ]
        }
      ]
    },
    {
      "cell_type": "code",
      "source": [],
      "metadata": {
        "id": "WOEnUNmk-U1w"
      },
      "id": "WOEnUNmk-U1w",
      "execution_count": null,
      "outputs": []
    },
    {
      "cell_type": "markdown",
      "source": [
        "### **IF-Elif-Else**"
      ],
      "metadata": {
        "id": "uf4biTdKjPOS"
      },
      "id": "uf4biTdKjPOS"
    },
    {
      "cell_type": "markdown",
      "source": [
        "\n",
        "\n",
        "```\n",
        "if condition:\n",
        "    statement\n",
        "\n",
        "elif condition:\n",
        "    statement\n",
        "\n",
        "else:\n",
        "    statement\n",
        "```\n",
        "\n"
      ],
      "metadata": {
        "id": "qo8mltzKiFSI"
      },
      "id": "qo8mltzKiFSI"
    },
    {
      "cell_type": "markdown",
      "source": [
        "**Write a Python program that takes an integer input from the user and prints whether the number is positive, negative or zero.**"
      ],
      "metadata": {
        "id": "fzKMKvhLYbNY"
      },
      "id": "fzKMKvhLYbNY"
    },
    {
      "cell_type": "code",
      "source": [
        "num = int(input(\"Enter any number: \"))\n",
        "\n",
        "\n",
        "if num > 0:\n",
        "  print(num,\"is positive\")\n",
        "\n",
        "elif num < 0:\n",
        "  print(num,\"is negative\")\n",
        "\n",
        "else:\n",
        "  print(num,\"is zero\")"
      ],
      "metadata": {
        "id": "YbGoyqeujdJi",
        "colab": {
          "base_uri": "https://localhost:8080/"
        },
        "outputId": "2af559a6-50cb-4d33-802c-41d835fbaae6"
      },
      "id": "YbGoyqeujdJi",
      "execution_count": null,
      "outputs": [
        {
          "output_type": "stream",
          "name": "stdout",
          "text": [
            "Enter any number: -7\n",
            "-7 is negative\n"
          ]
        }
      ]
    },
    {
      "cell_type": "markdown",
      "source": [
        "case\n",
        "\n",
        "when condition then result1\n",
        "\n",
        "when condition2 then result2\n",
        "\n",
        "else result3\n",
        "\n",
        "end"
      ],
      "metadata": {
        "id": "hP1ooj02AVpT"
      },
      "id": "hP1ooj02AVpT"
    },
    {
      "cell_type": "markdown",
      "source": [
        "**Check whether a number is even or odd.**"
      ],
      "metadata": {
        "id": "5t-LHb2GZEMH"
      },
      "id": "5t-LHb2GZEMH"
    },
    {
      "cell_type": "code",
      "source": [
        "num = int(input(\"Enter any number: \"))\n",
        "\n",
        "if num % 2 == 0:\n",
        "  print(num,\"is even\")\n",
        "\n",
        "elif num % 2 != 0:\n",
        "  print(num,\"is odd\")"
      ],
      "metadata": {
        "id": "Qg6UaLB2je44",
        "colab": {
          "base_uri": "https://localhost:8080/"
        },
        "outputId": "97f2fba8-43ae-4359-fd01-7f76aab30c65"
      },
      "id": "Qg6UaLB2je44",
      "execution_count": null,
      "outputs": [
        {
          "output_type": "stream",
          "name": "stdout",
          "text": [
            "Enter any number: 3\n",
            "3 is odd\n"
          ]
        }
      ]
    },
    {
      "cell_type": "code",
      "source": [
        "num = int(input(\"Enter any number: \"))\n",
        "\n",
        "if num % 2 == 0:\n",
        "  print(num,\"is even\")\n",
        "\n",
        "else:\n",
        "  print(num,\"is odd\")"
      ],
      "metadata": {
        "id": "m78ArH-Ujez7",
        "colab": {
          "base_uri": "https://localhost:8080/"
        },
        "outputId": "535a7de6-efa5-4a64-b174-1fd0abb073b9"
      },
      "id": "m78ArH-Ujez7",
      "execution_count": null,
      "outputs": [
        {
          "output_type": "stream",
          "name": "stdout",
          "text": [
            "Enter any number: 3\n",
            "3 is odd\n"
          ]
        }
      ]
    },
    {
      "cell_type": "markdown",
      "source": [
        "**Write a Python program that takes an age input from the user and prints whether the user is Minor, or just turned 18 or Adult.**\n",
        "\n",
        "\n",
        "*   Minor IF age < 18\n",
        "*   Just turned 18 IF age==18\n",
        "*   Adult If age > 18\n",
        "\n"
      ],
      "metadata": {
        "id": "rSAuDCr7Yfdv"
      },
      "id": "rSAuDCr7Yfdv"
    },
    {
      "cell_type": "code",
      "source": [
        "age = int(input(\"Enter your age: \"))\n",
        "\n",
        "if age < 18:\n",
        "  print(\"Minor\")\n",
        "\n",
        "elif age == 18:\n",
        "  print(\"Just Turned 18\")\n",
        "\n",
        "else:\n",
        "  print(\"Adult\")"
      ],
      "metadata": {
        "id": "R4p8IAIzjd5r",
        "colab": {
          "base_uri": "https://localhost:8080/"
        },
        "outputId": "4e324447-7bb7-4825-b1a9-c55fb079868e"
      },
      "id": "R4p8IAIzjd5r",
      "execution_count": null,
      "outputs": [
        {
          "output_type": "stream",
          "name": "stdout",
          "text": [
            "Enter your age: 8\n",
            "Minor\n"
          ]
        }
      ]
    },
    {
      "cell_type": "code",
      "source": [],
      "metadata": {
        "id": "droJ3EzXjdzc"
      },
      "id": "droJ3EzXjdzc",
      "execution_count": null,
      "outputs": []
    },
    {
      "cell_type": "markdown",
      "source": [
        "**Check whether a person is eligible to vote or not. condition is age must be equal or greater than 18 and have a CNIC.**"
      ],
      "metadata": {
        "id": "RyvRvSN9ZKZq"
      },
      "id": "RyvRvSN9ZKZq"
    },
    {
      "cell_type": "code",
      "source": [
        "age = int(input(\"Enter your age: \"))\n",
        "CNIC = int(input(\"Enter 1 if you have CNIC else 0: \"))\n",
        "\n",
        "if age >=18 and CNIC==1:\n",
        "  print(\"eligible\")\n",
        "\n",
        "else:\n",
        "  print(\"Not eligible\")"
      ],
      "metadata": {
        "id": "hCA04khNjjNt",
        "colab": {
          "base_uri": "https://localhost:8080/"
        },
        "outputId": "1aa6544f-9a03-44a3-da13-f5d3bbace908"
      },
      "id": "hCA04khNjjNt",
      "execution_count": null,
      "outputs": [
        {
          "output_type": "stream",
          "name": "stdout",
          "text": [
            "Enter your age: 21\n",
            "Enter 1 if you have CNIC else 0: 1\n",
            "eligible\n"
          ]
        }
      ]
    },
    {
      "cell_type": "code",
      "source": [],
      "metadata": {
        "id": "HQpKcgxyjjIu"
      },
      "id": "HQpKcgxyjjIu",
      "execution_count": null,
      "outputs": []
    },
    {
      "cell_type": "markdown",
      "source": [
        "### **Order of Conditions**"
      ],
      "metadata": {
        "id": "ObWvmEKJjTsM"
      },
      "id": "ObWvmEKJjTsM"
    },
    {
      "cell_type": "code",
      "source": [
        "num = int(input(\"Enter any number: \"))\n",
        "\n",
        "if num % 2 == 0:\n",
        "  print(num, \"is divisible by 2\")\n",
        "\n",
        "elif num % 3 == 0:\n",
        "  print(num, \"is divisible by 3\")\n",
        "\n",
        "elif num%2 ==0 and num %3 ==0:\n",
        "  print(num ,\"is divisible by both 2 and 3\")\n",
        "\n",
        "else:\n",
        "  print(num, \"is not divisible by 2 and 3\")"
      ],
      "metadata": {
        "id": "j1-6SPbhjkT1",
        "colab": {
          "base_uri": "https://localhost:8080/"
        },
        "outputId": "475896fc-585a-4399-8ca0-ed6eedaffbd8"
      },
      "id": "j1-6SPbhjkT1",
      "execution_count": null,
      "outputs": [
        {
          "output_type": "stream",
          "name": "stdout",
          "text": [
            "Enter any number: 6\n",
            "6 is divisible by 2\n"
          ]
        }
      ]
    },
    {
      "cell_type": "code",
      "source": [
        "#correct order\n",
        "\n",
        "num = int(input(\"Enter any number: \"))\n",
        "\n",
        "if num%2 ==0 and num %3 ==0:\n",
        "  print(num ,\"is divisible by both 2 and 3\")\n",
        "\n",
        "elif num % 2 == 0:\n",
        "  print(num, \"is divisible by 2\")\n",
        "\n",
        "elif num % 3 == 0:\n",
        "  print(num, \"is divisible by 3\")\n",
        "\n",
        "else:\n",
        "  print(num, \"is not divisible by 2 and 3\")"
      ],
      "metadata": {
        "id": "yAC6SLaFjkOt",
        "colab": {
          "base_uri": "https://localhost:8080/"
        },
        "outputId": "719a47da-c98d-408e-d8f0-1feec7a3ba51"
      },
      "id": "yAC6SLaFjkOt",
      "execution_count": null,
      "outputs": [
        {
          "output_type": "stream",
          "name": "stdout",
          "text": [
            "Enter any number: 7\n",
            "7 is not divisible by 2 and 3\n"
          ]
        }
      ]
    },
    {
      "cell_type": "code",
      "source": [],
      "metadata": {
        "id": "TK5VJj41Dm9H"
      },
      "id": "TK5VJj41Dm9H",
      "execution_count": null,
      "outputs": []
    },
    {
      "cell_type": "code",
      "source": [],
      "metadata": {
        "id": "Vd23mLwHDmy2"
      },
      "id": "Vd23mLwHDmy2",
      "execution_count": null,
      "outputs": []
    },
    {
      "cell_type": "markdown",
      "metadata": {
        "id": "e7c5e628"
      },
      "source": [
        "### **Nested IF**"
      ],
      "id": "e7c5e628"
    },
    {
      "cell_type": "code",
      "source": [
        "age = int(input(\"Enter your age: \"))\n",
        "\n",
        "if age >=18:\n",
        "  CNIC = int(input(\"Enter 1 if you have CNIC else 0: \"))\n",
        "  if CNIC==1:\n",
        "    print(\"eligible\")\n",
        "  else:\n",
        "    print(\"Not eligible\")\n",
        "\n",
        "else:\n",
        "  print(\"Not eligible\")"
      ],
      "metadata": {
        "colab": {
          "base_uri": "https://localhost:8080/"
        },
        "id": "RuUtYa56CMap",
        "outputId": "8ab6bb34-aaba-4fee-fa00-6427fc6afd85"
      },
      "id": "RuUtYa56CMap",
      "execution_count": null,
      "outputs": [
        {
          "output_type": "stream",
          "name": "stdout",
          "text": [
            "Enter your age: 18\n",
            "Enter 1 if you have CNIC else 0: 1\n",
            "eligible\n"
          ]
        }
      ]
    },
    {
      "cell_type": "code",
      "source": [],
      "metadata": {
        "id": "0n6VMXFnjlvs"
      },
      "id": "0n6VMXFnjlvs",
      "execution_count": null,
      "outputs": []
    },
    {
      "cell_type": "code",
      "source": [],
      "metadata": {
        "id": "eLGBjdYDjlqJ"
      },
      "id": "eLGBjdYDjlqJ",
      "execution_count": null,
      "outputs": []
    },
    {
      "cell_type": "code",
      "source": [],
      "metadata": {
        "id": "j3-7YsAhKUee"
      },
      "id": "j3-7YsAhKUee",
      "execution_count": null,
      "outputs": []
    },
    {
      "cell_type": "markdown",
      "source": [
        "# **Task**"
      ],
      "metadata": {
        "id": "S_X1x3W4aOKF"
      },
      "id": "S_X1x3W4aOKF"
    },
    {
      "cell_type": "markdown",
      "source": [
        "**1. Create a tuple called coordinates with values (10, 20).Attempt to change the first element of the coordinates tuple. What happens?**\n"
      ],
      "metadata": {
        "id": "WpN3lpVSYhz8"
      },
      "id": "WpN3lpVSYhz8"
    },
    {
      "cell_type": "code",
      "source": [],
      "metadata": {
        "id": "dWhilg2QYcxE"
      },
      "execution_count": null,
      "outputs": [],
      "id": "dWhilg2QYcxE"
    },
    {
      "cell_type": "code",
      "source": [],
      "metadata": {
        "id": "BfmFvLnojry3"
      },
      "id": "BfmFvLnojry3",
      "execution_count": null,
      "outputs": []
    },
    {
      "cell_type": "code",
      "source": [],
      "metadata": {
        "id": "agetT6zzjrtq"
      },
      "id": "agetT6zzjrtq",
      "execution_count": null,
      "outputs": []
    },
    {
      "cell_type": "markdown",
      "source": [
        "**2. Count how many times the value 5 appears in the tuple numbers_tuple = (1, 5, 2, 5, 3, 5, 4).**\n"
      ],
      "metadata": {
        "id": "v3w-13U5Y1iy"
      },
      "id": "v3w-13U5Y1iy"
    },
    {
      "cell_type": "code",
      "source": [],
      "metadata": {
        "id": "FJCvjsqVY1GX"
      },
      "execution_count": null,
      "outputs": [],
      "id": "FJCvjsqVY1GX"
    },
    {
      "cell_type": "code",
      "source": [],
      "metadata": {
        "id": "qJWbO_zAjrMC"
      },
      "id": "qJWbO_zAjrMC",
      "execution_count": null,
      "outputs": []
    },
    {
      "cell_type": "code",
      "source": [],
      "metadata": {
        "id": "vPia75okjrHj"
      },
      "id": "vPia75okjrHj",
      "execution_count": null,
      "outputs": []
    },
    {
      "cell_type": "markdown",
      "source": [
        "**3. A teacher wants to maintain a list of students enrolled in two different classes.Write a Python program to find the students enrolled in both classes.**\n",
        "\n",
        "class_A = {\"Jawad\", \"Aliyan\", \"Bilal\", \"Danial\"}\n",
        "\n",
        "class_B = {\"Aliyan\", \"Bilawal\", \"Ebrahim\", \"Bilal\"}\n",
        "\n",
        "\n"
      ],
      "metadata": {
        "id": "WYdUDK1B7jAN"
      },
      "id": "WYdUDK1B7jAN"
    },
    {
      "cell_type": "code",
      "source": [],
      "metadata": {
        "id": "0Yg7e6NY0jsA"
      },
      "execution_count": null,
      "outputs": [],
      "id": "0Yg7e6NY0jsA"
    },
    {
      "cell_type": "code",
      "source": [],
      "metadata": {
        "id": "ArlCalOOjqjd"
      },
      "id": "ArlCalOOjqjd",
      "execution_count": null,
      "outputs": []
    },
    {
      "cell_type": "code",
      "source": [],
      "metadata": {
        "id": "6K76KN66jqXj"
      },
      "id": "6K76KN66jqXj",
      "execution_count": null,
      "outputs": []
    },
    {
      "cell_type": "markdown",
      "source": [
        "**4. A grocery store is creating a customer database where each customer has a unique ID. The database is stored as a dictionary, where the key is the customer ID, and the value is a dictionary containing the customer's name and loyalty points:**\n",
        "\n",
        "customers = {\n",
        "    101: {\"name\": \"Alice\", \"points\": 200},\n",
        "    102: {\"name\": \"Bob\", \"points\": 350},\n",
        "    103: {\"name\": \"Charlie\", \"points\": 120}\n",
        "}\n",
        "\n",
        "\n",
        "Write a Python program to:\n",
        "\n",
        "- Add a new customer with ID 104, name \"Diana\", and 50 loyalty points.\n",
        "- Increase Bob’s loyalty points by 100.\n",
        "- Delete the entry for ID 103."
      ],
      "metadata": {
        "id": "rgydDRbI7-mu"
      },
      "id": "rgydDRbI7-mu"
    },
    {
      "cell_type": "code",
      "source": [],
      "metadata": {
        "id": "EQ6aEsLZeRzf"
      },
      "id": "EQ6aEsLZeRzf",
      "execution_count": null,
      "outputs": []
    },
    {
      "cell_type": "code",
      "source": [],
      "metadata": {
        "id": "qzUPWSVZ8RRC"
      },
      "execution_count": null,
      "outputs": [],
      "id": "qzUPWSVZ8RRC"
    },
    {
      "cell_type": "markdown",
      "source": [
        "**5. An online store gives customers discounts based on their total purchase amount:**\n",
        "\n",
        "- If the total purchase is more than \\$100, they get a 20% discount.\n",
        "- If the total is between \\$50 and \\$100, they get a 10% discount.\n",
        "- If the total is less than \\$50, no discount is given.\n",
        "\n",
        "Write a Python program to calculate the final price after the discount based on the total purchase amount entered by the customer."
      ],
      "metadata": {
        "id": "mbWL1fcs80T5"
      },
      "id": "mbWL1fcs80T5"
    },
    {
      "cell_type": "code",
      "source": [],
      "metadata": {
        "id": "deGCtbMeKUXR"
      },
      "id": "deGCtbMeKUXR",
      "execution_count": null,
      "outputs": []
    },
    {
      "cell_type": "code",
      "source": [],
      "metadata": {
        "id": "eyB9J5jaKURJ"
      },
      "id": "eyB9J5jaKURJ",
      "execution_count": null,
      "outputs": []
    },
    {
      "cell_type": "code",
      "source": [],
      "metadata": {
        "id": "HsUwks8QKUJV"
      },
      "id": "HsUwks8QKUJV",
      "execution_count": null,
      "outputs": []
    }
  ],
  "metadata": {
    "kernelspec": {
      "display_name": "Python 3 (ipykernel)",
      "language": "python",
      "name": "python3"
    },
    "language_info": {
      "codemirror_mode": {
        "name": "ipython",
        "version": 3
      },
      "file_extension": ".py",
      "mimetype": "text/x-python",
      "name": "python",
      "nbconvert_exporter": "python",
      "pygments_lexer": "ipython3",
      "version": "3.12.4"
    },
    "colab": {
      "provenance": [],
      "include_colab_link": true
    }
  },
  "nbformat": 4,
  "nbformat_minor": 5
}