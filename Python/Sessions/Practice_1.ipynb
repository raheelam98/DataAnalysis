{
  "nbformat": 4,
  "nbformat_minor": 0,
  "metadata": {
    "colab": {
      "provenance": [],
      "authorship_tag": "ABX9TyOIcqfC3MDOKHKPQRGZ4jHo",
      "include_colab_link": true
    },
    "kernelspec": {
      "name": "python3",
      "display_name": "Python 3"
    },
    "language_info": {
      "name": "python"
    }
  },
  "cells": [
    {
      "cell_type": "markdown",
      "metadata": {
        "id": "view-in-github",
        "colab_type": "text"
      },
      "source": [
        "<a href=\"https://colab.research.google.com/github/raheelam98/DataAnalysis/blob/main/Python/Sessions/Practice_1.ipynb\" target=\"_parent\"><img src=\"https://colab.research.google.com/assets/colab-badge.svg\" alt=\"Open In Colab\"/></a>"
      ]
    },
    {
      "cell_type": "markdown",
      "source": [
        "# **Sesstion 4**"
      ],
      "metadata": {
        "id": "4M0064iT9nFD"
      }
    },
    {
      "cell_type": "markdown",
      "source": [
        "**Range** generates a sequence of numbers.\n",
        "\n",
        "``` range(start, stop(not included), step) ```\n",
        "\n",
        "**For Loop**\n",
        "```\n",
        " for var in iterable:\n",
        "\n",
        "    #statement\n",
        "\n",
        "     pass\n",
        "```\n",
        "  "
      ],
      "metadata": {
        "id": "HV4jhd4l92_M"
      }
    },
    {
      "cell_type": "markdown",
      "source": [
        "**for and while loop**\n",
        "\n",
        "- Use for-in when you're working with sequences (lists, strings, etc.) and know what you're looping through.\n",
        "\n",
        "```\n",
        "  for i in range(3):\n",
        "  print(i)\n",
        "```\n",
        "\n",
        "- Use while when you want to repeat something until a condition changes, especially when the number of iterations is unknown.\n",
        "\n",
        "```\n",
        "  i = 0;\n",
        "  while i < 3: print(i); i += 1\n",
        "```"
      ],
      "metadata": {
        "id": "e_debO_sgFlz"
      }
    },
    {
      "cell_type": "markdown",
      "source": [
        "**Questions** Session - 4\n",
        "\n",
        "* hello to all guest and count as well\n",
        "  guests = ['Raheela', 'Asma', 'Jamal', 'Hassan']\n",
        "\n",
        "*  you have to check 10 papers (for)\n",
        "\n",
        "*  check papers of all students (while)\n",
        "\n",
        "* You are a restaurant manager. You have a list of dishes and their prices. Iterate over the list to display each dish with its price.\n",
        "\n",
        "  **Question:** Given the list menu = [(\"Pasta\", 12), (\"Burger\", 8), (\"Salad\", 6)], write a for loop to print each dish and its price.\n",
        "\n",
        "* **Product Price Increase:**\n",
        "  \n",
        "  Write a program that given list of product prices and increases each price by 10%. Print the original and the new prices.\n",
        "\n",
        "*  **Iterating Over Strings**\n",
        "\n",
        "  Strings are sequences of characters, and you can use a for loop to iterate over each character in a string.\n",
        "\n",
        "*  You are developing a text analyzer tool. Iterate over a string and count the number of vowels in it.\n",
        "\n",
        "  **Question:** Write a for loop to count the vowels in the string \"Data Analysis is Awesome!\".\n",
        "\n",
        " ### Loop with Conditions\n",
        "\n",
        "*  **Question:** Identifying Fruits that Start with 'A'\n",
        "\n",
        " ### Enumerate\n",
        "\n",
        "*  You are searching for a specific book in a library's list of books. If you find it, you want to stop searching immediately.\n",
        "\n",
        " **Question:** Given the list\n",
        "\n",
        "    books = [\"Data Science\", \"Machine Learning\", \"Python Programming\", \"Artificial Intelligence\"],\n",
        "\n",
        "   write a for loop to search for \"Python Programming\" and stop once found.\n",
        "\n",
        "* abc    "
      ],
      "metadata": {
        "id": "8YMjrlTiDUgO"
      }
    },
    {
      "cell_type": "code",
      "source": [
        "names = ['Raheela', 'Asma', 'Jamal', 'Hassan']\n",
        "\n",
        "for name in names:\n",
        "  print(f'Hello {name}')\n"
      ],
      "metadata": {
        "colab": {
          "base_uri": "https://localhost:8080/"
        },
        "id": "ZdXaq5ZY9tK3",
        "outputId": "923023d5-10c0-4abf-cb13-46d08d00c341"
      },
      "execution_count": null,
      "outputs": [
        {
          "output_type": "stream",
          "name": "stdout",
          "text": [
            "Hello Raheela\n",
            "Hello Asma\n",
            "Hello Jamal\n",
            "Hello Hassan\n"
          ]
        }
      ]
    },
    {
      "cell_type": "code",
      "source": [
        "list(range(1,30,3))"
      ],
      "metadata": {
        "colab": {
          "base_uri": "https://localhost:8080/"
        },
        "id": "uEoATZnkCW-t",
        "outputId": "5594e907-12e2-49f9-d805-6afd8b6b8cca"
      },
      "execution_count": null,
      "outputs": [
        {
          "output_type": "execute_result",
          "data": {
            "text/plain": [
              "[1, 4, 7, 10, 13, 16, 19, 22, 25, 28]"
            ]
          },
          "metadata": {},
          "execution_count": 7
        }
      ]
    },
    {
      "cell_type": "code",
      "source": [
        "for i in range(3,30,4):\n",
        "  print(i, end=\" \")"
      ],
      "metadata": {
        "colab": {
          "base_uri": "https://localhost:8080/"
        },
        "id": "xfb_ZnzXD_bC",
        "outputId": "56c9d7cd-dc00-47f4-fd0c-c3c401fb32a3"
      },
      "execution_count": null,
      "outputs": [
        {
          "output_type": "stream",
          "name": "stdout",
          "text": [
            "3 7 11 15 19 23 27 "
          ]
        }
      ]
    },
    {
      "cell_type": "code",
      "source": [
        "for i in range(1,5,2):\n",
        "  print(i)"
      ],
      "metadata": {
        "colab": {
          "base_uri": "https://localhost:8080/"
        },
        "id": "drEpYsQGCxtp",
        "outputId": "e671c72e-8276-42ff-97d0-d7270786c4c5"
      },
      "execution_count": null,
      "outputs": [
        {
          "output_type": "stream",
          "name": "stdout",
          "text": [
            "1\n",
            "3\n"
          ]
        }
      ]
    },
    {
      "cell_type": "code",
      "source": [
        "# you have to check 5 papers (for)\n",
        "\n",
        "for i in range(1,5):\n",
        "  print(f'You have to check paper{i}')\n"
      ],
      "metadata": {
        "colab": {
          "base_uri": "https://localhost:8080/"
        },
        "id": "x9GN08wIQNjb",
        "outputId": "27d79241-0bc2-47dd-a65a-8937ec6d1a75"
      },
      "execution_count": null,
      "outputs": [
        {
          "output_type": "stream",
          "name": "stdout",
          "text": [
            "You have to check paper1\n",
            "You have to check paper2\n",
            "You have to check paper3\n",
            "You have to check paper4\n"
          ]
        }
      ]
    },
    {
      "cell_type": "code",
      "source": [
        "# - hello to all guest and count as well\n",
        "\n",
        "guests = ['Raheela', 'Asma', 'Jamal', 'Hassan']\n",
        "\n",
        "for guest in range(0,len(guests)):\n",
        "  print(f'{guest+1} Hello {guests[guest]} !')"
      ],
      "metadata": {
        "colab": {
          "base_uri": "https://localhost:8080/"
        },
        "id": "gn9fTwrUFhXL",
        "outputId": "dbde718f-d549-4c68-a958-2a82033769e4"
      },
      "execution_count": null,
      "outputs": [
        {
          "output_type": "stream",
          "name": "stdout",
          "text": [
            "1 Hello Raheela !\n",
            "2 Hello Asma !\n",
            "3 Hello Jamal !\n",
            "4 Hello Hassan !\n"
          ]
        }
      ]
    },
    {
      "cell_type": "code",
      "source": [
        "# check papers of all students (while)\n",
        "\n",
        "students = ['Raheela', 'Asma', 'Jamal', 'Hassan']\n",
        "i=0\n",
        "\n",
        "while i < len(students):\n",
        "  print(f'Paper of {students[i]}')\n",
        "  i += 1\n",
        "\n",
        "# MISTAKE :-  <=\n",
        "# while i <= len(students):\n",
        "#   print(f'Paper of {students[i]}')\n",
        "#   i += 1\n",
        "\n",
        "# MISTAKE :- condition is wrong\n",
        "# while len(students) >= 0:\n",
        "#   print(f'Paper of {students[i]}')\n",
        "#   i += 1\n",
        "#   break\n"
      ],
      "metadata": {
        "colab": {
          "base_uri": "https://localhost:8080/"
        },
        "id": "oO89MFDvgV3A",
        "outputId": "74059b4e-f0d3-4a06-d04e-3367ee79c9e2"
      },
      "execution_count": 10,
      "outputs": [
        {
          "output_type": "stream",
          "name": "stdout",
          "text": [
            "Paper of Raheela\n",
            "Paper of Asma\n",
            "Paper of Jamal\n",
            "Paper of Hassan\n"
          ]
        }
      ]
    },
    {
      "cell_type": "code",
      "source": [
        "# Question: Given the list menu = [(\"Pasta\", 12), (\"Burger\", 8), (\"Salad\", 6)],\n",
        "# write a for loop to print each dish and its price.\n",
        "\n",
        "menu = [(\"Pasta\", 12), (\"Burger\", 8), (\"Salad\", 6)]\n",
        "\n",
        "for i in menu:\n",
        "  print(i)"
      ],
      "metadata": {
        "colab": {
          "base_uri": "https://localhost:8080/"
        },
        "id": "G0kvx0a-PDHq",
        "outputId": "895bac31-df7d-49c3-c297-085da0272877"
      },
      "execution_count": null,
      "outputs": [
        {
          "output_type": "stream",
          "name": "stdout",
          "text": [
            "('Pasta', 12)\n",
            "('Burger', 8)\n",
            "('Salad', 6)\n"
          ]
        }
      ]
    },
    {
      "cell_type": "code",
      "source": [
        "# Question: Given the list menu = [(\"Pasta\", 12), (\"Burger\", 8), (\"Salad\", 6)],\n",
        "# write a for loop to print each dish and its price.\n",
        "\n",
        "dishes = ['Pasta', 'Burger', 'Salad']\n",
        "prices = [12, 8, 6]\n",
        "\n",
        "for dish, price in zip(dishes, prices):\n",
        "  print(f'Dish : {dish} - Price : {price}')\n"
      ],
      "metadata": {
        "colab": {
          "base_uri": "https://localhost:8080/"
        },
        "id": "sVsi3fQ6NWpa",
        "outputId": "f4edab9a-1528-4907-83d1-d1b9c728029b"
      },
      "execution_count": null,
      "outputs": [
        {
          "output_type": "stream",
          "name": "stdout",
          "text": [
            "Dish : Pasta - Price : 12\n",
            "Dish : Burger - Price : 8\n",
            "Dish : Salad - Price : 6\n"
          ]
        }
      ]
    },
    {
      "cell_type": "markdown",
      "source": [
        "You are searching for a specific book in a library's list of books. If you find it, you want to stop searching immediately.\n",
        "\n",
        "**Question:** Given the list\n",
        "\n",
        "books = [\"Data Science\", \"Machine Learning\", \"Python Programming\", \"Artificial Intelligence\"],\n",
        "\n",
        "write a for loop to search for \"Python Programming\" and stop once found."
      ],
      "metadata": {
        "id": "mf4I5oX-e7O8"
      }
    },
    {
      "cell_type": "code",
      "source": [
        "# Book found :- for loop\n",
        "books = [\"Data Science\", \"Machine Learning\", \"Python Programming\", \"Artificial Intelligence\"]\n",
        "\n",
        "for book in books:\n",
        "  if book == 'Python Programming':\n",
        "    print(f'Found the book {book}')\n",
        "    break\n",
        "  # else:\n",
        "  #   print(f'Book Not Found')\n",
        "\n",
        ""
      ],
      "metadata": {
        "colab": {
          "base_uri": "https://localhost:8080/"
        },
        "id": "xgDcYeDIaBlq",
        "outputId": "66a00b96-c7f3-4044-8bc9-288ca3f12097"
      },
      "execution_count": 68,
      "outputs": [
        {
          "output_type": "stream",
          "name": "stdout",
          "text": [
            "Found the book Python Programming\n"
          ]
        }
      ]
    },
    {
      "cell_type": "code",
      "source": [
        "# book not found :- for loop\n",
        "books = [\"Data Science\", \"Machine Learning\", \"Artificial Intelligence\"]\n",
        "\n",
        "for book in books:\n",
        "    if book == \"Python Programming\":\n",
        "        print(\"Book found:\", book)\n",
        "        break\n",
        "else:\n",
        "    print(\"Book not found.\")"
      ],
      "metadata": {
        "colab": {
          "base_uri": "https://localhost:8080/"
        },
        "id": "eokkCyRWeygj",
        "outputId": "67fecdfc-a31c-4015-e719-7de6348a5d0b"
      },
      "execution_count": 71,
      "outputs": [
        {
          "output_type": "stream",
          "name": "stdout",
          "text": [
            "Book not found.\n"
          ]
        }
      ]
    },
    {
      "cell_type": "code",
      "source": [
        "# Book found :- while loop\n",
        "\n",
        "books = [\"Data Science\", \"Machine Learning\", \"Python Programming\", \"Artificial Intelligence\"]\n",
        "\n",
        "index = 0\n",
        "\n",
        "while index < len(books):\n",
        "  if books[index] == 'Python Programming':\n",
        "    print(f'Found the book {books[index]}')\n",
        "    break\n",
        "  index += 1\n",
        "else:\n",
        "  print('Book Not Found')"
      ],
      "metadata": {
        "colab": {
          "base_uri": "https://localhost:8080/"
        },
        "id": "OXu05ysMQUtc",
        "outputId": "813bfda5-7fa4-4b38-8eb8-fb75faffe147"
      },
      "execution_count": 84,
      "outputs": [
        {
          "output_type": "stream",
          "name": "stdout",
          "text": [
            "Found the book Python Programming\n"
          ]
        }
      ]
    },
    {
      "cell_type": "code",
      "source": [
        "# Book not found :- while loop\n",
        "\n",
        "books = [\"Data Science\", \"Machine Learning\", \"Artificial Intelligence\"]\n",
        "\n",
        "index = 0\n",
        "\n",
        "while index < len(books):\n",
        "  if books[index] == 'Python Programming':\n",
        "    print(f'Found the book {books[index]}')\n",
        "    break\n",
        "  index += 1\n",
        "else:\n",
        "  print('Book Not Found')\n"
      ],
      "metadata": {
        "colab": {
          "base_uri": "https://localhost:8080/"
        },
        "id": "aD9EBvfFi5P1",
        "outputId": "dbe2d168-d191-4fd0-efc2-931756886a62"
      },
      "execution_count": 83,
      "outputs": [
        {
          "output_type": "stream",
          "name": "stdout",
          "text": [
            "Book Not Found\n"
          ]
        }
      ]
    }
  ]
}