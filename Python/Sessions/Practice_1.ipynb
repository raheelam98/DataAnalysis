{
  "nbformat": 4,
  "nbformat_minor": 0,
  "metadata": {
    "colab": {
      "provenance": [],
      "authorship_tag": "ABX9TyPkkN4GmU5Rc30k83ZLy88Z",
      "include_colab_link": true
    },
    "kernelspec": {
      "name": "python3",
      "display_name": "Python 3"
    },
    "language_info": {
      "name": "python"
    }
  },
  "cells": [
    {
      "cell_type": "markdown",
      "metadata": {
        "id": "view-in-github",
        "colab_type": "text"
      },
      "source": [
        "<a href=\"https://colab.research.google.com/github/raheelam98/DataAnalysis/blob/main/Python/Sessions/Practice_1.ipynb\" target=\"_parent\"><img src=\"https://colab.research.google.com/assets/colab-badge.svg\" alt=\"Open In Colab\"/></a>"
      ]
    },
    {
      "cell_type": "code",
      "execution_count": null,
      "metadata": {
        "id": "8NiuueTi8kII"
      },
      "outputs": [],
      "source": [
        "tester"
      ]
    },
    {
      "cell_type": "markdown",
      "source": [
        "# **Sesstion 4**"
      ],
      "metadata": {
        "id": "4M0064iT9nFD"
      }
    },
    {
      "cell_type": "markdown",
      "source": [
        "**Range** generates a sequence of numbers.\n",
        "\n",
        "``` range(start, stop(not included), step) ```\n",
        "\n",
        "**For Loop**\n",
        "```\n",
        " for var in iterable:\n",
        "\n",
        "    #statement\n",
        "\n",
        "     pass\n",
        "```\n",
        "  "
      ],
      "metadata": {
        "id": "HV4jhd4l92_M"
      }
    },
    {
      "cell_type": "markdown",
      "source": [
        "**Questions**\n",
        "\n",
        "* hello to all guest and count as well\n",
        "\n",
        "  guests = ['Raheela', 'Asma', 'Jamal', 'Hassan']"
      ],
      "metadata": {
        "id": "8YMjrlTiDUgO"
      }
    },
    {
      "cell_type": "code",
      "source": [
        "names = ['Raheela', 'Asma', 'Jamal', 'Hassan']\n",
        "\n",
        "for name in names:\n",
        "  print(f'Hello {name}')\n"
      ],
      "metadata": {
        "id": "ZdXaq5ZY9tK3",
        "outputId": "923023d5-10c0-4abf-cb13-46d08d00c341",
        "colab": {
          "base_uri": "https://localhost:8080/"
        }
      },
      "execution_count": 1,
      "outputs": [
        {
          "output_type": "stream",
          "name": "stdout",
          "text": [
            "Hello Raheela\n",
            "Hello Asma\n",
            "Hello Jamal\n",
            "Hello Hassan\n"
          ]
        }
      ]
    },
    {
      "cell_type": "code",
      "source": [
        "list(range(1,30,3))"
      ],
      "metadata": {
        "id": "uEoATZnkCW-t",
        "outputId": "5594e907-12e2-49f9-d805-6afd8b6b8cca",
        "colab": {
          "base_uri": "https://localhost:8080/"
        }
      },
      "execution_count": 7,
      "outputs": [
        {
          "output_type": "execute_result",
          "data": {
            "text/plain": [
              "[1, 4, 7, 10, 13, 16, 19, 22, 25, 28]"
            ]
          },
          "metadata": {},
          "execution_count": 7
        }
      ]
    },
    {
      "cell_type": "code",
      "source": [
        "for i in range(3,30,4):\n",
        "  print(i, end=\" \")"
      ],
      "metadata": {
        "id": "xfb_ZnzXD_bC",
        "outputId": "56c9d7cd-dc00-47f4-fd0c-c3c401fb32a3",
        "colab": {
          "base_uri": "https://localhost:8080/"
        }
      },
      "execution_count": 11,
      "outputs": [
        {
          "output_type": "stream",
          "name": "stdout",
          "text": [
            "3 7 11 15 19 23 27 "
          ]
        }
      ]
    },
    {
      "cell_type": "code",
      "source": [
        "for i in range(1,5,2):\n",
        "  print(i)"
      ],
      "metadata": {
        "id": "drEpYsQGCxtp",
        "outputId": "e671c72e-8276-42ff-97d0-d7270786c4c5",
        "colab": {
          "base_uri": "https://localhost:8080/"
        }
      },
      "execution_count": 12,
      "outputs": [
        {
          "output_type": "stream",
          "name": "stdout",
          "text": [
            "1\n",
            "3\n"
          ]
        }
      ]
    },
    {
      "cell_type": "code",
      "source": [
        "# - hello to all guest and count as well\n",
        "\n",
        "guests = ['Raheela', 'Asma', 'Jamal', 'Hassan']\n",
        "\n",
        "for guest in range(0,len(guests)):\n",
        "  print(f'{guest+1} Hello {guests[guest]} !')"
      ],
      "metadata": {
        "id": "gn9fTwrUFhXL",
        "outputId": "dbde718f-d549-4c68-a958-2a82033769e4",
        "colab": {
          "base_uri": "https://localhost:8080/"
        }
      },
      "execution_count": 31,
      "outputs": [
        {
          "output_type": "stream",
          "name": "stdout",
          "text": [
            "1 Hello Raheela !\n",
            "2 Hello Asma !\n",
            "3 Hello Jamal !\n",
            "4 Hello Hassan !\n"
          ]
        }
      ]
    }
  ]
}