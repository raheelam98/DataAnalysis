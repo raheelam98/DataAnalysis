{
  "nbformat": 4,
  "nbformat_minor": 0,
  "metadata": {
    "colab": {
      "provenance": [],
      "include_colab_link": true
    },
    "kernelspec": {
      "name": "python3",
      "display_name": "Python 3"
    },
    "language_info": {
      "name": "python"
    }
  },
  "cells": [
    {
      "cell_type": "markdown",
      "metadata": {
        "id": "view-in-github",
        "colab_type": "text"
      },
      "source": [
        "<a href=\"https://colab.research.google.com/github/raheelam98/DataAnalysis/blob/main/Python/Assignments/AZURE_DA5_Python_Assignment_1.ipynb\" target=\"_parent\"><img src=\"https://colab.research.google.com/assets/colab-badge.svg\" alt=\"Open In Colab\"/></a>"
      ]
    },
    {
      "cell_type": "markdown",
      "source": [
        "# Assignment 1\n",
        "\n",
        "Total marks: 30"
      ],
      "metadata": {
        "id": "2Ki9p_mrB4z7"
      }
    },
    {
      "cell_type": "markdown",
      "source": [
        "## Currency Converter:\n",
        "Create a program where the user inputs an amount in USD, and the program converts it to Euros (use an exchange rate of 1 USD = 0.85 EUR).\n",
        "The output should show \"\\___  USD is equal to  ___  Euro\"\n",
        "\n",
        "(5 Marks)"
      ],
      "metadata": {
        "id": "Cm6O4tJr7EHW"
      }
    },
    {
      "cell_type": "code",
      "source": [
        "exchagne_rate = 0.85\n",
        "\n",
        "\n",
        "while True:\n",
        "    try:\n",
        "        user_input = float(input(\"Enter the amount in USD: \"))  # float() for decimal numbers\n",
        "        currency_converter = user_input * exchagne_rate\n",
        "        print(f'USD Amount : {user_input}')\n",
        "        print(f'Euro Amount : {currency_converter}')\n",
        "\n",
        "        break  # Exit the loop if input is valid\n",
        "    except ValueError:\n",
        "        print(\"Invalid input. Please enter a number or decimal number.\")\n"
      ],
      "metadata": {
        "id": "4fN1SwziCS_X",
        "colab": {
          "base_uri": "https://localhost:8080/"
        },
        "outputId": "02a51ed7-6e1f-48a4-dc5b-c525789bd611"
      },
      "execution_count": null,
      "outputs": [
        {
          "output_type": "stream",
          "name": "stdout",
          "text": [
            "Enter the amount in USD: 99.88\n",
            "USD Amount : 99.88\n",
            "Euro Amount : 84.898\n"
          ]
        }
      ]
    },
    {
      "cell_type": "markdown",
      "source": [
        "## Grade Checker:\n",
        "Write a program that takes a student's marks (out of 100) as input and prints their grade based on the following criteria:\n",
        "\n",
        "- 90-100: A\n",
        "- 80-89: B\n",
        "- 70-79: C\n",
        "- 60-69: D\n",
        "- Below 60: Fail\n",
        "\n",
        "(5 Marks)"
      ],
      "metadata": {
        "id": "gKuJdw-o7c7N"
      }
    },
    {
      "cell_type": "code",
      "source": [
        "\n",
        "while True:\n",
        "\n",
        "  try:\n",
        "    marks = int(input(\"Enter your marks : \"))\n",
        "    if 0 <= marks <= 100:\n",
        "      break\n",
        "    else:\n",
        "      print(\"Marks should between 1 to 100\")\n",
        "  except ValueError:\n",
        "    print(\"Invaild input, only enter whole numbers\")\n",
        "\n",
        "\n",
        "if marks >=90 and marks <= 100:\n",
        "    print(\"Grade : A\")\n",
        "elif marks >=80 and marks <=89:\n",
        "    print(\"Grade : B\")\n",
        "elif marks >=70 and marks <=79:\n",
        "    print(\"Grade : C\")\n",
        "elif marks >=60 and marks <=69:\n",
        "    print(\"Grade D\")\n",
        "else:\n",
        "    print(\"Fail\")\n",
        "\n"
      ],
      "metadata": {
        "id": "6Wepoed1CUht",
        "colab": {
          "base_uri": "https://localhost:8080/"
        },
        "outputId": "db58d0f6-a7c7-4587-dcbd-021e3aa861a5"
      },
      "execution_count": null,
      "outputs": [
        {
          "output_type": "stream",
          "name": "stdout",
          "text": [
            "Enter your marks : 98\n",
            "Grade : A\n"
          ]
        }
      ]
    },
    {
      "cell_type": "markdown",
      "source": [
        "## Online Store Shipping Fee:\n",
        "Write a program for an online store that tells you shipping fees based on the order total (via user input):\n",
        "\n",
        "- If the order total is less than \\$50, the shipping fee is \\$10.\n",
        "- If the order total is between \\$50 and \\$100, the shipping fee is \\$5.\n",
        "- If the order total is above \\$100, shipping is free.\n",
        "\n",
        "\n",
        "(5 Marks)"
      ],
      "metadata": {
        "id": "nQR3xyNW7T-e"
      }
    },
    {
      "cell_type": "code",
      "source": [
        "total_order = float(input(\"Enter the total order amount:\"))\n",
        "\n",
        "if total_order < 50:\n",
        "  shipping_fee = 10\n",
        "  print(f'Shipping Fee : $ {shipping_fee}')\n",
        "if total_order >= 50 and total_order <=100:\n",
        "  shipping_fee = 5\n",
        "  print(f'Shipping Fee : $ {shipping_fee}')\n",
        "if total_order > 100:\n",
        "  shipping_fee = 0\n",
        "  print(f'Shipping is Fee')\n",
        "\n"
      ],
      "metadata": {
        "id": "enmXNoFbCVxp",
        "colab": {
          "base_uri": "https://localhost:8080/"
        },
        "outputId": "366ac3e9-887d-4f14-f7f5-00f0fa59a43e"
      },
      "execution_count": null,
      "outputs": [
        {
          "output_type": "stream",
          "name": "stdout",
          "text": [
            "Enter the total order amount:5\n",
            "Shipping Fee : $ 10\n"
          ]
        }
      ]
    },
    {
      "cell_type": "markdown",
      "source": [
        "## Social Media Post Analysis:\n",
        "Write a program where the user inputs a social media post. The program should:\n",
        "\n",
        "1. Count the number of words in the post.\n",
        "2. Count the total number of characters.\n",
        "3. Check if the post contains the word #motivation.\n",
        "4. Print the unique words in the post.\n",
        "\n",
        "\n",
        "(10 Marks, 2.5 each)\n",
        "\n",
        "<br>\n",
        "\n",
        "**sample post**:\n",
        "\n",
        "Work hard, play harder! #success #motivation #success\n",
        "\n",
        "**Expected output**:\n",
        "\n",
        "Enter your social media post: Work hard, play harder! #success #motivation #success\n",
        "\n",
        "Number of words: 7\n",
        "\n",
        "Total characters: 53\n",
        "\n",
        "Contains #motivation: True\n",
        "\n",
        "Unique words: ['hard,', 'Work', '#success', 'harder!', '#motivation', 'play']\n"
      ],
      "metadata": {
        "id": "ZDeOu9TJzzwX"
      }
    },
    {
      "cell_type": "code",
      "source": [
        "media_post = input(\"Enter your social media post:  \")\n",
        "# count words\n",
        "words = len(media_post.split())\n",
        "\n",
        "# count characters\n",
        "characters_count = len(media_post)\n",
        "\n",
        "# find word #motivation.\n",
        "find_word = \"#motivation\" in media_post\n",
        "\n",
        "# find_word = media_post.find(\"motivation\")\n",
        "# if find_word != -1 :\n",
        "#   print(\"The word #motivation is use in post\")\n",
        "# else:\n",
        "#   print(\"The word #motivation is not use in post\")\n",
        "\n",
        "# print the unique words\n",
        "unique_words = list(set(media_post.split()))\n",
        "# note:- Set items are unordered, unchangeable, and no duplicate values.\n",
        "\n",
        "print(f\"\\nNumber of words in post : {words}\")\n",
        "print(f\"Total characters in post : {characters_count}\")\n",
        "print(f\"Contains #motivation : \", find_word)\n",
        "print(f\"\\nUnique words are {unique_words}\")\n"
      ],
      "metadata": {
        "id": "XGgIi9LnCW-n",
        "colab": {
          "base_uri": "https://localhost:8080/"
        },
        "outputId": "cc6acba0-e975-4788-b6c7-3291ee9faf60"
      },
      "execution_count": null,
      "outputs": [
        {
          "output_type": "stream",
          "name": "stdout",
          "text": [
            "Enter your social media post:  Work hard, play harder! #success #motivation #success\n",
            "\n",
            "Number of words in post : 7\n",
            "Total characters in post : 53\n",
            "Contains #motivation :  True\n",
            "\n",
            "Unique words are {'play', '#success', '#motivation', 'hard,', 'Work', 'harder!'}\n"
          ]
        }
      ]
    },
    {
      "cell_type": "markdown",
      "source": [
        "## Correcting the database:\n",
        "Right now, a database is storing AQIs of different cities in the form of two lists. A dictionary is a more appropriate way to store these.\n",
        "1. Turn the following two lists into a single dictionary called AQI_dict.\n",
        "{city_name: respective_AQI}. (Hint: You can combine the lists using dict(zip(list1,list2)))\n",
        "2. Update the value of AQI of Islamabad to 102.5.\n",
        "\n",
        "(5 Marks)"
      ],
      "metadata": {
        "id": "pzqXFJbkyQ1i"
      }
    },
    {
      "cell_type": "code",
      "source": [
        "cities = [\"Lahore\", \"Karachi\", \"Islamabad\", \"Multan\"]\n",
        "AQI = [166, 178, 102, 135]\n",
        "\n",
        "\n"
      ],
      "metadata": {
        "id": "Md9dYFrsxQkA"
      },
      "execution_count": null,
      "outputs": []
    },
    {
      "cell_type": "markdown",
      "source": [
        "Notes:-"
      ],
      "metadata": {
        "id": "kRBoqGE2EXVB"
      }
    },
    {
      "cell_type": "code",
      "source": [
        "post = input(\"Enter your social media post:  \")\n",
        "find_word = post.find(\"motivation\")\n",
        "if find_word != -1 :\n",
        "  print(\"The word #motivation is use in post\")\n",
        "else:\n",
        "  print(\"The word #motivation is not use in post\")"
      ],
      "metadata": {
        "id": "IyTJDRxjySvM",
        "outputId": "33beb105-e443-4670-b72f-18bd4fcd6e46",
        "colab": {
          "base_uri": "https://localhost:8080/"
        }
      },
      "execution_count": 2,
      "outputs": [
        {
          "output_type": "stream",
          "name": "stdout",
          "text": [
            "Enter your social media post:  motivation speaker\n",
            "The word #motivation is use in post\n"
          ]
        }
      ]
    },
    {
      "cell_type": "code",
      "source": [],
      "metadata": {
        "id": "roCWMVyGyS-j"
      },
      "execution_count": null,
      "outputs": []
    }
  ]
}